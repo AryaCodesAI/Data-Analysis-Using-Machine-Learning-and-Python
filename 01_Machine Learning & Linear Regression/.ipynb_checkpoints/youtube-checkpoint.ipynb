{
 "cells": [
  {
   "cell_type": "markdown",
   "id": "b807f065-b4db-43ed-aece-aac3d7309204",
   "metadata": {},
   "source": [
    "<font size=\"+5\">#01 | Machine Learning & Linear Regression</font>"
   ]
  },
  {
   "cell_type": "markdown",
   "id": "b9a5878e-ec1a-4bd9-931a-99857db4834e",
   "metadata": {},
   "source": [
    "\n",
    "<div class=\"alert alert-warning\">\n",
    "  <ul>\n",
    "    <li>\n",
    "      <b>Python</b> + <b>Data Science</b> Tutorials in ↓\n",
    "      <ul>\n",
    "        <li>\n",
    "          <a href=\"https://www.youtube.com/c/PythonResolver?sub_confirmation=1\"\n",
    "            >YouTube</a\n",
    "          >\n",
    "        </li>\n",
    "        <li>\n",
    "          <a href=\"https://blog.pythonresolver.com/\">Blog</a>\n",
    "        </li>\n",
    "        <li>\n",
    "          <a href=\"https://github.com/jsulopz/00-python-resolver-discipline\">GitHub</a>\n",
    "        </li>\n",
    "      </ul>\n",
    "    </li>\n",
    "    <li>\n",
    "      Author: <a href=\"https://twitter.com/jsulopz\"><b>@jsulopz</b></a>\n",
    "    </li>\n",
    "  </ul>\n",
    "</div>\n",
    "\n",
    "<a href=\"https://colab.research.google.com/github/jsulopz/machine-learning/blob/main/01_Machine%20Learning%20%26%20Linear%20Regression/01practice_machine-learning-linear-regression.ipynb\">\n",
    "  <img src=\"https://colab.research.google.com/assets/colab-badge.svg\" alt=\"Open In Colab\"/>\n",
    "</a>\n"
   ]
  },
  {
   "cell_type": "markdown",
   "id": "e87f6fe7-fb5a-4a8d-b74e-936f0d1788ae",
   "metadata": {},
   "source": [
    "# The Starting *Thing*"
   ]
  },
  {
   "cell_type": "markdown",
   "id": "bae3f5f0-c85e-48c7-8649-6b4fdef9fa38",
   "metadata": {},
   "source": [
    "> - Simply execute the following lines of code to load the data.\n",
    "> - This dataset contains **statistics about Car Accidents** (columns)\n",
    "> - In each one of **USA States** (rows)"
   ]
  },
  {
   "cell_type": "markdown",
   "id": "15945a12-cc71-4689-b0f5-4ac29b34df4c",
   "metadata": {},
   "source": [
    "https://www.kaggle.com/fivethirtyeight/fivethirtyeight-bad-drivers-dataset/"
   ]
  },
  {
   "cell_type": "code",
   "execution_count": 1,
   "id": "f3850a31-bf4a-4c77-951b-89506601dec5",
   "metadata": {},
   "outputs": [
    {
     "data": {
      "text/html": [
       "<div>\n",
       "<style scoped>\n",
       "    .dataframe tbody tr th:only-of-type {\n",
       "        vertical-align: middle;\n",
       "    }\n",
       "\n",
       "    .dataframe tbody tr th {\n",
       "        vertical-align: top;\n",
       "    }\n",
       "\n",
       "    .dataframe thead th {\n",
       "        text-align: right;\n",
       "    }\n",
       "</style>\n",
       "<table border=\"1\" class=\"dataframe\">\n",
       "  <thead>\n",
       "    <tr style=\"text-align: right;\">\n",
       "      <th></th>\n",
       "      <th>alcohol</th>\n",
       "      <th>accidents</th>\n",
       "    </tr>\n",
       "    <tr>\n",
       "      <th>abbrev</th>\n",
       "      <th></th>\n",
       "      <th></th>\n",
       "    </tr>\n",
       "  </thead>\n",
       "  <tbody>\n",
       "    <tr>\n",
       "      <th>UT</th>\n",
       "      <td>1.808</td>\n",
       "      <td>11.3</td>\n",
       "    </tr>\n",
       "    <tr>\n",
       "      <th>PA</th>\n",
       "      <td>5.642</td>\n",
       "      <td>18.2</td>\n",
       "    </tr>\n",
       "    <tr>\n",
       "      <th>MO</th>\n",
       "      <td>5.474</td>\n",
       "      <td>16.1</td>\n",
       "    </tr>\n",
       "    <tr>\n",
       "      <th>TX</th>\n",
       "      <td>7.372</td>\n",
       "      <td>19.4</td>\n",
       "    </tr>\n",
       "    <tr>\n",
       "      <th>WV</th>\n",
       "      <td>6.664</td>\n",
       "      <td>23.8</td>\n",
       "    </tr>\n",
       "    <tr>\n",
       "      <th>NJ</th>\n",
       "      <td>3.136</td>\n",
       "      <td>11.2</td>\n",
       "    </tr>\n",
       "    <tr>\n",
       "      <th>TN</th>\n",
       "      <td>5.655</td>\n",
       "      <td>19.5</td>\n",
       "    </tr>\n",
       "    <tr>\n",
       "      <th>MD</th>\n",
       "      <td>4.000</td>\n",
       "      <td>12.5</td>\n",
       "    </tr>\n",
       "    <tr>\n",
       "      <th>FL</th>\n",
       "      <td>5.191</td>\n",
       "      <td>17.9</td>\n",
       "    </tr>\n",
       "    <tr>\n",
       "      <th>SC</th>\n",
       "      <td>9.799</td>\n",
       "      <td>23.9</td>\n",
       "    </tr>\n",
       "  </tbody>\n",
       "</table>\n",
       "</div>"
      ],
      "text/plain": [
       "        alcohol  accidents\n",
       "abbrev                    \n",
       "UT        1.808       11.3\n",
       "PA        5.642       18.2\n",
       "MO        5.474       16.1\n",
       "TX        7.372       19.4\n",
       "WV        6.664       23.8\n",
       "NJ        3.136       11.2\n",
       "TN        5.655       19.5\n",
       "MD        4.000       12.5\n",
       "FL        5.191       17.9\n",
       "SC        9.799       23.9"
      ]
     },
     "execution_count": 1,
     "metadata": {},
     "output_type": "execute_result"
    }
   ],
   "source": [
    "import seaborn as sns #!\n",
    "\n",
    "df = sns.load_dataset(name='car_crashes', index_col='abbrev')[['alcohol', 'total']]\n",
    "df.rename({'total': 'accidents'}, axis=1, inplace=True)\n",
    "df.sample(10)"
   ]
  },
  {
   "cell_type": "code",
   "execution_count": 4,
   "id": "b5f2743d-a170-4b52-bdf0-c09fbf44ad8a",
   "metadata": {},
   "outputs": [
    {
     "data": {
      "image/png": "[encoded data removed]",
      "text/plain": [
       "<Figure size 432x288 with 1 Axes>"
      ]
     },
     "metadata": {
      "needs_background": "light"
     },
     "output_type": "display_data"
    }
   ],
   "source": [
    "sns.scatterplot(x='alcohol', y='accidents', data=df);"
   ]
  },
  {
   "cell_type": "markdown",
   "id": "e79cd5fc-cfc1-4c4f-a92e-f75ceedcaa0c",
   "metadata": {
    "tags": []
   },
   "source": [
    "# Machine Learning, what does it mean?"
   ]
  },
  {
   "cell_type": "markdown",
   "id": "1c7ac7b7-c38f-4bf0-aace-d14660116dc6",
   "metadata": {},
   "source": [
    "> - The Machine Learns...\n",
    ">\n",
    "> But, **what does it learn?**"
   ]
  },
  {
   "cell_type": "code",
   "execution_count": 115,
   "id": "95166344-6911-4db3-9f14-7962f8641dd5",
   "metadata": {},
   "outputs": [
    {
     "data": {
      "text/html": [
       "<blockquote class=\"twitter-tweet\" data-lang=\"en\"><p lang=\"en\" dir=\"ltr\">Machine Learning, what does it mean? ⏯<br><br>· The machine learns...<br><br>Ha ha, not funny! 🤨 What does it learn?<br><br>· A mathematical equation. For example: <a href=\"https://t.co/sjtq9F2pq7\">pic.twitter.com/sjtq9F2pq7</a></p>&mdash; Jesús López (@sotastica) <a href=\"https://twitter.com/sotastica/status/1449735653328031745?ref_src=twsrc%5Etfw\">October 17, 2021</a></blockquote> <script async src=\"https://platform.twitter.com/widgets.js\" charset=\"utf-8\"></script>\n"
      ],
      "text/plain": [
       "<IPython.core.display.HTML object>"
      ]
     },
     "metadata": {},
     "output_type": "display_data"
    }
   ],
   "source": [
    "%%HTML\n",
    "<blockquote class=\"twitter-tweet\" data-lang=\"en\"><p lang=\"en\" dir=\"ltr\">Machine Learning, what does it mean? ⏯<br><br>· The machine learns...<br><br>Ha ha, not funny! 🤨 What does it learn?<br><br>· A mathematical equation. For example: <a href=\"https://t.co/sjtq9F2pq7\">pic.twitter.com/sjtq9F2pq7</a></p>&mdash; Jesús López (@sotastica) <a href=\"https://twitter.com/sotastica/status/1449735653328031745?ref_src=twsrc%5Etfw\">October 17, 2021</a></blockquote> <script async src=\"https://platform.twitter.com/widgets.js\" charset=\"utf-8\"></script>"
   ]
  },
  {
   "cell_type": "markdown",
   "id": "b2f4e57a-b0b7-4cef-b43f-5ca869088dcb",
   "metadata": {},
   "source": [
    "# How does the Machine Learn?"
   ]
  },
  {
   "cell_type": "markdown",
   "id": "3e619426-25cf-424e-a0de-d827359c97c0",
   "metadata": {},
   "source": [
    "## In a Linear Regression"
   ]
  },
  {
   "cell_type": "markdown",
   "id": "9541b8ec-6abd-4b27-aaf6-e4a9597fc266",
   "metadata": {},
   "source": [
    "<a href=\"http://www.youtube.com/watch?feature=player_embedded&v=Ht3rYS-JilE\" target=\"_blank\">\n",
    " <img src=\"http://img.youtube.com/vi/Ht3rYS-JilE/hqdefault.jpg\" alt=\"Watch the video\" width=\"560\" height=\"315\"/>\n",
    "</a>"
   ]
  },
  {
   "cell_type": "markdown",
   "id": "0fd91f21-ba27-4d7f-974b-35ed4b4021eb",
   "metadata": {},
   "source": [
    "## In a Neural Network"
   ]
  },
  {
   "cell_type": "markdown",
   "id": "5d8c04d1-c03b-4c36-b74d-2620dc051fe2",
   "metadata": {},
   "source": [
    "<a href=\"http://www.youtube.com/watch?feature=player_embedded&v=IHZwWFHWa-w?start=36\" target=\"_blank\">\n",
    " <img src=\"http://img.youtube.com/vi/IHZwWFHWa-w/hqdefault.jpg\" alt=\"Watch the video\" width=\"560\" height=\"315\"/>\n",
    "</a>"
   ]
  },
  {
   "cell_type": "markdown",
   "id": "bce2ba91-efaf-4276-96bf-7a16922bea17",
   "metadata": {},
   "source": [
    "A Practical Example → [Tesla Autopilot](https://www.tesla.com/AI)"
   ]
  },
  {
   "cell_type": "markdown",
   "id": "81dc68bf-e446-4369-8087-c4031f31e937",
   "metadata": {},
   "source": [
    "An Example where It Fails → [Tesla Confuses Moon with Semaphore](https://twitter.com/Carnage4Life/status/1418920100086784000?s=20)"
   ]
  },
  {
   "cell_type": "markdown",
   "id": "5da9584d-81f6-4b1b-82a1-ada59e63ce8e",
   "metadata": {},
   "source": [
    "# Guess the Mathematical Equation"
   ]
  },
  {
   "cell_type": "code",
   "execution_count": 11,
   "id": "22e042d9-0915-47dc-9e16-756dbf785701",
   "metadata": {},
   "outputs": [
    {
     "data": {
      "image/png": "[encoded data removed]",
      "text/plain": [
       "<Figure size 432x288 with 1 Axes>"
      ]
     },
     "metadata": {
      "needs_background": "light"
     },
     "output_type": "display_data"
    }
   ],
   "source": [
    "sns.scatterplot(x='alcohol', y='accidents', data=df);"
   ]
  },
  {
   "cell_type": "markdown",
   "id": "cd64e3d8-3e98-4985-bee1-40d7045312be",
   "metadata": {},
   "source": [
    "$$\n",
    "accidents = 2 + 2 \\cdot alcohol\n",
    "$$"
   ]
  },
  {
   "cell_type": "code",
   "execution_count": 12,
   "id": "0b2df9d0-10b2-4ab0-99c5-1c9aa9e54f54",
   "metadata": {},
   "outputs": [
    {
     "data": {
      "image/png": "[encoded data removed]",
      "text/plain": [
       "<Figure size 432x288 with 1 Axes>"
      ]
     },
     "metadata": {
      "needs_background": "light"
     },
     "output_type": "display_data"
    }
   ],
   "source": [
    "import matplotlib.pyplot as plt\n",
    "\n",
    "sns.scatterplot(x='alcohol', y='accidents', data=df);\n",
    "plt.axline(xy1=(0, 2), slope=2, color='red');"
   ]
  },
  {
   "cell_type": "markdown",
   "id": "5f325344-15ec-4547-80ad-a5779867c591",
   "metadata": {},
   "source": [
    "# Linear Regression Model"
   ]
  },
  {
   "cell_type": "markdown",
   "id": "afd9b011-c465-437e-bff4-dec261a02ba5",
   "metadata": {},
   "source": [
    "## Calculate the Best Mathematical Equation"
   ]
  },
  {
   "cell_type": "code",
   "execution_count": 13,
   "id": "beac4ff1-d4df-44a8-9687-e5fcd1e050e0",
   "metadata": {},
   "outputs": [],
   "source": [
    "from sklearn.linear_model import LinearRegression"
   ]
  },
  {
   "cell_type": "code",
   "execution_count": 14,
   "id": "a42a8ff8-c15c-4ca0-8d87-43dfede32ce0",
   "metadata": {},
   "outputs": [],
   "source": [
    "model = LinearRegression()"
   ]
  },
  {
   "cell_type": "code",
   "execution_count": 21,
   "id": "f711fe1e-3211-43ac-be07-e52d40008531",
   "metadata": {},
   "outputs": [
    {
     "ename": "ValueError",
     "evalue": "Expected 2D array, got 1D array instead:\narray=[ 5.64   4.525  5.208  5.824  3.36   3.808  3.888  4.86   1.593  5.191\n  3.9    7.175  4.437  4.352  4.205  3.925  4.272  4.922  6.765  4.53\n  4.     2.87   3.948  2.784  5.456  5.474  9.416  5.215  4.704  3.48\n  3.136  4.968  3.567  5.208 10.038  4.794  5.771  3.328  5.642  4.218\n  9.799  6.402  5.655  7.372  1.808  4.08   3.429  3.498  6.664  4.554\n  5.568].\nReshape your data either using array.reshape(-1, 1) if your data has a single feature or array.reshape(1, -1) if it contains a single sample.",
     "output_type": "error",
     "traceback": [
      "\u001b[0;31m---------------------------------------------------------------------------\u001b[0m",
      "\u001b[0;31mValueError\u001b[0m                                Traceback (most recent call last)",
      "\u001b[0;32m/var/folders/24/tg28vxls25l9mjvqrnh0plc80000gn/T/ipykernel_5665/122501113.py\u001b[0m in \u001b[0;36m<module>\u001b[0;34m\u001b[0m\n\u001b[0;32m----> 1\u001b[0;31m \u001b[0mmodel\u001b[0m\u001b[0;34m.\u001b[0m\u001b[0mfit\u001b[0m\u001b[0;34m(\u001b[0m\u001b[0mX\u001b[0m\u001b[0;34m=\u001b[0m\u001b[0mdf\u001b[0m\u001b[0;34m.\u001b[0m\u001b[0malcohol\u001b[0m\u001b[0;34m,\u001b[0m \u001b[0my\u001b[0m\u001b[0;34m=\u001b[0m\u001b[0mdf\u001b[0m\u001b[0;34m.\u001b[0m\u001b[0maccidents\u001b[0m\u001b[0;34m)\u001b[0m\u001b[0;34m\u001b[0m\u001b[0;34m\u001b[0m\u001b[0m\n\u001b[0m",
      "\u001b[0;32m~/miniforge3/lib/python3.9/site-packages/sklearn/linear_model/_base.py\u001b[0m in \u001b[0;36mfit\u001b[0;34m(self, X, y, sample_weight)\u001b[0m\n\u001b[1;32m    660\u001b[0m         \u001b[0maccept_sparse\u001b[0m \u001b[0;34m=\u001b[0m \u001b[0;32mFalse\u001b[0m \u001b[0;32mif\u001b[0m \u001b[0mself\u001b[0m\u001b[0;34m.\u001b[0m\u001b[0mpositive\u001b[0m \u001b[0;32melse\u001b[0m \u001b[0;34m[\u001b[0m\u001b[0;34m\"csr\"\u001b[0m\u001b[0;34m,\u001b[0m \u001b[0;34m\"csc\"\u001b[0m\u001b[0;34m,\u001b[0m \u001b[0;34m\"coo\"\u001b[0m\u001b[0;34m]\u001b[0m\u001b[0;34m\u001b[0m\u001b[0;34m\u001b[0m\u001b[0m\n\u001b[1;32m    661\u001b[0m \u001b[0;34m\u001b[0m\u001b[0m\n\u001b[0;32m--> 662\u001b[0;31m         X, y = self._validate_data(\n\u001b[0m\u001b[1;32m    663\u001b[0m             \u001b[0mX\u001b[0m\u001b[0;34m,\u001b[0m \u001b[0my\u001b[0m\u001b[0;34m,\u001b[0m \u001b[0maccept_sparse\u001b[0m\u001b[0;34m=\u001b[0m\u001b[0maccept_sparse\u001b[0m\u001b[0;34m,\u001b[0m \u001b[0my_numeric\u001b[0m\u001b[0;34m=\u001b[0m\u001b[0;32mTrue\u001b[0m\u001b[0;34m,\u001b[0m \u001b[0mmulti_output\u001b[0m\u001b[0;34m=\u001b[0m\u001b[0;32mTrue\u001b[0m\u001b[0;34m\u001b[0m\u001b[0;34m\u001b[0m\u001b[0m\n\u001b[1;32m    664\u001b[0m         )\n",
      "\u001b[0;32m~/miniforge3/lib/python3.9/site-packages/sklearn/base.py\u001b[0m in \u001b[0;36m_validate_data\u001b[0;34m(self, X, y, reset, validate_separately, **check_params)\u001b[0m\n\u001b[1;32m    574\u001b[0m                 \u001b[0my\u001b[0m \u001b[0;34m=\u001b[0m \u001b[0mcheck_array\u001b[0m\u001b[0;34m(\u001b[0m\u001b[0my\u001b[0m\u001b[0;34m,\u001b[0m \u001b[0;34m**\u001b[0m\u001b[0mcheck_y_params\u001b[0m\u001b[0;34m)\u001b[0m\u001b[0;34m\u001b[0m\u001b[0;34m\u001b[0m\u001b[0m\n\u001b[1;32m    575\u001b[0m             \u001b[0;32melse\u001b[0m\u001b[0;34m:\u001b[0m\u001b[0;34m\u001b[0m\u001b[0;34m\u001b[0m\u001b[0m\n\u001b[0;32m--> 576\u001b[0;31m                 \u001b[0mX\u001b[0m\u001b[0;34m,\u001b[0m \u001b[0my\u001b[0m \u001b[0;34m=\u001b[0m \u001b[0mcheck_X_y\u001b[0m\u001b[0;34m(\u001b[0m\u001b[0mX\u001b[0m\u001b[0;34m,\u001b[0m \u001b[0my\u001b[0m\u001b[0;34m,\u001b[0m \u001b[0;34m**\u001b[0m\u001b[0mcheck_params\u001b[0m\u001b[0;34m)\u001b[0m\u001b[0;34m\u001b[0m\u001b[0;34m\u001b[0m\u001b[0m\n\u001b[0m\u001b[1;32m    577\u001b[0m             \u001b[0mout\u001b[0m \u001b[0;34m=\u001b[0m \u001b[0mX\u001b[0m\u001b[0;34m,\u001b[0m \u001b[0my\u001b[0m\u001b[0;34m\u001b[0m\u001b[0;34m\u001b[0m\u001b[0m\n\u001b[1;32m    578\u001b[0m \u001b[0;34m\u001b[0m\u001b[0m\n",
      "\u001b[0;32m~/miniforge3/lib/python3.9/site-packages/sklearn/utils/validation.py\u001b[0m in \u001b[0;36mcheck_X_y\u001b[0;34m(X, y, accept_sparse, accept_large_sparse, dtype, order, copy, force_all_finite, ensure_2d, allow_nd, multi_output, ensure_min_samples, ensure_min_features, y_numeric, estimator)\u001b[0m\n\u001b[1;32m    954\u001b[0m         \u001b[0;32mraise\u001b[0m \u001b[0mValueError\u001b[0m\u001b[0;34m(\u001b[0m\u001b[0;34m\"y cannot be None\"\u001b[0m\u001b[0;34m)\u001b[0m\u001b[0;34m\u001b[0m\u001b[0;34m\u001b[0m\u001b[0m\n\u001b[1;32m    955\u001b[0m \u001b[0;34m\u001b[0m\u001b[0m\n\u001b[0;32m--> 956\u001b[0;31m     X = check_array(\n\u001b[0m\u001b[1;32m    957\u001b[0m         \u001b[0mX\u001b[0m\u001b[0;34m,\u001b[0m\u001b[0;34m\u001b[0m\u001b[0;34m\u001b[0m\u001b[0m\n\u001b[1;32m    958\u001b[0m         \u001b[0maccept_sparse\u001b[0m\u001b[0;34m=\u001b[0m\u001b[0maccept_sparse\u001b[0m\u001b[0;34m,\u001b[0m\u001b[0;34m\u001b[0m\u001b[0;34m\u001b[0m\u001b[0m\n",
      "\u001b[0;32m~/miniforge3/lib/python3.9/site-packages/sklearn/utils/validation.py\u001b[0m in \u001b[0;36mcheck_array\u001b[0;34m(array, accept_sparse, accept_large_sparse, dtype, order, copy, force_all_finite, ensure_2d, allow_nd, ensure_min_samples, ensure_min_features, estimator)\u001b[0m\n\u001b[1;32m    759\u001b[0m             \u001b[0;31m# If input is 1D raise error\u001b[0m\u001b[0;34m\u001b[0m\u001b[0;34m\u001b[0m\u001b[0m\n\u001b[1;32m    760\u001b[0m             \u001b[0;32mif\u001b[0m \u001b[0marray\u001b[0m\u001b[0;34m.\u001b[0m\u001b[0mndim\u001b[0m \u001b[0;34m==\u001b[0m \u001b[0;36m1\u001b[0m\u001b[0;34m:\u001b[0m\u001b[0;34m\u001b[0m\u001b[0;34m\u001b[0m\u001b[0m\n\u001b[0;32m--> 761\u001b[0;31m                 raise ValueError(\n\u001b[0m\u001b[1;32m    762\u001b[0m                     \u001b[0;34m\"Expected 2D array, got 1D array instead:\\narray={}.\\n\"\u001b[0m\u001b[0;34m\u001b[0m\u001b[0;34m\u001b[0m\u001b[0m\n\u001b[1;32m    763\u001b[0m                     \u001b[0;34m\"Reshape your data either using array.reshape(-1, 1) if \"\u001b[0m\u001b[0;34m\u001b[0m\u001b[0;34m\u001b[0m\u001b[0m\n",
      "\u001b[0;31mValueError\u001b[0m: Expected 2D array, got 1D array instead:\narray=[ 5.64   4.525  5.208  5.824  3.36   3.808  3.888  4.86   1.593  5.191\n  3.9    7.175  4.437  4.352  4.205  3.925  4.272  4.922  6.765  4.53\n  4.     2.87   3.948  2.784  5.456  5.474  9.416  5.215  4.704  3.48\n  3.136  4.968  3.567  5.208 10.038  4.794  5.771  3.328  5.642  4.218\n  9.799  6.402  5.655  7.372  1.808  4.08   3.429  3.498  6.664  4.554\n  5.568].\nReshape your data either using array.reshape(-1, 1) if your data has a single feature or array.reshape(1, -1) if it contains a single sample."
     ]
    }
   ],
   "source": [
    "model.fit(X=df.alcohol, y=df.accidents)"
   ]
  },
  {
   "cell_type": "code",
   "execution_count": 26,
   "id": "56d9a4e9-dac9-45c2-9f90-dd46e1358919",
   "metadata": {},
   "outputs": [
    {
     "data": {
      "text/plain": [
       "<PandasArray>\n",
       "[              5.64,              4.525,  5.208000000000001,\n",
       "              5.824,               3.36,              3.808,\n",
       "              3.888,               4.86, 1.5930000000000002,\n",
       "  5.190999999999999,                3.9,              7.175,\n",
       "              4.437,              4.352,              4.205,\n",
       "              3.925,              4.272,              4.922,\n",
       "              6.765,               4.53,                4.0,\n",
       "               2.87,              3.948,              2.784,\n",
       "              5.456,  5.474000000000001,              9.416,\n",
       "              5.215,              4.704,               3.48,\n",
       "              3.136,              4.968, 3.5670000000000006,\n",
       "  5.208000000000001,             10.038,              4.794,\n",
       "  5.770999999999999, 3.3280000000000003,              5.642,\n",
       "              4.218,              9.799,  6.401999999999999,\n",
       "              5.655,  7.371999999999999,              1.808,\n",
       "               4.08,              3.429,              3.498,\n",
       "              6.664,              4.554,              5.568]\n",
       "Length: 51, dtype: float64"
      ]
     },
     "execution_count": 26,
     "metadata": {},
     "output_type": "execute_result"
    }
   ],
   "source": [
    "df.alcohol.array"
   ]
  },
  {
   "cell_type": "code",
   "execution_count": 27,
   "id": "9c637208-ee89-4813-b276-2f637280abb0",
   "metadata": {},
   "outputs": [
    {
     "data": {
      "text/plain": [
       "<PandasArray>\n",
       "[\n",
       "[5.64],\n",
       "[4.525],\n",
       "[5.208000000000001],\n",
       "[5.824],\n",
       "[3.36],\n",
       "[3.808],\n",
       "[3.888],\n",
       "[4.86],\n",
       "[1.5930000000000002],\n",
       "[5.190999999999999],\n",
       "[3.9],\n",
       "[7.175],\n",
       "[4.437],\n",
       "[4.352],\n",
       "[4.205],\n",
       "[3.925],\n",
       "[4.272],\n",
       "[4.922],\n",
       "[6.765],\n",
       "[4.53],\n",
       "[4.0],\n",
       "[2.87],\n",
       "[3.948],\n",
       "[2.784],\n",
       "[5.456],\n",
       "[5.474000000000001],\n",
       "[9.416],\n",
       "[5.215],\n",
       "[4.704],\n",
       "[3.48],\n",
       "[3.136],\n",
       "[4.968],\n",
       "[3.5670000000000006],\n",
       "[5.208000000000001],\n",
       "[10.038],\n",
       "[4.794],\n",
       "[5.770999999999999],\n",
       "[3.3280000000000003],\n",
       "[5.642],\n",
       "[4.218],\n",
       "[9.799],\n",
       "[6.401999999999999],\n",
       "[5.655],\n",
       "[7.371999999999999],\n",
       "[1.808],\n",
       "[4.08],\n",
       "[3.429],\n",
       "[3.498],\n",
       "[6.664],\n",
       "[4.554],\n",
       "[5.568]\n",
       "]\n",
       "Shape: (51, 1), dtype: float64"
      ]
     },
     "execution_count": 27,
     "metadata": {},
     "output_type": "execute_result"
    }
   ],
   "source": [
    "df.alcohol.array.reshape(-1,1)"
   ]
  },
  {
   "cell_type": "code",
   "execution_count": 28,
   "id": "5ac72988-0d5c-4d31-a585-d9a897ddbed8",
   "metadata": {},
   "outputs": [
    {
     "data": {
      "text/plain": [
       "LinearRegression()"
      ]
     },
     "execution_count": 28,
     "metadata": {},
     "output_type": "execute_result"
    }
   ],
   "source": [
    "model.fit(X=df.alcohol.array.reshape(-1,1), y=df.accidents)"
   ]
  },
  {
   "cell_type": "code",
   "execution_count": 29,
   "id": "8089ab43-68ed-44e9-a780-5e71f314b51d",
   "metadata": {},
   "outputs": [
    {
     "data": {
      "text/plain": [
       "{'fit_intercept': True,\n",
       " 'normalize': 'deprecated',\n",
       " 'copy_X': True,\n",
       " 'n_jobs': None,\n",
       " 'positive': False,\n",
       " 'n_features_in_': 1,\n",
       " 'coef_': array([2.0325063]),\n",
       " '_residues': 231.96888653310057,\n",
       " 'rank_': 1,\n",
       " 'singular_': array([12.22681605]),\n",
       " 'intercept_': 5.8577761548263005}"
      ]
     },
     "execution_count": 29,
     "metadata": {},
     "output_type": "execute_result"
    }
   ],
   "source": [
    "model.__dict__"
   ]
  },
  {
   "cell_type": "code",
   "execution_count": 30,
   "id": "3b498c00-679d-4834-93f0-0b26ff009065",
   "metadata": {},
   "outputs": [],
   "source": [
    "model = LinearRegression()"
   ]
  },
  {
   "cell_type": "code",
   "execution_count": 31,
   "id": "0fe6744a-733a-4aa4-b7e5-0ff94dfd124b",
   "metadata": {},
   "outputs": [
    {
     "data": {
      "text/plain": [
       "{'fit_intercept': True,\n",
       " 'normalize': 'deprecated',\n",
       " 'copy_X': True,\n",
       " 'n_jobs': None,\n",
       " 'positive': False}"
      ]
     },
     "execution_count": 31,
     "metadata": {},
     "output_type": "execute_result"
    }
   ],
   "source": [
    "model.__dict__"
   ]
  },
  {
   "cell_type": "code",
   "execution_count": 35,
   "id": "03ad5585-49af-4b88-8692-31aa4b452118",
   "metadata": {},
   "outputs": [],
   "source": [
    "explanatory = df.alcohol.array.reshape(-1,1)"
   ]
  },
  {
   "cell_type": "code",
   "execution_count": 36,
   "id": "e17d0fd1-9bac-4854-b405-67f2970c4b7b",
   "metadata": {},
   "outputs": [],
   "source": [
    "target = df.accidents"
   ]
  },
  {
   "cell_type": "code",
   "execution_count": 37,
   "id": "796c595e-b2be-448f-a23a-a59b5effa9b0",
   "metadata": {},
   "outputs": [
    {
     "data": {
      "text/plain": [
       "LinearRegression()"
      ]
     },
     "execution_count": 37,
     "metadata": {},
     "output_type": "execute_result"
    }
   ],
   "source": [
    "model.fit(X=explanatory, y=target)"
   ]
  },
  {
   "cell_type": "code",
   "execution_count": 38,
   "id": "0e2e2bc3-9d7f-468d-bd79-f698e9cd9abe",
   "metadata": {},
   "outputs": [
    {
     "data": {
      "text/plain": [
       "{'fit_intercept': True,\n",
       " 'normalize': 'deprecated',\n",
       " 'copy_X': True,\n",
       " 'n_jobs': None,\n",
       " 'positive': False,\n",
       " 'n_features_in_': 1,\n",
       " 'coef_': array([2.0325063]),\n",
       " '_residues': 231.96888653310057,\n",
       " 'rank_': 1,\n",
       " 'singular_': array([12.22681605]),\n",
       " 'intercept_': 5.8577761548263005}"
      ]
     },
     "execution_count": 38,
     "metadata": {},
     "output_type": "execute_result"
    }
   ],
   "source": [
    "model.__dict__"
   ]
  },
  {
   "cell_type": "markdown",
   "id": "34522c5b-25c8-4dc6-a247-6d22fc080fc0",
   "metadata": {},
   "source": [
    "$$\n",
    "accidents = 5.85 + 2.03 \\cdot alcohol\n",
    "$$"
   ]
  },
  {
   "cell_type": "markdown",
   "id": "8875441e-273b-42ed-a5f7-6f34da9cd58f",
   "metadata": {},
   "source": [
    "## Calculate the Predictions"
   ]
  },
  {
   "cell_type": "code",
   "execution_count": 40,
   "id": "0a5837a0-41a8-45c1-838c-505913157cd9",
   "metadata": {},
   "outputs": [
    {
     "data": {
      "text/plain": [
       "array([17.32111171, 15.05486718, 16.44306899, 17.69509287, 12.68699734,\n",
       "       13.59756016, 13.76016066, 15.73575679,  9.0955587 , 16.40851638,\n",
       "       13.78455074, 20.44100889, 14.87600663, 14.70324359, 14.40446516,\n",
       "       13.8353634 , 14.54064309, 15.86177218, 19.6076813 , 15.06502971,\n",
       "       13.98780137, 11.69106925, 13.88211104, 11.5162737 , 16.94713055,\n",
       "       16.98371566, 24.99585551, 16.45729653, 15.41868581, 12.93089809,\n",
       "       12.23171592, 15.95526747, 13.10772614, 16.44306899, 26.26007443,\n",
       "       15.60161138, 17.58737003, 12.62195713, 17.32517672, 14.43088774,\n",
       "       25.77430543, 18.86988151, 17.3515993 , 20.84141263,  9.53254755,\n",
       "       14.15040187, 12.82724027, 12.96748321, 19.40239816, 15.11380986,\n",
       "       17.17477126])"
      ]
     },
     "execution_count": 40,
     "metadata": {},
     "output_type": "execute_result"
    }
   ],
   "source": [
    "model.predict(X=explanatory)"
   ]
  },
  {
   "cell_type": "markdown",
   "id": "7b9d939c-f682-4b66-a2b3-6f153e4ae679",
   "metadata": {},
   "source": [
    "## Create a New Column for Predictions"
   ]
  },
  {
   "cell_type": "code",
   "execution_count": 41,
   "id": "8f7fc30e-f66e-43a3-9f6c-169b833b0bd1",
   "metadata": {},
   "outputs": [],
   "source": [
    "df['pred'] = model.predict(X=explanatory)"
   ]
  },
  {
   "cell_type": "code",
   "execution_count": 42,
   "id": "2048cba3-a617-41b2-914a-4a19dfd7b5be",
   "metadata": {},
   "outputs": [
    {
     "data": {
      "text/html": [
       "<div>\n",
       "<style scoped>\n",
       "    .dataframe tbody tr th:only-of-type {\n",
       "        vertical-align: middle;\n",
       "    }\n",
       "\n",
       "    .dataframe tbody tr th {\n",
       "        vertical-align: top;\n",
       "    }\n",
       "\n",
       "    .dataframe thead th {\n",
       "        text-align: right;\n",
       "    }\n",
       "</style>\n",
       "<table border=\"1\" class=\"dataframe\">\n",
       "  <thead>\n",
       "    <tr style=\"text-align: right;\">\n",
       "      <th></th>\n",
       "      <th>alcohol</th>\n",
       "      <th>accidents</th>\n",
       "      <th>pred</th>\n",
       "    </tr>\n",
       "    <tr>\n",
       "      <th>abbrev</th>\n",
       "      <th></th>\n",
       "      <th></th>\n",
       "      <th></th>\n",
       "    </tr>\n",
       "  </thead>\n",
       "  <tbody>\n",
       "    <tr>\n",
       "      <th>AL</th>\n",
       "      <td>5.640</td>\n",
       "      <td>18.8</td>\n",
       "      <td>17.321112</td>\n",
       "    </tr>\n",
       "    <tr>\n",
       "      <th>AK</th>\n",
       "      <td>4.525</td>\n",
       "      <td>18.1</td>\n",
       "      <td>15.054867</td>\n",
       "    </tr>\n",
       "    <tr>\n",
       "      <th>AZ</th>\n",
       "      <td>5.208</td>\n",
       "      <td>18.6</td>\n",
       "      <td>16.443069</td>\n",
       "    </tr>\n",
       "    <tr>\n",
       "      <th>AR</th>\n",
       "      <td>5.824</td>\n",
       "      <td>22.4</td>\n",
       "      <td>17.695093</td>\n",
       "    </tr>\n",
       "    <tr>\n",
       "      <th>CA</th>\n",
       "      <td>3.360</td>\n",
       "      <td>12.0</td>\n",
       "      <td>12.686997</td>\n",
       "    </tr>\n",
       "    <tr>\n",
       "      <th>CO</th>\n",
       "      <td>3.808</td>\n",
       "      <td>13.6</td>\n",
       "      <td>13.597560</td>\n",
       "    </tr>\n",
       "    <tr>\n",
       "      <th>CT</th>\n",
       "      <td>3.888</td>\n",
       "      <td>10.8</td>\n",
       "      <td>13.760161</td>\n",
       "    </tr>\n",
       "    <tr>\n",
       "      <th>DE</th>\n",
       "      <td>4.860</td>\n",
       "      <td>16.2</td>\n",
       "      <td>15.735757</td>\n",
       "    </tr>\n",
       "    <tr>\n",
       "      <th>DC</th>\n",
       "      <td>1.593</td>\n",
       "      <td>5.9</td>\n",
       "      <td>9.095559</td>\n",
       "    </tr>\n",
       "    <tr>\n",
       "      <th>FL</th>\n",
       "      <td>5.191</td>\n",
       "      <td>17.9</td>\n",
       "      <td>16.408516</td>\n",
       "    </tr>\n",
       "    <tr>\n",
       "      <th>GA</th>\n",
       "      <td>3.900</td>\n",
       "      <td>15.6</td>\n",
       "      <td>13.784551</td>\n",
       "    </tr>\n",
       "    <tr>\n",
       "      <th>HI</th>\n",
       "      <td>7.175</td>\n",
       "      <td>17.5</td>\n",
       "      <td>20.441009</td>\n",
       "    </tr>\n",
       "    <tr>\n",
       "      <th>ID</th>\n",
       "      <td>4.437</td>\n",
       "      <td>15.3</td>\n",
       "      <td>14.876007</td>\n",
       "    </tr>\n",
       "    <tr>\n",
       "      <th>IL</th>\n",
       "      <td>4.352</td>\n",
       "      <td>12.8</td>\n",
       "      <td>14.703244</td>\n",
       "    </tr>\n",
       "    <tr>\n",
       "      <th>IN</th>\n",
       "      <td>4.205</td>\n",
       "      <td>14.5</td>\n",
       "      <td>14.404465</td>\n",
       "    </tr>\n",
       "    <tr>\n",
       "      <th>IA</th>\n",
       "      <td>3.925</td>\n",
       "      <td>15.7</td>\n",
       "      <td>13.835363</td>\n",
       "    </tr>\n",
       "    <tr>\n",
       "      <th>KS</th>\n",
       "      <td>4.272</td>\n",
       "      <td>17.8</td>\n",
       "      <td>14.540643</td>\n",
       "    </tr>\n",
       "    <tr>\n",
       "      <th>KY</th>\n",
       "      <td>4.922</td>\n",
       "      <td>21.4</td>\n",
       "      <td>15.861772</td>\n",
       "    </tr>\n",
       "    <tr>\n",
       "      <th>LA</th>\n",
       "      <td>6.765</td>\n",
       "      <td>20.5</td>\n",
       "      <td>19.607681</td>\n",
       "    </tr>\n",
       "    <tr>\n",
       "      <th>ME</th>\n",
       "      <td>4.530</td>\n",
       "      <td>15.1</td>\n",
       "      <td>15.065030</td>\n",
       "    </tr>\n",
       "    <tr>\n",
       "      <th>MD</th>\n",
       "      <td>4.000</td>\n",
       "      <td>12.5</td>\n",
       "      <td>13.987801</td>\n",
       "    </tr>\n",
       "    <tr>\n",
       "      <th>MA</th>\n",
       "      <td>2.870</td>\n",
       "      <td>8.2</td>\n",
       "      <td>11.691069</td>\n",
       "    </tr>\n",
       "    <tr>\n",
       "      <th>MI</th>\n",
       "      <td>3.948</td>\n",
       "      <td>14.1</td>\n",
       "      <td>13.882111</td>\n",
       "    </tr>\n",
       "    <tr>\n",
       "      <th>MN</th>\n",
       "      <td>2.784</td>\n",
       "      <td>9.6</td>\n",
       "      <td>11.516274</td>\n",
       "    </tr>\n",
       "    <tr>\n",
       "      <th>MS</th>\n",
       "      <td>5.456</td>\n",
       "      <td>17.6</td>\n",
       "      <td>16.947131</td>\n",
       "    </tr>\n",
       "    <tr>\n",
       "      <th>MO</th>\n",
       "      <td>5.474</td>\n",
       "      <td>16.1</td>\n",
       "      <td>16.983716</td>\n",
       "    </tr>\n",
       "    <tr>\n",
       "      <th>MT</th>\n",
       "      <td>9.416</td>\n",
       "      <td>21.4</td>\n",
       "      <td>24.995856</td>\n",
       "    </tr>\n",
       "    <tr>\n",
       "      <th>NE</th>\n",
       "      <td>5.215</td>\n",
       "      <td>14.9</td>\n",
       "      <td>16.457297</td>\n",
       "    </tr>\n",
       "    <tr>\n",
       "      <th>NV</th>\n",
       "      <td>4.704</td>\n",
       "      <td>14.7</td>\n",
       "      <td>15.418686</td>\n",
       "    </tr>\n",
       "    <tr>\n",
       "      <th>NH</th>\n",
       "      <td>3.480</td>\n",
       "      <td>11.6</td>\n",
       "      <td>12.930898</td>\n",
       "    </tr>\n",
       "    <tr>\n",
       "      <th>NJ</th>\n",
       "      <td>3.136</td>\n",
       "      <td>11.2</td>\n",
       "      <td>12.231716</td>\n",
       "    </tr>\n",
       "    <tr>\n",
       "      <th>NM</th>\n",
       "      <td>4.968</td>\n",
       "      <td>18.4</td>\n",
       "      <td>15.955267</td>\n",
       "    </tr>\n",
       "    <tr>\n",
       "      <th>NY</th>\n",
       "      <td>3.567</td>\n",
       "      <td>12.3</td>\n",
       "      <td>13.107726</td>\n",
       "    </tr>\n",
       "    <tr>\n",
       "      <th>NC</th>\n",
       "      <td>5.208</td>\n",
       "      <td>16.8</td>\n",
       "      <td>16.443069</td>\n",
       "    </tr>\n",
       "    <tr>\n",
       "      <th>ND</th>\n",
       "      <td>10.038</td>\n",
       "      <td>23.9</td>\n",
       "      <td>26.260074</td>\n",
       "    </tr>\n",
       "    <tr>\n",
       "      <th>OH</th>\n",
       "      <td>4.794</td>\n",
       "      <td>14.1</td>\n",
       "      <td>15.601611</td>\n",
       "    </tr>\n",
       "    <tr>\n",
       "      <th>OK</th>\n",
       "      <td>5.771</td>\n",
       "      <td>19.9</td>\n",
       "      <td>17.587370</td>\n",
       "    </tr>\n",
       "    <tr>\n",
       "      <th>OR</th>\n",
       "      <td>3.328</td>\n",
       "      <td>12.8</td>\n",
       "      <td>12.621957</td>\n",
       "    </tr>\n",
       "    <tr>\n",
       "      <th>PA</th>\n",
       "      <td>5.642</td>\n",
       "      <td>18.2</td>\n",
       "      <td>17.325177</td>\n",
       "    </tr>\n",
       "    <tr>\n",
       "      <th>RI</th>\n",
       "      <td>4.218</td>\n",
       "      <td>11.1</td>\n",
       "      <td>14.430888</td>\n",
       "    </tr>\n",
       "    <tr>\n",
       "      <th>SC</th>\n",
       "      <td>9.799</td>\n",
       "      <td>23.9</td>\n",
       "      <td>25.774305</td>\n",
       "    </tr>\n",
       "    <tr>\n",
       "      <th>SD</th>\n",
       "      <td>6.402</td>\n",
       "      <td>19.4</td>\n",
       "      <td>18.869882</td>\n",
       "    </tr>\n",
       "    <tr>\n",
       "      <th>TN</th>\n",
       "      <td>5.655</td>\n",
       "      <td>19.5</td>\n",
       "      <td>17.351599</td>\n",
       "    </tr>\n",
       "    <tr>\n",
       "      <th>TX</th>\n",
       "      <td>7.372</td>\n",
       "      <td>19.4</td>\n",
       "      <td>20.841413</td>\n",
       "    </tr>\n",
       "    <tr>\n",
       "      <th>UT</th>\n",
       "      <td>1.808</td>\n",
       "      <td>11.3</td>\n",
       "      <td>9.532548</td>\n",
       "    </tr>\n",
       "    <tr>\n",
       "      <th>VT</th>\n",
       "      <td>4.080</td>\n",
       "      <td>13.6</td>\n",
       "      <td>14.150402</td>\n",
       "    </tr>\n",
       "    <tr>\n",
       "      <th>VA</th>\n",
       "      <td>3.429</td>\n",
       "      <td>12.7</td>\n",
       "      <td>12.827240</td>\n",
       "    </tr>\n",
       "    <tr>\n",
       "      <th>WA</th>\n",
       "      <td>3.498</td>\n",
       "      <td>10.6</td>\n",
       "      <td>12.967483</td>\n",
       "    </tr>\n",
       "    <tr>\n",
       "      <th>WV</th>\n",
       "      <td>6.664</td>\n",
       "      <td>23.8</td>\n",
       "      <td>19.402398</td>\n",
       "    </tr>\n",
       "    <tr>\n",
       "      <th>WI</th>\n",
       "      <td>4.554</td>\n",
       "      <td>13.8</td>\n",
       "      <td>15.113810</td>\n",
       "    </tr>\n",
       "    <tr>\n",
       "      <th>WY</th>\n",
       "      <td>5.568</td>\n",
       "      <td>17.4</td>\n",
       "      <td>17.174771</td>\n",
       "    </tr>\n",
       "  </tbody>\n",
       "</table>\n",
       "</div>"
      ],
      "text/plain": [
       "        alcohol  accidents       pred\n",
       "abbrev                               \n",
       "AL        5.640       18.8  17.321112\n",
       "AK        4.525       18.1  15.054867\n",
       "AZ        5.208       18.6  16.443069\n",
       "AR        5.824       22.4  17.695093\n",
       "CA        3.360       12.0  12.686997\n",
       "CO        3.808       13.6  13.597560\n",
       "CT        3.888       10.8  13.760161\n",
       "DE        4.860       16.2  15.735757\n",
       "DC        1.593        5.9   9.095559\n",
       "FL        5.191       17.9  16.408516\n",
       "GA        3.900       15.6  13.784551\n",
       "HI        7.175       17.5  20.441009\n",
       "ID        4.437       15.3  14.876007\n",
       "IL        4.352       12.8  14.703244\n",
       "IN        4.205       14.5  14.404465\n",
       "IA        3.925       15.7  13.835363\n",
       "KS        4.272       17.8  14.540643\n",
       "KY        4.922       21.4  15.861772\n",
       "LA        6.765       20.5  19.607681\n",
       "ME        4.530       15.1  15.065030\n",
       "MD        4.000       12.5  13.987801\n",
       "MA        2.870        8.2  11.691069\n",
       "MI        3.948       14.1  13.882111\n",
       "MN        2.784        9.6  11.516274\n",
       "MS        5.456       17.6  16.947131\n",
       "MO        5.474       16.1  16.983716\n",
       "MT        9.416       21.4  24.995856\n",
       "NE        5.215       14.9  16.457297\n",
       "NV        4.704       14.7  15.418686\n",
       "NH        3.480       11.6  12.930898\n",
       "NJ        3.136       11.2  12.231716\n",
       "NM        4.968       18.4  15.955267\n",
       "NY        3.567       12.3  13.107726\n",
       "NC        5.208       16.8  16.443069\n",
       "ND       10.038       23.9  26.260074\n",
       "OH        4.794       14.1  15.601611\n",
       "OK        5.771       19.9  17.587370\n",
       "OR        3.328       12.8  12.621957\n",
       "PA        5.642       18.2  17.325177\n",
       "RI        4.218       11.1  14.430888\n",
       "SC        9.799       23.9  25.774305\n",
       "SD        6.402       19.4  18.869882\n",
       "TN        5.655       19.5  17.351599\n",
       "TX        7.372       19.4  20.841413\n",
       "UT        1.808       11.3   9.532548\n",
       "VT        4.080       13.6  14.150402\n",
       "VA        3.429       12.7  12.827240\n",
       "WA        3.498       10.6  12.967483\n",
       "WV        6.664       23.8  19.402398\n",
       "WI        4.554       13.8  15.113810\n",
       "WY        5.568       17.4  17.174771"
      ]
     },
     "execution_count": 42,
     "metadata": {},
     "output_type": "execute_result"
    }
   ],
   "source": [
    "df"
   ]
  },
  {
   "cell_type": "markdown",
   "id": "cda65f31-2a3c-4f4b-b367-7882e8e216b0",
   "metadata": {},
   "source": [
    "## Visualize the Predictions & Real Data"
   ]
  },
  {
   "cell_type": "markdown",
   "id": "c08b01b0-59bc-468c-a77b-2c8aac93a00c",
   "metadata": {},
   "source": [
    "$$\n",
    "accidents = 5.85 + 2.03 \\cdot alcohol\n",
    "$$"
   ]
  },
  {
   "cell_type": "code",
   "execution_count": 45,
   "id": "b93c6190-3471-4bfb-8ab2-60738cbac17a",
   "metadata": {},
   "outputs": [
    {
     "data": {
      "image/png": "[encoded data removed]",
      "text/plain": [
       "<Figure size 432x288 with 1 Axes>"
      ]
     },
     "metadata": {
      "needs_background": "light"
     },
     "output_type": "display_data"
    }
   ],
   "source": [
    "sns.scatterplot(x='alcohol', y='accidents', data=df);"
   ]
  },
  {
   "cell_type": "code",
   "execution_count": 44,
   "id": "7f8b6ee0-fd51-4bb2-81ec-0a46d7c92d3e",
   "metadata": {},
   "outputs": [
    {
     "data": {
      "image/png": "[encoded data removed]",
      "text/plain": [
       "<Figure size 432x288 with 1 Axes>"
      ]
     },
     "metadata": {
      "needs_background": "light"
     },
     "output_type": "display_data"
    }
   ],
   "source": [
    "sns.scatterplot(x='alcohol', y='accidents', data=df);\n",
    "sns.scatterplot(x='alcohol', y='pred', data=df);"
   ]
  },
  {
   "cell_type": "code",
   "execution_count": 46,
   "id": "2138fa44-3aca-4d1a-9e78-874841750bdb",
   "metadata": {},
   "outputs": [
    {
     "data": {
      "image/png": "[encoded data removed]",
      "text/plain": [
       "<Figure size 432x288 with 1 Axes>"
      ]
     },
     "metadata": {
      "needs_background": "light"
     },
     "output_type": "display_data"
    }
   ],
   "source": [
    "sns.scatterplot(x='alcohol', y='accidents', data=df);\n",
    "sns.scatterplot(x='alcohol', y='pred', data=df);\n",
    "sns.lineplot(x='alcohol', y='pred', data=df, color='red');"
   ]
  },
  {
   "cell_type": "markdown",
   "id": "f803a05c-41d5-4d8d-888b-027c6595bf07",
   "metadata": {},
   "source": [
    "## How Good Is the Model?"
   ]
  },
  {
   "cell_type": "code",
   "execution_count": 133,
   "id": "2d12877b-ec1e-467e-8093-b034abf40c8e",
   "metadata": {},
   "outputs": [
    {
     "data": {
      "text/plain": [
       "abbrev\n",
       "AL    1.478888\n",
       "AK    3.045133\n",
       "AZ    2.156931\n",
       "AR    4.704907\n",
       "CA   -0.686997\n",
       "CO    0.002440\n",
       "CT   -2.960161\n",
       "DE    0.464243\n",
       "DC   -3.195559\n",
       "FL    1.491484\n",
       "GA    1.815449\n",
       "HI   -2.941009\n",
       "ID    0.423993\n",
       "IL   -1.903244\n",
       "IN    0.095535\n",
       "IA    1.864637\n",
       "KS    3.259357\n",
       "KY    5.538228\n",
       "LA    0.892319\n",
       "ME    0.034970\n",
       "MD   -1.487801\n",
       "MA   -3.491069\n",
       "MI    0.217889\n",
       "MN   -1.916274\n",
       "MS    0.652869\n",
       "MO   -0.883716\n",
       "MT   -3.595856\n",
       "NE   -1.557297\n",
       "NV   -0.718686\n",
       "NH   -1.330898\n",
       "NJ   -1.031716\n",
       "NM    2.444733\n",
       "NY   -0.807726\n",
       "NC    0.356931\n",
       "ND   -2.360074\n",
       "OH   -1.501611\n",
       "OK    2.312630\n",
       "OR    0.178043\n",
       "PA    0.874823\n",
       "RI   -3.330888\n",
       "SC   -1.874305\n",
       "SD    0.530118\n",
       "TN    2.148401\n",
       "TX   -1.441413\n",
       "UT    1.767452\n",
       "VT   -0.550402\n",
       "VA   -0.127240\n",
       "WA   -2.367483\n",
       "WV    4.397602\n",
       "WI   -1.313810\n",
       "WY    0.225229\n",
       "dtype: float64"
      ]
     },
     "execution_count": 133,
     "metadata": {},
     "output_type": "execute_result"
    }
   ],
   "source": [
    "df.accidents - df.pred"
   ]
  },
  {
   "cell_type": "code",
   "execution_count": 134,
   "id": "8e8e3dc5-217e-40f5-850c-9a98b5782083",
   "metadata": {},
   "outputs": [],
   "source": [
    "df['error'] = df.accidents - df.pred"
   ]
  },
  {
   "cell_type": "code",
   "execution_count": 135,
   "id": "4fa3b3e2-a240-4506-9691-c59af2a465d3",
   "metadata": {},
   "outputs": [
    {
     "data": {
      "text/html": [
       "<div>\n",
       "<style scoped>\n",
       "    .dataframe tbody tr th:only-of-type {\n",
       "        vertical-align: middle;\n",
       "    }\n",
       "\n",
       "    .dataframe tbody tr th {\n",
       "        vertical-align: top;\n",
       "    }\n",
       "\n",
       "    .dataframe thead th {\n",
       "        text-align: right;\n",
       "    }\n",
       "</style>\n",
       "<table border=\"1\" class=\"dataframe\">\n",
       "  <thead>\n",
       "    <tr style=\"text-align: right;\">\n",
       "      <th></th>\n",
       "      <th>alcohol</th>\n",
       "      <th>accidents</th>\n",
       "      <th>pred</th>\n",
       "      <th>error</th>\n",
       "    </tr>\n",
       "    <tr>\n",
       "      <th>abbrev</th>\n",
       "      <th></th>\n",
       "      <th></th>\n",
       "      <th></th>\n",
       "      <th></th>\n",
       "    </tr>\n",
       "  </thead>\n",
       "  <tbody>\n",
       "    <tr>\n",
       "      <th>AL</th>\n",
       "      <td>5.640</td>\n",
       "      <td>18.8</td>\n",
       "      <td>17.321112</td>\n",
       "      <td>1.478888</td>\n",
       "    </tr>\n",
       "    <tr>\n",
       "      <th>AK</th>\n",
       "      <td>4.525</td>\n",
       "      <td>18.1</td>\n",
       "      <td>15.054867</td>\n",
       "      <td>3.045133</td>\n",
       "    </tr>\n",
       "    <tr>\n",
       "      <th>AZ</th>\n",
       "      <td>5.208</td>\n",
       "      <td>18.6</td>\n",
       "      <td>16.443069</td>\n",
       "      <td>2.156931</td>\n",
       "    </tr>\n",
       "    <tr>\n",
       "      <th>AR</th>\n",
       "      <td>5.824</td>\n",
       "      <td>22.4</td>\n",
       "      <td>17.695093</td>\n",
       "      <td>4.704907</td>\n",
       "    </tr>\n",
       "    <tr>\n",
       "      <th>CA</th>\n",
       "      <td>3.360</td>\n",
       "      <td>12.0</td>\n",
       "      <td>12.686997</td>\n",
       "      <td>-0.686997</td>\n",
       "    </tr>\n",
       "  </tbody>\n",
       "</table>\n",
       "</div>"
      ],
      "text/plain": [
       "        alcohol  accidents       pred     error\n",
       "abbrev                                         \n",
       "AL        5.640       18.8  17.321112  1.478888\n",
       "AK        4.525       18.1  15.054867  3.045133\n",
       "AZ        5.208       18.6  16.443069  2.156931\n",
       "AR        5.824       22.4  17.695093  4.704907\n",
       "CA        3.360       12.0  12.686997 -0.686997"
      ]
     },
     "execution_count": 135,
     "metadata": {},
     "output_type": "execute_result"
    }
   ],
   "source": [
    "df.head()"
   ]
  },
  {
   "cell_type": "code",
   "execution_count": 137,
   "id": "026bd6e1-27cc-4795-8578-6c6072a971fc",
   "metadata": {},
   "outputs": [
    {
     "data": {
      "text/plain": [
       "1.7053025658242404e-13"
      ]
     },
     "execution_count": 137,
     "metadata": {},
     "output_type": "execute_result"
    }
   ],
   "source": [
    "df.error.sum()"
   ]
  },
  {
   "cell_type": "code",
   "execution_count": 138,
   "id": "6d2ecb98-33b4-4555-8562-280c5f56df79",
   "metadata": {},
   "outputs": [
    {
     "data": {
      "text/plain": [
       "0.0"
      ]
     },
     "execution_count": 138,
     "metadata": {},
     "output_type": "execute_result"
    }
   ],
   "source": [
    "df.error.sum().round(2)"
   ]
  },
  {
   "cell_type": "code",
   "execution_count": 141,
   "id": "825326f0-82c4-4333-8810-fe1fd5ece25d",
   "metadata": {},
   "outputs": [
    {
     "data": {
      "text/html": [
       "<div>\n",
       "<style scoped>\n",
       "    .dataframe tbody tr th:only-of-type {\n",
       "        vertical-align: middle;\n",
       "    }\n",
       "\n",
       "    .dataframe tbody tr th {\n",
       "        vertical-align: top;\n",
       "    }\n",
       "\n",
       "    .dataframe thead th {\n",
       "        text-align: right;\n",
       "    }\n",
       "</style>\n",
       "<table border=\"1\" class=\"dataframe\">\n",
       "  <thead>\n",
       "    <tr style=\"text-align: right;\">\n",
       "      <th></th>\n",
       "      <th>alcohol</th>\n",
       "      <th>accidents</th>\n",
       "      <th>pred</th>\n",
       "      <th>error</th>\n",
       "      <th>error2</th>\n",
       "    </tr>\n",
       "    <tr>\n",
       "      <th>abbrev</th>\n",
       "      <th></th>\n",
       "      <th></th>\n",
       "      <th></th>\n",
       "      <th></th>\n",
       "      <th></th>\n",
       "    </tr>\n",
       "  </thead>\n",
       "  <tbody>\n",
       "    <tr>\n",
       "      <th>SC</th>\n",
       "      <td>9.799</td>\n",
       "      <td>23.9</td>\n",
       "      <td>25.774305</td>\n",
       "      <td>-1.874305</td>\n",
       "      <td>3.513021</td>\n",
       "    </tr>\n",
       "    <tr>\n",
       "      <th>MD</th>\n",
       "      <td>4.000</td>\n",
       "      <td>12.5</td>\n",
       "      <td>13.987801</td>\n",
       "      <td>-1.487801</td>\n",
       "      <td>2.213553</td>\n",
       "    </tr>\n",
       "    <tr>\n",
       "      <th>DE</th>\n",
       "      <td>4.860</td>\n",
       "      <td>16.2</td>\n",
       "      <td>15.735757</td>\n",
       "      <td>0.464243</td>\n",
       "      <td>0.215522</td>\n",
       "    </tr>\n",
       "    <tr>\n",
       "      <th>MI</th>\n",
       "      <td>3.948</td>\n",
       "      <td>14.1</td>\n",
       "      <td>13.882111</td>\n",
       "      <td>0.217889</td>\n",
       "      <td>0.047476</td>\n",
       "    </tr>\n",
       "    <tr>\n",
       "      <th>GA</th>\n",
       "      <td>3.900</td>\n",
       "      <td>15.6</td>\n",
       "      <td>13.784551</td>\n",
       "      <td>1.815449</td>\n",
       "      <td>3.295856</td>\n",
       "    </tr>\n",
       "  </tbody>\n",
       "</table>\n",
       "</div>"
      ],
      "text/plain": [
       "        alcohol  accidents       pred     error    error2\n",
       "abbrev                                                   \n",
       "SC        9.799       23.9  25.774305 -1.874305  3.513021\n",
       "MD        4.000       12.5  13.987801 -1.487801  2.213553\n",
       "DE        4.860       16.2  15.735757  0.464243  0.215522\n",
       "MI        3.948       14.1  13.882111  0.217889  0.047476\n",
       "GA        3.900       15.6  13.784551  1.815449  3.295856"
      ]
     },
     "execution_count": 141,
     "metadata": {},
     "output_type": "execute_result"
    }
   ],
   "source": [
    "df.sample(5)"
   ]
  },
  {
   "cell_type": "code",
   "execution_count": 142,
   "id": "4c31b9e7-bf8d-403f-acd3-1fd9ab393392",
   "metadata": {},
   "outputs": [],
   "source": [
    "df['error2'] = df.error**2"
   ]
  },
  {
   "cell_type": "code",
   "execution_count": 143,
   "id": "82a396c4-9578-411c-b741-b5a72482707a",
   "metadata": {},
   "outputs": [],
   "source": [
    "rss = df.error2.sum()"
   ]
  },
  {
   "cell_type": "code",
   "execution_count": 144,
   "id": "854f62af-bc7a-4ca3-a03d-b65dc005a21c",
   "metadata": {},
   "outputs": [
    {
     "data": {
      "text/plain": [
       "231.96888653310063"
      ]
     },
     "execution_count": 144,
     "metadata": {},
     "output_type": "execute_result"
    }
   ],
   "source": [
    "rss"
   ]
  },
  {
   "cell_type": "code",
   "execution_count": 146,
   "id": "c2651ab1-bb1f-410f-99fa-653eed2762e2",
   "metadata": {},
   "outputs": [
    {
     "data": {
      "text/plain": [
       "abbrev\n",
       "IN    14.5\n",
       "NY    12.3\n",
       "RI    11.1\n",
       "IL    12.8\n",
       "ID    15.3\n",
       "Name: accidents, dtype: float64"
      ]
     },
     "execution_count": 146,
     "metadata": {},
     "output_type": "execute_result"
    }
   ],
   "source": [
    "df.accidents.sample(5)"
   ]
  },
  {
   "cell_type": "code",
   "execution_count": 147,
   "id": "60b2c282-15ec-45ca-b7f1-c3a22c0e7b5a",
   "metadata": {},
   "outputs": [
    {
     "data": {
      "text/plain": [
       "15.79019607843137"
      ]
     },
     "execution_count": 147,
     "metadata": {},
     "output_type": "execute_result"
    }
   ],
   "source": [
    "df.accidents.mean()"
   ]
  },
  {
   "cell_type": "code",
   "execution_count": 148,
   "id": "a1a44fc3-7c3d-4295-b5ed-bc72ef3214a1",
   "metadata": {},
   "outputs": [],
   "source": [
    "error_var = df.accidents - df.accidents.mean()"
   ]
  },
  {
   "cell_type": "code",
   "execution_count": 149,
   "id": "757f5d49-a207-40d5-83cf-3ea89c26004f",
   "metadata": {},
   "outputs": [],
   "source": [
    "error2_var2 = error_var**2"
   ]
  },
  {
   "cell_type": "code",
   "execution_count": 150,
   "id": "9778bcd4-bce6-494c-8ea9-d9c3a6b63e3e",
   "metadata": {},
   "outputs": [],
   "source": [
    "tss = error2_var2.sum()"
   ]
  },
  {
   "cell_type": "code",
   "execution_count": 151,
   "id": "74524ded-043f-488a-8686-ff24f3a102f4",
   "metadata": {},
   "outputs": [
    {
     "data": {
      "text/plain": [
       "849.5450980392156"
      ]
     },
     "execution_count": 151,
     "metadata": {},
     "output_type": "execute_result"
    }
   ],
   "source": [
    "tss"
   ]
  },
  {
   "cell_type": "code",
   "execution_count": 152,
   "id": "3dc64278-0918-4b79-a844-561d39931476",
   "metadata": {},
   "outputs": [
    {
     "data": {
      "text/plain": [
       "0.2730507033334595"
      ]
     },
     "execution_count": 152,
     "metadata": {},
     "output_type": "execute_result"
    }
   ],
   "source": [
    "rss/tss"
   ]
  },
  {
   "cell_type": "code",
   "execution_count": 153,
   "id": "f3be5412-f0e4-4a7b-a41c-80698c819835",
   "metadata": {},
   "outputs": [
    {
     "data": {
      "text/plain": [
       "0.7269492966665405"
      ]
     },
     "execution_count": 153,
     "metadata": {},
     "output_type": "execute_result"
    }
   ],
   "source": [
    "1 - rss/tss"
   ]
  },
  {
   "cell_type": "code",
   "execution_count": 154,
   "id": "477c5309-ed54-49b7-abf4-881ecb221fc4",
   "metadata": {},
   "outputs": [
    {
     "data": {
      "text/plain": [
       "0.7269492966665405"
      ]
     },
     "execution_count": 154,
     "metadata": {},
     "output_type": "execute_result"
    }
   ],
   "source": [
    "element.score(X=explanatory, y=target)"
   ]
  },
  {
   "cell_type": "markdown",
   "id": "82674f2f-fb42-416b-84c5-9b24999c24aa",
   "metadata": {},
   "source": [
    "# Other Models?"
   ]
  },
  {
   "cell_type": "markdown",
   "id": "4fbdb38c-0dce-47e2-ab05-cab53245b734",
   "metadata": {},
   "source": [
    "## Random Forest"
   ]
  },
  {
   "cell_type": "markdown",
   "id": "5959783e-5947-413d-b61f-30022fe1a94f",
   "metadata": {},
   "source": [
    "### Calculate Mathematical Equation"
   ]
  },
  {
   "cell_type": "code",
   "execution_count": 56,
   "id": "45f198f5-b4dd-4092-a225-865252bdc57d",
   "metadata": {},
   "outputs": [],
   "source": [
    "from sklearn.ensemble import RandomForestRegressor"
   ]
  },
  {
   "cell_type": "code",
   "execution_count": 57,
   "id": "8f37fe7a-d4e4-488c-893e-d16e4904c026",
   "metadata": {},
   "outputs": [],
   "source": [
    "rf = RandomForestRegressor()"
   ]
  },
  {
   "cell_type": "code",
   "execution_count": 58,
   "id": "3667d084-a076-4bb6-b2d9-c1112c8dff20",
   "metadata": {},
   "outputs": [
    {
     "data": {
      "text/plain": [
       "RandomForestRegressor()"
      ]
     },
     "execution_count": 58,
     "metadata": {},
     "output_type": "execute_result"
    }
   ],
   "source": [
    "rf.fit(X=explanatory, y=target)"
   ]
  },
  {
   "cell_type": "markdown",
   "id": "2f668957-e672-4f16-bc1e-85057db58aa0",
   "metadata": {},
   "source": [
    "### Calculate Predictions"
   ]
  },
  {
   "cell_type": "code",
   "execution_count": 59,
   "id": "fe52385d-0a1f-4c1d-bd18-3433b8e84595",
   "metadata": {},
   "outputs": [],
   "source": [
    "df['pred_rf'] = rf.predict(X=explanatory)"
   ]
  },
  {
   "cell_type": "markdown",
   "id": "abf99d89-6c1a-4a6e-8af5-566a7c4c22e0",
   "metadata": {},
   "source": [
    "## Support Vector Machines"
   ]
  },
  {
   "cell_type": "markdown",
   "id": "000eda33-ef7f-40d7-be9a-551b8836417a",
   "metadata": {},
   "source": [
    "### Calculate Mathematical Equation"
   ]
  },
  {
   "cell_type": "code",
   "execution_count": 100,
   "id": "0d2eb7d4-882b-47be-a769-430c038a5cce",
   "metadata": {},
   "outputs": [],
   "source": [
    "from sklearn.svm import SVR"
   ]
  },
  {
   "cell_type": "code",
   "execution_count": 101,
   "id": "fad56f5a-155c-4d43-9901-dd5861f4e066",
   "metadata": {},
   "outputs": [],
   "source": [
    "sv = SVR()"
   ]
  },
  {
   "cell_type": "code",
   "execution_count": 102,
   "id": "a842b669-e39d-4dae-85ce-407e5b0457e4",
   "metadata": {},
   "outputs": [
    {
     "data": {
      "text/plain": [
       "SVR()"
      ]
     },
     "execution_count": 102,
     "metadata": {},
     "output_type": "execute_result"
    }
   ],
   "source": [
    "sv.fit(X=explanatory, y=target)"
   ]
  },
  {
   "cell_type": "markdown",
   "id": "00c5b630-abaf-4ca4-930e-04988fa2cc75",
   "metadata": {},
   "source": [
    "### Calculate Predictions"
   ]
  },
  {
   "cell_type": "code",
   "execution_count": 103,
   "id": "e153bdf1-5345-4226-8a51-9da9fe67151a",
   "metadata": {},
   "outputs": [],
   "source": [
    "df['pred_sv'] = sv.predict(X=explanatory)"
   ]
  },
  {
   "cell_type": "code",
   "execution_count": 105,
   "id": "463f4216-6942-4578-9009-3c3fb12bc149",
   "metadata": {},
   "outputs": [
    {
     "data": {
      "text/html": [
       "<div>\n",
       "<style scoped>\n",
       "    .dataframe tbody tr th:only-of-type {\n",
       "        vertical-align: middle;\n",
       "    }\n",
       "\n",
       "    .dataframe tbody tr th {\n",
       "        vertical-align: top;\n",
       "    }\n",
       "\n",
       "    .dataframe thead th {\n",
       "        text-align: right;\n",
       "    }\n",
       "</style>\n",
       "<table border=\"1\" class=\"dataframe\">\n",
       "  <thead>\n",
       "    <tr style=\"text-align: right;\">\n",
       "      <th></th>\n",
       "      <th>alcohol</th>\n",
       "      <th>accidents</th>\n",
       "      <th>pred</th>\n",
       "      <th>error</th>\n",
       "      <th>error2</th>\n",
       "      <th>pred_rf</th>\n",
       "      <th>pred_sv</th>\n",
       "    </tr>\n",
       "    <tr>\n",
       "      <th>abbrev</th>\n",
       "      <th></th>\n",
       "      <th></th>\n",
       "      <th></th>\n",
       "      <th></th>\n",
       "      <th></th>\n",
       "      <th></th>\n",
       "      <th></th>\n",
       "    </tr>\n",
       "  </thead>\n",
       "  <tbody>\n",
       "    <tr>\n",
       "      <th>AL</th>\n",
       "      <td>5.640</td>\n",
       "      <td>18.8</td>\n",
       "      <td>17.321112</td>\n",
       "      <td>1.478888</td>\n",
       "      <td>2.187111</td>\n",
       "      <td>18.7240</td>\n",
       "      <td>18.295708</td>\n",
       "    </tr>\n",
       "    <tr>\n",
       "      <th>AK</th>\n",
       "      <td>4.525</td>\n",
       "      <td>18.1</td>\n",
       "      <td>15.054867</td>\n",
       "      <td>3.045133</td>\n",
       "      <td>9.272834</td>\n",
       "      <td>16.7090</td>\n",
       "      <td>15.184627</td>\n",
       "    </tr>\n",
       "    <tr>\n",
       "      <th>AZ</th>\n",
       "      <td>5.208</td>\n",
       "      <td>18.6</td>\n",
       "      <td>16.443069</td>\n",
       "      <td>2.156931</td>\n",
       "      <td>4.652351</td>\n",
       "      <td>17.3974</td>\n",
       "      <td>17.222419</td>\n",
       "    </tr>\n",
       "    <tr>\n",
       "      <th>AR</th>\n",
       "      <td>5.824</td>\n",
       "      <td>22.4</td>\n",
       "      <td>17.695093</td>\n",
       "      <td>4.704907</td>\n",
       "      <td>22.136151</td>\n",
       "      <td>21.3440</td>\n",
       "      <td>18.663318</td>\n",
       "    </tr>\n",
       "    <tr>\n",
       "      <th>CA</th>\n",
       "      <td>3.360</td>\n",
       "      <td>12.0</td>\n",
       "      <td>12.686997</td>\n",
       "      <td>-0.686997</td>\n",
       "      <td>0.471965</td>\n",
       "      <td>12.2110</td>\n",
       "      <td>12.124348</td>\n",
       "    </tr>\n",
       "  </tbody>\n",
       "</table>\n",
       "</div>"
      ],
      "text/plain": [
       "        alcohol  accidents       pred     error     error2  pred_rf    pred_sv\n",
       "abbrev                                                                        \n",
       "AL        5.640       18.8  17.321112  1.478888   2.187111  18.7240  18.295708\n",
       "AK        4.525       18.1  15.054867  3.045133   9.272834  16.7090  15.184627\n",
       "AZ        5.208       18.6  16.443069  2.156931   4.652351  17.3974  17.222419\n",
       "AR        5.824       22.4  17.695093  4.704907  22.136151  21.3440  18.663318\n",
       "CA        3.360       12.0  12.686997 -0.686997   0.471965  12.2110  12.124348"
      ]
     },
     "execution_count": 105,
     "metadata": {},
     "output_type": "execute_result"
    }
   ],
   "source": [
    "df.head()"
   ]
  },
  {
   "cell_type": "markdown",
   "id": "2192188f-e483-494c-9466-4f0a4910e251",
   "metadata": {},
   "source": [
    "# Visualize & Choose the Best Model"
   ]
  },
  {
   "cell_type": "code",
   "execution_count": 107,
   "id": "59c11afe-44b6-4b04-8406-b7ed41881f67",
   "metadata": {},
   "outputs": [
    {
     "data": {
      "image/png": "[encoded data removed]",
      "text/plain": [
       "<Figure size 432x288 with 1 Axes>"
      ]
     },
     "metadata": {
      "needs_background": "light"
     },
     "output_type": "display_data"
    }
   ],
   "source": [
    "sns.scatterplot(x='alcohol', y='accidents', data=df);\n",
    "sns.scatterplot(x='alcohol', y='pred', data=df, label='Linear Regression');\n",
    "sns.scatterplot(x='alcohol', y='pred_rf', data=df, label='Random Forest');\n",
    "sns.scatterplot(x='alcohol', y='pred_sv', data=df, label='Support Vector Machine');"
   ]
  },
  {
   "cell_type": "markdown",
   "id": "0cf37752-02e4-479f-832a-0fc880ea25a2",
   "metadata": {},
   "source": [
    "# How Good Is Every Model?"
   ]
  },
  {
   "cell_type": "code",
   "execution_count": 108,
   "id": "133e7831-82c4-4e29-b59f-c67baa9aaf47",
   "metadata": {},
   "outputs": [
    {
     "data": {
      "text/plain": [
       "0.7269492966665405"
      ]
     },
     "execution_count": 108,
     "metadata": {},
     "output_type": "execute_result"
    }
   ],
   "source": [
    "element.score(X=explanatory, y=target)"
   ]
  },
  {
   "cell_type": "code",
   "execution_count": 109,
   "id": "20171437-6431-4db8-af6c-31784ffd9d29",
   "metadata": {},
   "outputs": [
    {
     "data": {
      "text/plain": [
       "0.9538987056244632"
      ]
     },
     "execution_count": 109,
     "metadata": {},
     "output_type": "execute_result"
    }
   ],
   "source": [
    "rf.score(X=explanatory, y=target)"
   ]
  },
  {
   "cell_type": "code",
   "execution_count": 110,
   "id": "b18c3026-8634-4774-895b-31cb4f44c252",
   "metadata": {},
   "outputs": [
    {
     "data": {
      "text/plain": [
       "0.7083438012012769"
      ]
     },
     "execution_count": 110,
     "metadata": {},
     "output_type": "execute_result"
    }
   ],
   "source": [
    "sv.score(X=explanatory, y=target)"
   ]
  }
 ],
 "metadata": {
  "kernelspec": {
   "display_name": "Python 3 (ipykernel)",
   "language": "python",
   "name": "python3"
  },
  "language_info": {
   "codemirror_mode": {
    "name": "ipython",
    "version": 3
   },
   "file_extension": ".py",
   "mimetype": "text/x-python",
   "name": "python",
   "nbconvert_exporter": "python",
   "pygments_lexer": "ipython3",
   "version": "3.9.7"
  }
 },
 "nbformat": 4,
 "nbformat_minor": 5
}
