{
 "cells": [
  {
   "cell_type": "markdown",
   "id": "98c85215-138a-46f3-a45c-550397956605",
   "metadata": {},
   "source": [
    "![](../src/logo.svg)\n",
    "\n",
    "**© Jesús López**\n",
    "\n",
    "Ask him any doubt on **[Twitter](https://twitter.com/jsulopz)** or **[LinkedIn](https://linkedin.com/in/jsulopz)**"
   ]
  },
  {
   "cell_type": "markdown",
   "id": "5d22bcb0-37ed-4c47-ab23-e06d7ba1356e",
   "metadata": {},
   "source": [
    "# #01 | Machine Learning & Linear Regression"
   ]
  },
  {
   "cell_type": "markdown",
   "id": "9d76da79-6265-4af2-b6c6-52b484f49430",
   "metadata": {
    "tags": []
   },
   "source": [
    "## Machine Learning, what does it mean?"
   ]
  },
  {
   "cell_type": "code",
   "execution_count": 1,
   "id": "404c1502-2175-451d-823e-56f968f71932",
   "metadata": {},
   "outputs": [
    {
     "data": {
      "text/html": [
       "<blockquote class=\"twitter-tweet\" data-lang=\"en\"><p lang=\"en\" dir=\"ltr\">Machine Learning, what does it mean? ⏯<br><br>· The machine learns...<br><br>Ha ha, not funny! 🤨 What does it learn?<br><br>· A mathematical equation. For example: <a href=\"https://t.co/sjtq9F2pq7\">pic.twitter.com/sjtq9F2pq7</a></p>&mdash; Jesús López (@sotastica) <a href=\"https://twitter.com/sotastica/status/1449735653328031745?ref_src=twsrc%5Etfw\">October 17, 2021</a></blockquote> <script async src=\"https://platform.twitter.com/widgets.js\" charset=\"utf-8\"></script>\n"
      ],
      "text/plain": [
       "<IPython.core.display.HTML object>"
      ]
     },
     "metadata": {},
     "output_type": "display_data"
    }
   ],
   "source": [
    "%%HTML\n",
    "<blockquote class=\"twitter-tweet\" data-lang=\"en\"><p lang=\"en\" dir=\"ltr\">Machine Learning, what does it mean? ⏯<br><br>· The machine learns...<br><br>Ha ha, not funny! 🤨 What does it learn?<br><br>· A mathematical equation. For example: <a href=\"https://t.co/sjtq9F2pq7\">pic.twitter.com/sjtq9F2pq7</a></p>&mdash; Jesús López (@sotastica) <a href=\"https://twitter.com/sotastica/status/1449735653328031745?ref_src=twsrc%5Etfw\">October 17, 2021</a></blockquote> <script async src=\"https://platform.twitter.com/widgets.js\" charset=\"utf-8\"></script>"
   ]
  },
  {
   "cell_type": "markdown",
   "id": "9dd9d044-6fb3-4dd6-b86a-c2a10f7eab15",
   "metadata": {},
   "source": [
    "## How does the Machine Learn?"
   ]
  },
  {
   "cell_type": "markdown",
   "id": "a2e629d4-e10d-4fd0-aa73-87f2d8c8af64",
   "metadata": {},
   "source": [
    "### In a Linear Regression"
   ]
  },
  {
   "cell_type": "code",
   "execution_count": 1,
   "id": "38adda02-7ff1-49f2-9037-1987693a8b2d",
   "metadata": {},
   "outputs": [
    {
     "data": {
      "text/html": [
       "<iframe width=\"560\" height=\"315\" src=\"https://www.youtube.com/embed/Ht3rYS-JilE\" title=\"YouTube video player\" frameborder=\"0\" allow=\"accelerometer; autoplay; clipboard-write; encrypted-media; gyroscope; picture-in-picture\" allowfullscreen></iframe>\n"
      ],
      "text/plain": [
       "<IPython.core.display.HTML object>"
      ]
     },
     "metadata": {},
     "output_type": "display_data"
    }
   ],
   "source": [
    "%%HTML\n",
    "<iframe width=\"560\" height=\"315\" src=\"https://www.youtube.com/embed/Ht3rYS-JilE\" title=\"YouTube video player\" frameborder=\"0\" allow=\"accelerometer; autoplay; clipboard-write; encrypted-media; gyroscope; picture-in-picture\" allowfullscreen></iframe>"
   ]
  },
  {
   "cell_type": "markdown",
   "id": "e7625d36-85bd-46cc-b702-f31e915f64b2",
   "metadata": {},
   "source": [
    "### In a Neural Network"
   ]
  },
  {
   "cell_type": "code",
   "execution_count": 3,
   "id": "3cd31903-7bcd-485c-a6e1-079260853c0a",
   "metadata": {},
   "outputs": [
    {
     "data": {
      "text/html": [
       "<iframe width=\"560\" height=\"315\" src=\"https://www.youtube.com/embed/IHZwWFHWa-w?t=322\" title=\"YouTube video player\" frameborder=\"0\" allow=\"accelerometer; autoplay; clipboard-write; encrypted-media; gyroscope; picture-in-picture\" allowfullscreen></iframe>\n"
      ],
      "text/plain": [
       "<IPython.core.display.HTML object>"
      ]
     },
     "metadata": {},
     "output_type": "display_data"
    }
   ],
   "source": [
    "%%HTML\n",
    "<iframe width=\"560\" height=\"315\" src=\"https://www.youtube.com/embed/IHZwWFHWa-w?t=322\" title=\"YouTube video player\" frameborder=\"0\" allow=\"accelerometer; autoplay; clipboard-write; encrypted-media; gyroscope; picture-in-picture\" allowfullscreen></iframe>"
   ]
  },
  {
   "cell_type": "markdown",
   "id": "f5dab260-d391-4d74-910a-cc988de34d5b",
   "metadata": {},
   "source": [
    "A Practical Example → [Tesla Autopilot](https://www.tesla.com/AI)"
   ]
  },
  {
   "cell_type": "markdown",
   "id": "cda76b73-ef14-4006-ae99-2da455bfbc0c",
   "metadata": {},
   "source": [
    "An Example where It Fails → [Tesla Confuses Moon with Semaphore](https://twitter.com/Carnage4Life/status/1418920100086784000?s=20)"
   ]
  },
  {
   "cell_type": "markdown",
   "id": "5adbb383-b68b-474d-93f0-b8a5ef33b53c",
   "metadata": {},
   "source": [
    "![](src/ai-ml-dl.png)"
   ]
  },
  {
   "cell_type": "markdown",
   "id": "1f5d325b-bfd0-4e7f-9ca7-46ecfb47f168",
   "metadata": {},
   "source": [
    "## How do we compute a Linear Regression Model in Python?"
   ]
  },
  {
   "cell_type": "markdown",
   "id": "3e1d4c8b-39d8-4147-92b4-835f8a5e5095",
   "metadata": {},
   "source": [
    "- As always, we need to use a function\n",
    "\n",
    "Where is the function?\n",
    "\n",
    "- It should be in a library\n",
    "\n",
    "Which is the Python library for Machine Learning?\n",
    "\n",
    "- sklearn"
   ]
  },
  {
   "cell_type": "markdown",
   "id": "ed61845c-8a37-4d66-b4a5-faf7b61e37fd",
   "metadata": {},
   "source": [
    "### Import the Class"
   ]
  },
  {
   "cell_type": "markdown",
   "id": "5d10c3f0-9fac-4262-84da-b16fc45d5d56",
   "metadata": {},
   "source": [
    "How can we access the function to compute a Linear Regression model?\n",
    "\n",
    "- We need to import the `LinearRegression` class within `linear_model` module"
   ]
  },
  {
   "cell_type": "code",
   "execution_count": 4,
   "id": "14348295-be01-449b-89fc-617a54565397",
   "metadata": {},
   "outputs": [],
   "source": [
    "from sklearn.linear_model import LinearRegression"
   ]
  },
  {
   "cell_type": "markdown",
   "id": "fb46a348-84eb-4618-adca-bcc3f2082cd9",
   "metadata": {},
   "source": [
    "### Instantiante the Class"
   ]
  },
  {
   "cell_type": "markdown",
   "id": "474253f1-6b71-46d4-8ef6-387f453776f6",
   "metadata": {},
   "source": [
    "- Now we instantiate (create a copy) from the class (the blueprint of a modular house)"
   ]
  },
  {
   "cell_type": "code",
   "execution_count": 5,
   "id": "b2dd7d01-19e2-4559-aca1-fbc79832481b",
   "metadata": {},
   "outputs": [],
   "source": [
    "model_lr = LinearRegression()"
   ]
  },
  {
   "cell_type": "markdown",
   "id": "c33b70e7-dbbb-486e-bb8b-b24879598714",
   "metadata": {},
   "source": [
    "![](../src/blueprint-house.jpeg)"
   ]
  },
  {
   "cell_type": "markdown",
   "id": "03b89cb5-0d68-403f-b9bc-ff30d2ee37c0",
   "metadata": {},
   "source": [
    "In this way, we have an **stored object** in memory that can apply the functions we need to **calculate the coefficients (numbers)** of the mathematical equation."
   ]
  },
  {
   "cell_type": "markdown",
   "id": "57cd44ca-5b06-4ee6-866d-cda67fd26ea7",
   "metadata": {},
   "source": [
    "Let's take a look at the stored information within the object and we won't see any number because we haven't yet applied the function that computes the coefficients:"
   ]
  },
  {
   "cell_type": "code",
   "execution_count": 6,
   "id": "0e90bbb2-a359-4951-a837-205d9335dc55",
   "metadata": {},
   "outputs": [
    {
     "data": {
      "text/plain": [
       "{'fit_intercept': True,\n",
       " 'normalize': 'deprecated',\n",
       " 'copy_X': True,\n",
       " 'n_jobs': None,\n",
       " 'positive': False}"
      ]
     },
     "execution_count": 6,
     "metadata": {},
     "output_type": "execute_result"
    }
   ],
   "source": [
    "model_lr.__dict__"
   ]
  },
  {
   "cell_type": "markdown",
   "id": "e7c72c07-8f31-4415-95ac-2672947d4e9c",
   "metadata": {},
   "source": [
    "### Access the Function"
   ]
  },
  {
   "cell_type": "markdown",
   "id": "59de6f20-6eae-46df-86ca-901c98572353",
   "metadata": {},
   "source": [
    "Which is the funtion that applies the Linear Regression **algorithm** in which the **squared errors are minimised**?\n",
    "\n",
    "- `.fit()`"
   ]
  },
  {
   "cell_type": "code",
   "execution_count": 7,
   "id": "a2ae856b-5b51-46c4-9228-86ab98f85ae2",
   "metadata": {},
   "outputs": [
    {
     "ename": "TypeError",
     "evalue": "fit() missing 2 required positional arguments: 'X' and 'y'",
     "output_type": "error",
     "traceback": [
      "\u001b[0;31m---------------------------------------------------------------------------\u001b[0m",
      "\u001b[0;31mTypeError\u001b[0m                                 Traceback (most recent call last)",
      "Input \u001b[0;32mIn [7]\u001b[0m, in \u001b[0;36m<cell line: 1>\u001b[0;34m()\u001b[0m\n\u001b[0;32m----> 1\u001b[0m \u001b[43mmodel_lr\u001b[49m\u001b[38;5;241;43m.\u001b[39;49m\u001b[43mfit\u001b[49m\u001b[43m(\u001b[49m\u001b[43m)\u001b[49m\n",
      "\u001b[0;31mTypeError\u001b[0m: fit() missing 2 required positional arguments: 'X' and 'y'"
     ]
    }
   ],
   "source": [
    "model_lr.fit()"
   ]
  },
  {
   "cell_type": "markdown",
   "id": "8b65f508-7711-4841-b078-10f77ea8893a",
   "metadata": {},
   "source": [
    "Why is it asking for two parameters: `X` and `y`?"
   ]
  },
  {
   "cell_type": "markdown",
   "id": "a52ce06b-350b-48b6-ac8c-4fb3dc0a5f6c",
   "metadata": {},
   "source": [
    "- They are:\n",
    "    - `X`: explanatory ~ dependent ~ feature variables\n",
    "    - `y`: target ~ independent ~ label ~ class variable`X`"
   ]
  },
  {
   "cell_type": "markdown",
   "id": "f33294c3-e0eb-4491-960a-47ed54fc4765",
   "metadata": {},
   "source": [
    "## Data for Exemplification"
   ]
  },
  {
   "cell_type": "markdown",
   "id": "cbadb2c1-fbe1-409b-81d1-4b79a6f320ff",
   "metadata": {},
   "source": [
    "Let's load some data to learn with a practical example:\n",
    "\n",
    "- Simply execute the following lines of code to load the data\n",
    "- This dataset contains **statistics about Car Accidents** (columns)\n",
    "- In each one of **USA States** (rows)"
   ]
  },
  {
   "cell_type": "markdown",
   "id": "83a3d0b0-06a8-4da9-af2d-bf0b784b8361",
   "metadata": {},
   "source": [
    "https://www.kaggle.com/fivethirtyeight/fivethirtyeight-bad-drivers-dataset/"
   ]
  },
  {
   "cell_type": "code",
   "execution_count": 8,
   "id": "aaaae16b-3d9e-4dd9-8f59-d05c1381df36",
   "metadata": {},
   "outputs": [
    {
     "data": {
      "text/html": [
       "<div>\n",
       "<style scoped>\n",
       "    .dataframe tbody tr th:only-of-type {\n",
       "        vertical-align: middle;\n",
       "    }\n",
       "\n",
       "    .dataframe tbody tr th {\n",
       "        vertical-align: top;\n",
       "    }\n",
       "\n",
       "    .dataframe thead th {\n",
       "        text-align: right;\n",
       "    }\n",
       "</style>\n",
       "<table border=\"1\" class=\"dataframe\">\n",
       "  <thead>\n",
       "    <tr style=\"text-align: right;\">\n",
       "      <th></th>\n",
       "      <th>alcohol</th>\n",
       "      <th>accidents</th>\n",
       "    </tr>\n",
       "    <tr>\n",
       "      <th>abbrev</th>\n",
       "      <th></th>\n",
       "      <th></th>\n",
       "    </tr>\n",
       "  </thead>\n",
       "  <tbody>\n",
       "    <tr>\n",
       "      <th>AL</th>\n",
       "      <td>5.640</td>\n",
       "      <td>18.8</td>\n",
       "    </tr>\n",
       "    <tr>\n",
       "      <th>AK</th>\n",
       "      <td>4.525</td>\n",
       "      <td>18.1</td>\n",
       "    </tr>\n",
       "    <tr>\n",
       "      <th>...</th>\n",
       "      <td>...</td>\n",
       "      <td>...</td>\n",
       "    </tr>\n",
       "    <tr>\n",
       "      <th>WI</th>\n",
       "      <td>4.554</td>\n",
       "      <td>13.8</td>\n",
       "    </tr>\n",
       "    <tr>\n",
       "      <th>WY</th>\n",
       "      <td>5.568</td>\n",
       "      <td>17.4</td>\n",
       "    </tr>\n",
       "  </tbody>\n",
       "</table>\n",
       "<p>51 rows × 2 columns</p>\n",
       "</div>"
      ],
      "text/plain": [
       "        alcohol  accidents\n",
       "abbrev                    \n",
       "AL        5.640       18.8\n",
       "AK        4.525       18.1\n",
       "...         ...        ...\n",
       "WI        4.554       13.8\n",
       "WY        5.568       17.4\n",
       "\n",
       "[51 rows x 2 columns]"
      ]
     },
     "execution_count": 8,
     "metadata": {},
     "output_type": "execute_result"
    }
   ],
   "source": [
    "import seaborn as sns #!\n",
    "import pandas as pd\n",
    "\n",
    "df_crashes = sns.load_dataset(name='car_crashes', index_col='abbrev')[['alcohol', 'total']]\n",
    "df_crashes.rename({'total': 'accidents'}, axis=1, inplace=True)\n",
    "df_crashes"
   ]
  },
  {
   "cell_type": "markdown",
   "id": "1a414be2-c143-4833-a390-7898cb3383e9",
   "metadata": {},
   "source": [
    "## Separate the Variables"
   ]
  },
  {
   "cell_type": "code",
   "execution_count": 9,
   "id": "f16b99e5-05f4-4522-b0ce-005178b89ce9",
   "metadata": {},
   "outputs": [],
   "source": [
    "explanatory = df_crashes[['alcohol']]"
   ]
  },
  {
   "cell_type": "code",
   "execution_count": 10,
   "id": "6707e1ff-2d7d-4a1b-96f9-cef73cb8ac58",
   "metadata": {},
   "outputs": [],
   "source": [
    "target = df_crashes['accidents']"
   ]
  },
  {
   "cell_type": "markdown",
   "id": "ed5cd219-9689-44d4-917d-b059b2b1d2be",
   "metadata": {},
   "source": [
    "## Small Recap"
   ]
  },
  {
   "cell_type": "markdown",
   "id": "f1d9684e-da1d-495f-8a9c-9b885f13f96f",
   "metadata": {},
   "source": [
    "Remember we had to:\n",
    "    \n",
    "1. Import the Class"
   ]
  },
  {
   "cell_type": "code",
   "execution_count": 11,
   "id": "e39965ca-2537-42ee-b579-776619ae7312",
   "metadata": {},
   "outputs": [],
   "source": [
    "from sklearn.linear_model import LinearRegression"
   ]
  },
  {
   "cell_type": "markdown",
   "id": "54fb1e1a-e5c3-4964-979b-5090c3d572cb",
   "metadata": {},
   "source": [
    "2. Create the instance with the Class"
   ]
  },
  {
   "cell_type": "code",
   "execution_count": 12,
   "id": "387c2b7b-6d43-44b9-ac93-7f51d4767351",
   "metadata": {},
   "outputs": [],
   "source": [
    "model_lr = LinearRegression()"
   ]
  },
  {
   "cell_type": "code",
   "execution_count": 13,
   "id": "6ec75259-da3a-45b5-8666-08e053c299dc",
   "metadata": {},
   "outputs": [
    {
     "data": {
      "text/plain": [
       "{'fit_intercept': True,\n",
       " 'normalize': 'deprecated',\n",
       " 'copy_X': True,\n",
       " 'n_jobs': None,\n",
       " 'positive': False}"
      ]
     },
     "execution_count": 13,
     "metadata": {},
     "output_type": "execute_result"
    }
   ],
   "source": [
    "model_lr.__dict__"
   ]
  },
  {
   "cell_type": "markdown",
   "id": "18e6f615-0483-402c-b457-660f44c7c2d4",
   "metadata": {},
   "source": [
    "3. Access the function"
   ]
  },
  {
   "cell_type": "code",
   "execution_count": 14,
   "id": "939095cf-f262-42ac-b980-aae0f3715922",
   "metadata": {},
   "outputs": [
    {
     "ename": "TypeError",
     "evalue": "fit() missing 2 required positional arguments: 'X' and 'y'",
     "output_type": "error",
     "traceback": [
      "\u001b[0;31m---------------------------------------------------------------------------\u001b[0m",
      "\u001b[0;31mTypeError\u001b[0m                                 Traceback (most recent call last)",
      "Input \u001b[0;32mIn [14]\u001b[0m, in \u001b[0;36m<cell line: 1>\u001b[0;34m()\u001b[0m\n\u001b[0;32m----> 1\u001b[0m \u001b[43mmodel_lr\u001b[49m\u001b[38;5;241;43m.\u001b[39;49m\u001b[43mfit\u001b[49m\u001b[43m(\u001b[49m\u001b[43m)\u001b[49m\n",
      "\u001b[0;31mTypeError\u001b[0m: fit() missing 2 required positional arguments: 'X' and 'y'"
     ]
    }
   ],
   "source": [
    "model_lr.fit()"
   ]
  },
  {
   "cell_type": "markdown",
   "id": "0c16d8ce-c1ee-4bd8-b7f2-e20f2d33af93",
   "metadata": {},
   "source": [
    "## The Linear Regression Model"
   ]
  },
  {
   "cell_type": "markdown",
   "id": "e4edc6e9-e441-4168-a165-e618f873646d",
   "metadata": {},
   "source": [
    "### Compute the Mathematical Equation"
   ]
  },
  {
   "cell_type": "code",
   "execution_count": 15,
   "id": "850948a3-8769-47a1-abc3-a4167e3cb552",
   "metadata": {},
   "outputs": [
    {
     "data": {
      "text/plain": [
       "LinearRegression()"
      ]
     },
     "execution_count": 15,
     "metadata": {},
     "output_type": "execute_result"
    }
   ],
   "source": [
    "model_lr.fit(X=explanatory, y=target)"
   ]
  },
  {
   "cell_type": "markdown",
   "id": "17ff66da-99b1-4d00-a7fa-9a82fde6885b",
   "metadata": {},
   "source": [
    "### Model Interpretation"
   ]
  },
  {
   "cell_type": "code",
   "execution_count": 16,
   "id": "5da795bf-01f0-490c-8ff6-95a4b0685820",
   "metadata": {},
   "outputs": [
    {
     "data": {
      "text/plain": [
       "{'fit_intercept': True,\n",
       " 'normalize': 'deprecated',\n",
       " 'copy_X': True,\n",
       " 'n_jobs': None,\n",
       " 'positive': False,\n",
       " 'feature_names_in_': array(['alcohol'], dtype=object),\n",
       " 'n_features_in_': 1,\n",
       " 'coef_': array([2.0325063]),\n",
       " '_residues': 231.9688865331006,\n",
       " 'rank_': 1,\n",
       " 'singular_': array([12.22681605]),\n",
       " 'intercept_': 5.857776154826299}"
      ]
     },
     "execution_count": 16,
     "metadata": {},
     "output_type": "execute_result"
    }
   ],
   "source": [
    "model_lr.__dict__"
   ]
  },
  {
   "cell_type": "markdown",
   "id": "87be4fa0-3f1a-4189-856e-e7e59d401bcb",
   "metadata": {},
   "source": [
    "$$\n",
    "accidents = (a) + (b) \\cdot alcohol \\\\\n",
    "accidents = (5.857) + (2.032) \\cdot alcohol\n",
    "$$"
   ]
  },
  {
   "cell_type": "markdown",
   "id": "f890c5c0-a864-4095-8c87-59ea84ee0c27",
   "metadata": {},
   "source": [
    "For every unit of alcohol increased, the number of accidents will increase 2.03 units."
   ]
  },
  {
   "cell_type": "markdown",
   "id": "3a807976-47c4-447f-97f8-bef99d68ec09",
   "metadata": {},
   "source": [
    "### Calculate Predictions"
   ]
  },
  {
   "cell_type": "code",
   "execution_count": 17,
   "id": "e23b64c3-b448-496b-9132-740ce4a8a6a1",
   "metadata": {},
   "outputs": [
    {
     "data": {
      "text/html": [
       "<div>\n",
       "<style scoped>\n",
       "    .dataframe tbody tr th:only-of-type {\n",
       "        vertical-align: middle;\n",
       "    }\n",
       "\n",
       "    .dataframe tbody tr th {\n",
       "        vertical-align: top;\n",
       "    }\n",
       "\n",
       "    .dataframe thead th {\n",
       "        text-align: right;\n",
       "    }\n",
       "</style>\n",
       "<table border=\"1\" class=\"dataframe\">\n",
       "  <thead>\n",
       "    <tr style=\"text-align: right;\">\n",
       "      <th></th>\n",
       "      <th>alcohol</th>\n",
       "    </tr>\n",
       "    <tr>\n",
       "      <th>abbrev</th>\n",
       "      <th></th>\n",
       "    </tr>\n",
       "  </thead>\n",
       "  <tbody>\n",
       "    <tr>\n",
       "      <th>AL</th>\n",
       "      <td>5.640</td>\n",
       "    </tr>\n",
       "    <tr>\n",
       "      <th>AK</th>\n",
       "      <td>4.525</td>\n",
       "    </tr>\n",
       "    <tr>\n",
       "      <th>AZ</th>\n",
       "      <td>5.208</td>\n",
       "    </tr>\n",
       "    <tr>\n",
       "      <th>AR</th>\n",
       "      <td>5.824</td>\n",
       "    </tr>\n",
       "    <tr>\n",
       "      <th>CA</th>\n",
       "      <td>3.360</td>\n",
       "    </tr>\n",
       "  </tbody>\n",
       "</table>\n",
       "</div>"
      ],
      "text/plain": [
       "        alcohol\n",
       "abbrev         \n",
       "AL        5.640\n",
       "AK        4.525\n",
       "AZ        5.208\n",
       "AR        5.824\n",
       "CA        3.360"
      ]
     },
     "execution_count": 17,
     "metadata": {},
     "output_type": "execute_result"
    }
   ],
   "source": [
    "explanatory.head(5)"
   ]
  },
  {
   "cell_type": "code",
   "execution_count": 18,
   "id": "06cd485d-53c7-466d-91c7-dfbfe214c381",
   "metadata": {},
   "outputs": [
    {
     "data": {
      "text/plain": [
       "array([17.32111171, 15.05486718, 16.44306899, 17.69509287, 12.68699734])"
      ]
     },
     "execution_count": 18,
     "metadata": {},
     "output_type": "execute_result"
    }
   ],
   "source": [
    "model_lr.predict(X=explanatory)[:5]"
   ]
  },
  {
   "cell_type": "code",
   "execution_count": 19,
   "id": "9fb91c07-8d98-4dba-a494-148d950f1d8e",
   "metadata": {},
   "outputs": [],
   "source": [
    "df_crashes['pred_lr'] = model_lr.predict(X=explanatory)"
   ]
  },
  {
   "cell_type": "code",
   "execution_count": 20,
   "id": "90520803-1f82-413f-a3be-d132ac3dad42",
   "metadata": {},
   "outputs": [
    {
     "data": {
      "text/html": [
       "<div>\n",
       "<style scoped>\n",
       "    .dataframe tbody tr th:only-of-type {\n",
       "        vertical-align: middle;\n",
       "    }\n",
       "\n",
       "    .dataframe tbody tr th {\n",
       "        vertical-align: top;\n",
       "    }\n",
       "\n",
       "    .dataframe thead th {\n",
       "        text-align: right;\n",
       "    }\n",
       "</style>\n",
       "<table border=\"1\" class=\"dataframe\">\n",
       "  <thead>\n",
       "    <tr style=\"text-align: right;\">\n",
       "      <th></th>\n",
       "      <th>alcohol</th>\n",
       "      <th>accidents</th>\n",
       "      <th>pred_lr</th>\n",
       "    </tr>\n",
       "    <tr>\n",
       "      <th>abbrev</th>\n",
       "      <th></th>\n",
       "      <th></th>\n",
       "      <th></th>\n",
       "    </tr>\n",
       "  </thead>\n",
       "  <tbody>\n",
       "    <tr>\n",
       "      <th>AL</th>\n",
       "      <td>5.640</td>\n",
       "      <td>18.8</td>\n",
       "      <td>17.321112</td>\n",
       "    </tr>\n",
       "    <tr>\n",
       "      <th>AK</th>\n",
       "      <td>4.525</td>\n",
       "      <td>18.1</td>\n",
       "      <td>15.054867</td>\n",
       "    </tr>\n",
       "    <tr>\n",
       "      <th>...</th>\n",
       "      <td>...</td>\n",
       "      <td>...</td>\n",
       "      <td>...</td>\n",
       "    </tr>\n",
       "    <tr>\n",
       "      <th>WI</th>\n",
       "      <td>4.554</td>\n",
       "      <td>13.8</td>\n",
       "      <td>15.113810</td>\n",
       "    </tr>\n",
       "    <tr>\n",
       "      <th>WY</th>\n",
       "      <td>5.568</td>\n",
       "      <td>17.4</td>\n",
       "      <td>17.174771</td>\n",
       "    </tr>\n",
       "  </tbody>\n",
       "</table>\n",
       "<p>51 rows × 3 columns</p>\n",
       "</div>"
      ],
      "text/plain": [
       "        alcohol  accidents    pred_lr\n",
       "abbrev                               \n",
       "AL        5.640       18.8  17.321112\n",
       "AK        4.525       18.1  15.054867\n",
       "...         ...        ...        ...\n",
       "WI        4.554       13.8  15.113810\n",
       "WY        5.568       17.4  17.174771\n",
       "\n",
       "[51 rows x 3 columns]"
      ]
     },
     "execution_count": 20,
     "metadata": {},
     "output_type": "execute_result"
    }
   ],
   "source": [
    "df_crashes"
   ]
  },
  {
   "cell_type": "markdown",
   "id": "07613a52-face-458a-813d-496f61d3b1ba",
   "metadata": {},
   "source": [
    "$$\n",
    "accidents = (a) + (b) \\cdot alcohol \\\\\n",
    "accidents = (5.85) + (2.03) \\cdot alcohol\n",
    "$$"
   ]
  },
  {
   "cell_type": "code",
   "execution_count": 21,
   "id": "1b3933a8-8a29-43e7-b17f-e1d7434cffa9",
   "metadata": {},
   "outputs": [
    {
     "data": {
      "text/plain": [
       "17.31748"
      ]
     },
     "execution_count": 21,
     "metadata": {},
     "output_type": "execute_result"
    }
   ],
   "source": [
    "(5.857) + (2.032) * 5.64"
   ]
  },
  {
   "cell_type": "code",
   "execution_count": 22,
   "id": "ec9d5b04-cada-4949-aa84-73f3e9ffd51c",
   "metadata": {},
   "outputs": [
    {
     "data": {
      "text/plain": [
       "15.0518"
      ]
     },
     "execution_count": 22,
     "metadata": {},
     "output_type": "execute_result"
    }
   ],
   "source": [
    "(5.857) + (2.032) * 4.525"
   ]
  },
  {
   "cell_type": "markdown",
   "id": "5b9b9d33-e95e-4fac-96e6-12e93ea3733a",
   "metadata": {},
   "source": [
    "### Model Visualization"
   ]
  },
  {
   "cell_type": "code",
   "execution_count": 23,
   "id": "f7dd7284-5d71-428b-a52e-83bc5192433d",
   "metadata": {},
   "outputs": [
    {
     "data": {
      "image/png": "[encoded data removed]",
      "text/plain": [
       "<Figure size 432x288 with 1 Axes>"
      ]
     },
     "metadata": {
      "needs_background": "light"
     },
     "output_type": "display_data"
    }
   ],
   "source": [
    "sns.scatterplot(x='alcohol', y='accidents', data=df_crashes)\n",
    "sns.scatterplot(x='alcohol', y='pred_lr', data=df_crashes);"
   ]
  },
  {
   "cell_type": "code",
   "execution_count": 24,
   "id": "6f1c0143-4c44-43bd-8b15-ffd4f6710f51",
   "metadata": {},
   "outputs": [
    {
     "data": {
      "image/png": "[encoded data removed]",
      "text/plain": [
       "<Figure size 432x288 with 1 Axes>"
      ]
     },
     "metadata": {
      "needs_background": "light"
     },
     "output_type": "display_data"
    }
   ],
   "source": [
    "sns.scatterplot(x='alcohol', y='accidents', data=df_crashes)\n",
    "sns.scatterplot(x='alcohol', y='pred_lr', data=df_crashes);\n",
    "sns.lineplot(x='alcohol', y='pred_lr', data=df_crashes);"
   ]
  },
  {
   "cell_type": "markdown",
   "id": "cf79e511-728b-459c-8ca1-b25f10b910ec",
   "metadata": {},
   "source": [
    "### Model's Score"
   ]
  },
  {
   "cell_type": "code",
   "execution_count": 25,
   "id": "c29a8ead-9765-4efc-b80b-b618a8b5867a",
   "metadata": {},
   "outputs": [
    {
     "data": {
      "text/plain": [
       "0.7269492966665405"
      ]
     },
     "execution_count": 25,
     "metadata": {},
     "output_type": "execute_result"
    }
   ],
   "source": [
    "model_lr.score(X=explanatory, y=target)"
   ]
  },
  {
   "cell_type": "markdown",
   "id": "bd29820e-c71d-4105-921f-85c0962db1c9",
   "metadata": {},
   "source": [
    "### Model's Score Explanation"
   ]
  },
  {
   "cell_type": "code",
   "execution_count": 26,
   "id": "309cf875-3f2a-4f77-9071-0ead02bd82a3",
   "metadata": {},
   "outputs": [
    {
     "data": {
      "text/plain": [
       "abbrev\n",
       "AL    1.478888\n",
       "AK    3.045133\n",
       "        ...   \n",
       "WI   -1.313810\n",
       "WY    0.225229\n",
       "Length: 51, dtype: float64"
      ]
     },
     "execution_count": 26,
     "metadata": {},
     "output_type": "execute_result"
    }
   ],
   "source": [
    "df_crashes['accidents'] - df_crashes['pred_lr']"
   ]
  },
  {
   "cell_type": "code",
   "execution_count": 27,
   "id": "4efb8bd0-9294-4e81-9afa-ba744b9c6469",
   "metadata": {},
   "outputs": [],
   "source": [
    "df_crashes['residuals'] = df_crashes['accidents'] - df_crashes['pred_lr']"
   ]
  },
  {
   "cell_type": "code",
   "execution_count": 28,
   "id": "8d429e19-7ac4-45f5-aed5-7069ea468684",
   "metadata": {},
   "outputs": [
    {
     "data": {
      "text/html": [
       "<div>\n",
       "<style scoped>\n",
       "    .dataframe tbody tr th:only-of-type {\n",
       "        vertical-align: middle;\n",
       "    }\n",
       "\n",
       "    .dataframe tbody tr th {\n",
       "        vertical-align: top;\n",
       "    }\n",
       "\n",
       "    .dataframe thead th {\n",
       "        text-align: right;\n",
       "    }\n",
       "</style>\n",
       "<table border=\"1\" class=\"dataframe\">\n",
       "  <thead>\n",
       "    <tr style=\"text-align: right;\">\n",
       "      <th></th>\n",
       "      <th>alcohol</th>\n",
       "      <th>accidents</th>\n",
       "      <th>pred_lr</th>\n",
       "      <th>residuals</th>\n",
       "    </tr>\n",
       "    <tr>\n",
       "      <th>abbrev</th>\n",
       "      <th></th>\n",
       "      <th></th>\n",
       "      <th></th>\n",
       "      <th></th>\n",
       "    </tr>\n",
       "  </thead>\n",
       "  <tbody>\n",
       "    <tr>\n",
       "      <th>AL</th>\n",
       "      <td>5.640</td>\n",
       "      <td>18.8</td>\n",
       "      <td>17.321112</td>\n",
       "      <td>1.478888</td>\n",
       "    </tr>\n",
       "    <tr>\n",
       "      <th>AK</th>\n",
       "      <td>4.525</td>\n",
       "      <td>18.1</td>\n",
       "      <td>15.054867</td>\n",
       "      <td>3.045133</td>\n",
       "    </tr>\n",
       "    <tr>\n",
       "      <th>...</th>\n",
       "      <td>...</td>\n",
       "      <td>...</td>\n",
       "      <td>...</td>\n",
       "      <td>...</td>\n",
       "    </tr>\n",
       "    <tr>\n",
       "      <th>WI</th>\n",
       "      <td>4.554</td>\n",
       "      <td>13.8</td>\n",
       "      <td>15.113810</td>\n",
       "      <td>-1.313810</td>\n",
       "    </tr>\n",
       "    <tr>\n",
       "      <th>WY</th>\n",
       "      <td>5.568</td>\n",
       "      <td>17.4</td>\n",
       "      <td>17.174771</td>\n",
       "      <td>0.225229</td>\n",
       "    </tr>\n",
       "  </tbody>\n",
       "</table>\n",
       "<p>51 rows × 4 columns</p>\n",
       "</div>"
      ],
      "text/plain": [
       "        alcohol  accidents    pred_lr  residuals\n",
       "abbrev                                          \n",
       "AL        5.640       18.8  17.321112   1.478888\n",
       "AK        4.525       18.1  15.054867   3.045133\n",
       "...         ...        ...        ...        ...\n",
       "WI        4.554       13.8  15.113810  -1.313810\n",
       "WY        5.568       17.4  17.174771   0.225229\n",
       "\n",
       "[51 rows x 4 columns]"
      ]
     },
     "execution_count": 28,
     "metadata": {},
     "output_type": "execute_result"
    }
   ],
   "source": [
    "df_crashes"
   ]
  },
  {
   "cell_type": "code",
   "execution_count": 29,
   "id": "48af96b0-7801-4d9a-9422-809795eabe74",
   "metadata": {},
   "outputs": [
    {
     "data": {
      "text/plain": [
       "1.4033219031261979e-13"
      ]
     },
     "execution_count": 29,
     "metadata": {},
     "output_type": "execute_result"
    }
   ],
   "source": [
    "df_crashes.residuals.sum()"
   ]
  },
  {
   "cell_type": "code",
   "execution_count": 30,
   "id": "c23f8b91-1fba-4f7e-b427-f76e73c6edf3",
   "metadata": {},
   "outputs": [
    {
     "data": {
      "text/plain": [
       "0.0"
      ]
     },
     "execution_count": 30,
     "metadata": {},
     "output_type": "execute_result"
    }
   ],
   "source": [
    "df_crashes.residuals.sum().round(2)"
   ]
  },
  {
   "cell_type": "code",
   "execution_count": 31,
   "id": "d6cf4e91-fff9-400f-a11f-d4d3acdb0e0b",
   "metadata": {},
   "outputs": [],
   "source": [
    "df_crashes['residuals^2'] = df_crashes.residuals**2"
   ]
  },
  {
   "cell_type": "code",
   "execution_count": 32,
   "id": "efe62dce-3ec6-4265-9e5b-8faf3c3b2f86",
   "metadata": {},
   "outputs": [
    {
     "data": {
      "text/html": [
       "<div>\n",
       "<style scoped>\n",
       "    .dataframe tbody tr th:only-of-type {\n",
       "        vertical-align: middle;\n",
       "    }\n",
       "\n",
       "    .dataframe tbody tr th {\n",
       "        vertical-align: top;\n",
       "    }\n",
       "\n",
       "    .dataframe thead th {\n",
       "        text-align: right;\n",
       "    }\n",
       "</style>\n",
       "<table border=\"1\" class=\"dataframe\">\n",
       "  <thead>\n",
       "    <tr style=\"text-align: right;\">\n",
       "      <th></th>\n",
       "      <th>alcohol</th>\n",
       "      <th>accidents</th>\n",
       "      <th>pred_lr</th>\n",
       "      <th>residuals</th>\n",
       "      <th>residuals^2</th>\n",
       "    </tr>\n",
       "    <tr>\n",
       "      <th>abbrev</th>\n",
       "      <th></th>\n",
       "      <th></th>\n",
       "      <th></th>\n",
       "      <th></th>\n",
       "      <th></th>\n",
       "    </tr>\n",
       "  </thead>\n",
       "  <tbody>\n",
       "    <tr>\n",
       "      <th>AL</th>\n",
       "      <td>5.640</td>\n",
       "      <td>18.8</td>\n",
       "      <td>17.321112</td>\n",
       "      <td>1.478888</td>\n",
       "      <td>2.187111</td>\n",
       "    </tr>\n",
       "    <tr>\n",
       "      <th>AK</th>\n",
       "      <td>4.525</td>\n",
       "      <td>18.1</td>\n",
       "      <td>15.054867</td>\n",
       "      <td>3.045133</td>\n",
       "      <td>9.272834</td>\n",
       "    </tr>\n",
       "    <tr>\n",
       "      <th>...</th>\n",
       "      <td>...</td>\n",
       "      <td>...</td>\n",
       "      <td>...</td>\n",
       "      <td>...</td>\n",
       "      <td>...</td>\n",
       "    </tr>\n",
       "    <tr>\n",
       "      <th>WI</th>\n",
       "      <td>4.554</td>\n",
       "      <td>13.8</td>\n",
       "      <td>15.113810</td>\n",
       "      <td>-1.313810</td>\n",
       "      <td>1.726096</td>\n",
       "    </tr>\n",
       "    <tr>\n",
       "      <th>WY</th>\n",
       "      <td>5.568</td>\n",
       "      <td>17.4</td>\n",
       "      <td>17.174771</td>\n",
       "      <td>0.225229</td>\n",
       "      <td>0.050728</td>\n",
       "    </tr>\n",
       "  </tbody>\n",
       "</table>\n",
       "<p>51 rows × 5 columns</p>\n",
       "</div>"
      ],
      "text/plain": [
       "        alcohol  accidents    pred_lr  residuals  residuals^2\n",
       "abbrev                                                       \n",
       "AL        5.640       18.8  17.321112   1.478888     2.187111\n",
       "AK        4.525       18.1  15.054867   3.045133     9.272834\n",
       "...         ...        ...        ...        ...          ...\n",
       "WI        4.554       13.8  15.113810  -1.313810     1.726096\n",
       "WY        5.568       17.4  17.174771   0.225229     0.050728\n",
       "\n",
       "[51 rows x 5 columns]"
      ]
     },
     "execution_count": 32,
     "metadata": {},
     "output_type": "execute_result"
    }
   ],
   "source": [
    "df_crashes"
   ]
  },
  {
   "cell_type": "code",
   "execution_count": 33,
   "id": "747dd0f6-81ae-4ebb-b5e8-d6617e751db2",
   "metadata": {},
   "outputs": [
    {
     "data": {
      "text/plain": [
       "231.96888653310063"
      ]
     },
     "execution_count": 33,
     "metadata": {},
     "output_type": "execute_result"
    }
   ],
   "source": [
    "df_crashes['residuals^2'].sum()"
   ]
  },
  {
   "cell_type": "markdown",
   "id": "bb6acf0d-27ac-4bbb-83b7-2e66fe192df0",
   "metadata": {},
   "source": [
    "The model was made to predict the number of accidents.\n",
    "\n",
    "We should ask: how good are the variation of the model's predictions compared to the variation of the real data (real number of accidents)?\n",
    "\n",
    "We have already calculated the variation of the model's prediction. Now we calculate the variation of the real data:"
   ]
  },
  {
   "cell_type": "code",
   "execution_count": 34,
   "id": "049cf581-2f6a-48a5-82db-5abf02763ea2",
   "metadata": {},
   "outputs": [
    {
     "data": {
      "text/plain": [
       "abbrev\n",
       "AL    18.8\n",
       "AK    18.1\n",
       "      ... \n",
       "WI    13.8\n",
       "WY    17.4\n",
       "Name: accidents, Length: 51, dtype: float64"
      ]
     },
     "execution_count": 34,
     "metadata": {},
     "output_type": "execute_result"
    }
   ],
   "source": [
    "df_crashes.accidents"
   ]
  },
  {
   "cell_type": "code",
   "execution_count": 35,
   "id": "794e02f4-88a8-468e-a30c-394bb473ce06",
   "metadata": {},
   "outputs": [
    {
     "data": {
      "text/plain": [
       "15.79019607843137"
      ]
     },
     "execution_count": 35,
     "metadata": {},
     "output_type": "execute_result"
    }
   ],
   "source": [
    "df_crashes.accidents.mean()"
   ]
  },
  {
   "cell_type": "markdown",
   "id": "430bfc0a-b8eb-429d-ab2a-a6ab102e92e1",
   "metadata": {},
   "source": [
    "$$\n",
    "x_i - \\bar x\n",
    "$$\n",
    "\n",
    "where x is the number of accidents"
   ]
  },
  {
   "cell_type": "code",
   "execution_count": 36,
   "id": "e3e07b1e-cda3-4bd1-b9a1-40c27f548e63",
   "metadata": {},
   "outputs": [
    {
     "data": {
      "text/plain": [
       "abbrev\n",
       "AL    3.009804\n",
       "AK    2.309804\n",
       "        ...   \n",
       "WI   -1.990196\n",
       "WY    1.609804\n",
       "Name: accidents, Length: 51, dtype: float64"
      ]
     },
     "execution_count": 36,
     "metadata": {},
     "output_type": "execute_result"
    }
   ],
   "source": [
    "df_crashes.accidents - df_crashes.accidents.mean()"
   ]
  },
  {
   "cell_type": "code",
   "execution_count": 37,
   "id": "4cd84a4d-2e31-4ee9-b801-e7aa3b0f8d5e",
   "metadata": {},
   "outputs": [],
   "source": [
    "df_crashes['real_residuals'] = df_crashes.accidents - df_crashes.accidents.mean()"
   ]
  },
  {
   "cell_type": "code",
   "execution_count": 38,
   "id": "851618aa-a765-41af-8006-7affb543da32",
   "metadata": {},
   "outputs": [
    {
     "data": {
      "text/html": [
       "<div>\n",
       "<style scoped>\n",
       "    .dataframe tbody tr th:only-of-type {\n",
       "        vertical-align: middle;\n",
       "    }\n",
       "\n",
       "    .dataframe tbody tr th {\n",
       "        vertical-align: top;\n",
       "    }\n",
       "\n",
       "    .dataframe thead th {\n",
       "        text-align: right;\n",
       "    }\n",
       "</style>\n",
       "<table border=\"1\" class=\"dataframe\">\n",
       "  <thead>\n",
       "    <tr style=\"text-align: right;\">\n",
       "      <th></th>\n",
       "      <th>alcohol</th>\n",
       "      <th>accidents</th>\n",
       "      <th>pred_lr</th>\n",
       "      <th>residuals</th>\n",
       "      <th>residuals^2</th>\n",
       "      <th>real_residuals</th>\n",
       "    </tr>\n",
       "    <tr>\n",
       "      <th>abbrev</th>\n",
       "      <th></th>\n",
       "      <th></th>\n",
       "      <th></th>\n",
       "      <th></th>\n",
       "      <th></th>\n",
       "      <th></th>\n",
       "    </tr>\n",
       "  </thead>\n",
       "  <tbody>\n",
       "    <tr>\n",
       "      <th>AL</th>\n",
       "      <td>5.640</td>\n",
       "      <td>18.8</td>\n",
       "      <td>17.321112</td>\n",
       "      <td>1.478888</td>\n",
       "      <td>2.187111</td>\n",
       "      <td>3.009804</td>\n",
       "    </tr>\n",
       "    <tr>\n",
       "      <th>AK</th>\n",
       "      <td>4.525</td>\n",
       "      <td>18.1</td>\n",
       "      <td>15.054867</td>\n",
       "      <td>3.045133</td>\n",
       "      <td>9.272834</td>\n",
       "      <td>2.309804</td>\n",
       "    </tr>\n",
       "    <tr>\n",
       "      <th>...</th>\n",
       "      <td>...</td>\n",
       "      <td>...</td>\n",
       "      <td>...</td>\n",
       "      <td>...</td>\n",
       "      <td>...</td>\n",
       "      <td>...</td>\n",
       "    </tr>\n",
       "    <tr>\n",
       "      <th>WI</th>\n",
       "      <td>4.554</td>\n",
       "      <td>13.8</td>\n",
       "      <td>15.113810</td>\n",
       "      <td>-1.313810</td>\n",
       "      <td>1.726096</td>\n",
       "      <td>-1.990196</td>\n",
       "    </tr>\n",
       "    <tr>\n",
       "      <th>WY</th>\n",
       "      <td>5.568</td>\n",
       "      <td>17.4</td>\n",
       "      <td>17.174771</td>\n",
       "      <td>0.225229</td>\n",
       "      <td>0.050728</td>\n",
       "      <td>1.609804</td>\n",
       "    </tr>\n",
       "  </tbody>\n",
       "</table>\n",
       "<p>51 rows × 6 columns</p>\n",
       "</div>"
      ],
      "text/plain": [
       "        alcohol  accidents    pred_lr  residuals  residuals^2  real_residuals\n",
       "abbrev                                                                       \n",
       "AL        5.640       18.8  17.321112   1.478888     2.187111        3.009804\n",
       "AK        4.525       18.1  15.054867   3.045133     9.272834        2.309804\n",
       "...         ...        ...        ...        ...          ...             ...\n",
       "WI        4.554       13.8  15.113810  -1.313810     1.726096       -1.990196\n",
       "WY        5.568       17.4  17.174771   0.225229     0.050728        1.609804\n",
       "\n",
       "[51 rows x 6 columns]"
      ]
     },
     "execution_count": 38,
     "metadata": {},
     "output_type": "execute_result"
    }
   ],
   "source": [
    "df_crashes"
   ]
  },
  {
   "cell_type": "code",
   "execution_count": 39,
   "id": "2b8f51e1-5477-4f00-872c-47a2382a70e9",
   "metadata": {},
   "outputs": [],
   "source": [
    "df_crashes['real_residuals^2'] = df_crashes.real_residuals**2"
   ]
  },
  {
   "cell_type": "markdown",
   "id": "29740509-e64c-40a7-9958-e0886f5b255c",
   "metadata": {},
   "source": [
    "$$\n",
    "TTS = \\sum(y_i - \\bar y)^2\n",
    "$$\n",
    "\n",
    "where\n",
    "- y_i is the number of accidents\n",
    "- $\\bar y$ is the average number of accidents\n",
    "- TTS: Total Sum of Squares"
   ]
  },
  {
   "cell_type": "code",
   "execution_count": 40,
   "id": "23afcbf8-543e-4978-9121-106771597593",
   "metadata": {},
   "outputs": [
    {
     "data": {
      "text/plain": [
       "849.5450980392156"
      ]
     },
     "execution_count": 40,
     "metadata": {},
     "output_type": "execute_result"
    }
   ],
   "source": [
    "df_crashes['real_residuals^2'].sum()"
   ]
  },
  {
   "cell_type": "code",
   "execution_count": 41,
   "id": "26b6b14e-50d2-43a0-b50c-90914e0a2a9f",
   "metadata": {},
   "outputs": [],
   "source": [
    "TSS = df_crashes['real_residuals^2'].sum()"
   ]
  },
  {
   "cell_type": "markdown",
   "id": "e479bc93-58dc-4dd1-9f7d-983085b4c4f9",
   "metadata": {},
   "source": [
    "$$\n",
    "RSS = \\sum(y_i - \\hat{y})^2\n",
    "$$\n",
    "\n",
    "where\n",
    "- y_i is the real number of accidents\n",
    "- $\\hat y$ is the predicted number of accidents\n",
    "- RSS: Residual Sum of Squares"
   ]
  },
  {
   "cell_type": "code",
   "execution_count": 42,
   "id": "d30b078b-ecc5-4494-a2d0-a2279d2a5c76",
   "metadata": {},
   "outputs": [
    {
     "data": {
      "text/plain": [
       "231.96888653310063"
      ]
     },
     "execution_count": 42,
     "metadata": {},
     "output_type": "execute_result"
    }
   ],
   "source": [
    "df_crashes['residuals^2'].sum()"
   ]
  },
  {
   "cell_type": "code",
   "execution_count": 43,
   "id": "21d943b0-3b96-434d-9cea-a65b833db635",
   "metadata": {},
   "outputs": [],
   "source": [
    "RSS = df_crashes['residuals^2'].sum()"
   ]
  },
  {
   "cell_type": "code",
   "execution_count": 44,
   "id": "c7494b6d-3ab2-4e5e-9cc7-4f0e54bfc8bc",
   "metadata": {},
   "outputs": [
    {
     "data": {
      "text/plain": [
       "0.2730507033334595"
      ]
     },
     "execution_count": 44,
     "metadata": {},
     "output_type": "execute_result"
    }
   ],
   "source": [
    "RSS/TSS"
   ]
  },
  {
   "cell_type": "markdown",
   "id": "f33827b3-37a8-4641-ab55-c4f807ca73a1",
   "metadata": {},
   "source": [
    "0.27 is the badness of the model as **RSS** represents the **residuals** (errors) of the model.\n",
    "\n",
    "To calculate the **goodness** of the model, we need to substract the ratio RSS/TSS to 1:"
   ]
  },
  {
   "cell_type": "markdown",
   "id": "9d5648fb-79e4-4d0d-bdd7-099d08537e64",
   "metadata": {},
   "source": [
    "$$\n",
    "R^2 = 1 - \\frac{RSS}{TSS} = 1 - \\frac{\\sum(y_i - \\hat{y})^2}{\\sum(y_i - \\bar y)^2}\n",
    "$$"
   ]
  },
  {
   "cell_type": "markdown",
   "id": "12b69fa4-151a-4a46-80a1-4fa1b9a12f70",
   "metadata": {},
   "source": [
    "- [ ] graphical explanation of the R^2"
   ]
  },
  {
   "cell_type": "code",
   "execution_count": 45,
   "id": "a5c482f9-912a-4361-97d9-e8173bf2718a",
   "metadata": {},
   "outputs": [
    {
     "data": {
      "text/plain": [
       "0.7269492966665405"
      ]
     },
     "execution_count": 45,
     "metadata": {},
     "output_type": "execute_result"
    }
   ],
   "source": [
    "1 - RSS/TSS"
   ]
  },
  {
   "cell_type": "markdown",
   "id": "fad30e20-f156-4354-a443-75e19543327e",
   "metadata": {},
   "source": [
    "The model is able to explain 72.69% of the total number of accidents variability."
   ]
  },
  {
   "cell_type": "markdown",
   "id": "098b0ed4-7d7c-4256-95c2-d90ad360befb",
   "metadata": {},
   "source": [
    "## Recap"
   ]
  },
  {
   "cell_type": "code",
   "execution_count": 46,
   "id": "6ee8dde9-2f82-43b0-9694-bd49dcdcb6d7",
   "metadata": {},
   "outputs": [],
   "source": [
    "from sklearn.linear_model import LinearRegression"
   ]
  },
  {
   "cell_type": "code",
   "execution_count": 47,
   "id": "b5a85da9-c351-43be-9eb7-49f01c7d414f",
   "metadata": {},
   "outputs": [],
   "source": [
    "model_lr = LinearRegression()"
   ]
  },
  {
   "cell_type": "code",
   "execution_count": 48,
   "id": "9bcb234e-d4e1-4d06-9706-3d0e586c68f2",
   "metadata": {},
   "outputs": [
    {
     "data": {
      "text/plain": [
       "LinearRegression()"
      ]
     },
     "execution_count": 48,
     "metadata": {},
     "output_type": "execute_result"
    }
   ],
   "source": [
    "model_lr.fit(X=explanatory, y=target)"
   ]
  },
  {
   "cell_type": "code",
   "execution_count": 49,
   "id": "60b9d328-bc4c-4df1-9ae2-1b54aad46ce0",
   "metadata": {},
   "outputs": [],
   "source": [
    "df_crashes['pred_lr'] = model_lr.predict(X=explanatory)"
   ]
  },
  {
   "cell_type": "code",
   "execution_count": 50,
   "id": "2eeafedf-1eee-4aa6-afb6-367d533326df",
   "metadata": {},
   "outputs": [
    {
     "data": {
      "text/html": [
       "<div>\n",
       "<style scoped>\n",
       "    .dataframe tbody tr th:only-of-type {\n",
       "        vertical-align: middle;\n",
       "    }\n",
       "\n",
       "    .dataframe tbody tr th {\n",
       "        vertical-align: top;\n",
       "    }\n",
       "\n",
       "    .dataframe thead th {\n",
       "        text-align: right;\n",
       "    }\n",
       "</style>\n",
       "<table border=\"1\" class=\"dataframe\">\n",
       "  <thead>\n",
       "    <tr style=\"text-align: right;\">\n",
       "      <th></th>\n",
       "      <th>alcohol</th>\n",
       "      <th>accidents</th>\n",
       "      <th>pred_lr</th>\n",
       "      <th>residuals</th>\n",
       "      <th>residuals^2</th>\n",
       "      <th>real_residuals</th>\n",
       "      <th>real_residuals^2</th>\n",
       "    </tr>\n",
       "    <tr>\n",
       "      <th>abbrev</th>\n",
       "      <th></th>\n",
       "      <th></th>\n",
       "      <th></th>\n",
       "      <th></th>\n",
       "      <th></th>\n",
       "      <th></th>\n",
       "      <th></th>\n",
       "    </tr>\n",
       "  </thead>\n",
       "  <tbody>\n",
       "    <tr>\n",
       "      <th>AL</th>\n",
       "      <td>5.640</td>\n",
       "      <td>18.8</td>\n",
       "      <td>17.321112</td>\n",
       "      <td>1.478888</td>\n",
       "      <td>2.187111</td>\n",
       "      <td>3.009804</td>\n",
       "      <td>9.058920</td>\n",
       "    </tr>\n",
       "    <tr>\n",
       "      <th>AK</th>\n",
       "      <td>4.525</td>\n",
       "      <td>18.1</td>\n",
       "      <td>15.054867</td>\n",
       "      <td>3.045133</td>\n",
       "      <td>9.272834</td>\n",
       "      <td>2.309804</td>\n",
       "      <td>5.335194</td>\n",
       "    </tr>\n",
       "    <tr>\n",
       "      <th>...</th>\n",
       "      <td>...</td>\n",
       "      <td>...</td>\n",
       "      <td>...</td>\n",
       "      <td>...</td>\n",
       "      <td>...</td>\n",
       "      <td>...</td>\n",
       "      <td>...</td>\n",
       "    </tr>\n",
       "    <tr>\n",
       "      <th>WI</th>\n",
       "      <td>4.554</td>\n",
       "      <td>13.8</td>\n",
       "      <td>15.113810</td>\n",
       "      <td>-1.313810</td>\n",
       "      <td>1.726096</td>\n",
       "      <td>-1.990196</td>\n",
       "      <td>3.960880</td>\n",
       "    </tr>\n",
       "    <tr>\n",
       "      <th>WY</th>\n",
       "      <td>5.568</td>\n",
       "      <td>17.4</td>\n",
       "      <td>17.174771</td>\n",
       "      <td>0.225229</td>\n",
       "      <td>0.050728</td>\n",
       "      <td>1.609804</td>\n",
       "      <td>2.591469</td>\n",
       "    </tr>\n",
       "  </tbody>\n",
       "</table>\n",
       "<p>51 rows × 7 columns</p>\n",
       "</div>"
      ],
      "text/plain": [
       "        alcohol  accidents    pred_lr  residuals  residuals^2  real_residuals  \\\n",
       "abbrev                                                                          \n",
       "AL        5.640       18.8  17.321112   1.478888     2.187111        3.009804   \n",
       "AK        4.525       18.1  15.054867   3.045133     9.272834        2.309804   \n",
       "...         ...        ...        ...        ...          ...             ...   \n",
       "WI        4.554       13.8  15.113810  -1.313810     1.726096       -1.990196   \n",
       "WY        5.568       17.4  17.174771   0.225229     0.050728        1.609804   \n",
       "\n",
       "        real_residuals^2  \n",
       "abbrev                    \n",
       "AL              9.058920  \n",
       "AK              5.335194  \n",
       "...                  ...  \n",
       "WI              3.960880  \n",
       "WY              2.591469  \n",
       "\n",
       "[51 rows x 7 columns]"
      ]
     },
     "execution_count": 50,
     "metadata": {},
     "output_type": "execute_result"
    }
   ],
   "source": [
    "df_crashes"
   ]
  },
  {
   "cell_type": "code",
   "execution_count": 51,
   "id": "48289dc0-60b7-4861-ba93-f867b7f39c83",
   "metadata": {},
   "outputs": [
    {
     "data": {
      "image/png": "[encoded data removed]",
      "text/plain": [
       "<Figure size 432x288 with 1 Axes>"
      ]
     },
     "metadata": {
      "needs_background": "light"
     },
     "output_type": "display_data"
    }
   ],
   "source": [
    "sns.scatterplot(x='alcohol', y='accidents', data=df_crashes)\n",
    "sns.scatterplot(x='alcohol', y='pred_lr', data=df_crashes);\n",
    "sns.lineplot(x='alcohol', y='pred_lr', data=df_crashes);"
   ]
  },
  {
   "cell_type": "code",
   "execution_count": 52,
   "id": "4327142e-27f4-41af-99c0-5a501abbe09d",
   "metadata": {},
   "outputs": [
    {
     "data": {
      "text/plain": [
       "0.7269492966665405"
      ]
     },
     "execution_count": 52,
     "metadata": {},
     "output_type": "execute_result"
    }
   ],
   "source": [
    "model_lr.score(X=explanatory, y=target)"
   ]
  },
  {
   "cell_type": "markdown",
   "id": "001199cd-582d-4fde-ac40-e5f7388e7f80",
   "metadata": {},
   "source": [
    "## Other Models"
   ]
  },
  {
   "cell_type": "markdown",
   "id": "fa311adf-3045-4f24-aca9-b6b30e7f0c0e",
   "metadata": {},
   "source": [
    "https://blog.resolvingpython.com/why-all-machine-learning-models-are-the-same"
   ]
  },
  {
   "cell_type": "markdown",
   "id": "f200a2dc-77e2-4999-aadf-3f25bccae42f",
   "metadata": {},
   "source": [
    "### `RandomForestRegressor()` in Python"
   ]
  },
  {
   "cell_type": "markdown",
   "id": "293e063c-d32d-44e2-a1d7-a9a47422ccef",
   "metadata": {},
   "source": [
    "#### Fit the Model"
   ]
  },
  {
   "cell_type": "code",
   "execution_count": 53,
   "id": "13745692-57f4-48c1-a045-43f36221c30f",
   "metadata": {},
   "outputs": [],
   "source": [
    "from sklearn.ensemble import RandomForestRegressor"
   ]
  },
  {
   "cell_type": "code",
   "execution_count": 54,
   "id": "81ca9964-8263-4642-8fbb-eb144ac4e126",
   "metadata": {},
   "outputs": [],
   "source": [
    "model_rf = RandomForestRegressor()"
   ]
  },
  {
   "cell_type": "code",
   "execution_count": 55,
   "id": "a5bec2ed-7bdd-435e-b30f-29ba0c1c9a90",
   "metadata": {},
   "outputs": [
    {
     "data": {
      "text/plain": [
       "RandomForestRegressor()"
      ]
     },
     "execution_count": 55,
     "metadata": {},
     "output_type": "execute_result"
    }
   ],
   "source": [
    "model_rf.fit(X=explanatory, y=target)"
   ]
  },
  {
   "cell_type": "markdown",
   "id": "bd98da1e-d0f6-41dc-8b45-adc4aa16912b",
   "metadata": {},
   "source": [
    "#### Calculate Predictions"
   ]
  },
  {
   "cell_type": "code",
   "execution_count": 56,
   "id": "9fefe912-8926-4995-bf4d-180a3c20827a",
   "metadata": {},
   "outputs": [
    {
     "data": {
      "text/plain": [
       "array([18.691 , 16.928 , 17.4742, 21.098 , 12.247 , 13.326 , 12.684 ,\n",
       "       16.87  ,  7.072 , 17.7489, 14.316 , 18.207 , 14.882 , 14.349 ,\n",
       "       13.85  , 15.179 , 15.845 , 19.7422, 21.37  , 15.788 , 13.108 ,\n",
       "        8.88  , 14.541 ,  9.398 , 17.281 , 16.651 , 22.009 , 15.8685,\n",
       "       14.473 , 11.577 , 11.406 , 18.6322, 11.923 , 17.4742, 23.234 ,\n",
       "       14.89  , 20.198 , 12.5   , 18.499 , 12.422 , 23.234 , 20.529 ,\n",
       "       19.008 , 19.024 ,  9.772 , 13.381 , 12.379 , 11.127 , 22.822 ,\n",
       "       14.533 , 17.875 ])"
      ]
     },
     "execution_count": 56,
     "metadata": {},
     "output_type": "execute_result"
    }
   ],
   "source": [
    "model_rf.predict(X=explanatory)"
   ]
  },
  {
   "cell_type": "code",
   "execution_count": 57,
   "id": "1198e2c6-179c-47af-b0bc-f3ac9376abff",
   "metadata": {},
   "outputs": [],
   "source": [
    "df_crashes['pred_rf'] = model_rf.predict(X=explanatory)"
   ]
  },
  {
   "cell_type": "markdown",
   "id": "a521f46c-5cd6-4038-83b9-a2f8cb7a6b20",
   "metadata": {},
   "source": [
    "#### Model's Score"
   ]
  },
  {
   "cell_type": "code",
   "execution_count": 58,
   "id": "6c88f748-95a8-47db-818f-951fb6ad66e6",
   "metadata": {},
   "outputs": [
    {
     "data": {
      "text/plain": [
       "0.9572820130399662"
      ]
     },
     "execution_count": 58,
     "metadata": {},
     "output_type": "execute_result"
    }
   ],
   "source": [
    "model_rf.score(X=explanatory, y=target)"
   ]
  },
  {
   "cell_type": "markdown",
   "id": "5997070a-3ec3-41f5-bbe0-5790052df41b",
   "metadata": {},
   "source": [
    "### `SVR()` in Python"
   ]
  },
  {
   "cell_type": "markdown",
   "id": "383eebba-6c14-4717-aab3-6ebbea0cb200",
   "metadata": {},
   "source": [
    "#### Fit the Model"
   ]
  },
  {
   "cell_type": "code",
   "execution_count": 59,
   "id": "c90d251b-c89f-49fe-b78d-6e3358a5fa2e",
   "metadata": {},
   "outputs": [],
   "source": [
    "from sklearn.svm import SVR"
   ]
  },
  {
   "cell_type": "code",
   "execution_count": 60,
   "id": "6d1e3aaa-d247-42fb-b3c5-0696cc39c579",
   "metadata": {},
   "outputs": [],
   "source": [
    "model_sv = SVR()"
   ]
  },
  {
   "cell_type": "code",
   "execution_count": 61,
   "id": "a968e7db-2517-4d91-bb13-1335796b320f",
   "metadata": {},
   "outputs": [
    {
     "data": {
      "text/plain": [
       "SVR()"
      ]
     },
     "execution_count": 61,
     "metadata": {},
     "output_type": "execute_result"
    }
   ],
   "source": [
    "model_sv.fit(X=explanatory, y=target)"
   ]
  },
  {
   "cell_type": "markdown",
   "id": "d8da885e-e670-4211-baad-5966b64a1154",
   "metadata": {},
   "source": [
    "#### Calculate Predictions"
   ]
  },
  {
   "cell_type": "code",
   "execution_count": 62,
   "id": "3b8ef7cc-5097-471d-b9d1-a75b610a4731",
   "metadata": {},
   "outputs": [
    {
     "data": {
      "text/plain": [
       "array([18.29570777, 15.18462721, 17.2224187 , 18.6633175 , 12.12434781,\n",
       "       13.10691581, 13.31612684, 16.21131216, 12.66062465, 17.17537208,\n",
       "       13.34820949, 19.38920329, 14.91415215, 14.65467023, 14.2131504 ,\n",
       "       13.41560202, 14.41299448, 16.39752499, 19.4896662 , 15.20002787,\n",
       "       13.62200798, 11.5390483 , 13.47824339, 11.49818909, 17.87053595,\n",
       "       17.9144274 , 19.60736085, 17.24170425, 15.73585463, 12.35136579,\n",
       "       11.784815  , 16.53431108, 12.53373232, 17.2224187 , 19.4773929 ,\n",
       "       16.01115736, 18.56379706, 12.06891287, 18.30002795, 14.25171609,\n",
       "       19.59597679, 19.37950461, 18.32794218, 19.29994413, 12.26345665,\n",
       "       13.84847453, 12.25128025, 12.38791686, 19.48212198, 15.27397732,\n",
       "       18.1357253 ])"
      ]
     },
     "execution_count": 62,
     "metadata": {},
     "output_type": "execute_result"
    }
   ],
   "source": [
    "model_sv.predict(X=explanatory)"
   ]
  },
  {
   "cell_type": "code",
   "execution_count": 63,
   "id": "1c5bdbfb-a3bd-4848-b30f-3ec37c899a95",
   "metadata": {},
   "outputs": [],
   "source": [
    "df_crashes['pred_sv'] = model_sv.predict(X=explanatory)"
   ]
  },
  {
   "cell_type": "markdown",
   "id": "6106bd7e-fca6-4816-8e10-704e30c70a67",
   "metadata": {},
   "source": [
    "#### Model's Score"
   ]
  },
  {
   "cell_type": "code",
   "execution_count": 64,
   "id": "f06ebf65-3efe-4310-b9bc-52347a6a4eb0",
   "metadata": {},
   "outputs": [
    {
     "data": {
      "text/plain": [
       "0.7083438012012769"
      ]
     },
     "execution_count": 64,
     "metadata": {},
     "output_type": "execute_result"
    }
   ],
   "source": [
    "model_sv.score(X=explanatory, y=target)"
   ]
  },
  {
   "cell_type": "markdown",
   "id": "e51ee289-1bc4-4eee-919c-c9788dc56ad9",
   "metadata": {},
   "source": [
    "## Visualize the 3 Models"
   ]
  },
  {
   "cell_type": "code",
   "execution_count": 65,
   "id": "94bb3803-6b80-4639-9f02-6fbe2fa308d5",
   "metadata": {},
   "outputs": [
    {
     "data": {
      "image/png": "[encoded data removed]",
      "text/plain": [
       "<Figure size 432x288 with 1 Axes>"
      ]
     },
     "metadata": {
      "needs_background": "light"
     },
     "output_type": "display_data"
    }
   ],
   "source": [
    "sns.scatterplot(x='alcohol', y='accidents', data=df_crashes, label='Real Data')\n",
    "sns.scatterplot(x='alcohol', y='pred_lr', data=df_crashes, label='Linear Regression')\n",
    "sns.scatterplot(x='alcohol', y='pred_rf', data=df_crashes, label='Random Forest')\n",
    "sns.scatterplot(x='alcohol', y='pred_sv', data=df_crashes, label='Support Vector Machines');"
   ]
  },
  {
   "cell_type": "markdown",
   "id": "7eeb4ec3-8c8d-4e3a-835f-bc10c44eed72",
   "metadata": {},
   "source": [
    "## Which One Is the Best? Why?"
   ]
  },
  {
   "cell_type": "markdown",
   "id": "de372f9a-977a-4004-a80e-625f8aed0381",
   "metadata": {},
   "source": [
    "The Random Forest is the nearest to the real data.\n",
    "\n",
    "In addition, it has a higher score than the rest:"
   ]
  },
  {
   "cell_type": "code",
   "execution_count": 66,
   "id": "b1b58eb7-7ce8-4c1e-98a4-183be7db280a",
   "metadata": {},
   "outputs": [
    {
     "data": {
      "text/plain": [
       "0.9572820130399662"
      ]
     },
     "execution_count": 66,
     "metadata": {},
     "output_type": "execute_result"
    }
   ],
   "source": [
    "model_rf.score(X=explanatory, y=target)"
   ]
  },
  {
   "cell_type": "code",
   "execution_count": 67,
   "id": "91c011eb-8ac9-4d48-8560-f94605d00a63",
   "metadata": {},
   "outputs": [
    {
     "data": {
      "text/plain": [
       "0.7083438012012769"
      ]
     },
     "execution_count": 67,
     "metadata": {},
     "output_type": "execute_result"
    }
   ],
   "source": [
    "model_sv.score(X=explanatory, y=target)"
   ]
  },
  {
   "cell_type": "code",
   "execution_count": 68,
   "id": "e16832a7-5453-4baa-be3b-80caa9dcc0a1",
   "metadata": {},
   "outputs": [
    {
     "data": {
      "text/plain": [
       "0.7269492966665405"
      ]
     },
     "execution_count": 68,
     "metadata": {},
     "output_type": "execute_result"
    }
   ],
   "source": [
    "model_lr.score(X=explanatory, y=target)"
   ]
  },
  {
   "cell_type": "markdown",
   "id": "d93a7134-8cbd-4ea7-9e7a-b7b6576b5f18",
   "metadata": {},
   "source": [
    "<a rel=\"license\" href=\"http://creativecommons.org/licenses/by-nc-nd/4.0/\"><img alt=\"Creative Commons License\" style=\"border-width:0\" src=\"https://i.creativecommons.org/l/by-nc-nd/4.0/88x31.png\" /></a><br />This work is licensed under a <a rel=\"license\" href=\"http://creativecommons.org/licenses/by-nc-nd/4.0/\">Creative Commons Attribution-NonCommercial-NoDerivatives 4.0 International License</a>."
   ]
  }
 ],
 "metadata": {
  "kernelspec": {
   "display_name": "Python 3 (ipykernel)",
   "language": "python",
   "name": "python3"
  },
  "language_info": {
   "codemirror_mode": {
    "name": "ipython",
    "version": 3
   },
   "file_extension": ".py",
   "mimetype": "text/x-python",
   "name": "python",
   "nbconvert_exporter": "python",
   "pygments_lexer": "ipython3",
   "version": "3.9.7"
  },
  "toc-autonumbering": true
 },
 "nbformat": 4,
 "nbformat_minor": 5
}
