{
 "cells": [
  {
   "cell_type": "markdown",
   "metadata": {},
   "source": [
    "<font size=\"+5\">#01 | Machine Learning & Linear Regression</font>"
   ]
  },
  {
   "cell_type": "markdown",
   "metadata": {},
   "source": [
    "\n",
    "<div class=\"alert alert-warning\">\n",
    "  <ul>\n",
    "      <li>\n",
    "      Follow the Author on Twitter: <a href=\"https://twitter.com/jsulopz\"><b>@jsulopz</b></a>\n",
    "    </li>\n",
    "    <li>\n",
    "      <b>Python</b> + <b>Data Science</b> Tutorials in ↓\n",
    "      <ul>\n",
    "        <li>\n",
    "          <a href=\"https://www.youtube.com/c/PythonResolver?sub_confirmation=1\"\n",
    "            >YouTube</a\n",
    "          >\n",
    "        </li>\n",
    "        <li>\n",
    "          <a href=\"https://blog.pythonresolver.com/\">Blog</a>\n",
    "        </li>\n",
    "      </ul>\n",
    "    </li>\n",
    "  </ul>\n",
    "</div>\n",
    "\n",
    "<a href=\"https://colab.research.google.com/github/jsulopz/resolving-machine-learning/blob/main/01_Machine%20Learning%20%26%20Linear%20Regression/01_ml-linear-regression_practice_solution.ipynb\">\n",
    "  <img src=\"https://colab.research.google.com/assets/colab-badge.svg\" alt=\"Open In Colab\"/>\n",
    "</a>\n"
   ]
  },
  {
   "cell_type": "markdown",
   "metadata": {},
   "source": [
    "# Load the Data"
   ]
  },
  {
   "cell_type": "code",
   "execution_count": 3,
   "metadata": {},
   "outputs": [
    {
     "data": {
      "text/plain": [
       "['anagrams',\n",
       " 'anscombe',\n",
       " 'attention',\n",
       " 'brain_networks',\n",
       " 'car_crashes',\n",
       " 'diamonds',\n",
       " 'dots',\n",
       " 'exercise',\n",
       " 'flights',\n",
       " 'fmri',\n",
       " 'gammas',\n",
       " 'geyser',\n",
       " 'iris',\n",
       " 'mpg',\n",
       " 'penguins',\n",
       " 'planets',\n",
       " 'taxis',\n",
       " 'tips',\n",
       " 'titanic']"
      ]
     },
     "execution_count": 3,
     "metadata": {},
     "output_type": "execute_result"
    }
   ],
   "source": [
    "import seaborn as sns #!\n",
    "sns.get_dataset_names()"
   ]
  },
  {
   "cell_type": "markdown",
   "metadata": {},
   "source": [
    "- You'll observe a list of posible `tables` that we could work with.\n",
    "- You may use whichever you'd like.\n",
    "- Just substitue `?` by the name of the dataset you want."
   ]
  },
  {
   "cell_type": "code",
   "execution_count": 4,
   "metadata": {},
   "outputs": [
    {
     "ename": "SyntaxError",
     "evalue": "invalid syntax (2662101787.py, line 1)",
     "output_type": "error",
     "traceback": [
      "\u001b[0;36m  File \u001b[0;32m\"/var/folders/24/tg28vxls25l9mjvqrnh0plc80000gn/T/ipykernel_13956/2662101787.py\"\u001b[0;36m, line \u001b[0;32m1\u001b[0m\n\u001b[0;31m    sns.load_dataset(?) #!\u001b[0m\n\u001b[0m                     ^\u001b[0m\n\u001b[0;31mSyntaxError\u001b[0m\u001b[0;31m:\u001b[0m invalid syntax\n"
     ]
    }
   ],
   "source": [
    "sns.load_dataset(?) #!"
   ]
  },
  {
   "cell_type": "markdown",
   "metadata": {},
   "source": [
    "# `LinearRegression()` Model in Python"
   ]
  },
  {
   "cell_type": "markdown",
   "metadata": {},
   "source": [
    "## Build the Model"
   ]
  },
  {
   "cell_type": "markdown",
   "metadata": {},
   "source": [
    "> 1. **Necesity**: Build Model\n",
    "> 2. **Google**: How do you search for the solution?\n",
    "> 3. **Solution**: Find the `function()` that makes it happen"
   ]
  },
  {
   "cell_type": "markdown",
   "metadata": {},
   "source": [
    "### Code Thinking"
   ]
  },
  {
   "cell_type": "markdown",
   "metadata": {},
   "source": [
    "> - By the time you get to the actual `function()` to compute the model\n",
    "> - You'll notice they're asking you for two parameters:\n",
    "> 1. `X`: **explanatory variable**\n",
    "> 2. `y`: **target varaible**\n",
    "> It's recommended that you make a `Data Visualization`\n",
    ">\n",
    "> - To analyze if the two variables are related?\n",
    "> - i.e., do you think `X` variable is good to predict `y`?\n",
    "> - If so, the Linear Regression would be great!"
   ]
  },
  {
   "cell_type": "code",
   "execution_count": null,
   "metadata": {},
   "outputs": [],
   "source": []
  },
  {
   "cell_type": "markdown",
   "metadata": {},
   "source": [
    "### Scatterplot with Variables from DataFrame"
   ]
  },
  {
   "cell_type": "markdown",
   "metadata": {},
   "source": [
    "> You may observe in the plot that the points could be related through a line.\n",
    ">\n",
    "> Otherwise, you may select another pair of variables."
   ]
  },
  {
   "cell_type": "code",
   "execution_count": null,
   "metadata": {},
   "outputs": [],
   "source": []
  },
  {
   "cell_type": "markdown",
   "metadata": {},
   "source": [
    "### Finally `fit()` the Model"
   ]
  },
  {
   "cell_type": "markdown",
   "metadata": {},
   "source": [
    "> - Pass the `objects` that **contains the sequence of numbers** of the two variables\n",
    "> - To the `parameters` of the function that computes the Linear Regression Model"
   ]
  },
  {
   "cell_type": "code",
   "execution_count": null,
   "metadata": {},
   "outputs": [],
   "source": []
  },
  {
   "cell_type": "markdown",
   "metadata": {},
   "source": [
    "# Model Interpretation"
   ]
  },
  {
   "cell_type": "markdown",
   "metadata": {},
   "source": [
    "> 1. Especify the **mathematical equation** of the model.\n",
    "> 2. **Interpret the coefficients** from the equation."
   ]
  },
  {
   "cell_type": "code",
   "execution_count": null,
   "metadata": {},
   "outputs": [],
   "source": []
  },
  {
   "cell_type": "markdown",
   "metadata": {},
   "source": [
    "# Calculate Predictions"
   ]
  },
  {
   "cell_type": "markdown",
   "metadata": {},
   "source": [
    "> - `model.predict()`"
   ]
  },
  {
   "cell_type": "code",
   "execution_count": null,
   "metadata": {},
   "outputs": [],
   "source": []
  },
  {
   "cell_type": "markdown",
   "metadata": {},
   "source": [
    "# Visualize the Model"
   ]
  },
  {
   "cell_type": "markdown",
   "metadata": {},
   "source": [
    "> 1. **Real Data**.\n",
    "> 2. **Model: predictions** calculated with the mathematical equation."
   ]
  },
  {
   "cell_type": "code",
   "execution_count": null,
   "metadata": {},
   "outputs": [],
   "source": []
  },
  {
   "cell_type": "markdown",
   "metadata": {},
   "source": [
    "# Real vs. Predicted Data"
   ]
  },
  {
   "cell_type": "markdown",
   "metadata": {},
   "source": [
    "> How good is our model?\n",
    ">\n",
    "> 1. Create a new `DataFrame` column to assign the predictions.\n",
    ">\n",
    "> - `df['pred'] = predicciones`"
   ]
  },
  {
   "cell_type": "code",
   "execution_count": null,
   "metadata": {},
   "outputs": [],
   "source": []
  },
  {
   "cell_type": "markdown",
   "metadata": {},
   "source": [
    "> - `df.sample(10)` to check if predictions are equal to reality:"
   ]
  },
  {
   "cell_type": "code",
   "execution_count": null,
   "metadata": {},
   "outputs": [],
   "source": []
  },
  {
   "cell_type": "markdown",
   "metadata": {},
   "source": [
    "> 2. How to measure the **model's error**?\n",
    "> - How good is our model to predict reality?\n",
    "> - `model.score()`"
   ]
  },
  {
   "cell_type": "code",
   "execution_count": null,
   "metadata": {},
   "outputs": [],
   "source": []
  },
  {
   "cell_type": "markdown",
   "metadata": {},
   "source": [
    "# Achieved Goals"
   ]
  },
  {
   "cell_type": "markdown",
   "metadata": {},
   "source": [
    "_Double click on **this cell** and place an `X` inside the square brackets (i.e., [X]) if you think you understand the goal:_\n",
    "\n",
    "- [ ] Understand **how the Machine Learns/Optimizes the model**\n",
    "    - [ ] No more than to find the best numbers in a mathematical equation.\n",
    "- [ ] The `function()` as the indivisible part of programming.\n",
    "    - As the **atom**: the key element in the Universe.\n",
    "- [ ] Understand **what's going on inside the computer** as you execute a function.\n",
    "    - Is the code downloaded online, or could we use it withoug internet conection.\n",
    "- [ ] Use **programming as a tool**.\n",
    "    - It's a **means to an end. NOT an end itself** (as hard as it may be to get started with).\n",
    "- [ ] Understand that statistics is not a perfect science. \n",
    "    - It tries to **approximate to the reality** the best way it can.\n",
    "- [ ] **Measuring the error** is nothing more than measuring the difference between reality and predictions.\n",
    "- [ ] We may use more than one mathematical formula to calculate the same variable.\n",
    "    - Different models/equations/algorightms to calculate the same variable.\n",
    "    - Some models might be better than other ones."
   ]
  }
 ],
 "metadata": {
  "authors": [
   {
    "blog": "https//blog.pythonresolver.com",
    "name": "Jesús López",
    "twitter": "https://twitter.com/jsulopz"
   }
  ],
  "interpreter": {
   "hash": "414fd6d7c0f0aefb3d4e2db41edbeb0df03134e10d94a689550561b640a17652"
  },
  "kernelspec": {
   "display_name": "Python 3 (ipykernel)",
   "language": "python",
   "name": "python3"
  },
  "language_info": {
   "codemirror_mode": {
    "name": "ipython",
    "version": 3
   },
   "file_extension": ".py",
   "mimetype": "text/x-python",
   "name": "python",
   "nbconvert_exporter": "python",
   "pygments_lexer": "ipython3",
   "version": "3.9.10"
  },
  "title": "Machine Learning & Linear Regression"
 },
 "nbformat": 4,
 "nbformat_minor": 4
}
