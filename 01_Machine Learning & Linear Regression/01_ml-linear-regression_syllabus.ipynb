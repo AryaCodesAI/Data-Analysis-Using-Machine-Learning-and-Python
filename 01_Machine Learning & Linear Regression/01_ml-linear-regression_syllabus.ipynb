{
 "cells": [
  {
   "cell_type": "markdown",
   "id": "65a62216",
   "metadata": {},
   "source": [
    "<font size=\"+5\">#01 | The Use of Functions</font>"
   ]
  },
  {
   "cell_type": "markdown",
   "id": "4078265e-9666-4d0c-9102-5b7a1b6ff6af",
   "metadata": {},
   "source": [
    "\n",
    "<div class=\"alert alert-warning\">\n",
    "  <ul>\n",
    "    <li>\n",
    "      <b>Python</b> + <b>Data Science</b> Tutorials in ↓\n",
    "      <ul>\n",
    "        <li>\n",
    "          <a href=\"https://www.youtube.com/c/PythonResolver?sub_confirmation=1\"\n",
    "            >YouTube</a\n",
    "          >\n",
    "        </li>\n",
    "        <li>\n",
    "          <a href=\"https://blog.pythonresolver.com/\">Blog</a>\n",
    "        </li>\n",
    "        <li>\n",
    "          <a href=\"https://github.com/jsulopz/00-python-resolver-discipline\">GitHub</a>\n",
    "        </li>\n",
    "      </ul>\n",
    "    </li>\n",
    "    <li>\n",
    "      Author: <a href=\"https://twitter.com/jsulopz\"><b>@jsulopz</b></a>\n",
    "    </li>\n",
    "  </ul>\n",
    "</div>\n"
   ]
  },
  {
   "cell_type": "markdown",
   "id": "09d0ca17-0c25-48dc-9344-081b91ee0c6e",
   "metadata": {
    "tags": []
   },
   "source": [
    "# The Challenge\n",
    "\n",
    "<div class=\"alert alert-danger\">\n",
    "    Create a Linear Regression model from the following data:\n",
    "</div>"
   ]
  },
  {
   "cell_type": "code",
   "execution_count": 1,
   "id": "4e78d2ed-c1f1-455e-a340-a5c8748fe3b1",
   "metadata": {},
   "outputs": [
    {
     "data": {
      "text/html": [
       "<div>\n",
       "<style scoped>\n",
       "    .dataframe tbody tr th:only-of-type {\n",
       "        vertical-align: middle;\n",
       "    }\n",
       "\n",
       "    .dataframe tbody tr th {\n",
       "        vertical-align: top;\n",
       "    }\n",
       "\n",
       "    .dataframe thead th {\n",
       "        text-align: right;\n",
       "    }\n",
       "</style>\n",
       "<table border=\"1\" class=\"dataframe\">\n",
       "  <thead>\n",
       "    <tr style=\"text-align: right;\">\n",
       "      <th></th>\n",
       "      <th>alcohol</th>\n",
       "      <th>accidents</th>\n",
       "    </tr>\n",
       "    <tr>\n",
       "      <th>abbrev</th>\n",
       "      <th></th>\n",
       "      <th></th>\n",
       "    </tr>\n",
       "  </thead>\n",
       "  <tbody>\n",
       "    <tr>\n",
       "      <th>AL</th>\n",
       "      <td>5.640</td>\n",
       "      <td>18.8</td>\n",
       "    </tr>\n",
       "    <tr>\n",
       "      <th>AK</th>\n",
       "      <td>4.525</td>\n",
       "      <td>18.1</td>\n",
       "    </tr>\n",
       "    <tr>\n",
       "      <th>AZ</th>\n",
       "      <td>5.208</td>\n",
       "      <td>18.6</td>\n",
       "    </tr>\n",
       "    <tr>\n",
       "      <th>AR</th>\n",
       "      <td>5.824</td>\n",
       "      <td>22.4</td>\n",
       "    </tr>\n",
       "    <tr>\n",
       "      <th>CA</th>\n",
       "      <td>3.360</td>\n",
       "      <td>12.0</td>\n",
       "    </tr>\n",
       "  </tbody>\n",
       "</table>\n",
       "</div>"
      ],
      "text/plain": [
       "        alcohol  accidents\n",
       "abbrev                    \n",
       "AL        5.640       18.8\n",
       "AK        4.525       18.1\n",
       "AZ        5.208       18.6\n",
       "AR        5.824       22.4\n",
       "CA        3.360       12.0"
      ]
     },
     "execution_count": 1,
     "metadata": {},
     "output_type": "execute_result"
    }
   ],
   "source": [
    "import seaborn as sns #!\n",
    "\n",
    "df = sns.load_dataset(name='car_crashes', index_col='abbrev')[['alcohol', 'total']]\n",
    "df.rename({'total': 'accidents'}, axis=1, inplace=True)\n",
    "df.head(5)"
   ]
  },
  {
   "cell_type": "markdown",
   "id": "2b2291a8-cd06-4f26-b947-aba32d4833d9",
   "metadata": {},
   "source": [
    "# The Covered Solution"
   ]
  },
  {
   "cell_type": "markdown",
   "id": "6262f1f9-8638-4e30-8b3a-ad9abae795c4",
   "metadata": {},
   "source": [
    "<div class=\"alert alert-success\">\n",
    "    and reproduce the following plot ↓\n",
    "</div>"
   ]
  },
  {
   "cell_type": "code",
   "execution_count": 171,
   "id": "4b769efe-440e-409a-bc2b-4189875ed83e",
   "metadata": {},
   "outputs": [
    {
     "data": {
      "image/png": "[encoded data removed]",
      "text/plain": [
       "<Figure size 432x288 with 1 Axes>"
      ]
     },
     "metadata": {
      "needs_background": "light"
     },
     "output_type": "display_data"
    }
   ],
   "source": [
    "?? #! read the full story to find out the solution"
   ]
  },
  {
   "cell_type": "markdown",
   "id": "3bf2e14b-e921-4271-9fdf-497a2a959ff9",
   "metadata": {},
   "source": [
    "# What will we learn?"
   ]
  },
  {
   "cell_type": "markdown",
   "id": "df322cb5-4f42-41f3-827e-9b170f5407f8",
   "metadata": {},
   "source": [
    "- Why the `function()` is so important in programming?\n",
    "- Which ways do you have to access **different types of `functions()`**?\n",
    "- How to find **solutions by filtering tutorials on Google**?\n",
    "- How to **get help from python** and use it wisely?"
   ]
  },
  {
   "cell_type": "markdown",
   "id": "5cdb46e7-49b5-491e-90af-73065ea33152",
   "metadata": {
    "tags": []
   },
   "source": [
    "# Which concepts will we use?\n",
    "\n",
    "- Module ~ Library\n",
    "- Dot notation\n",
    "- Objects\n",
    "- Variables ~ Instance\n",
    "- The Autocompletion Tool\n",
    "- The Docstring\n",
    "- Function\n",
    "    - `object.function()`\n",
    "    - `module.function()`\n",
    "    - `built_in_function()`\n",
    "- [Google Method]"
   ]
  },
  {
   "cell_type": "markdown",
   "id": "b8d4abeb-3bf0-4d81-80c4-833a0125c8c5",
   "metadata": {
    "tags": []
   },
   "source": [
    "# Requirements?\n",
    "\n",
    "- None"
   ]
  },
  {
   "cell_type": "markdown",
   "id": "a419b881-70e2-43bf-be0b-31593a2a000a",
   "metadata": {},
   "source": [
    "# The starting *thing*"
   ]
  },
  {
   "cell_type": "code",
   "execution_count": null,
   "id": "08c3bb9c-7c52-4b25-8b6d-43cc53fdd371",
   "metadata": {},
   "outputs": [],
   "source": [
    "internet_usage_spain.xlsx"
   ]
  },
  {
   "cell_type": "markdown",
   "id": "7ce3de0a-d07f-4273-ba4f-1dd2bfd4253b",
   "metadata": {},
   "source": [
    "# Syllabus for the [Notebook](01script_functions.ipynb)\n",
    "1. Default *things* in Python\n",
    "2. Object-Oriented Programming\n",
    "\t1. `string`\n",
    "\t2. `integer`\n",
    "\t3. `float`\n",
    "\t4. `list`\n",
    "1. The Python Resolver Discipline\n",
    "2. Type of `functions()`\n",
    "\t1. `Built-in` Functions\n",
    "\t2. Functions inside `instances`\n",
    "\t3. External Functions: from the `module`\n",
    "1. Use of `functions()`\n",
    "\t1. Change Default Parameters of a Function\n",
    "\t2. The Elements of Programming\n",
    "1. Code Syntax\n",
    "\t1. The `module`\n",
    "\t2. The `.` **DOT NOTATION**\n",
    "\t3. The `function()`\n",
    "\t4. The `(parameter=object)`\n",
    "\t\t1. `(io='internet_usage_spain.xlsx')`\n",
    "\t\t2. `(sheet_name=1)`\n",
    "\t1. When you `execute`...\n",
    "\t2. The `function()` returns an `object`\n",
    "\t3. Recap\n",
    "1. Source Code Execution | What happens <ins>inside</ins> the computer ?\n",
    "2. The Importance of the `function()`\n",
    "\t1. Python doesn't know about the Excel File\n",
    "\t2. Other `functions()`\n",
    "1. What have we learnt?\n",
    "\t1. Why the `function()` is so important in programming?\n",
    "\t2. Why have you got **different types of `functions()`**?\n",
    "\t3. How to find **solutions by filtering tutorials on Google**?\n",
    "\t4. How to **get help from python** and use it wisely?\n",
    "1. Define the concepts ↓"
   ]
  },
  {
   "cell_type": "markdown",
   "id": "a1abf662-d4ec-40b9-b610-364359b9c8d1",
   "metadata": {},
   "source": [
    "# The Uncovered Solution"
   ]
  },
  {
   "cell_type": "markdown",
   "id": "a0b8ef54-c4cc-4b32-928b-90a3d68263c6",
   "metadata": {},
   "source": [
    "1. `module`\n",
    "    - <font color=\"red\">pandas</font>\n",
    "2. `.` **DOT NOTATION** to look for *functions* inside the `module` or `instance`\n",
    "3. `function()`\n",
    "    - read_excel\n",
    "    <font color=\"red\">pandas</font>\n",
    "4. pass `objects` to the `parameters`\n",
    "    - pass `str (\"internet_usage_spain.xlsx\")` to `parameter (io=?)`\n",
    "    - pass `int (1)` to `parameter (sheet_name=?)`\n",
    "5. execute\n",
    "6. [ ] magic?\n",
    "7. the `function()` returns an `object`"
   ]
  },
  {
   "cell_type": "code",
   "execution_count": 1,
   "id": "6b138a0a-a1a9-43e2-a3e6-f10a844598e4",
   "metadata": {},
   "outputs": [
    {
     "data": {
      "text/html": [
       "<div>\n",
       "<style scoped>\n",
       "    .dataframe tbody tr th:only-of-type {\n",
       "        vertical-align: middle;\n",
       "    }\n",
       "\n",
       "    .dataframe tbody tr th {\n",
       "        vertical-align: top;\n",
       "    }\n",
       "\n",
       "    .dataframe thead th {\n",
       "        text-align: right;\n",
       "    }\n",
       "</style>\n",
       "<table border=\"1\" class=\"dataframe\">\n",
       "  <thead>\n",
       "    <tr style=\"text-align: right;\">\n",
       "      <th></th>\n",
       "      <th>name</th>\n",
       "      <th>internet_usage</th>\n",
       "      <th>sex</th>\n",
       "      <th>age</th>\n",
       "      <th>education</th>\n",
       "      <th>weight</th>\n",
       "    </tr>\n",
       "  </thead>\n",
       "  <tbody>\n",
       "    <tr>\n",
       "      <th>0</th>\n",
       "      <td>Josefina</td>\n",
       "      <td>0</td>\n",
       "      <td>Female</td>\n",
       "      <td>66</td>\n",
       "      <td>Elementary</td>\n",
       "      <td>81</td>\n",
       "    </tr>\n",
       "    <tr>\n",
       "      <th>1</th>\n",
       "      <td>Vicki</td>\n",
       "      <td>1</td>\n",
       "      <td>Male</td>\n",
       "      <td>72</td>\n",
       "      <td>Elementary</td>\n",
       "      <td>78</td>\n",
       "    </tr>\n",
       "    <tr>\n",
       "      <th>2</th>\n",
       "      <td>David</td>\n",
       "      <td>1</td>\n",
       "      <td>Male</td>\n",
       "      <td>48</td>\n",
       "      <td>University</td>\n",
       "      <td>69</td>\n",
       "    </tr>\n",
       "    <tr>\n",
       "      <th>3</th>\n",
       "      <td>Curtis</td>\n",
       "      <td>0</td>\n",
       "      <td>Male</td>\n",
       "      <td>59</td>\n",
       "      <td>PhD</td>\n",
       "      <td>107</td>\n",
       "    </tr>\n",
       "    <tr>\n",
       "      <th>4</th>\n",
       "      <td>Josephine</td>\n",
       "      <td>1</td>\n",
       "      <td>Female</td>\n",
       "      <td>44</td>\n",
       "      <td>PhD</td>\n",
       "      <td>80</td>\n",
       "    </tr>\n",
       "    <tr>\n",
       "      <th>...</th>\n",
       "      <td>...</td>\n",
       "      <td>...</td>\n",
       "      <td>...</td>\n",
       "      <td>...</td>\n",
       "      <td>...</td>\n",
       "      <td>...</td>\n",
       "    </tr>\n",
       "    <tr>\n",
       "      <th>2450</th>\n",
       "      <td>Frances</td>\n",
       "      <td>1</td>\n",
       "      <td>Male</td>\n",
       "      <td>43</td>\n",
       "      <td>Elementary</td>\n",
       "      <td>94</td>\n",
       "    </tr>\n",
       "    <tr>\n",
       "      <th>2451</th>\n",
       "      <td>Harry</td>\n",
       "      <td>1</td>\n",
       "      <td>Female</td>\n",
       "      <td>18</td>\n",
       "      <td>High School</td>\n",
       "      <td>70</td>\n",
       "    </tr>\n",
       "    <tr>\n",
       "      <th>2452</th>\n",
       "      <td>Adam</td>\n",
       "      <td>0</td>\n",
       "      <td>Female</td>\n",
       "      <td>54</td>\n",
       "      <td>Elementary</td>\n",
       "      <td>60</td>\n",
       "    </tr>\n",
       "    <tr>\n",
       "      <th>2453</th>\n",
       "      <td>Christine</td>\n",
       "      <td>1</td>\n",
       "      <td>Male</td>\n",
       "      <td>31</td>\n",
       "      <td>High School</td>\n",
       "      <td>89</td>\n",
       "    </tr>\n",
       "    <tr>\n",
       "      <th>2454</th>\n",
       "      <td>Kimberly</td>\n",
       "      <td>0</td>\n",
       "      <td>Male</td>\n",
       "      <td>52</td>\n",
       "      <td>Elementary</td>\n",
       "      <td>88</td>\n",
       "    </tr>\n",
       "  </tbody>\n",
       "</table>\n",
       "<p>2455 rows × 6 columns</p>\n",
       "</div>"
      ],
      "text/plain": [
       "           name  internet_usage     sex  age    education  weight\n",
       "0      Josefina               0  Female   66   Elementary      81\n",
       "1         Vicki               1    Male   72   Elementary      78\n",
       "2         David               1    Male   48   University      69\n",
       "3        Curtis               0    Male   59          PhD     107\n",
       "4     Josephine               1  Female   44          PhD      80\n",
       "...         ...             ...     ...  ...          ...     ...\n",
       "2450    Frances               1    Male   43   Elementary      94\n",
       "2451      Harry               1  Female   18  High School      70\n",
       "2452       Adam               0  Female   54   Elementary      60\n",
       "2453  Christine               1    Male   31  High School      89\n",
       "2454   Kimberly               0    Male   52   Elementary      88\n",
       "\n",
       "[2455 rows x 6 columns]"
      ]
     },
     "execution_count": 1,
     "metadata": {},
     "output_type": "execute_result"
    }
   ],
   "source": [
    "import pandas as pd\n",
    "\n",
    "pd.read_excel(io='internet_usage_spain.xlsx', sheet_name=1)"
   ]
  }
 ],
 "metadata": {
  "authors": [
   {
    "name": "Jesús López",
    "twitter": "https://twitter.com/jsulopz"
   }
  ],
  "interpreter": {
   "hash": "414fd6d7c0f0aefb3d4e2db41edbeb0df03134e10d94a689550561b640a17652"
  },
  "kernelspec": {
   "display_name": "Python 3 (ipykernel)",
   "language": "python",
   "name": "python3"
  },
  "language_info": {
   "codemirror_mode": {
    "name": "ipython",
    "version": 3
   },
   "file_extension": ".py",
   "mimetype": "text/x-python",
   "name": "python",
   "nbconvert_exporter": "python",
   "pygments_lexer": "ipython3",
   "version": "3.9.7"
  },
  "title": "Basic Elements of Programming",
  "toc-autonumbering": true,
  "toc-showcode": false,
  "toc-showtags": false
 },
 "nbformat": 4,
 "nbformat_minor": 5
}
