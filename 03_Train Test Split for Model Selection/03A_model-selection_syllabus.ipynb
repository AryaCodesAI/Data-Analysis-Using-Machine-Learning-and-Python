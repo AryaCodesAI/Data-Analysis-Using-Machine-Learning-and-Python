{
 "cells": [
  {
   "cell_type": "markdown",
   "id": "3286da4a-c37f-4c38-ab88-ad309ae5729f",
   "metadata": {},
   "source": [
    "![](../src/logo.svg)\n",
    "\n",
    "**© Jesús López**\n",
    "\n",
    "Ask him any doubt on **[Twitter](https://twitter.com/jsulopz)** or **[LinkedIn](https://linkedin.com/in/jsulopz)**"
   ]
  },
  {
   "cell_type": "markdown",
   "id": "09d0ca17-0c25-48dc-9344-081b91ee0c6e",
   "metadata": {
    "tags": []
   },
   "source": [
    "# The Challenge\n",
    "\n",
    "<div class=\"alert alert-danger\">\n",
    "    Build different Models and choose the best one:\n",
    "</div>"
   ]
  },
  {
   "cell_type": "code",
   "execution_count": 1,
   "id": "2997c514-89e6-41db-9453-c4f564e30508",
   "metadata": {},
   "outputs": [
    {
     "data": {
      "text/html": [
       "<div>\n",
       "<style scoped>\n",
       "    .dataframe tbody tr th:only-of-type {\n",
       "        vertical-align: middle;\n",
       "    }\n",
       "\n",
       "    .dataframe tbody tr th {\n",
       "        vertical-align: top;\n",
       "    }\n",
       "\n",
       "    .dataframe thead th {\n",
       "        text-align: right;\n",
       "    }\n",
       "</style>\n",
       "<table border=\"1\" class=\"dataframe\">\n",
       "  <thead>\n",
       "    <tr style=\"text-align: right;\">\n",
       "      <th></th>\n",
       "      <th>internet_usage</th>\n",
       "      <th>sex</th>\n",
       "      <th>age</th>\n",
       "      <th>education</th>\n",
       "    </tr>\n",
       "    <tr>\n",
       "      <th>name</th>\n",
       "      <th></th>\n",
       "      <th></th>\n",
       "      <th></th>\n",
       "      <th></th>\n",
       "    </tr>\n",
       "  </thead>\n",
       "  <tbody>\n",
       "    <tr>\n",
       "      <th>Josefina</th>\n",
       "      <td>0</td>\n",
       "      <td>Female</td>\n",
       "      <td>66</td>\n",
       "      <td>Elementary</td>\n",
       "    </tr>\n",
       "    <tr>\n",
       "      <th>Vicki</th>\n",
       "      <td>1</td>\n",
       "      <td>Male</td>\n",
       "      <td>72</td>\n",
       "      <td>Elementary</td>\n",
       "    </tr>\n",
       "    <tr>\n",
       "      <th>...</th>\n",
       "      <td>...</td>\n",
       "      <td>...</td>\n",
       "      <td>...</td>\n",
       "      <td>...</td>\n",
       "    </tr>\n",
       "    <tr>\n",
       "      <th>Christine</th>\n",
       "      <td>1</td>\n",
       "      <td>Male</td>\n",
       "      <td>31</td>\n",
       "      <td>High School</td>\n",
       "    </tr>\n",
       "    <tr>\n",
       "      <th>Kimberly</th>\n",
       "      <td>0</td>\n",
       "      <td>Male</td>\n",
       "      <td>52</td>\n",
       "      <td>Elementary</td>\n",
       "    </tr>\n",
       "  </tbody>\n",
       "</table>\n",
       "<p>2455 rows × 4 columns</p>\n",
       "</div>"
      ],
      "text/plain": [
       "           internet_usage     sex  age    education\n",
       "name                                               \n",
       "Josefina                0  Female   66   Elementary\n",
       "Vicki                   1    Male   72   Elementary\n",
       "...                   ...     ...  ...          ...\n",
       "Christine               1    Male   31  High School\n",
       "Kimberly                0    Male   52   Elementary\n",
       "\n",
       "[2455 rows x 4 columns]"
      ]
     },
     "execution_count": 1,
     "metadata": {},
     "output_type": "execute_result"
    }
   ],
   "source": [
    "import pandas as pd #!\n",
    "\n",
    "df_internet = pd.read_excel('../data/internet_usage_spain.xlsx', sheet_name=1, index_col=0)\n",
    "df_internet"
   ]
  },
  {
   "cell_type": "markdown",
   "id": "2b2291a8-cd06-4f26-b947-aba32d4833d9",
   "metadata": {},
   "source": [
    "# The Covered Solution"
   ]
  },
  {
   "cell_type": "markdown",
   "id": "6262f1f9-8638-4e30-8b3a-ad9abae795c4",
   "metadata": {},
   "source": [
    "<div class=\"alert alert-success\">\n",
    "    and get the following comparisons ↓\n",
    "</div>"
   ]
  },
  {
   "cell_type": "code",
   "execution_count": 55,
   "id": "7282f568-865c-44aa-b418-fae40d608a93",
   "metadata": {},
   "outputs": [
    {
     "data": {
      "text/plain": [
       "dt    0.859878\n",
       "lr    0.833401\n",
       "sv    0.783707\n",
       "dtype: float64"
      ]
     },
     "execution_count": 55,
     "metadata": {},
     "output_type": "execute_result"
    }
   ],
   "source": [
    "?? #! read the full story to find out the solution"
   ]
  },
  {
   "cell_type": "code",
   "execution_count": 99,
   "id": "989c3e9e-957b-48c2-9243-3c8a192d7184",
   "metadata": {},
   "outputs": [
    {
     "data": {
      "text/plain": [
       "lr    0.854817\n",
       "dt    0.804613\n",
       "sv    0.778833\n",
       "dtype: float64"
      ]
     },
     "execution_count": 99,
     "metadata": {},
     "output_type": "execute_result"
    }
   ],
   "source": [
    "?? #! read the full story to find out the solution"
   ]
  },
  {
   "cell_type": "markdown",
   "id": "3bf2e14b-e921-4271-9fdf-497a2a959ff9",
   "metadata": {},
   "source": [
    "# What will we learn?"
   ]
  },
  {
   "cell_type": "markdown",
   "id": "df322cb5-4f42-41f3-827e-9b170f5407f8",
   "metadata": {},
   "source": [
    "- How to automate a repetitive process into a `function()`?\n",
    "- Why we should not evaluate the model with the same data we used to fit it?\n",
    "- How companies could mess up in production if they use overfitted models?\n",
    "- The power of randomisation"
   ]
  },
  {
   "cell_type": "markdown",
   "id": "5cdb46e7-49b5-491e-90af-73065ea33152",
   "metadata": {
    "tags": []
   },
   "source": [
    "# Which concepts will we use?\n",
    "\n",
    "- Train Test Split\n",
    "- Unpacking iterable objects into multiple variables\n",
    "- Overfitting"
   ]
  },
  {
   "cell_type": "markdown",
   "id": "b8d4abeb-3bf0-4d81-80c4-833a0125c8c5",
   "metadata": {
    "tags": []
   },
   "source": [
    "# Requirements?\n",
    "\n",
    "- Accuracy to evaluate a model"
   ]
  },
  {
   "cell_type": "markdown",
   "id": "a419b881-70e2-43bf-be0b-31593a2a000a",
   "metadata": {},
   "source": [
    "# The starting *thing*"
   ]
  },
  {
   "cell_type": "code",
   "execution_count": 1,
   "id": "f0dbec78-3f76-4751-a43d-6014ffbd5cc6",
   "metadata": {},
   "outputs": [
    {
     "data": {
      "text/html": [
       "<div>\n",
       "<style scoped>\n",
       "    .dataframe tbody tr th:only-of-type {\n",
       "        vertical-align: middle;\n",
       "    }\n",
       "\n",
       "    .dataframe tbody tr th {\n",
       "        vertical-align: top;\n",
       "    }\n",
       "\n",
       "    .dataframe thead th {\n",
       "        text-align: right;\n",
       "    }\n",
       "</style>\n",
       "<table border=\"1\" class=\"dataframe\">\n",
       "  <thead>\n",
       "    <tr style=\"text-align: right;\">\n",
       "      <th></th>\n",
       "      <th>internet_usage</th>\n",
       "      <th>sex</th>\n",
       "      <th>age</th>\n",
       "      <th>education</th>\n",
       "    </tr>\n",
       "    <tr>\n",
       "      <th>name</th>\n",
       "      <th></th>\n",
       "      <th></th>\n",
       "      <th></th>\n",
       "      <th></th>\n",
       "    </tr>\n",
       "  </thead>\n",
       "  <tbody>\n",
       "    <tr>\n",
       "      <th>Josefina</th>\n",
       "      <td>0</td>\n",
       "      <td>Female</td>\n",
       "      <td>66</td>\n",
       "      <td>Elementary</td>\n",
       "    </tr>\n",
       "    <tr>\n",
       "      <th>Vicki</th>\n",
       "      <td>1</td>\n",
       "      <td>Male</td>\n",
       "      <td>72</td>\n",
       "      <td>Elementary</td>\n",
       "    </tr>\n",
       "    <tr>\n",
       "      <th>...</th>\n",
       "      <td>...</td>\n",
       "      <td>...</td>\n",
       "      <td>...</td>\n",
       "      <td>...</td>\n",
       "    </tr>\n",
       "    <tr>\n",
       "      <th>Christine</th>\n",
       "      <td>1</td>\n",
       "      <td>Male</td>\n",
       "      <td>31</td>\n",
       "      <td>High School</td>\n",
       "    </tr>\n",
       "    <tr>\n",
       "      <th>Kimberly</th>\n",
       "      <td>0</td>\n",
       "      <td>Male</td>\n",
       "      <td>52</td>\n",
       "      <td>Elementary</td>\n",
       "    </tr>\n",
       "  </tbody>\n",
       "</table>\n",
       "<p>2455 rows × 4 columns</p>\n",
       "</div>"
      ],
      "text/plain": [
       "           internet_usage     sex  age    education\n",
       "name                                               \n",
       "Josefina                0  Female   66   Elementary\n",
       "Vicki                   1    Male   72   Elementary\n",
       "...                   ...     ...  ...          ...\n",
       "Christine               1    Male   31  High School\n",
       "Kimberly                0    Male   52   Elementary\n",
       "\n",
       "[2455 rows x 4 columns]"
      ]
     },
     "execution_count": 1,
     "metadata": {},
     "output_type": "execute_result"
    }
   ],
   "source": [
    "import pandas as pd #!\n",
    "\n",
    "df_internet = pd.read_excel('../data/internet_usage_spain.xlsx', sheet_name=1, index_col=0)\n",
    "df_internet"
   ]
  },
  {
   "cell_type": "markdown",
   "id": "d7fc90cd-2614-4682-b9fe-dd908416590a",
   "metadata": {},
   "source": [
    "# Syllabus for the [Notebook](01script_functions.ipynb)\n",
    "\n",
    "1. Load the Data\n",
    "2. Preprocess the Data\n",
    "3. Feature Selection\n",
    "4. Build & Compare Models' Scores\n",
    "    1. Decision TreeClassifier ( ) Model in Python\n",
    "    2. SVC ( ) Model in Python\n",
    "    3. LogisticRegression () Model in Python\n",
    "5. Function to Automate Lines of Code\n",
    "    1. Make a Procedure Sample for DecisionTreeClassifier()\n",
    "    2. Automate the Procedure into a function()\n",
    "        1. Select all cells and [shift] + [M]\n",
    "        2. Distinguish the line that gives you the result you want and put it into a variable\n",
    "        3. Add a line with a return to tell the function the object you want in the end\n",
    "        4. Indent everything to the right\n",
    "        5. Define the function in the first line\n",
    "        6. What am I gonna change every time I run the function\n",
    "        7. What am I gonna change every time I run the function\n",
    "        8. Generalize the name of the parameter\n",
    "        9. Add docstring\n",
    "6. Calculate Models' Accuracies\n",
    "    1. Decision TreeClassifier() Accuracy\n",
    "    2. SVC() Accuracy\n",
    "    3. LogisticRegression() Accuracy\n",
    "7. Which is the Best Model?\n",
    "8. University Access Exams Analogy\n",
    "9. train_test_split () the Data\n",
    "    1. What the heck is returning the function?\n",
    "    2. fit ( ) the model with Train Data\n",
    "    3. Compare the predictions with the real data\n",
    "10. Optimize All Models & Compare Again\n",
    "    1. Make a Procedure Sample for DecisionTreeClassifier()\n",
    "    2. Automate the Procedure into a function ()\n",
    "11. Calculate Models' Accuracies\n",
    "    1. DecisionTreeClassifier ( ) Accuracy\n",
    "    2. SVC ( ) Accuracy\n",
    "    3. LogisticRegression () Accuracy\n",
    "12. Which is the Best Model with train_test_split()?"
   ]
  },
  {
   "cell_type": "markdown",
   "id": "a1abf662-d4ec-40b9-b610-364359b9c8d1",
   "metadata": {},
   "source": [
    "# The Uncovered Solution"
   ]
  },
  {
   "cell_type": "code",
   "execution_count": 2,
   "id": "04572db3-92c8-4f69-b3f4-6ee1e13f89d8",
   "metadata": {},
   "outputs": [],
   "source": [
    "from sklearn.tree import DecisionTreeClassifier\n",
    "from sklearn.svm import SVC\n",
    "from sklearn.linear_model import LogisticRegression"
   ]
  },
  {
   "cell_type": "code",
   "execution_count": 9,
   "id": "226b9cbc-06cb-4155-9b85-1ee390387b11",
   "metadata": {},
   "outputs": [],
   "source": [
    "df_internet = pd.get_dummies(df_internet, drop_first=True)"
   ]
  },
  {
   "cell_type": "code",
   "execution_count": 10,
   "id": "930c1d3d-28e9-4153-bc7d-7636a6eddcd8",
   "metadata": {},
   "outputs": [],
   "source": [
    "X = df_internet.drop(columns='internet_usage')\n",
    "y = df_internet.internet_usage"
   ]
  },
  {
   "cell_type": "code",
   "execution_count": 16,
   "id": "cf6d02f5-3466-40d7-8463-02f5dd147fe4",
   "metadata": {},
   "outputs": [],
   "source": [
    "model_dt = DecisionTreeClassifier()\n",
    "model_sv = SVC()\n",
    "model_lr = LogisticRegression(max_iter=1000)"
   ]
  },
  {
   "cell_type": "code",
   "execution_count": 17,
   "id": "9e41f6e3-633e-4e10-88a5-6f57635c324b",
   "metadata": {},
   "outputs": [],
   "source": [
    "def calculate_accuracy(model):\n",
    "    model.fit(X,y)\n",
    "    result = model.score(X,y)\n",
    "    \n",
    "    return result"
   ]
  },
  {
   "cell_type": "code",
   "execution_count": 21,
   "id": "99e9bc11-a74a-473e-9a93-ba1ae7d467eb",
   "metadata": {},
   "outputs": [],
   "source": [
    "accuracies = {}"
   ]
  },
  {
   "cell_type": "code",
   "execution_count": 22,
   "id": "331bf0e7-7a1a-4afe-bac7-0e5271d7d930",
   "metadata": {},
   "outputs": [],
   "source": [
    "accuracies['dt'] = calculate_accuracy(model_dt)"
   ]
  },
  {
   "cell_type": "code",
   "execution_count": 23,
   "id": "d2276226-1713-4590-8a42-efbae4f54b4c",
   "metadata": {},
   "outputs": [],
   "source": [
    "accuracies['sv'] = calculate_accuracy(model_sv)"
   ]
  },
  {
   "cell_type": "code",
   "execution_count": 24,
   "id": "1f76622b-3129-44ef-bb54-01ab37a7d94f",
   "metadata": {},
   "outputs": [],
   "source": [
    "accuracies['lr'] = calculate_accuracy(model_lr)"
   ]
  },
  {
   "cell_type": "code",
   "execution_count": 26,
   "id": "0d2de543-f0e2-40c1-bc97-8c9f13aec14f",
   "metadata": {},
   "outputs": [
    {
     "data": {
      "text/plain": [
       "dt    0.859878\n",
       "lr    0.833401\n",
       "sv    0.783707\n",
       "dtype: float64"
      ]
     },
     "execution_count": 26,
     "metadata": {},
     "output_type": "execute_result"
    }
   ],
   "source": [
    "pd.Series(accuracies).sort_values(ascending=False)"
   ]
  },
  {
   "cell_type": "code",
   "execution_count": 27,
   "id": "a6701e34-3a58-4136-b7bc-78d0d762c183",
   "metadata": {},
   "outputs": [],
   "source": [
    "from sklearn.model_selection import train_test_split"
   ]
  },
  {
   "cell_type": "code",
   "execution_count": 28,
   "id": "c74add40-18ef-4f2f-8e6d-05fdfd37be4d",
   "metadata": {},
   "outputs": [],
   "source": [
    ">>> X_train, X_test, y_train, y_test = train_test_split(\n",
    "...     X, y, test_size=0.33, random_state=42)"
   ]
  },
  {
   "cell_type": "code",
   "execution_count": 29,
   "id": "81b6adbd-3590-4fff-93cd-b2ca6e23aaf8",
   "metadata": {},
   "outputs": [],
   "source": [
    "def calculate_accuracy_test(model):\n",
    "    model.fit(X_train,y_train)\n",
    "    result = model.score(X_test,y_test)\n",
    "    \n",
    "    return result"
   ]
  },
  {
   "cell_type": "code",
   "execution_count": 32,
   "id": "f6698387-1881-41ba-ae6c-c06b9da87a9c",
   "metadata": {},
   "outputs": [],
   "source": [
    "accuracies_test = {}"
   ]
  },
  {
   "cell_type": "code",
   "execution_count": 33,
   "id": "7ccaeb28-7026-4664-a2ab-74314478e90f",
   "metadata": {},
   "outputs": [],
   "source": [
    "accuracies_test['dt'] = calculate_accuracy_test(model_dt)"
   ]
  },
  {
   "cell_type": "code",
   "execution_count": 34,
   "id": "4384aa36-1c08-4d08-b2fe-fe1f84df0779",
   "metadata": {},
   "outputs": [],
   "source": [
    "accuracies_test['sv'] = calculate_accuracy_test(model_sv)"
   ]
  },
  {
   "cell_type": "code",
   "execution_count": 35,
   "id": "5ddeb3ba-3654-45a0-9fd6-1cef9ed21c67",
   "metadata": {},
   "outputs": [],
   "source": [
    "accuracies_test['lr'] = calculate_accuracy_test(model_lr)"
   ]
  },
  {
   "cell_type": "code",
   "execution_count": 37,
   "id": "005e4ad3-d5a2-4ef3-af1e-c9d5b46b7dbb",
   "metadata": {},
   "outputs": [
    {
     "data": {
      "text/plain": [
       "lr    0.850801\n",
       "dt    0.806412\n",
       "sv    0.786683\n",
       "dtype: float64"
      ]
     },
     "execution_count": 37,
     "metadata": {},
     "output_type": "execute_result"
    }
   ],
   "source": [
    "pd.Series(accuracies_test).sort_values(ascending=False)"
   ]
  },
  {
   "cell_type": "markdown",
   "id": "f155c431-13d9-4a5f-add8-08b39afbaff2",
   "metadata": {},
   "source": [
    "<a rel=\"license\" href=\"http://creativecommons.org/licenses/by-nc-nd/4.0/\"><img alt=\"Creative Commons License\" style=\"border-width:0\" src=\"https://i.creativecommons.org/l/by-nc-nd/4.0/88x31.png\" /></a><br />This work is licensed under a <a rel=\"license\" href=\"http://creativecommons.org/licenses/by-nc-nd/4.0/\">Creative Commons Attribution-NonCommercial-NoDerivatives 4.0 International License</a>."
   ]
  }
 ],
 "metadata": {
  "authors": [
   {
    "name": "Jesús López",
    "twitter": "https://twitter.com/jsulopz"
   }
  ],
  "interpreter": {
   "hash": "414fd6d7c0f0aefb3d4e2db41edbeb0df03134e10d94a689550561b640a17652"
  },
  "kernelspec": {
   "display_name": "Python 3 (ipykernel)",
   "language": "python",
   "name": "python3"
  },
  "language_info": {
   "codemirror_mode": {
    "name": "ipython",
    "version": 3
   },
   "file_extension": ".py",
   "mimetype": "text/x-python",
   "name": "python",
   "nbconvert_exporter": "python",
   "pygments_lexer": "ipython3",
   "version": "3.9.10"
  },
  "title": "Basic Elements of Programming",
  "toc-autonumbering": true,
  "toc-showcode": false,
  "toc-showtags": false
 },
 "nbformat": 4,
 "nbformat_minor": 5
}
