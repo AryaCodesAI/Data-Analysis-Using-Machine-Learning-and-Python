{
 "cells": [
  {
   "cell_type": "markdown",
   "metadata": {},
   "source": [
    "![](../src/logo.svg)\n",
    "\n",
    "**© Jesús López**\n",
    "\n",
    "Ask him any doubt on **[Twitter](https://twitter.com/jsulopz)** or **[LinkedIn](https://linkedin.com/in/jsulopz)**"
   ]
  },
  {
   "cell_type": "markdown",
   "metadata": {},
   "source": [
    "# 04 | Hyperparameter Tuning with Cross Validation"
   ]
  },
  {
   "cell_type": "markdown",
   "metadata": {
    "tags": []
   },
   "source": [
    "## Load the Data"
   ]
  },
  {
   "cell_type": "markdown",
   "metadata": {},
   "source": [
    "- The goal of this dataset is\n",
    "- To predict if **bank's customers** (rows) `default` next month\n",
    "- Based on their **socio-demographical characteristics** (columns)"
   ]
  },
  {
   "cell_type": "code",
   "execution_count": 3,
   "metadata": {},
   "outputs": [
    {
     "data": {
      "text/html": [
       "<div>\n",
       "<style scoped>\n",
       "    .dataframe tbody tr th:only-of-type {\n",
       "        vertical-align: middle;\n",
       "    }\n",
       "\n",
       "    .dataframe tbody tr th {\n",
       "        vertical-align: top;\n",
       "    }\n",
       "\n",
       "    .dataframe thead th {\n",
       "        text-align: right;\n",
       "    }\n",
       "</style>\n",
       "<table border=\"1\" class=\"dataframe\">\n",
       "  <thead>\n",
       "    <tr style=\"text-align: right;\">\n",
       "      <th></th>\n",
       "      <th>LIMIT_BAL</th>\n",
       "      <th>SEX</th>\n",
       "      <th>EDUCATION</th>\n",
       "      <th>MARRIAGE</th>\n",
       "      <th>AGE</th>\n",
       "      <th>PAY_0</th>\n",
       "      <th>PAY_2</th>\n",
       "      <th>PAY_3</th>\n",
       "      <th>PAY_4</th>\n",
       "      <th>PAY_5</th>\n",
       "      <th>PAY_6</th>\n",
       "      <th>BILL_AMT1</th>\n",
       "      <th>BILL_AMT2</th>\n",
       "      <th>BILL_AMT3</th>\n",
       "      <th>BILL_AMT4</th>\n",
       "      <th>BILL_AMT5</th>\n",
       "      <th>BILL_AMT6</th>\n",
       "      <th>PAY_AMT1</th>\n",
       "      <th>PAY_AMT2</th>\n",
       "      <th>PAY_AMT3</th>\n",
       "      <th>PAY_AMT4</th>\n",
       "      <th>PAY_AMT5</th>\n",
       "      <th>PAY_AMT6</th>\n",
       "      <th>default payment next month</th>\n",
       "    </tr>\n",
       "    <tr>\n",
       "      <th>ID</th>\n",
       "      <th></th>\n",
       "      <th></th>\n",
       "      <th></th>\n",
       "      <th></th>\n",
       "      <th></th>\n",
       "      <th></th>\n",
       "      <th></th>\n",
       "      <th></th>\n",
       "      <th></th>\n",
       "      <th></th>\n",
       "      <th></th>\n",
       "      <th></th>\n",
       "      <th></th>\n",
       "      <th></th>\n",
       "      <th></th>\n",
       "      <th></th>\n",
       "      <th></th>\n",
       "      <th></th>\n",
       "      <th></th>\n",
       "      <th></th>\n",
       "      <th></th>\n",
       "      <th></th>\n",
       "      <th></th>\n",
       "      <th></th>\n",
       "    </tr>\n",
       "  </thead>\n",
       "  <tbody>\n",
       "    <tr>\n",
       "      <th>23022</th>\n",
       "      <td>220000</td>\n",
       "      <td>2</td>\n",
       "      <td>2</td>\n",
       "      <td>1</td>\n",
       "      <td>40</td>\n",
       "      <td>-1</td>\n",
       "      <td>-1</td>\n",
       "      <td>-1</td>\n",
       "      <td>-1</td>\n",
       "      <td>0</td>\n",
       "      <td>0</td>\n",
       "      <td>1129</td>\n",
       "      <td>227</td>\n",
       "      <td>0</td>\n",
       "      <td>13137</td>\n",
       "      <td>13637</td>\n",
       "      <td>9744</td>\n",
       "      <td>227</td>\n",
       "      <td>0</td>\n",
       "      <td>13137</td>\n",
       "      <td>1500</td>\n",
       "      <td>214</td>\n",
       "      <td>0</td>\n",
       "      <td>0</td>\n",
       "    </tr>\n",
       "    <tr>\n",
       "      <th>25406</th>\n",
       "      <td>150000</td>\n",
       "      <td>2</td>\n",
       "      <td>1</td>\n",
       "      <td>2</td>\n",
       "      <td>27</td>\n",
       "      <td>-1</td>\n",
       "      <td>3</td>\n",
       "      <td>2</td>\n",
       "      <td>-1</td>\n",
       "      <td>-1</td>\n",
       "      <td>-1</td>\n",
       "      <td>942</td>\n",
       "      <td>616</td>\n",
       "      <td>290</td>\n",
       "      <td>326</td>\n",
       "      <td>740</td>\n",
       "      <td>17481</td>\n",
       "      <td>0</td>\n",
       "      <td>0</td>\n",
       "      <td>362</td>\n",
       "      <td>740</td>\n",
       "      <td>17481</td>\n",
       "      <td>1000</td>\n",
       "      <td>1</td>\n",
       "    </tr>\n",
       "    <tr>\n",
       "      <th>25492</th>\n",
       "      <td>60000</td>\n",
       "      <td>2</td>\n",
       "      <td>3</td>\n",
       "      <td>2</td>\n",
       "      <td>22</td>\n",
       "      <td>-1</td>\n",
       "      <td>-1</td>\n",
       "      <td>-1</td>\n",
       "      <td>-1</td>\n",
       "      <td>0</td>\n",
       "      <td>0</td>\n",
       "      <td>4049</td>\n",
       "      <td>1808</td>\n",
       "      <td>3496</td>\n",
       "      <td>11548</td>\n",
       "      <td>14519</td>\n",
       "      <td>5861</td>\n",
       "      <td>1815</td>\n",
       "      <td>3496</td>\n",
       "      <td>11548</td>\n",
       "      <td>3500</td>\n",
       "      <td>200</td>\n",
       "      <td>1100</td>\n",
       "      <td>0</td>\n",
       "    </tr>\n",
       "    <tr>\n",
       "      <th>18960</th>\n",
       "      <td>300000</td>\n",
       "      <td>2</td>\n",
       "      <td>2</td>\n",
       "      <td>2</td>\n",
       "      <td>30</td>\n",
       "      <td>-1</td>\n",
       "      <td>-1</td>\n",
       "      <td>-1</td>\n",
       "      <td>-1</td>\n",
       "      <td>-1</td>\n",
       "      <td>2</td>\n",
       "      <td>8805</td>\n",
       "      <td>2186</td>\n",
       "      <td>0</td>\n",
       "      <td>290</td>\n",
       "      <td>707</td>\n",
       "      <td>161</td>\n",
       "      <td>2186</td>\n",
       "      <td>0</td>\n",
       "      <td>290</td>\n",
       "      <td>1209</td>\n",
       "      <td>0</td>\n",
       "      <td>7705</td>\n",
       "      <td>0</td>\n",
       "    </tr>\n",
       "    <tr>\n",
       "      <th>21596</th>\n",
       "      <td>60000</td>\n",
       "      <td>2</td>\n",
       "      <td>1</td>\n",
       "      <td>2</td>\n",
       "      <td>24</td>\n",
       "      <td>0</td>\n",
       "      <td>0</td>\n",
       "      <td>0</td>\n",
       "      <td>0</td>\n",
       "      <td>0</td>\n",
       "      <td>0</td>\n",
       "      <td>57802</td>\n",
       "      <td>58960</td>\n",
       "      <td>60862</td>\n",
       "      <td>59279</td>\n",
       "      <td>59176</td>\n",
       "      <td>58128</td>\n",
       "      <td>2960</td>\n",
       "      <td>2866</td>\n",
       "      <td>2279</td>\n",
       "      <td>2276</td>\n",
       "      <td>2128</td>\n",
       "      <td>2237</td>\n",
       "      <td>0</td>\n",
       "    </tr>\n",
       "    <tr>\n",
       "      <th>13305</th>\n",
       "      <td>340000</td>\n",
       "      <td>2</td>\n",
       "      <td>1</td>\n",
       "      <td>2</td>\n",
       "      <td>29</td>\n",
       "      <td>0</td>\n",
       "      <td>0</td>\n",
       "      <td>0</td>\n",
       "      <td>0</td>\n",
       "      <td>0</td>\n",
       "      <td>0</td>\n",
       "      <td>82770</td>\n",
       "      <td>54523</td>\n",
       "      <td>30874</td>\n",
       "      <td>34939</td>\n",
       "      <td>40537</td>\n",
       "      <td>41658</td>\n",
       "      <td>10000</td>\n",
       "      <td>5874</td>\n",
       "      <td>5000</td>\n",
       "      <td>10000</td>\n",
       "      <td>2000</td>\n",
       "      <td>1400</td>\n",
       "      <td>0</td>\n",
       "    </tr>\n",
       "    <tr>\n",
       "      <th>10320</th>\n",
       "      <td>260000</td>\n",
       "      <td>2</td>\n",
       "      <td>2</td>\n",
       "      <td>2</td>\n",
       "      <td>51</td>\n",
       "      <td>0</td>\n",
       "      <td>0</td>\n",
       "      <td>0</td>\n",
       "      <td>0</td>\n",
       "      <td>0</td>\n",
       "      <td>0</td>\n",
       "      <td>200964</td>\n",
       "      <td>205714</td>\n",
       "      <td>208756</td>\n",
       "      <td>168828</td>\n",
       "      <td>155644</td>\n",
       "      <td>159135</td>\n",
       "      <td>8000</td>\n",
       "      <td>8065</td>\n",
       "      <td>7000</td>\n",
       "      <td>10000</td>\n",
       "      <td>10000</td>\n",
       "      <td>10000</td>\n",
       "      <td>0</td>\n",
       "    </tr>\n",
       "    <tr>\n",
       "      <th>24223</th>\n",
       "      <td>500000</td>\n",
       "      <td>1</td>\n",
       "      <td>2</td>\n",
       "      <td>2</td>\n",
       "      <td>32</td>\n",
       "      <td>0</td>\n",
       "      <td>0</td>\n",
       "      <td>0</td>\n",
       "      <td>0</td>\n",
       "      <td>0</td>\n",
       "      <td>-1</td>\n",
       "      <td>331751</td>\n",
       "      <td>254846</td>\n",
       "      <td>162969</td>\n",
       "      <td>142735</td>\n",
       "      <td>76989</td>\n",
       "      <td>106476</td>\n",
       "      <td>10558</td>\n",
       "      <td>7410</td>\n",
       "      <td>3068</td>\n",
       "      <td>94</td>\n",
       "      <td>106476</td>\n",
       "      <td>152</td>\n",
       "      <td>0</td>\n",
       "    </tr>\n",
       "    <tr>\n",
       "      <th>6812</th>\n",
       "      <td>420000</td>\n",
       "      <td>2</td>\n",
       "      <td>2</td>\n",
       "      <td>2</td>\n",
       "      <td>36</td>\n",
       "      <td>-1</td>\n",
       "      <td>-1</td>\n",
       "      <td>-1</td>\n",
       "      <td>0</td>\n",
       "      <td>-1</td>\n",
       "      <td>-1</td>\n",
       "      <td>3581</td>\n",
       "      <td>16629</td>\n",
       "      <td>33433</td>\n",
       "      <td>28468</td>\n",
       "      <td>35669</td>\n",
       "      <td>23317</td>\n",
       "      <td>16647</td>\n",
       "      <td>33595</td>\n",
       "      <td>16000</td>\n",
       "      <td>36625</td>\n",
       "      <td>23317</td>\n",
       "      <td>23983</td>\n",
       "      <td>0</td>\n",
       "    </tr>\n",
       "    <tr>\n",
       "      <th>7825</th>\n",
       "      <td>110000</td>\n",
       "      <td>1</td>\n",
       "      <td>2</td>\n",
       "      <td>2</td>\n",
       "      <td>41</td>\n",
       "      <td>0</td>\n",
       "      <td>0</td>\n",
       "      <td>0</td>\n",
       "      <td>0</td>\n",
       "      <td>0</td>\n",
       "      <td>0</td>\n",
       "      <td>120767</td>\n",
       "      <td>133593</td>\n",
       "      <td>125852</td>\n",
       "      <td>118254</td>\n",
       "      <td>120537</td>\n",
       "      <td>112021</td>\n",
       "      <td>24800</td>\n",
       "      <td>4400</td>\n",
       "      <td>4300</td>\n",
       "      <td>4205</td>\n",
       "      <td>4500</td>\n",
       "      <td>4304</td>\n",
       "      <td>0</td>\n",
       "    </tr>\n",
       "  </tbody>\n",
       "</table>\n",
       "</div>"
      ],
      "text/plain": [
       "       LIMIT_BAL  SEX  EDUCATION  MARRIAGE  AGE  PAY_0  PAY_2  PAY_3  PAY_4  \\\n",
       "ID                                                                            \n",
       "23022     220000    2          2         1   40     -1     -1     -1     -1   \n",
       "25406     150000    2          1         2   27     -1      3      2     -1   \n",
       "25492      60000    2          3         2   22     -1     -1     -1     -1   \n",
       "18960     300000    2          2         2   30     -1     -1     -1     -1   \n",
       "21596      60000    2          1         2   24      0      0      0      0   \n",
       "13305     340000    2          1         2   29      0      0      0      0   \n",
       "10320     260000    2          2         2   51      0      0      0      0   \n",
       "24223     500000    1          2         2   32      0      0      0      0   \n",
       "6812      420000    2          2         2   36     -1     -1     -1      0   \n",
       "7825      110000    1          2         2   41      0      0      0      0   \n",
       "\n",
       "       PAY_5  PAY_6  BILL_AMT1  BILL_AMT2  BILL_AMT3  BILL_AMT4  BILL_AMT5  \\\n",
       "ID                                                                           \n",
       "23022      0      0       1129        227          0      13137      13637   \n",
       "25406     -1     -1        942        616        290        326        740   \n",
       "25492      0      0       4049       1808       3496      11548      14519   \n",
       "18960     -1      2       8805       2186          0        290        707   \n",
       "21596      0      0      57802      58960      60862      59279      59176   \n",
       "13305      0      0      82770      54523      30874      34939      40537   \n",
       "10320      0      0     200964     205714     208756     168828     155644   \n",
       "24223      0     -1     331751     254846     162969     142735      76989   \n",
       "6812      -1     -1       3581      16629      33433      28468      35669   \n",
       "7825       0      0     120767     133593     125852     118254     120537   \n",
       "\n",
       "       BILL_AMT6  PAY_AMT1  PAY_AMT2  PAY_AMT3  PAY_AMT4  PAY_AMT5  PAY_AMT6  \\\n",
       "ID                                                                             \n",
       "23022       9744       227         0     13137      1500       214         0   \n",
       "25406      17481         0         0       362       740     17481      1000   \n",
       "25492       5861      1815      3496     11548      3500       200      1100   \n",
       "18960        161      2186         0       290      1209         0      7705   \n",
       "21596      58128      2960      2866      2279      2276      2128      2237   \n",
       "13305      41658     10000      5874      5000     10000      2000      1400   \n",
       "10320     159135      8000      8065      7000     10000     10000     10000   \n",
       "24223     106476     10558      7410      3068        94    106476       152   \n",
       "6812       23317     16647     33595     16000     36625     23317     23983   \n",
       "7825      112021     24800      4400      4300      4205      4500      4304   \n",
       "\n",
       "       default payment next month  \n",
       "ID                                 \n",
       "23022                           0  \n",
       "25406                           1  \n",
       "25492                           0  \n",
       "18960                           0  \n",
       "21596                           0  \n",
       "13305                           0  \n",
       "10320                           0  \n",
       "24223                           0  \n",
       "6812                            0  \n",
       "7825                            0  "
      ]
     },
     "execution_count": 3,
     "metadata": {},
     "output_type": "execute_result"
    }
   ],
   "source": [
    "import pandas as pd\n",
    "pd.set_option(\"display.max_columns\", None)\n",
    "\n",
    "url = 'https://archive.ics.uci.edu/ml/machine-learning-databases/00350/default%20of%20credit%20card%20clients.xls'\n",
    "df_default = pd.read_excel(io=url, header=1, index_col=0)\n",
    "df_default.sample(10)"
   ]
  },
  {
   "cell_type": "markdown",
   "metadata": {},
   "source": [
    "## Preprocess the Data"
   ]
  },
  {
   "cell_type": "code",
   "execution_count": 5,
   "metadata": {},
   "outputs": [
    {
     "data": {
      "text/plain": [
       "LIMIT_BAL                     0\n",
       "SEX                           0\n",
       "                             ..\n",
       "PAY_AMT6                      0\n",
       "default payment next month    0\n",
       "Length: 24, dtype: int64"
      ]
     },
     "execution_count": 5,
     "metadata": {},
     "output_type": "execute_result"
    }
   ],
   "source": [
    "df_default.isna().sum()"
   ]
  },
  {
   "cell_type": "code",
   "execution_count": 6,
   "metadata": {},
   "outputs": [
    {
     "data": {
      "text/plain": [
       "0"
      ]
     },
     "execution_count": 6,
     "metadata": {},
     "output_type": "execute_result"
    }
   ],
   "source": [
    "df_default.isna().sum().sum()"
   ]
  },
  {
   "cell_type": "code",
   "execution_count": 10,
   "metadata": {},
   "outputs": [],
   "source": [
    "df_default = pd.get_dummies(df_default, drop_first=True)"
   ]
  },
  {
   "cell_type": "markdown",
   "metadata": {},
   "source": [
    "## Feature Selection"
   ]
  },
  {
   "cell_type": "code",
   "execution_count": 12,
   "metadata": {},
   "outputs": [],
   "source": [
    "y = df_default.iloc[:, -1]"
   ]
  },
  {
   "cell_type": "code",
   "execution_count": 13,
   "metadata": {},
   "outputs": [],
   "source": [
    "X = df_default.iloc[:, :-1]"
   ]
  },
  {
   "cell_type": "markdown",
   "metadata": {},
   "source": [
    "## Train Test Split"
   ]
  },
  {
   "cell_type": "code",
   "execution_count": 4,
   "metadata": {},
   "outputs": [],
   "source": [
    "from sklearn.model_selection import train_test_split"
   ]
  },
  {
   "cell_type": "code",
   "execution_count": 15,
   "metadata": {},
   "outputs": [],
   "source": [
    ">>> X_train, X_test, y_train, y_test = train_test_split(\n",
    "...     X, y, test_size=0.33, random_state=42)"
   ]
  },
  {
   "cell_type": "markdown",
   "metadata": {},
   "source": [
    "## `DecisionTreeClassifier()` with Default Hyperparameters"
   ]
  },
  {
   "cell_type": "code",
   "execution_count": 16,
   "metadata": {},
   "outputs": [],
   "source": [
    "from sklearn.tree import DecisionTreeClassifier"
   ]
  },
  {
   "cell_type": "code",
   "execution_count": 17,
   "metadata": {},
   "outputs": [],
   "source": [
    "model_dt = DecisionTreeClassifier()"
   ]
  },
  {
   "cell_type": "code",
   "execution_count": 18,
   "metadata": {},
   "outputs": [
    {
     "data": {
      "text/plain": [
       "DecisionTreeClassifier()"
      ]
     },
     "execution_count": 18,
     "metadata": {},
     "output_type": "execute_result"
    }
   ],
   "source": [
    "model_dt.fit(X_train, y_train)"
   ]
  },
  {
   "cell_type": "markdown",
   "metadata": {},
   "source": [
    "### Accuracy"
   ]
  },
  {
   "cell_type": "markdown",
   "metadata": {},
   "source": [
    "#### > In `train` data"
   ]
  },
  {
   "cell_type": "code",
   "execution_count": 19,
   "metadata": {},
   "outputs": [
    {
     "data": {
      "text/plain": [
       "0.9995024875621891"
      ]
     },
     "execution_count": 19,
     "metadata": {},
     "output_type": "execute_result"
    }
   ],
   "source": [
    "model_dt.score(X_train, y_train)"
   ]
  },
  {
   "cell_type": "markdown",
   "metadata": {},
   "source": [
    "#### > In `test` data"
   ]
  },
  {
   "cell_type": "code",
   "execution_count": 18,
   "metadata": {},
   "outputs": [
    {
     "data": {
      "text/plain": [
       "0.7283838383838384"
      ]
     },
     "execution_count": 18,
     "metadata": {},
     "output_type": "execute_result"
    }
   ],
   "source": [
    "model_dt.score(X_test, y_test)"
   ]
  },
  {
   "cell_type": "markdown",
   "metadata": {},
   "source": [
    "### Model Visualization"
   ]
  },
  {
   "cell_type": "code",
   "execution_count": 20,
   "metadata": {},
   "outputs": [],
   "source": [
    "from sklearn.tree import plot_tree"
   ]
  },
  {
   "cell_type": "code",
   "execution_count": 21,
   "metadata": {},
   "outputs": [
    {
     "data": {
      "image/png": "[encoded data removed]",
      "text/plain": [
       "<Figure size 432x288 with 1 Axes>"
      ]
     },
     "metadata": {
      "needs_background": "light"
     },
     "output_type": "display_data"
    }
   ],
   "source": [
    "plot_tree(decision_tree=model_dt, feature_names=X_train.columns, filled=True);"
   ]
  },
  {
   "cell_type": "markdown",
   "metadata": {
    "tags": []
   },
   "source": [
    "## `DecisionTreeClassifier()` with Custom Hyperparameters"
   ]
  },
  {
   "cell_type": "code",
   "execution_count": 26,
   "metadata": {},
   "outputs": [
    {
     "data": {
      "text/html": [
       "<iframe width=\"560\" height=\"315\" src=\"https://www.youtube.com/embed/7VeUPuFGJHk\" title=\"YouTube video player\" frameborder=\"0\" allow=\"accelerometer; autoplay; clipboard-write; encrypted-media; gyroscope; picture-in-picture\" allowfullscreen></iframe>\n"
      ],
      "text/plain": [
       "<IPython.core.display.HTML object>"
      ]
     },
     "metadata": {},
     "output_type": "display_data"
    }
   ],
   "source": [
    "%%HTML\n",
    "<iframe width=\"560\" height=\"315\" src=\"https://www.youtube.com/embed/7VeUPuFGJHk\" title=\"YouTube video player\" frameborder=\"0\" allow=\"accelerometer; autoplay; clipboard-write; encrypted-media; gyroscope; picture-in-picture\" allowfullscreen></iframe>"
   ]
  },
  {
   "cell_type": "code",
   "execution_count": 27,
   "metadata": {},
   "outputs": [],
   "source": [
    "model = DecisionTreeClassifier()"
   ]
  },
  {
   "cell_type": "code",
   "execution_count": 28,
   "metadata": {},
   "outputs": [
    {
     "data": {
      "text/plain": [
       "{'ccp_alpha': 0.0,\n",
       " 'class_weight': None,\n",
       " 'criterion': 'gini',\n",
       " 'max_depth': None,\n",
       " 'max_features': None,\n",
       " 'max_leaf_nodes': None,\n",
       " 'min_impurity_decrease': 0.0,\n",
       " 'min_samples_leaf': 1,\n",
       " 'min_samples_split': 2,\n",
       " 'min_weight_fraction_leaf': 0.0,\n",
       " 'random_state': None,\n",
       " 'splitter': 'best'}"
      ]
     },
     "execution_count": 28,
     "metadata": {},
     "output_type": "execute_result"
    }
   ],
   "source": [
    "model.get_params()"
   ]
  },
  {
   "cell_type": "markdown",
   "metadata": {},
   "source": [
    "### 1st Configuration"
   ]
  },
  {
   "cell_type": "markdown",
   "metadata": {},
   "source": [
    "#### Accuracy"
   ]
  },
  {
   "cell_type": "markdown",
   "metadata": {},
   "source": [
    "##### > In `train` data"
   ]
  },
  {
   "cell_type": "code",
   "execution_count": 29,
   "metadata": {},
   "outputs": [],
   "source": [
    "model_dt = DecisionTreeClassifier(max_depth=2, min_samples_leaf=150)"
   ]
  },
  {
   "cell_type": "code",
   "execution_count": 30,
   "metadata": {},
   "outputs": [
    {
     "data": {
      "text/plain": [
       "DecisionTreeClassifier(max_depth=2, min_samples_leaf=150)"
      ]
     },
     "execution_count": 30,
     "metadata": {},
     "output_type": "execute_result"
    }
   ],
   "source": [
    "model_dt.fit(X_train, y_train)"
   ]
  },
  {
   "cell_type": "code",
   "execution_count": 31,
   "metadata": {},
   "outputs": [
    {
     "data": {
      "text/plain": [
       "0.8186567164179105"
      ]
     },
     "execution_count": 31,
     "metadata": {},
     "output_type": "execute_result"
    }
   ],
   "source": [
    "model_dt.score(X_train, y_train)"
   ]
  },
  {
   "cell_type": "markdown",
   "metadata": {},
   "source": [
    "##### > In `test` data"
   ]
  },
  {
   "cell_type": "code",
   "execution_count": 32,
   "metadata": {},
   "outputs": [
    {
     "data": {
      "text/plain": [
       "0.8215151515151515"
      ]
     },
     "execution_count": 32,
     "metadata": {},
     "output_type": "execute_result"
    }
   ],
   "source": [
    "model_dt.score(X_test, y_test)"
   ]
  },
  {
   "cell_type": "markdown",
   "metadata": {},
   "source": [
    "#### Model Visualization"
   ]
  },
  {
   "cell_type": "code",
   "execution_count": 33,
   "metadata": {},
   "outputs": [
    {
     "data": {
      "image/png": "[encoded data removed]",
      "text/plain": [
       "<Figure size 432x288 with 1 Axes>"
      ]
     },
     "metadata": {
      "needs_background": "light"
     },
     "output_type": "display_data"
    }
   ],
   "source": [
    "plot_tree(decision_tree=model_dt, feature_names=X_train.columns, filled=True);"
   ]
  },
  {
   "cell_type": "markdown",
   "metadata": {},
   "source": [
    "### 2nd Configuration"
   ]
  },
  {
   "cell_type": "markdown",
   "metadata": {},
   "source": [
    "#### Accuracy"
   ]
  },
  {
   "cell_type": "markdown",
   "metadata": {},
   "source": [
    "##### > In `train` data"
   ]
  },
  {
   "cell_type": "code",
   "execution_count": 34,
   "metadata": {},
   "outputs": [],
   "source": [
    "model_dt = DecisionTreeClassifier(max_depth=3)"
   ]
  },
  {
   "cell_type": "code",
   "execution_count": 35,
   "metadata": {},
   "outputs": [
    {
     "data": {
      "text/plain": [
       "DecisionTreeClassifier(max_depth=3)"
      ]
     },
     "execution_count": 35,
     "metadata": {},
     "output_type": "execute_result"
    }
   ],
   "source": [
    "model_dt.fit(X_train, y_train)"
   ]
  },
  {
   "cell_type": "code",
   "execution_count": 36,
   "metadata": {},
   "outputs": [
    {
     "data": {
      "text/plain": [
       "0.8207960199004976"
      ]
     },
     "execution_count": 36,
     "metadata": {},
     "output_type": "execute_result"
    }
   ],
   "source": [
    "model_dt.score(X_train, y_train)"
   ]
  },
  {
   "cell_type": "markdown",
   "metadata": {},
   "source": [
    "##### > In `test` data"
   ]
  },
  {
   "cell_type": "code",
   "execution_count": 37,
   "metadata": {},
   "outputs": [
    {
     "data": {
      "text/plain": [
       "0.8222222222222222"
      ]
     },
     "execution_count": 37,
     "metadata": {},
     "output_type": "execute_result"
    }
   ],
   "source": [
    "model_dt.score(X_test, y_test)"
   ]
  },
  {
   "cell_type": "markdown",
   "metadata": {},
   "source": [
    "#### Model Visualization"
   ]
  },
  {
   "cell_type": "code",
   "execution_count": 39,
   "metadata": {},
   "outputs": [
    {
     "data": {
      "image/png": "[encoded data removed]",
      "text/plain": [
       "<Figure size 432x288 with 1 Axes>"
      ]
     },
     "metadata": {
      "needs_background": "light"
     },
     "output_type": "display_data"
    }
   ],
   "source": [
    "plot_tree(decision_tree=model_dt, feature_names=X_train.columns, filled=True);"
   ]
  },
  {
   "cell_type": "markdown",
   "metadata": {},
   "source": [
    "### 3rd Configuration"
   ]
  },
  {
   "cell_type": "markdown",
   "metadata": {},
   "source": [
    "#### Accuracy"
   ]
  },
  {
   "cell_type": "markdown",
   "metadata": {},
   "source": [
    "##### > In `train` data"
   ]
  },
  {
   "cell_type": "code",
   "execution_count": 40,
   "metadata": {},
   "outputs": [],
   "source": [
    "model_dt = DecisionTreeClassifier(max_depth=4)"
   ]
  },
  {
   "cell_type": "code",
   "execution_count": 41,
   "metadata": {},
   "outputs": [
    {
     "data": {
      "text/plain": [
       "DecisionTreeClassifier(max_depth=4)"
      ]
     },
     "execution_count": 41,
     "metadata": {},
     "output_type": "execute_result"
    }
   ],
   "source": [
    "model_dt.fit(X_train, y_train)"
   ]
  },
  {
   "cell_type": "code",
   "execution_count": 42,
   "metadata": {},
   "outputs": [
    {
     "data": {
      "text/plain": [
       "0.8232338308457712"
      ]
     },
     "execution_count": 42,
     "metadata": {},
     "output_type": "execute_result"
    }
   ],
   "source": [
    "model_dt.score(X_train, y_train)"
   ]
  },
  {
   "cell_type": "markdown",
   "metadata": {},
   "source": [
    "##### > In `test` data"
   ]
  },
  {
   "cell_type": "code",
   "execution_count": 43,
   "metadata": {},
   "outputs": [
    {
     "data": {
      "text/plain": [
       "0.8205050505050505"
      ]
     },
     "execution_count": 43,
     "metadata": {},
     "output_type": "execute_result"
    }
   ],
   "source": [
    "model_dt.score(X_test, y_test)"
   ]
  },
  {
   "cell_type": "markdown",
   "metadata": {},
   "source": [
    "#### Model Visualization"
   ]
  },
  {
   "cell_type": "code",
   "execution_count": 45,
   "metadata": {},
   "outputs": [
    {
     "data": {
      "image/png": "[encoded data removed]",
      "text/plain": [
       "<Figure size 432x288 with 1 Axes>"
      ]
     },
     "metadata": {
      "needs_background": "light"
     },
     "output_type": "display_data"
    }
   ],
   "source": [
    "plot_tree(decision_tree=model_dt, feature_names=X_train.columns, filled=True);"
   ]
  },
  {
   "cell_type": "markdown",
   "metadata": {},
   "source": [
    "### 4th Configuration"
   ]
  },
  {
   "cell_type": "markdown",
   "metadata": {},
   "source": [
    "#### Accuracy"
   ]
  },
  {
   "cell_type": "markdown",
   "metadata": {},
   "source": [
    "##### > In `train` data"
   ]
  },
  {
   "cell_type": "code",
   "execution_count": 46,
   "metadata": {},
   "outputs": [],
   "source": [
    "model_dt = DecisionTreeClassifier(min_samples_leaf=100)"
   ]
  },
  {
   "cell_type": "code",
   "execution_count": 47,
   "metadata": {},
   "outputs": [
    {
     "data": {
      "text/plain": [
       "DecisionTreeClassifier(min_samples_leaf=100)"
      ]
     },
     "execution_count": 47,
     "metadata": {},
     "output_type": "execute_result"
    }
   ],
   "source": [
    "model_dt.fit(X_train, y_train)"
   ]
  },
  {
   "cell_type": "code",
   "execution_count": 48,
   "metadata": {},
   "outputs": [
    {
     "data": {
      "text/plain": [
       "0.8244278606965174"
      ]
     },
     "execution_count": 48,
     "metadata": {},
     "output_type": "execute_result"
    }
   ],
   "source": [
    "model_dt.score(X_train, y_train)"
   ]
  },
  {
   "cell_type": "markdown",
   "metadata": {},
   "source": [
    "##### > In `test` data"
   ]
  },
  {
   "cell_type": "code",
   "execution_count": 49,
   "metadata": {},
   "outputs": [
    {
     "data": {
      "text/plain": [
       "0.8161616161616162"
      ]
     },
     "execution_count": 49,
     "metadata": {},
     "output_type": "execute_result"
    }
   ],
   "source": [
    "model_dt.score(X_test, y_test)"
   ]
  },
  {
   "cell_type": "markdown",
   "metadata": {},
   "source": [
    "#### Model Visualization"
   ]
  },
  {
   "cell_type": "code",
   "execution_count": 50,
   "metadata": {},
   "outputs": [
    {
     "data": {
      "image/png": "[encoded data removed]",
      "text/plain": [
       "<Figure size 432x288 with 1 Axes>"
      ]
     },
     "metadata": {
      "needs_background": "light"
     },
     "output_type": "display_data"
    }
   ],
   "source": [
    "plot_tree(decision_tree=model_dt, feature_names=X_train.columns, filled=True);"
   ]
  },
  {
   "cell_type": "markdown",
   "metadata": {},
   "source": [
    "### 5th Configuration"
   ]
  },
  {
   "cell_type": "markdown",
   "metadata": {},
   "source": [
    "#### Accuracy"
   ]
  },
  {
   "cell_type": "markdown",
   "metadata": {},
   "source": [
    "##### > In `train` data"
   ]
  },
  {
   "cell_type": "code",
   "execution_count": 51,
   "metadata": {},
   "outputs": [],
   "source": [
    "model_dt = DecisionTreeClassifier(max_depth=7, min_samples_leaf=100)"
   ]
  },
  {
   "cell_type": "code",
   "execution_count": 52,
   "metadata": {},
   "outputs": [
    {
     "data": {
      "text/plain": [
       "DecisionTreeClassifier(max_depth=7, min_samples_leaf=100)"
      ]
     },
     "execution_count": 52,
     "metadata": {},
     "output_type": "execute_result"
    }
   ],
   "source": [
    "model_dt.fit(X_train, y_train)"
   ]
  },
  {
   "cell_type": "code",
   "execution_count": 53,
   "metadata": {},
   "outputs": [
    {
     "data": {
      "text/plain": [
       "0.8237313432835821"
      ]
     },
     "execution_count": 53,
     "metadata": {},
     "output_type": "execute_result"
    }
   ],
   "source": [
    "model_dt.score(X_train, y_train)"
   ]
  },
  {
   "cell_type": "markdown",
   "metadata": {},
   "source": [
    "##### > In `test` data"
   ]
  },
  {
   "cell_type": "code",
   "execution_count": 54,
   "metadata": {},
   "outputs": [
    {
     "data": {
      "text/plain": [
       "0.8177777777777778"
      ]
     },
     "execution_count": 54,
     "metadata": {},
     "output_type": "execute_result"
    }
   ],
   "source": [
    "model_dt.score(X_test, y_test)"
   ]
  },
  {
   "cell_type": "markdown",
   "metadata": {},
   "source": [
    "#### Model Visualization"
   ]
  },
  {
   "cell_type": "code",
   "execution_count": 55,
   "metadata": {},
   "outputs": [
    {
     "data": {
      "image/png": "[encoded data removed]",
      "text/plain": [
       "<Figure size 432x288 with 1 Axes>"
      ]
     },
     "metadata": {
      "needs_background": "light"
     },
     "output_type": "display_data"
    }
   ],
   "source": [
    "plot_tree(decision_tree=model_dt, feature_names=X_train.columns, filled=True);"
   ]
  },
  {
   "cell_type": "markdown",
   "metadata": {},
   "source": [
    "## `GridSearchCV()` to find Best Hyperparameters"
   ]
  },
  {
   "cell_type": "markdown",
   "metadata": {},
   "source": [
    "- [ ] How many scores for each fold?"
   ]
  },
  {
   "cell_type": "markdown",
   "metadata": {},
   "source": [
    "<img src=\"src/grid_search_cross_validation.png\" style=\"margin-top: 100px\"/>"
   ]
  },
  {
   "cell_type": "code",
   "execution_count": 56,
   "metadata": {},
   "outputs": [],
   "source": [
    "from sklearn.model_selection import GridSearchCV"
   ]
  },
  {
   "cell_type": "code",
   "execution_count": 57,
   "metadata": {},
   "outputs": [],
   "source": [
    "model_dt = DecisionTreeClassifier()"
   ]
  },
  {
   "cell_type": "code",
   "execution_count": 65,
   "metadata": {},
   "outputs": [
    {
     "data": {
      "text/plain": [
       "{'ccp_alpha': 0.0,\n",
       " 'class_weight': None,\n",
       " 'criterion': 'gini',\n",
       " 'max_depth': None,\n",
       " 'max_features': None,\n",
       " 'max_leaf_nodes': None,\n",
       " 'min_impurity_decrease': 0.0,\n",
       " 'min_samples_leaf': 1,\n",
       " 'min_samples_split': 2,\n",
       " 'min_weight_fraction_leaf': 0.0,\n",
       " 'random_state': None,\n",
       " 'splitter': 'best'}"
      ]
     },
     "execution_count": 65,
     "metadata": {},
     "output_type": "execute_result"
    }
   ],
   "source": [
    "model_dt.get_params()"
   ]
  },
  {
   "cell_type": "code",
   "execution_count": 66,
   "metadata": {},
   "outputs": [],
   "source": [
    "param_grid = {\n",
    "    'max_depth': [None, 2, 3, 4, 5, 10],\n",
    "    'min_samples_leaf': [1, 50, 100, 200, 400, 800, 1600],\n",
    "    'criterion': ['gini', 'entropy']\n",
    "}"
   ]
  },
  {
   "cell_type": "code",
   "execution_count": 67,
   "metadata": {},
   "outputs": [],
   "source": [
    "cv = GridSearchCV(estimator=model_dt, param_grid=param_grid, cv=5, verbose=1)"
   ]
  },
  {
   "cell_type": "code",
   "execution_count": 68,
   "metadata": {},
   "outputs": [
    {
     "data": {
      "text/plain": [
       "420"
      ]
     },
     "execution_count": 68,
     "metadata": {},
     "output_type": "execute_result"
    }
   ],
   "source": [
    "5*6*7*2"
   ]
  },
  {
   "cell_type": "code",
   "execution_count": 69,
   "metadata": {},
   "outputs": [
    {
     "data": {
      "text/plain": [
       "84"
      ]
     },
     "execution_count": 69,
     "metadata": {},
     "output_type": "execute_result"
    }
   ],
   "source": [
    "6*7*2"
   ]
  },
  {
   "cell_type": "code",
   "execution_count": 70,
   "metadata": {},
   "outputs": [
    {
     "name": "stdout",
     "output_type": "stream",
     "text": [
      "Fitting 5 folds for each of 84 candidates, totalling 420 fits\n"
     ]
    },
    {
     "data": {
      "text/plain": [
       "GridSearchCV(cv=5, estimator=DecisionTreeClassifier(),\n",
       "             param_grid={'criterion': ['gini', 'entropy'],\n",
       "                         'max_depth': [None, 2, 3, 4, 5, 10],\n",
       "                         'min_samples_leaf': [1, 50, 100, 200, 400, 800, 1600]},\n",
       "             verbose=1)"
      ]
     },
     "execution_count": 70,
     "metadata": {},
     "output_type": "execute_result"
    }
   ],
   "source": [
    "cv.fit(X_train, y_train)"
   ]
  },
  {
   "cell_type": "code",
   "execution_count": 71,
   "metadata": {},
   "outputs": [],
   "source": [
    "cv = GridSearchCV(estimator=model_dt, param_grid=param_grid, cv=5, verbose=2)"
   ]
  },
  {
   "cell_type": "code",
   "execution_count": 72,
   "metadata": {},
   "outputs": [
    {
     "name": "stdout",
     "output_type": "stream",
     "text": [
      "Fitting 5 folds for each of 84 candidates, totalling 420 fits\n",
      "[CV] END .criterion=gini, max_depth=None, min_samples_leaf=1; total time=   0.3s\n",
      "[CV] END .criterion=gini, max_depth=None, min_samples_leaf=1; total time=   0.3s\n",
      "[CV] END .criterion=gini, max_depth=None, min_samples_leaf=1; total time=   0.3s\n",
      "[CV] END .criterion=gini, max_depth=None, min_samples_leaf=1; total time=   0.3s\n",
      "[CV] END .criterion=gini, max_depth=None, min_samples_leaf=1; total time=   0.3s\n",
      "[CV] END criterion=gini, max_depth=None, min_samples_leaf=50; total time=   0.2s\n",
      "[CV] END criterion=gini, max_depth=None, min_samples_leaf=50; total time=   0.2s\n",
      "[CV] END criterion=gini, max_depth=None, min_samples_leaf=50; total time=   0.2s\n",
      "[CV] END criterion=gini, max_depth=None, min_samples_leaf=50; total time=   0.2s\n",
      "[CV] END criterion=gini, max_depth=None, min_samples_leaf=50; total time=   0.2s\n",
      "[CV] END criterion=gini, max_depth=None, min_samples_leaf=100; total time=   0.1s\n",
      "[CV] END criterion=gini, max_depth=None, min_samples_leaf=100; total time=   0.1s\n",
      "[CV] END criterion=gini, max_depth=None, min_samples_leaf=100; total time=   0.2s\n",
      "[CV] END criterion=gini, max_depth=None, min_samples_leaf=100; total time=   0.1s\n",
      "[CV] END criterion=gini, max_depth=None, min_samples_leaf=100; total time=   0.2s\n",
      "[CV] END criterion=gini, max_depth=None, min_samples_leaf=200; total time=   0.1s\n",
      "[CV] END criterion=gini, max_depth=None, min_samples_leaf=200; total time=   0.1s\n",
      "[CV] END criterion=gini, max_depth=None, min_samples_leaf=200; total time=   0.1s\n",
      "[CV] END criterion=gini, max_depth=None, min_samples_leaf=200; total time=   0.1s\n",
      "[CV] END criterion=gini, max_depth=None, min_samples_leaf=200; total time=   0.1s\n",
      "[CV] END criterion=gini, max_depth=None, min_samples_leaf=400; total time=   0.1s\n",
      "[CV] END criterion=gini, max_depth=None, min_samples_leaf=400; total time=   0.1s\n",
      "[CV] END criterion=gini, max_depth=None, min_samples_leaf=400; total time=   0.1s\n",
      "[CV] END criterion=gini, max_depth=None, min_samples_leaf=400; total time=   0.1s\n",
      "[CV] END criterion=gini, max_depth=None, min_samples_leaf=400; total time=   0.1s\n",
      "[CV] END criterion=gini, max_depth=None, min_samples_leaf=800; total time=   0.1s\n",
      "[CV] END criterion=gini, max_depth=None, min_samples_leaf=800; total time=   0.1s\n",
      "[CV] END criterion=gini, max_depth=None, min_samples_leaf=800; total time=   0.1s\n",
      "[CV] END criterion=gini, max_depth=None, min_samples_leaf=800; total time=   0.1s\n",
      "[CV] END criterion=gini, max_depth=None, min_samples_leaf=800; total time=   0.1s\n",
      "[CV] END criterion=gini, max_depth=None, min_samples_leaf=1600; total time=   0.1s\n",
      "[CV] END criterion=gini, max_depth=None, min_samples_leaf=1600; total time=   0.1s\n",
      "[CV] END criterion=gini, max_depth=None, min_samples_leaf=1600; total time=   0.1s\n",
      "[CV] END criterion=gini, max_depth=None, min_samples_leaf=1600; total time=   0.1s\n",
      "[CV] END criterion=gini, max_depth=None, min_samples_leaf=1600; total time=   0.1s\n",
      "[CV] END ....criterion=gini, max_depth=2, min_samples_leaf=1; total time=   0.0s\n",
      "[CV] END ....criterion=gini, max_depth=2, min_samples_leaf=1; total time=   0.0s\n",
      "[CV] END ....criterion=gini, max_depth=2, min_samples_leaf=1; total time=   0.0s\n",
      "[CV] END ....criterion=gini, max_depth=2, min_samples_leaf=1; total time=   0.0s\n",
      "[CV] END ....criterion=gini, max_depth=2, min_samples_leaf=1; total time=   0.0s\n",
      "[CV] END ...criterion=gini, max_depth=2, min_samples_leaf=50; total time=   0.0s\n",
      "[CV] END ...criterion=gini, max_depth=2, min_samples_leaf=50; total time=   0.0s\n",
      "[CV] END ...criterion=gini, max_depth=2, min_samples_leaf=50; total time=   0.0s\n",
      "[CV] END ...criterion=gini, max_depth=2, min_samples_leaf=50; total time=   0.0s\n",
      "[CV] END ...criterion=gini, max_depth=2, min_samples_leaf=50; total time=   0.0s\n",
      "[CV] END ..criterion=gini, max_depth=2, min_samples_leaf=100; total time=   0.0s\n",
      "[CV] END ..criterion=gini, max_depth=2, min_samples_leaf=100; total time=   0.0s\n",
      "[CV] END ..criterion=gini, max_depth=2, min_samples_leaf=100; total time=   0.0s\n",
      "[CV] END ..criterion=gini, max_depth=2, min_samples_leaf=100; total time=   0.0s\n",
      "[CV] END ..criterion=gini, max_depth=2, min_samples_leaf=100; total time=   0.0s\n",
      "[CV] END ..criterion=gini, max_depth=2, min_samples_leaf=200; total time=   0.0s\n",
      "[CV] END ..criterion=gini, max_depth=2, min_samples_leaf=200; total time=   0.0s\n",
      "[CV] END ..criterion=gini, max_depth=2, min_samples_leaf=200; total time=   0.0s\n",
      "[CV] END ..criterion=gini, max_depth=2, min_samples_leaf=200; total time=   0.0s\n",
      "[CV] END ..criterion=gini, max_depth=2, min_samples_leaf=200; total time=   0.0s\n",
      "[CV] END ..criterion=gini, max_depth=2, min_samples_leaf=400; total time=   0.0s\n",
      "[CV] END ..criterion=gini, max_depth=2, min_samples_leaf=400; total time=   0.0s\n",
      "[CV] END ..criterion=gini, max_depth=2, min_samples_leaf=400; total time=   0.0s\n",
      "[CV] END ..criterion=gini, max_depth=2, min_samples_leaf=400; total time=   0.0s\n",
      "[CV] END ..criterion=gini, max_depth=2, min_samples_leaf=400; total time=   0.0s\n",
      "[CV] END ..criterion=gini, max_depth=2, min_samples_leaf=800; total time=   0.0s\n",
      "[CV] END ..criterion=gini, max_depth=2, min_samples_leaf=800; total time=   0.0s\n",
      "[CV] END ..criterion=gini, max_depth=2, min_samples_leaf=800; total time=   0.0s\n",
      "[CV] END ..criterion=gini, max_depth=2, min_samples_leaf=800; total time=   0.0s\n",
      "[CV] END ..criterion=gini, max_depth=2, min_samples_leaf=800; total time=   0.0s\n",
      "[CV] END .criterion=gini, max_depth=2, min_samples_leaf=1600; total time=   0.0s\n",
      "[CV] END .criterion=gini, max_depth=2, min_samples_leaf=1600; total time=   0.0s\n",
      "[CV] END .criterion=gini, max_depth=2, min_samples_leaf=1600; total time=   0.0s\n",
      "[CV] END .criterion=gini, max_depth=2, min_samples_leaf=1600; total time=   0.0s\n",
      "[CV] END .criterion=gini, max_depth=2, min_samples_leaf=1600; total time=   0.0s\n",
      "[CV] END ....criterion=gini, max_depth=3, min_samples_leaf=1; total time=   0.1s\n",
      "[CV] END ....criterion=gini, max_depth=3, min_samples_leaf=1; total time=   0.1s\n",
      "[CV] END ....criterion=gini, max_depth=3, min_samples_leaf=1; total time=   0.1s\n",
      "[CV] END ....criterion=gini, max_depth=3, min_samples_leaf=1; total time=   0.1s\n",
      "[CV] END ....criterion=gini, max_depth=3, min_samples_leaf=1; total time=   0.1s\n",
      "[CV] END ...criterion=gini, max_depth=3, min_samples_leaf=50; total time=   0.1s\n",
      "[CV] END ...criterion=gini, max_depth=3, min_samples_leaf=50; total time=   0.1s\n",
      "[CV] END ...criterion=gini, max_depth=3, min_samples_leaf=50; total time=   0.1s\n",
      "[CV] END ...criterion=gini, max_depth=3, min_samples_leaf=50; total time=   0.1s\n",
      "[CV] END ...criterion=gini, max_depth=3, min_samples_leaf=50; total time=   0.1s\n",
      "[CV] END ..criterion=gini, max_depth=3, min_samples_leaf=100; total time=   0.1s\n",
      "[CV] END ..criterion=gini, max_depth=3, min_samples_leaf=100; total time=   0.1s\n",
      "[CV] END ..criterion=gini, max_depth=3, min_samples_leaf=100; total time=   0.1s\n",
      "[CV] END ..criterion=gini, max_depth=3, min_samples_leaf=100; total time=   0.1s\n",
      "[CV] END ..criterion=gini, max_depth=3, min_samples_leaf=100; total time=   0.0s\n",
      "[CV] END ..criterion=gini, max_depth=3, min_samples_leaf=200; total time=   0.1s\n",
      "[CV] END ..criterion=gini, max_depth=3, min_samples_leaf=200; total time=   0.1s\n",
      "[CV] END ..criterion=gini, max_depth=3, min_samples_leaf=200; total time=   0.1s\n",
      "[CV] END ..criterion=gini, max_depth=3, min_samples_leaf=200; total time=   0.1s\n",
      "[CV] END ..criterion=gini, max_depth=3, min_samples_leaf=200; total time=   0.0s\n",
      "[CV] END ..criterion=gini, max_depth=3, min_samples_leaf=400; total time=   0.0s\n",
      "[CV] END ..criterion=gini, max_depth=3, min_samples_leaf=400; total time=   0.0s\n",
      "[CV] END ..criterion=gini, max_depth=3, min_samples_leaf=400; total time=   0.0s\n",
      "[CV] END ..criterion=gini, max_depth=3, min_samples_leaf=400; total time=   0.0s\n",
      "[CV] END ..criterion=gini, max_depth=3, min_samples_leaf=400; total time=   0.0s\n",
      "[CV] END ..criterion=gini, max_depth=3, min_samples_leaf=800; total time=   0.0s\n",
      "[CV] END ..criterion=gini, max_depth=3, min_samples_leaf=800; total time=   0.0s\n",
      "[CV] END ..criterion=gini, max_depth=3, min_samples_leaf=800; total time=   0.0s\n",
      "[CV] END ..criterion=gini, max_depth=3, min_samples_leaf=800; total time=   0.0s\n",
      "[CV] END ..criterion=gini, max_depth=3, min_samples_leaf=800; total time=   0.0s\n",
      "[CV] END .criterion=gini, max_depth=3, min_samples_leaf=1600; total time=   0.0s\n",
      "[CV] END .criterion=gini, max_depth=3, min_samples_leaf=1600; total time=   0.0s\n",
      "[CV] END .criterion=gini, max_depth=3, min_samples_leaf=1600; total time=   0.0s\n",
      "[CV] END .criterion=gini, max_depth=3, min_samples_leaf=1600; total time=   0.0s\n",
      "[CV] END .criterion=gini, max_depth=3, min_samples_leaf=1600; total time=   0.0s\n",
      "[CV] END ....criterion=gini, max_depth=4, min_samples_leaf=1; total time=   0.1s\n",
      "[CV] END ....criterion=gini, max_depth=4, min_samples_leaf=1; total time=   0.1s\n",
      "[CV] END ....criterion=gini, max_depth=4, min_samples_leaf=1; total time=   0.1s\n",
      "[CV] END ....criterion=gini, max_depth=4, min_samples_leaf=1; total time=   0.1s\n",
      "[CV] END ....criterion=gini, max_depth=4, min_samples_leaf=1; total time=   0.1s\n",
      "[CV] END ...criterion=gini, max_depth=4, min_samples_leaf=50; total time=   0.1s\n",
      "[CV] END ...criterion=gini, max_depth=4, min_samples_leaf=50; total time=   0.1s\n",
      "[CV] END ...criterion=gini, max_depth=4, min_samples_leaf=50; total time=   0.1s\n",
      "[CV] END ...criterion=gini, max_depth=4, min_samples_leaf=50; total time=   0.1s\n",
      "[CV] END ...criterion=gini, max_depth=4, min_samples_leaf=50; total time=   0.1s\n",
      "[CV] END ..criterion=gini, max_depth=4, min_samples_leaf=100; total time=   0.1s\n",
      "[CV] END ..criterion=gini, max_depth=4, min_samples_leaf=100; total time=   0.1s\n",
      "[CV] END ..criterion=gini, max_depth=4, min_samples_leaf=100; total time=   0.1s\n",
      "[CV] END ..criterion=gini, max_depth=4, min_samples_leaf=100; total time=   0.1s\n",
      "[CV] END ..criterion=gini, max_depth=4, min_samples_leaf=100; total time=   0.1s\n",
      "[CV] END ..criterion=gini, max_depth=4, min_samples_leaf=200; total time=   0.1s\n",
      "[CV] END ..criterion=gini, max_depth=4, min_samples_leaf=200; total time=   0.1s\n",
      "[CV] END ..criterion=gini, max_depth=4, min_samples_leaf=200; total time=   0.1s\n",
      "[CV] END ..criterion=gini, max_depth=4, min_samples_leaf=200; total time=   0.1s\n",
      "[CV] END ..criterion=gini, max_depth=4, min_samples_leaf=200; total time=   0.1s\n",
      "[CV] END ..criterion=gini, max_depth=4, min_samples_leaf=400; total time=   0.1s\n",
      "[CV] END ..criterion=gini, max_depth=4, min_samples_leaf=400; total time=   0.1s\n",
      "[CV] END ..criterion=gini, max_depth=4, min_samples_leaf=400; total time=   0.1s\n",
      "[CV] END ..criterion=gini, max_depth=4, min_samples_leaf=400; total time=   0.1s\n",
      "[CV] END ..criterion=gini, max_depth=4, min_samples_leaf=400; total time=   0.1s\n",
      "[CV] END ..criterion=gini, max_depth=4, min_samples_leaf=800; total time=   0.1s\n",
      "[CV] END ..criterion=gini, max_depth=4, min_samples_leaf=800; total time=   0.1s\n",
      "[CV] END ..criterion=gini, max_depth=4, min_samples_leaf=800; total time=   0.1s\n",
      "[CV] END ..criterion=gini, max_depth=4, min_samples_leaf=800; total time=   0.1s\n",
      "[CV] END ..criterion=gini, max_depth=4, min_samples_leaf=800; total time=   0.1s\n",
      "[CV] END .criterion=gini, max_depth=4, min_samples_leaf=1600; total time=   0.1s\n",
      "[CV] END .criterion=gini, max_depth=4, min_samples_leaf=1600; total time=   0.1s\n",
      "[CV] END .criterion=gini, max_depth=4, min_samples_leaf=1600; total time=   0.1s\n",
      "[CV] END .criterion=gini, max_depth=4, min_samples_leaf=1600; total time=   0.1s\n",
      "[CV] END .criterion=gini, max_depth=4, min_samples_leaf=1600; total time=   0.1s\n",
      "[CV] END ....criterion=gini, max_depth=5, min_samples_leaf=1; total time=   0.1s\n",
      "[CV] END ....criterion=gini, max_depth=5, min_samples_leaf=1; total time=   0.1s\n",
      "[CV] END ....criterion=gini, max_depth=5, min_samples_leaf=1; total time=   0.1s\n",
      "[CV] END ....criterion=gini, max_depth=5, min_samples_leaf=1; total time=   0.1s\n",
      "[CV] END ....criterion=gini, max_depth=5, min_samples_leaf=1; total time=   0.1s\n",
      "[CV] END ...criterion=gini, max_depth=5, min_samples_leaf=50; total time=   0.1s\n",
      "[CV] END ...criterion=gini, max_depth=5, min_samples_leaf=50; total time=   0.1s\n",
      "[CV] END ...criterion=gini, max_depth=5, min_samples_leaf=50; total time=   0.1s\n",
      "[CV] END ...criterion=gini, max_depth=5, min_samples_leaf=50; total time=   0.1s\n",
      "[CV] END ...criterion=gini, max_depth=5, min_samples_leaf=50; total time=   0.1s\n",
      "[CV] END ..criterion=gini, max_depth=5, min_samples_leaf=100; total time=   0.1s\n",
      "[CV] END ..criterion=gini, max_depth=5, min_samples_leaf=100; total time=   0.1s\n",
      "[CV] END ..criterion=gini, max_depth=5, min_samples_leaf=100; total time=   0.1s\n",
      "[CV] END ..criterion=gini, max_depth=5, min_samples_leaf=100; total time=   0.1s\n",
      "[CV] END ..criterion=gini, max_depth=5, min_samples_leaf=100; total time=   0.1s\n",
      "[CV] END ..criterion=gini, max_depth=5, min_samples_leaf=200; total time=   0.1s\n",
      "[CV] END ..criterion=gini, max_depth=5, min_samples_leaf=200; total time=   0.1s\n",
      "[CV] END ..criterion=gini, max_depth=5, min_samples_leaf=200; total time=   0.1s\n",
      "[CV] END ..criterion=gini, max_depth=5, min_samples_leaf=200; total time=   0.1s\n",
      "[CV] END ..criterion=gini, max_depth=5, min_samples_leaf=200; total time=   0.1s\n",
      "[CV] END ..criterion=gini, max_depth=5, min_samples_leaf=400; total time=   0.1s\n",
      "[CV] END ..criterion=gini, max_depth=5, min_samples_leaf=400; total time=   0.1s\n",
      "[CV] END ..criterion=gini, max_depth=5, min_samples_leaf=400; total time=   0.1s\n",
      "[CV] END ..criterion=gini, max_depth=5, min_samples_leaf=400; total time=   0.1s\n",
      "[CV] END ..criterion=gini, max_depth=5, min_samples_leaf=400; total time=   0.1s\n",
      "[CV] END ..criterion=gini, max_depth=5, min_samples_leaf=800; total time=   0.1s\n",
      "[CV] END ..criterion=gini, max_depth=5, min_samples_leaf=800; total time=   0.1s\n",
      "[CV] END ..criterion=gini, max_depth=5, min_samples_leaf=800; total time=   0.1s\n",
      "[CV] END ..criterion=gini, max_depth=5, min_samples_leaf=800; total time=   0.1s\n",
      "[CV] END ..criterion=gini, max_depth=5, min_samples_leaf=800; total time=   0.1s\n",
      "[CV] END .criterion=gini, max_depth=5, min_samples_leaf=1600; total time=   0.1s\n",
      "[CV] END .criterion=gini, max_depth=5, min_samples_leaf=1600; total time=   0.1s\n",
      "[CV] END .criterion=gini, max_depth=5, min_samples_leaf=1600; total time=   0.1s\n",
      "[CV] END .criterion=gini, max_depth=5, min_samples_leaf=1600; total time=   0.1s\n",
      "[CV] END .criterion=gini, max_depth=5, min_samples_leaf=1600; total time=   0.1s\n",
      "[CV] END ...criterion=gini, max_depth=10, min_samples_leaf=1; total time=   0.2s\n",
      "[CV] END ...criterion=gini, max_depth=10, min_samples_leaf=1; total time=   0.2s\n",
      "[CV] END ...criterion=gini, max_depth=10, min_samples_leaf=1; total time=   0.2s\n",
      "[CV] END ...criterion=gini, max_depth=10, min_samples_leaf=1; total time=   0.2s\n",
      "[CV] END ...criterion=gini, max_depth=10, min_samples_leaf=1; total time=   0.2s\n",
      "[CV] END ..criterion=gini, max_depth=10, min_samples_leaf=50; total time=   0.1s\n",
      "[CV] END ..criterion=gini, max_depth=10, min_samples_leaf=50; total time=   0.1s\n",
      "[CV] END ..criterion=gini, max_depth=10, min_samples_leaf=50; total time=   0.1s\n",
      "[CV] END ..criterion=gini, max_depth=10, min_samples_leaf=50; total time=   0.1s\n",
      "[CV] END ..criterion=gini, max_depth=10, min_samples_leaf=50; total time=   0.1s\n",
      "[CV] END .criterion=gini, max_depth=10, min_samples_leaf=100; total time=   0.1s\n",
      "[CV] END .criterion=gini, max_depth=10, min_samples_leaf=100; total time=   0.1s\n",
      "[CV] END .criterion=gini, max_depth=10, min_samples_leaf=100; total time=   0.1s\n",
      "[CV] END .criterion=gini, max_depth=10, min_samples_leaf=100; total time=   0.1s\n",
      "[CV] END .criterion=gini, max_depth=10, min_samples_leaf=100; total time=   0.1s\n",
      "[CV] END .criterion=gini, max_depth=10, min_samples_leaf=200; total time=   0.1s\n",
      "[CV] END .criterion=gini, max_depth=10, min_samples_leaf=200; total time=   0.1s\n",
      "[CV] END .criterion=gini, max_depth=10, min_samples_leaf=200; total time=   0.1s\n",
      "[CV] END .criterion=gini, max_depth=10, min_samples_leaf=200; total time=   0.1s\n",
      "[CV] END .criterion=gini, max_depth=10, min_samples_leaf=200; total time=   0.1s\n",
      "[CV] END .criterion=gini, max_depth=10, min_samples_leaf=400; total time=   0.1s\n",
      "[CV] END .criterion=gini, max_depth=10, min_samples_leaf=400; total time=   0.1s\n",
      "[CV] END .criterion=gini, max_depth=10, min_samples_leaf=400; total time=   0.1s\n",
      "[CV] END .criterion=gini, max_depth=10, min_samples_leaf=400; total time=   0.1s\n",
      "[CV] END .criterion=gini, max_depth=10, min_samples_leaf=400; total time=   0.1s\n",
      "[CV] END .criterion=gini, max_depth=10, min_samples_leaf=800; total time=   0.1s\n",
      "[CV] END .criterion=gini, max_depth=10, min_samples_leaf=800; total time=   0.1s\n",
      "[CV] END .criterion=gini, max_depth=10, min_samples_leaf=800; total time=   0.1s\n",
      "[CV] END .criterion=gini, max_depth=10, min_samples_leaf=800; total time=   0.1s\n",
      "[CV] END .criterion=gini, max_depth=10, min_samples_leaf=800; total time=   0.1s\n",
      "[CV] END criterion=gini, max_depth=10, min_samples_leaf=1600; total time=   0.1s\n",
      "[CV] END criterion=gini, max_depth=10, min_samples_leaf=1600; total time=   0.1s\n",
      "[CV] END criterion=gini, max_depth=10, min_samples_leaf=1600; total time=   0.1s\n",
      "[CV] END criterion=gini, max_depth=10, min_samples_leaf=1600; total time=   0.1s\n",
      "[CV] END criterion=gini, max_depth=10, min_samples_leaf=1600; total time=   0.1s\n",
      "[CV] END criterion=entropy, max_depth=None, min_samples_leaf=1; total time=   0.3s\n",
      "[CV] END criterion=entropy, max_depth=None, min_samples_leaf=1; total time=   0.3s\n",
      "[CV] END criterion=entropy, max_depth=None, min_samples_leaf=1; total time=   0.3s\n",
      "[CV] END criterion=entropy, max_depth=None, min_samples_leaf=1; total time=   0.3s\n",
      "[CV] END criterion=entropy, max_depth=None, min_samples_leaf=1; total time=   0.3s\n",
      "[CV] END criterion=entropy, max_depth=None, min_samples_leaf=50; total time=   0.2s\n",
      "[CV] END criterion=entropy, max_depth=None, min_samples_leaf=50; total time=   0.2s\n",
      "[CV] END criterion=entropy, max_depth=None, min_samples_leaf=50; total time=   0.2s\n",
      "[CV] END criterion=entropy, max_depth=None, min_samples_leaf=50; total time=   0.2s\n",
      "[CV] END criterion=entropy, max_depth=None, min_samples_leaf=50; total time=   0.2s\n",
      "[CV] END criterion=entropy, max_depth=None, min_samples_leaf=100; total time=   0.2s\n",
      "[CV] END criterion=entropy, max_depth=None, min_samples_leaf=100; total time=   0.2s\n",
      "[CV] END criterion=entropy, max_depth=None, min_samples_leaf=100; total time=   0.2s\n",
      "[CV] END criterion=entropy, max_depth=None, min_samples_leaf=100; total time=   0.2s\n",
      "[CV] END criterion=entropy, max_depth=None, min_samples_leaf=100; total time=   0.2s\n",
      "[CV] END criterion=entropy, max_depth=None, min_samples_leaf=200; total time=   0.1s\n",
      "[CV] END criterion=entropy, max_depth=None, min_samples_leaf=200; total time=   0.1s\n",
      "[CV] END criterion=entropy, max_depth=None, min_samples_leaf=200; total time=   0.1s\n",
      "[CV] END criterion=entropy, max_depth=None, min_samples_leaf=200; total time=   0.1s\n",
      "[CV] END criterion=entropy, max_depth=None, min_samples_leaf=200; total time=   0.2s\n",
      "[CV] END criterion=entropy, max_depth=None, min_samples_leaf=400; total time=   0.1s\n",
      "[CV] END criterion=entropy, max_depth=None, min_samples_leaf=400; total time=   0.1s\n",
      "[CV] END criterion=entropy, max_depth=None, min_samples_leaf=400; total time=   0.1s\n",
      "[CV] END criterion=entropy, max_depth=None, min_samples_leaf=400; total time=   0.1s\n",
      "[CV] END criterion=entropy, max_depth=None, min_samples_leaf=400; total time=   0.1s\n",
      "[CV] END criterion=entropy, max_depth=None, min_samples_leaf=800; total time=   0.1s\n",
      "[CV] END criterion=entropy, max_depth=None, min_samples_leaf=800; total time=   0.1s\n",
      "[CV] END criterion=entropy, max_depth=None, min_samples_leaf=800; total time=   0.1s\n",
      "[CV] END criterion=entropy, max_depth=None, min_samples_leaf=800; total time=   0.1s\n",
      "[CV] END criterion=entropy, max_depth=None, min_samples_leaf=800; total time=   0.1s\n",
      "[CV] END criterion=entropy, max_depth=None, min_samples_leaf=1600; total time=   0.1s\n",
      "[CV] END criterion=entropy, max_depth=None, min_samples_leaf=1600; total time=   0.1s\n",
      "[CV] END criterion=entropy, max_depth=None, min_samples_leaf=1600; total time=   0.1s\n",
      "[CV] END criterion=entropy, max_depth=None, min_samples_leaf=1600; total time=   0.1s\n",
      "[CV] END criterion=entropy, max_depth=None, min_samples_leaf=1600; total time=   0.1s\n",
      "[CV] END .criterion=entropy, max_depth=2, min_samples_leaf=1; total time=   0.0s\n",
      "[CV] END .criterion=entropy, max_depth=2, min_samples_leaf=1; total time=   0.0s\n",
      "[CV] END .criterion=entropy, max_depth=2, min_samples_leaf=1; total time=   0.0s\n",
      "[CV] END .criterion=entropy, max_depth=2, min_samples_leaf=1; total time=   0.0s\n",
      "[CV] END .criterion=entropy, max_depth=2, min_samples_leaf=1; total time=   0.0s\n",
      "[CV] END criterion=entropy, max_depth=2, min_samples_leaf=50; total time=   0.0s\n",
      "[CV] END criterion=entropy, max_depth=2, min_samples_leaf=50; total time=   0.0s\n",
      "[CV] END criterion=entropy, max_depth=2, min_samples_leaf=50; total time=   0.0s\n",
      "[CV] END criterion=entropy, max_depth=2, min_samples_leaf=50; total time=   0.0s\n",
      "[CV] END criterion=entropy, max_depth=2, min_samples_leaf=50; total time=   0.0s\n",
      "[CV] END criterion=entropy, max_depth=2, min_samples_leaf=100; total time=   0.0s\n",
      "[CV] END criterion=entropy, max_depth=2, min_samples_leaf=100; total time=   0.0s\n",
      "[CV] END criterion=entropy, max_depth=2, min_samples_leaf=100; total time=   0.0s\n",
      "[CV] END criterion=entropy, max_depth=2, min_samples_leaf=100; total time=   0.0s\n",
      "[CV] END criterion=entropy, max_depth=2, min_samples_leaf=100; total time=   0.0s\n",
      "[CV] END criterion=entropy, max_depth=2, min_samples_leaf=200; total time=   0.0s\n",
      "[CV] END criterion=entropy, max_depth=2, min_samples_leaf=200; total time=   0.0s\n",
      "[CV] END criterion=entropy, max_depth=2, min_samples_leaf=200; total time=   0.0s\n",
      "[CV] END criterion=entropy, max_depth=2, min_samples_leaf=200; total time=   0.0s\n",
      "[CV] END criterion=entropy, max_depth=2, min_samples_leaf=200; total time=   0.0s\n",
      "[CV] END criterion=entropy, max_depth=2, min_samples_leaf=400; total time=   0.0s\n",
      "[CV] END criterion=entropy, max_depth=2, min_samples_leaf=400; total time=   0.0s\n",
      "[CV] END criterion=entropy, max_depth=2, min_samples_leaf=400; total time=   0.0s\n",
      "[CV] END criterion=entropy, max_depth=2, min_samples_leaf=400; total time=   0.0s\n",
      "[CV] END criterion=entropy, max_depth=2, min_samples_leaf=400; total time=   0.0s\n",
      "[CV] END criterion=entropy, max_depth=2, min_samples_leaf=800; total time=   0.0s\n",
      "[CV] END criterion=entropy, max_depth=2, min_samples_leaf=800; total time=   0.0s\n",
      "[CV] END criterion=entropy, max_depth=2, min_samples_leaf=800; total time=   0.0s\n",
      "[CV] END criterion=entropy, max_depth=2, min_samples_leaf=800; total time=   0.0s\n",
      "[CV] END criterion=entropy, max_depth=2, min_samples_leaf=800; total time=   0.0s\n",
      "[CV] END criterion=entropy, max_depth=2, min_samples_leaf=1600; total time=   0.0s\n",
      "[CV] END criterion=entropy, max_depth=2, min_samples_leaf=1600; total time=   0.0s\n",
      "[CV] END criterion=entropy, max_depth=2, min_samples_leaf=1600; total time=   0.0s\n",
      "[CV] END criterion=entropy, max_depth=2, min_samples_leaf=1600; total time=   0.0s\n",
      "[CV] END criterion=entropy, max_depth=2, min_samples_leaf=1600; total time=   0.0s\n",
      "[CV] END .criterion=entropy, max_depth=3, min_samples_leaf=1; total time=   0.1s\n",
      "[CV] END .criterion=entropy, max_depth=3, min_samples_leaf=1; total time=   0.1s\n",
      "[CV] END .criterion=entropy, max_depth=3, min_samples_leaf=1; total time=   0.1s\n",
      "[CV] END .criterion=entropy, max_depth=3, min_samples_leaf=1; total time=   0.1s\n",
      "[CV] END .criterion=entropy, max_depth=3, min_samples_leaf=1; total time=   0.1s\n",
      "[CV] END criterion=entropy, max_depth=3, min_samples_leaf=50; total time=   0.1s\n",
      "[CV] END criterion=entropy, max_depth=3, min_samples_leaf=50; total time=   0.1s\n",
      "[CV] END criterion=entropy, max_depth=3, min_samples_leaf=50; total time=   0.1s\n",
      "[CV] END criterion=entropy, max_depth=3, min_samples_leaf=50; total time=   0.1s\n",
      "[CV] END criterion=entropy, max_depth=3, min_samples_leaf=50; total time=   0.1s\n",
      "[CV] END criterion=entropy, max_depth=3, min_samples_leaf=100; total time=   0.1s\n",
      "[CV] END criterion=entropy, max_depth=3, min_samples_leaf=100; total time=   0.1s\n",
      "[CV] END criterion=entropy, max_depth=3, min_samples_leaf=100; total time=   0.1s\n",
      "[CV] END criterion=entropy, max_depth=3, min_samples_leaf=100; total time=   0.1s\n",
      "[CV] END criterion=entropy, max_depth=3, min_samples_leaf=100; total time=   0.1s\n",
      "[CV] END criterion=entropy, max_depth=3, min_samples_leaf=200; total time=   0.1s\n",
      "[CV] END criterion=entropy, max_depth=3, min_samples_leaf=200; total time=   0.1s\n",
      "[CV] END criterion=entropy, max_depth=3, min_samples_leaf=200; total time=   0.1s\n",
      "[CV] END criterion=entropy, max_depth=3, min_samples_leaf=200; total time=   0.1s\n",
      "[CV] END criterion=entropy, max_depth=3, min_samples_leaf=200; total time=   0.1s\n",
      "[CV] END criterion=entropy, max_depth=3, min_samples_leaf=400; total time=   0.1s\n",
      "[CV] END criterion=entropy, max_depth=3, min_samples_leaf=400; total time=   0.1s\n",
      "[CV] END criterion=entropy, max_depth=3, min_samples_leaf=400; total time=   0.1s\n",
      "[CV] END criterion=entropy, max_depth=3, min_samples_leaf=400; total time=   0.1s\n",
      "[CV] END criterion=entropy, max_depth=3, min_samples_leaf=400; total time=   0.1s\n",
      "[CV] END criterion=entropy, max_depth=3, min_samples_leaf=800; total time=   0.1s\n",
      "[CV] END criterion=entropy, max_depth=3, min_samples_leaf=800; total time=   0.1s\n",
      "[CV] END criterion=entropy, max_depth=3, min_samples_leaf=800; total time=   0.1s\n",
      "[CV] END criterion=entropy, max_depth=3, min_samples_leaf=800; total time=   0.0s\n",
      "[CV] END criterion=entropy, max_depth=3, min_samples_leaf=800; total time=   0.1s\n",
      "[CV] END criterion=entropy, max_depth=3, min_samples_leaf=1600; total time=   0.1s\n",
      "[CV] END criterion=entropy, max_depth=3, min_samples_leaf=1600; total time=   0.0s\n",
      "[CV] END criterion=entropy, max_depth=3, min_samples_leaf=1600; total time=   0.0s\n",
      "[CV] END criterion=entropy, max_depth=3, min_samples_leaf=1600; total time=   0.0s\n",
      "[CV] END criterion=entropy, max_depth=3, min_samples_leaf=1600; total time=   0.1s\n",
      "[CV] END .criterion=entropy, max_depth=4, min_samples_leaf=1; total time=   0.1s\n",
      "[CV] END .criterion=entropy, max_depth=4, min_samples_leaf=1; total time=   0.1s\n",
      "[CV] END .criterion=entropy, max_depth=4, min_samples_leaf=1; total time=   0.1s\n",
      "[CV] END .criterion=entropy, max_depth=4, min_samples_leaf=1; total time=   0.1s\n",
      "[CV] END .criterion=entropy, max_depth=4, min_samples_leaf=1; total time=   0.1s\n",
      "[CV] END criterion=entropy, max_depth=4, min_samples_leaf=50; total time=   0.1s\n",
      "[CV] END criterion=entropy, max_depth=4, min_samples_leaf=50; total time=   0.1s\n",
      "[CV] END criterion=entropy, max_depth=4, min_samples_leaf=50; total time=   0.1s\n",
      "[CV] END criterion=entropy, max_depth=4, min_samples_leaf=50; total time=   0.1s\n",
      "[CV] END criterion=entropy, max_depth=4, min_samples_leaf=50; total time=   0.1s\n",
      "[CV] END criterion=entropy, max_depth=4, min_samples_leaf=100; total time=   0.1s\n",
      "[CV] END criterion=entropy, max_depth=4, min_samples_leaf=100; total time=   0.1s\n",
      "[CV] END criterion=entropy, max_depth=4, min_samples_leaf=100; total time=   0.1s\n",
      "[CV] END criterion=entropy, max_depth=4, min_samples_leaf=100; total time=   0.1s\n",
      "[CV] END criterion=entropy, max_depth=4, min_samples_leaf=100; total time=   0.1s\n",
      "[CV] END criterion=entropy, max_depth=4, min_samples_leaf=200; total time=   0.1s\n",
      "[CV] END criterion=entropy, max_depth=4, min_samples_leaf=200; total time=   0.1s\n",
      "[CV] END criterion=entropy, max_depth=4, min_samples_leaf=200; total time=   0.1s\n",
      "[CV] END criterion=entropy, max_depth=4, min_samples_leaf=200; total time=   0.1s\n",
      "[CV] END criterion=entropy, max_depth=4, min_samples_leaf=200; total time=   0.1s\n",
      "[CV] END criterion=entropy, max_depth=4, min_samples_leaf=400; total time=   0.1s\n",
      "[CV] END criterion=entropy, max_depth=4, min_samples_leaf=400; total time=   0.1s\n",
      "[CV] END criterion=entropy, max_depth=4, min_samples_leaf=400; total time=   0.1s\n",
      "[CV] END criterion=entropy, max_depth=4, min_samples_leaf=400; total time=   0.1s\n",
      "[CV] END criterion=entropy, max_depth=4, min_samples_leaf=400; total time=   0.1s\n",
      "[CV] END criterion=entropy, max_depth=4, min_samples_leaf=800; total time=   0.1s\n",
      "[CV] END criterion=entropy, max_depth=4, min_samples_leaf=800; total time=   0.1s\n",
      "[CV] END criterion=entropy, max_depth=4, min_samples_leaf=800; total time=   0.1s\n",
      "[CV] END criterion=entropy, max_depth=4, min_samples_leaf=800; total time=   0.1s\n",
      "[CV] END criterion=entropy, max_depth=4, min_samples_leaf=800; total time=   0.1s\n",
      "[CV] END criterion=entropy, max_depth=4, min_samples_leaf=1600; total time=   0.1s\n",
      "[CV] END criterion=entropy, max_depth=4, min_samples_leaf=1600; total time=   0.1s\n",
      "[CV] END criterion=entropy, max_depth=4, min_samples_leaf=1600; total time=   0.1s\n",
      "[CV] END criterion=entropy, max_depth=4, min_samples_leaf=1600; total time=   0.1s\n",
      "[CV] END criterion=entropy, max_depth=4, min_samples_leaf=1600; total time=   0.1s\n",
      "[CV] END .criterion=entropy, max_depth=5, min_samples_leaf=1; total time=   0.1s\n",
      "[CV] END .criterion=entropy, max_depth=5, min_samples_leaf=1; total time=   0.1s\n",
      "[CV] END .criterion=entropy, max_depth=5, min_samples_leaf=1; total time=   0.1s\n",
      "[CV] END .criterion=entropy, max_depth=5, min_samples_leaf=1; total time=   0.1s\n",
      "[CV] END .criterion=entropy, max_depth=5, min_samples_leaf=1; total time=   0.1s\n",
      "[CV] END criterion=entropy, max_depth=5, min_samples_leaf=50; total time=   0.1s\n",
      "[CV] END criterion=entropy, max_depth=5, min_samples_leaf=50; total time=   0.1s\n",
      "[CV] END criterion=entropy, max_depth=5, min_samples_leaf=50; total time=   0.1s\n",
      "[CV] END criterion=entropy, max_depth=5, min_samples_leaf=50; total time=   0.1s\n",
      "[CV] END criterion=entropy, max_depth=5, min_samples_leaf=50; total time=   0.1s\n",
      "[CV] END criterion=entropy, max_depth=5, min_samples_leaf=100; total time=   0.1s\n",
      "[CV] END criterion=entropy, max_depth=5, min_samples_leaf=100; total time=   0.1s\n",
      "[CV] END criterion=entropy, max_depth=5, min_samples_leaf=100; total time=   0.1s\n",
      "[CV] END criterion=entropy, max_depth=5, min_samples_leaf=100; total time=   0.1s\n",
      "[CV] END criterion=entropy, max_depth=5, min_samples_leaf=100; total time=   0.1s\n",
      "[CV] END criterion=entropy, max_depth=5, min_samples_leaf=200; total time=   0.1s\n",
      "[CV] END criterion=entropy, max_depth=5, min_samples_leaf=200; total time=   0.1s\n",
      "[CV] END criterion=entropy, max_depth=5, min_samples_leaf=200; total time=   0.1s\n",
      "[CV] END criterion=entropy, max_depth=5, min_samples_leaf=200; total time=   0.1s\n",
      "[CV] END criterion=entropy, max_depth=5, min_samples_leaf=200; total time=   0.1s\n",
      "[CV] END criterion=entropy, max_depth=5, min_samples_leaf=400; total time=   0.1s\n",
      "[CV] END criterion=entropy, max_depth=5, min_samples_leaf=400; total time=   0.1s\n",
      "[CV] END criterion=entropy, max_depth=5, min_samples_leaf=400; total time=   0.1s\n",
      "[CV] END criterion=entropy, max_depth=5, min_samples_leaf=400; total time=   0.1s\n",
      "[CV] END criterion=entropy, max_depth=5, min_samples_leaf=400; total time=   0.1s\n",
      "[CV] END criterion=entropy, max_depth=5, min_samples_leaf=800; total time=   0.1s\n",
      "[CV] END criterion=entropy, max_depth=5, min_samples_leaf=800; total time=   0.1s\n",
      "[CV] END criterion=entropy, max_depth=5, min_samples_leaf=800; total time=   0.1s\n",
      "[CV] END criterion=entropy, max_depth=5, min_samples_leaf=800; total time=   0.1s\n",
      "[CV] END criterion=entropy, max_depth=5, min_samples_leaf=800; total time=   0.1s\n",
      "[CV] END criterion=entropy, max_depth=5, min_samples_leaf=1600; total time=   0.1s\n",
      "[CV] END criterion=entropy, max_depth=5, min_samples_leaf=1600; total time=   0.1s\n",
      "[CV] END criterion=entropy, max_depth=5, min_samples_leaf=1600; total time=   0.1s\n",
      "[CV] END criterion=entropy, max_depth=5, min_samples_leaf=1600; total time=   0.1s\n",
      "[CV] END criterion=entropy, max_depth=5, min_samples_leaf=1600; total time=   0.1s\n",
      "[CV] END criterion=entropy, max_depth=10, min_samples_leaf=1; total time=   0.2s\n",
      "[CV] END criterion=entropy, max_depth=10, min_samples_leaf=1; total time=   0.2s\n",
      "[CV] END criterion=entropy, max_depth=10, min_samples_leaf=1; total time=   0.2s\n",
      "[CV] END criterion=entropy, max_depth=10, min_samples_leaf=1; total time=   0.2s\n",
      "[CV] END criterion=entropy, max_depth=10, min_samples_leaf=1; total time=   0.2s\n",
      "[CV] END criterion=entropy, max_depth=10, min_samples_leaf=50; total time=   0.2s\n",
      "[CV] END criterion=entropy, max_depth=10, min_samples_leaf=50; total time=   0.2s\n",
      "[CV] END criterion=entropy, max_depth=10, min_samples_leaf=50; total time=   0.2s\n",
      "[CV] END criterion=entropy, max_depth=10, min_samples_leaf=50; total time=   0.2s\n",
      "[CV] END criterion=entropy, max_depth=10, min_samples_leaf=50; total time=   0.2s\n",
      "[CV] END criterion=entropy, max_depth=10, min_samples_leaf=100; total time=   0.1s\n",
      "[CV] END criterion=entropy, max_depth=10, min_samples_leaf=100; total time=   0.1s\n",
      "[CV] END criterion=entropy, max_depth=10, min_samples_leaf=100; total time=   0.1s\n",
      "[CV] END criterion=entropy, max_depth=10, min_samples_leaf=100; total time=   0.2s\n",
      "[CV] END criterion=entropy, max_depth=10, min_samples_leaf=100; total time=   0.1s\n",
      "[CV] END criterion=entropy, max_depth=10, min_samples_leaf=200; total time=   0.1s\n",
      "[CV] END criterion=entropy, max_depth=10, min_samples_leaf=200; total time=   0.1s\n",
      "[CV] END criterion=entropy, max_depth=10, min_samples_leaf=200; total time=   0.1s\n",
      "[CV] END criterion=entropy, max_depth=10, min_samples_leaf=200; total time=   0.1s\n",
      "[CV] END criterion=entropy, max_depth=10, min_samples_leaf=200; total time=   0.1s\n",
      "[CV] END criterion=entropy, max_depth=10, min_samples_leaf=400; total time=   0.1s\n",
      "[CV] END criterion=entropy, max_depth=10, min_samples_leaf=400; total time=   0.1s\n",
      "[CV] END criterion=entropy, max_depth=10, min_samples_leaf=400; total time=   0.1s\n",
      "[CV] END criterion=entropy, max_depth=10, min_samples_leaf=400; total time=   0.1s\n",
      "[CV] END criterion=entropy, max_depth=10, min_samples_leaf=400; total time=   0.1s\n",
      "[CV] END criterion=entropy, max_depth=10, min_samples_leaf=800; total time=   0.1s\n",
      "[CV] END criterion=entropy, max_depth=10, min_samples_leaf=800; total time=   0.1s\n",
      "[CV] END criterion=entropy, max_depth=10, min_samples_leaf=800; total time=   0.1s\n",
      "[CV] END criterion=entropy, max_depth=10, min_samples_leaf=800; total time=   0.1s\n",
      "[CV] END criterion=entropy, max_depth=10, min_samples_leaf=800; total time=   0.1s\n",
      "[CV] END criterion=entropy, max_depth=10, min_samples_leaf=1600; total time=   0.1s\n",
      "[CV] END criterion=entropy, max_depth=10, min_samples_leaf=1600; total time=   0.1s\n",
      "[CV] END criterion=entropy, max_depth=10, min_samples_leaf=1600; total time=   0.1s\n",
      "[CV] END criterion=entropy, max_depth=10, min_samples_leaf=1600; total time=   0.1s\n",
      "[CV] END criterion=entropy, max_depth=10, min_samples_leaf=1600; total time=   0.1s\n"
     ]
    },
    {
     "data": {
      "text/plain": [
       "GridSearchCV(cv=5, estimator=DecisionTreeClassifier(),\n",
       "             param_grid={'criterion': ['gini', 'entropy'],\n",
       "                         'max_depth': [None, 2, 3, 4, 5, 10],\n",
       "                         'min_samples_leaf': [1, 50, 100, 200, 400, 800, 1600]},\n",
       "             verbose=2)"
      ]
     },
     "execution_count": 72,
     "metadata": {},
     "output_type": "execute_result"
    }
   ],
   "source": [
    "cv.fit(X_train, y_train)"
   ]
  },
  {
   "cell_type": "code",
   "execution_count": 74,
   "metadata": {},
   "outputs": [
    {
     "data": {
      "text/plain": [
       "{'scoring': None,\n",
       " 'estimator': DecisionTreeClassifier(),\n",
       " 'n_jobs': None,\n",
       " 'refit': True,\n",
       " 'cv': 5,\n",
       " 'verbose': 2,\n",
       " 'pre_dispatch': '2*n_jobs',\n",
       " 'error_score': nan,\n",
       " 'return_train_score': False,\n",
       " 'param_grid': {'max_depth': [None, 2, 3, 4, 5, 10],\n",
       "  'min_samples_leaf': [1, 50, 100, 200, 400, 800, 1600],\n",
       "  'criterion': ['gini', 'entropy']},\n",
       " 'multimetric_': False,\n",
       " 'best_index_': 72,\n",
       " 'best_score_': 0.8199502487562189,\n",
       " 'best_params_': {'criterion': 'entropy',\n",
       "  'max_depth': 5,\n",
       "  'min_samples_leaf': 100},\n",
       " 'best_estimator_': DecisionTreeClassifier(criterion='entropy', max_depth=5, min_samples_leaf=100),\n",
       " 'refit_time_': 0.1121819019317627,\n",
       " 'feature_names_in_': array(['LIMIT_BAL', 'SEX', 'EDUCATION', 'MARRIAGE', 'AGE', 'PAY_0',\n",
       "        'PAY_2', 'PAY_3', 'PAY_4', 'PAY_5', 'PAY_6', 'BILL_AMT1',\n",
       "        'BILL_AMT2', 'BILL_AMT3', 'BILL_AMT4', 'BILL_AMT5', 'BILL_AMT6',\n",
       "        'PAY_AMT1', 'PAY_AMT2', 'PAY_AMT3', 'PAY_AMT4', 'PAY_AMT5',\n",
       "        'PAY_AMT6'], dtype=object),\n",
       " 'scorer_': <function sklearn.metrics._scorer._passthrough_scorer(estimator, *args, **kwargs)>,\n",
       " 'cv_results_': {'mean_fit_time': array([0.26698909, 0.16598063, 0.14724073, 0.1213985 , 0.1045599 ,\n",
       "         0.08528967, 0.06226683, 0.0322154 , 0.03451452, 0.03391418,\n",
       "         0.03365951, 0.03354292, 0.03312421, 0.03171487, 0.04916658,\n",
       "         0.04939737, 0.04852266, 0.04857507, 0.04758244, 0.04527612,\n",
       "         0.04275937, 0.06350226, 0.0703836 , 0.07319841, 0.06336126,\n",
       "         0.05887828, 0.05711398, 0.05037704, 0.07505445, 0.0777163 ,\n",
       "         0.07763925, 0.07665839, 0.07149105, 0.06811237, 0.06153903,\n",
       "         0.1486434 , 0.13287477, 0.12750163, 0.12000489, 0.10123878,\n",
       "         0.08286695, 0.06200905, 0.30904632, 0.18551345, 0.17535324,\n",
       "         0.14145942, 0.11228485, 0.09629979, 0.0699214 , 0.04142566,\n",
       "         0.04205503, 0.04185743, 0.04075174, 0.04027219, 0.03961468,\n",
       "         0.03735199, 0.0611464 , 0.0607348 , 0.05837145, 0.05394049,\n",
       "         0.05631137, 0.05144219, 0.04742017, 0.07491522, 0.07319551,\n",
       "         0.07222018, 0.07149582, 0.06834636, 0.06295285, 0.05875525,\n",
       "         0.09813108, 0.08825264, 0.08667974, 0.08421369, 0.08273783,\n",
       "         0.075559  , 0.06552677, 0.17185159, 0.15758414, 0.1449254 ,\n",
       "         0.13312497, 0.11442919, 0.09398346, 0.06954145]),\n",
       "  'std_fit_time': array([0.01124755, 0.0024164 , 0.00489697, 0.0043692 , 0.00320353,\n",
       "         0.00275244, 0.00144599, 0.00051731, 0.00164257, 0.00063889,\n",
       "         0.00028679, 0.00046708, 0.00045283, 0.00052623, 0.00034048,\n",
       "         0.00045104, 0.00032098, 0.00024348, 0.00036377, 0.00029032,\n",
       "         0.00043591, 0.00051992, 0.01341134, 0.01029165, 0.00135254,\n",
       "         0.00234055, 0.00130579, 0.00185156, 0.00268905, 0.00260793,\n",
       "         0.00081119, 0.00378175, 0.00076097, 0.00072738, 0.00391968,\n",
       "         0.00020655, 0.00164057, 0.00144908, 0.00727788, 0.00287403,\n",
       "         0.00212359, 0.00127725, 0.01184752, 0.00632892, 0.00452338,\n",
       "         0.00568259, 0.00744913, 0.00311728, 0.0037752 , 0.00116605,\n",
       "         0.00055121, 0.00118657, 0.00094983, 0.00045579, 0.00030535,\n",
       "         0.0007181 , 0.00089954, 0.00080421, 0.00192489, 0.00091792,\n",
       "         0.00309955, 0.0019873 , 0.0018218 , 0.00304152, 0.00200822,\n",
       "         0.00196089, 0.00242248, 0.00163211, 0.0019029 , 0.00159923,\n",
       "         0.01065033, 0.00233945, 0.00184133, 0.00293789, 0.00218541,\n",
       "         0.00232816, 0.00254997, 0.00392211, 0.00692366, 0.00708614,\n",
       "         0.00284121, 0.00517781, 0.00245573, 0.00116617]),\n",
       "  'mean_score_time': array([0.00256376, 0.00199437, 0.00198083, 0.00187054, 0.00192375,\n",
       "         0.00183711, 0.00184021, 0.00154867, 0.00184817, 0.00173116,\n",
       "         0.00167408, 0.0017179 , 0.00175586, 0.00162377, 0.00181837,\n",
       "         0.00182242, 0.0016366 , 0.00176215, 0.00177059, 0.00159798,\n",
       "         0.00173616, 0.00166302, 0.00188618, 0.00170746, 0.00185676,\n",
       "         0.00178123, 0.0018003 , 0.00152984, 0.0019136 , 0.00192981,\n",
       "         0.00172553, 0.00182467, 0.00178075, 0.00181231, 0.00166445,\n",
       "         0.00181627, 0.00183215, 0.00187025, 0.00203328, 0.00181217,\n",
       "         0.00188832, 0.00190949, 0.00226026, 0.00184441, 0.00200891,\n",
       "         0.00172439, 0.0018208 , 0.00192237, 0.00157814, 0.00196376,\n",
       "         0.00175514, 0.00164075, 0.00167818, 0.00178308, 0.00169969,\n",
       "         0.00178094, 0.00164804, 0.00175757, 0.0016912 , 0.00172901,\n",
       "         0.00170937, 0.00169997, 0.00163507, 0.00171804, 0.00168705,\n",
       "         0.00164094, 0.00165114, 0.00164003, 0.00157223, 0.0015995 ,\n",
       "         0.00182304, 0.00170894, 0.00163918, 0.00163965, 0.00196452,\n",
       "         0.00169959, 0.00171685, 0.00174685, 0.00190172, 0.00179429,\n",
       "         0.00193901, 0.0017849 , 0.00177832, 0.00169153]),\n",
       "  'std_score_time': array([5.39029669e-04, 1.74886878e-04, 2.04656564e-04, 1.16088119e-04,\n",
       "         3.28681726e-04, 2.41470007e-04, 2.38818291e-04, 1.06001190e-04,\n",
       "         2.31256849e-04, 2.62502732e-04, 1.73624954e-04, 2.16219579e-04,\n",
       "         2.73691636e-04, 3.59272671e-05, 2.09761875e-04, 1.97762795e-04,\n",
       "         1.11674468e-04, 2.13539637e-04, 1.72765979e-04, 4.77872202e-05,\n",
       "         2.02493883e-04, 7.88088493e-05, 2.31058598e-04, 1.36494468e-04,\n",
       "         2.34390681e-04, 1.74151741e-04, 2.13716797e-04, 3.84452010e-05,\n",
       "         3.42297693e-04, 3.10849533e-04, 7.05428321e-05, 2.07753490e-04,\n",
       "         9.52983845e-05, 9.97840972e-05, 6.76030657e-05, 2.34422575e-05,\n",
       "         1.29609445e-04, 1.07904108e-04, 3.90381005e-04, 1.62208227e-04,\n",
       "         2.32049284e-04, 5.21506295e-04, 2.19134323e-04, 6.01922634e-05,\n",
       "         2.38350716e-04, 2.98465782e-05, 1.48198810e-04, 2.88586993e-04,\n",
       "         4.60387202e-05, 6.22760749e-04, 3.74861449e-04, 5.54997076e-05,\n",
       "         2.65975706e-04, 1.93799750e-04, 3.01155604e-04, 2.44945655e-04,\n",
       "         5.25505269e-05, 1.34808316e-04, 1.58646567e-04, 3.53893620e-04,\n",
       "         1.98042453e-04, 2.65017685e-04, 2.62611155e-04, 9.96553156e-05,\n",
       "         7.48186220e-05, 6.17879768e-05, 7.75722757e-05, 3.95008287e-05,\n",
       "         6.01147000e-05, 7.08139945e-05, 2.64017574e-04, 9.75175008e-05,\n",
       "         4.78736908e-05, 4.93330387e-05, 3.81910469e-04, 1.57648206e-04,\n",
       "         1.46956926e-04, 2.49360760e-05, 3.29658072e-04, 1.15706027e-04,\n",
       "         2.20308954e-04, 1.37058594e-04, 1.79826438e-04, 2.04595394e-04]),\n",
       "  'param_criterion': masked_array(data=['gini', 'gini', 'gini', 'gini', 'gini', 'gini', 'gini',\n",
       "                     'gini', 'gini', 'gini', 'gini', 'gini', 'gini', 'gini',\n",
       "                     'gini', 'gini', 'gini', 'gini', 'gini', 'gini', 'gini',\n",
       "                     'gini', 'gini', 'gini', 'gini', 'gini', 'gini', 'gini',\n",
       "                     'gini', 'gini', 'gini', 'gini', 'gini', 'gini', 'gini',\n",
       "                     'gini', 'gini', 'gini', 'gini', 'gini', 'gini', 'gini',\n",
       "                     'entropy', 'entropy', 'entropy', 'entropy', 'entropy',\n",
       "                     'entropy', 'entropy', 'entropy', 'entropy', 'entropy',\n",
       "                     'entropy', 'entropy', 'entropy', 'entropy', 'entropy',\n",
       "                     'entropy', 'entropy', 'entropy', 'entropy', 'entropy',\n",
       "                     'entropy', 'entropy', 'entropy', 'entropy', 'entropy',\n",
       "                     'entropy', 'entropy', 'entropy', 'entropy', 'entropy',\n",
       "                     'entropy', 'entropy', 'entropy', 'entropy', 'entropy',\n",
       "                     'entropy', 'entropy', 'entropy', 'entropy', 'entropy',\n",
       "                     'entropy', 'entropy'],\n",
       "               mask=[False, False, False, False, False, False, False, False,\n",
       "                     False, False, False, False, False, False, False, False,\n",
       "                     False, False, False, False, False, False, False, False,\n",
       "                     False, False, False, False, False, False, False, False,\n",
       "                     False, False, False, False, False, False, False, False,\n",
       "                     False, False, False, False, False, False, False, False,\n",
       "                     False, False, False, False, False, False, False, False,\n",
       "                     False, False, False, False, False, False, False, False,\n",
       "                     False, False, False, False, False, False, False, False,\n",
       "                     False, False, False, False, False, False, False, False,\n",
       "                     False, False, False, False],\n",
       "         fill_value='?',\n",
       "              dtype=object),\n",
       "  'param_max_depth': masked_array(data=[None, None, None, None, None, None, None, 2, 2, 2, 2,\n",
       "                     2, 2, 2, 3, 3, 3, 3, 3, 3, 3, 4, 4, 4, 4, 4, 4, 4, 5,\n",
       "                     5, 5, 5, 5, 5, 5, 10, 10, 10, 10, 10, 10, 10, None,\n",
       "                     None, None, None, None, None, None, 2, 2, 2, 2, 2, 2,\n",
       "                     2, 3, 3, 3, 3, 3, 3, 3, 4, 4, 4, 4, 4, 4, 4, 5, 5, 5,\n",
       "                     5, 5, 5, 5, 10, 10, 10, 10, 10, 10, 10],\n",
       "               mask=[False, False, False, False, False, False, False, False,\n",
       "                     False, False, False, False, False, False, False, False,\n",
       "                     False, False, False, False, False, False, False, False,\n",
       "                     False, False, False, False, False, False, False, False,\n",
       "                     False, False, False, False, False, False, False, False,\n",
       "                     False, False, False, False, False, False, False, False,\n",
       "                     False, False, False, False, False, False, False, False,\n",
       "                     False, False, False, False, False, False, False, False,\n",
       "                     False, False, False, False, False, False, False, False,\n",
       "                     False, False, False, False, False, False, False, False,\n",
       "                     False, False, False, False],\n",
       "         fill_value='?',\n",
       "              dtype=object),\n",
       "  'param_min_samples_leaf': masked_array(data=[1, 50, 100, 200, 400, 800, 1600, 1, 50, 100, 200, 400,\n",
       "                     800, 1600, 1, 50, 100, 200, 400, 800, 1600, 1, 50, 100,\n",
       "                     200, 400, 800, 1600, 1, 50, 100, 200, 400, 800, 1600,\n",
       "                     1, 50, 100, 200, 400, 800, 1600, 1, 50, 100, 200, 400,\n",
       "                     800, 1600, 1, 50, 100, 200, 400, 800, 1600, 1, 50, 100,\n",
       "                     200, 400, 800, 1600, 1, 50, 100, 200, 400, 800, 1600,\n",
       "                     1, 50, 100, 200, 400, 800, 1600, 1, 50, 100, 200, 400,\n",
       "                     800, 1600],\n",
       "               mask=[False, False, False, False, False, False, False, False,\n",
       "                     False, False, False, False, False, False, False, False,\n",
       "                     False, False, False, False, False, False, False, False,\n",
       "                     False, False, False, False, False, False, False, False,\n",
       "                     False, False, False, False, False, False, False, False,\n",
       "                     False, False, False, False, False, False, False, False,\n",
       "                     False, False, False, False, False, False, False, False,\n",
       "                     False, False, False, False, False, False, False, False,\n",
       "                     False, False, False, False, False, False, False, False,\n",
       "                     False, False, False, False, False, False, False, False,\n",
       "                     False, False, False, False],\n",
       "         fill_value='?',\n",
       "              dtype=object),\n",
       "  'params': [{'criterion': 'gini', 'max_depth': None, 'min_samples_leaf': 1},\n",
       "   {'criterion': 'gini', 'max_depth': None, 'min_samples_leaf': 50},\n",
       "   {'criterion': 'gini', 'max_depth': None, 'min_samples_leaf': 100},\n",
       "   {'criterion': 'gini', 'max_depth': None, 'min_samples_leaf': 200},\n",
       "   {'criterion': 'gini', 'max_depth': None, 'min_samples_leaf': 400},\n",
       "   {'criterion': 'gini', 'max_depth': None, 'min_samples_leaf': 800},\n",
       "   {'criterion': 'gini', 'max_depth': None, 'min_samples_leaf': 1600},\n",
       "   {'criterion': 'gini', 'max_depth': 2, 'min_samples_leaf': 1},\n",
       "   {'criterion': 'gini', 'max_depth': 2, 'min_samples_leaf': 50},\n",
       "   {'criterion': 'gini', 'max_depth': 2, 'min_samples_leaf': 100},\n",
       "   {'criterion': 'gini', 'max_depth': 2, 'min_samples_leaf': 200},\n",
       "   {'criterion': 'gini', 'max_depth': 2, 'min_samples_leaf': 400},\n",
       "   {'criterion': 'gini', 'max_depth': 2, 'min_samples_leaf': 800},\n",
       "   {'criterion': 'gini', 'max_depth': 2, 'min_samples_leaf': 1600},\n",
       "   {'criterion': 'gini', 'max_depth': 3, 'min_samples_leaf': 1},\n",
       "   {'criterion': 'gini', 'max_depth': 3, 'min_samples_leaf': 50},\n",
       "   {'criterion': 'gini', 'max_depth': 3, 'min_samples_leaf': 100},\n",
       "   {'criterion': 'gini', 'max_depth': 3, 'min_samples_leaf': 200},\n",
       "   {'criterion': 'gini', 'max_depth': 3, 'min_samples_leaf': 400},\n",
       "   {'criterion': 'gini', 'max_depth': 3, 'min_samples_leaf': 800},\n",
       "   {'criterion': 'gini', 'max_depth': 3, 'min_samples_leaf': 1600},\n",
       "   {'criterion': 'gini', 'max_depth': 4, 'min_samples_leaf': 1},\n",
       "   {'criterion': 'gini', 'max_depth': 4, 'min_samples_leaf': 50},\n",
       "   {'criterion': 'gini', 'max_depth': 4, 'min_samples_leaf': 100},\n",
       "   {'criterion': 'gini', 'max_depth': 4, 'min_samples_leaf': 200},\n",
       "   {'criterion': 'gini', 'max_depth': 4, 'min_samples_leaf': 400},\n",
       "   {'criterion': 'gini', 'max_depth': 4, 'min_samples_leaf': 800},\n",
       "   {'criterion': 'gini', 'max_depth': 4, 'min_samples_leaf': 1600},\n",
       "   {'criterion': 'gini', 'max_depth': 5, 'min_samples_leaf': 1},\n",
       "   {'criterion': 'gini', 'max_depth': 5, 'min_samples_leaf': 50},\n",
       "   {'criterion': 'gini', 'max_depth': 5, 'min_samples_leaf': 100},\n",
       "   {'criterion': 'gini', 'max_depth': 5, 'min_samples_leaf': 200},\n",
       "   {'criterion': 'gini', 'max_depth': 5, 'min_samples_leaf': 400},\n",
       "   {'criterion': 'gini', 'max_depth': 5, 'min_samples_leaf': 800},\n",
       "   {'criterion': 'gini', 'max_depth': 5, 'min_samples_leaf': 1600},\n",
       "   {'criterion': 'gini', 'max_depth': 10, 'min_samples_leaf': 1},\n",
       "   {'criterion': 'gini', 'max_depth': 10, 'min_samples_leaf': 50},\n",
       "   {'criterion': 'gini', 'max_depth': 10, 'min_samples_leaf': 100},\n",
       "   {'criterion': 'gini', 'max_depth': 10, 'min_samples_leaf': 200},\n",
       "   {'criterion': 'gini', 'max_depth': 10, 'min_samples_leaf': 400},\n",
       "   {'criterion': 'gini', 'max_depth': 10, 'min_samples_leaf': 800},\n",
       "   {'criterion': 'gini', 'max_depth': 10, 'min_samples_leaf': 1600},\n",
       "   {'criterion': 'entropy', 'max_depth': None, 'min_samples_leaf': 1},\n",
       "   {'criterion': 'entropy', 'max_depth': None, 'min_samples_leaf': 50},\n",
       "   {'criterion': 'entropy', 'max_depth': None, 'min_samples_leaf': 100},\n",
       "   {'criterion': 'entropy', 'max_depth': None, 'min_samples_leaf': 200},\n",
       "   {'criterion': 'entropy', 'max_depth': None, 'min_samples_leaf': 400},\n",
       "   {'criterion': 'entropy', 'max_depth': None, 'min_samples_leaf': 800},\n",
       "   {'criterion': 'entropy', 'max_depth': None, 'min_samples_leaf': 1600},\n",
       "   {'criterion': 'entropy', 'max_depth': 2, 'min_samples_leaf': 1},\n",
       "   {'criterion': 'entropy', 'max_depth': 2, 'min_samples_leaf': 50},\n",
       "   {'criterion': 'entropy', 'max_depth': 2, 'min_samples_leaf': 100},\n",
       "   {'criterion': 'entropy', 'max_depth': 2, 'min_samples_leaf': 200},\n",
       "   {'criterion': 'entropy', 'max_depth': 2, 'min_samples_leaf': 400},\n",
       "   {'criterion': 'entropy', 'max_depth': 2, 'min_samples_leaf': 800},\n",
       "   {'criterion': 'entropy', 'max_depth': 2, 'min_samples_leaf': 1600},\n",
       "   {'criterion': 'entropy', 'max_depth': 3, 'min_samples_leaf': 1},\n",
       "   {'criterion': 'entropy', 'max_depth': 3, 'min_samples_leaf': 50},\n",
       "   {'criterion': 'entropy', 'max_depth': 3, 'min_samples_leaf': 100},\n",
       "   {'criterion': 'entropy', 'max_depth': 3, 'min_samples_leaf': 200},\n",
       "   {'criterion': 'entropy', 'max_depth': 3, 'min_samples_leaf': 400},\n",
       "   {'criterion': 'entropy', 'max_depth': 3, 'min_samples_leaf': 800},\n",
       "   {'criterion': 'entropy', 'max_depth': 3, 'min_samples_leaf': 1600},\n",
       "   {'criterion': 'entropy', 'max_depth': 4, 'min_samples_leaf': 1},\n",
       "   {'criterion': 'entropy', 'max_depth': 4, 'min_samples_leaf': 50},\n",
       "   {'criterion': 'entropy', 'max_depth': 4, 'min_samples_leaf': 100},\n",
       "   {'criterion': 'entropy', 'max_depth': 4, 'min_samples_leaf': 200},\n",
       "   {'criterion': 'entropy', 'max_depth': 4, 'min_samples_leaf': 400},\n",
       "   {'criterion': 'entropy', 'max_depth': 4, 'min_samples_leaf': 800},\n",
       "   {'criterion': 'entropy', 'max_depth': 4, 'min_samples_leaf': 1600},\n",
       "   {'criterion': 'entropy', 'max_depth': 5, 'min_samples_leaf': 1},\n",
       "   {'criterion': 'entropy', 'max_depth': 5, 'min_samples_leaf': 50},\n",
       "   {'criterion': 'entropy', 'max_depth': 5, 'min_samples_leaf': 100},\n",
       "   {'criterion': 'entropy', 'max_depth': 5, 'min_samples_leaf': 200},\n",
       "   {'criterion': 'entropy', 'max_depth': 5, 'min_samples_leaf': 400},\n",
       "   {'criterion': 'entropy', 'max_depth': 5, 'min_samples_leaf': 800},\n",
       "   {'criterion': 'entropy', 'max_depth': 5, 'min_samples_leaf': 1600},\n",
       "   {'criterion': 'entropy', 'max_depth': 10, 'min_samples_leaf': 1},\n",
       "   {'criterion': 'entropy', 'max_depth': 10, 'min_samples_leaf': 50},\n",
       "   {'criterion': 'entropy', 'max_depth': 10, 'min_samples_leaf': 100},\n",
       "   {'criterion': 'entropy', 'max_depth': 10, 'min_samples_leaf': 200},\n",
       "   {'criterion': 'entropy', 'max_depth': 10, 'min_samples_leaf': 400},\n",
       "   {'criterion': 'entropy', 'max_depth': 10, 'min_samples_leaf': 800},\n",
       "   {'criterion': 'entropy', 'max_depth': 10, 'min_samples_leaf': 1600}],\n",
       "  'split0_test_score': array([0.7278607 , 0.81890547, 0.82562189, 0.82412935, 0.82487562,\n",
       "         0.82487562, 0.82487562, 0.82537313, 0.82537313, 0.82537313,\n",
       "         0.82487562, 0.82487562, 0.82487562, 0.82487562, 0.8261194 ,\n",
       "         0.82587065, 0.82537313, 0.82487562, 0.82487562, 0.82487562,\n",
       "         0.82487562, 0.8238806 , 0.82512438, 0.82462687, 0.82412935,\n",
       "         0.82487562, 0.82487562, 0.82487562, 0.82736318, 0.82661692,\n",
       "         0.8261194 , 0.82412935, 0.82487562, 0.82487562, 0.82487562,\n",
       "         0.81343284, 0.81890547, 0.82562189, 0.82412935, 0.82487562,\n",
       "         0.82487562, 0.82487562, 0.7300995 , 0.81716418, 0.8261194 ,\n",
       "         0.82412935, 0.82487562, 0.82487562, 0.82487562, 0.82537313,\n",
       "         0.82537313, 0.82537313, 0.82487562, 0.82487562, 0.82487562,\n",
       "         0.82487562, 0.8261194 , 0.82587065, 0.82537313, 0.82487562,\n",
       "         0.82487562, 0.82487562, 0.82487562, 0.8238806 , 0.82512438,\n",
       "         0.82462687, 0.82412935, 0.82487562, 0.82487562, 0.82487562,\n",
       "         0.82686567, 0.82661692, 0.82810945, 0.82412935, 0.82487562,\n",
       "         0.82487562, 0.82487562, 0.80895522, 0.81890547, 0.8261194 ,\n",
       "         0.82412935, 0.82487562, 0.82487562, 0.82487562]),\n",
       "  'split1_test_score': array([0.72985075, 0.81517413, 0.81840796, 0.81741294, 0.81567164,\n",
       "         0.81567164, 0.81567164, 0.81567164, 0.81567164, 0.81567164,\n",
       "         0.81567164, 0.81567164, 0.81567164, 0.81567164, 0.81691542,\n",
       "         0.81641791, 0.81567164, 0.81567164, 0.81567164, 0.81567164,\n",
       "         0.81567164, 0.81840796, 0.81766169, 0.81741294, 0.81741294,\n",
       "         0.81567164, 0.81567164, 0.81567164, 0.8181592 , 0.81915423,\n",
       "         0.81840796, 0.81741294, 0.81567164, 0.81567164, 0.81567164,\n",
       "         0.79850746, 0.81791045, 0.81840796, 0.81741294, 0.81567164,\n",
       "         0.81567164, 0.81567164, 0.73457711, 0.81243781, 0.81840796,\n",
       "         0.81741294, 0.81567164, 0.81567164, 0.81567164, 0.81567164,\n",
       "         0.81567164, 0.81567164, 0.81567164, 0.81567164, 0.81567164,\n",
       "         0.81567164, 0.81691542, 0.8159204 , 0.81567164, 0.81567164,\n",
       "         0.81567164, 0.81567164, 0.81567164, 0.81691542, 0.8181592 ,\n",
       "         0.81741294, 0.81741294, 0.81567164, 0.81567164, 0.81567164,\n",
       "         0.8181592 , 0.81965174, 0.81840796, 0.81741294, 0.81567164,\n",
       "         0.81567164, 0.81567164, 0.80646766, 0.81243781, 0.81840796,\n",
       "         0.81741294, 0.81567164, 0.81567164, 0.81567164]),\n",
       "  'split2_test_score': array([0.72189055, 0.8159204 , 0.82064677, 0.8221393 , 0.82114428,\n",
       "         0.82114428, 0.82114428, 0.82114428, 0.82114428, 0.82114428,\n",
       "         0.82114428, 0.82114428, 0.82114428, 0.82114428, 0.82189055,\n",
       "         0.8221393 , 0.82114428, 0.82114428, 0.82114428, 0.82114428,\n",
       "         0.82114428, 0.82313433, 0.82313433, 0.8221393 , 0.8221393 ,\n",
       "         0.82114428, 0.82114428, 0.82114428, 0.82238806, 0.82139303,\n",
       "         0.8221393 , 0.8221393 , 0.82114428, 0.82114428, 0.82114428,\n",
       "         0.80870647, 0.8159204 , 0.82064677, 0.8221393 , 0.82114428,\n",
       "         0.82114428, 0.82114428, 0.73482587, 0.8159204 , 0.8199005 ,\n",
       "         0.8221393 , 0.82114428, 0.82114428, 0.82114428, 0.82114428,\n",
       "         0.82114428, 0.82114428, 0.82114428, 0.82114428, 0.82114428,\n",
       "         0.82114428, 0.82139303, 0.8221393 , 0.82114428, 0.82114428,\n",
       "         0.82114428, 0.82114428, 0.82114428, 0.82338308, 0.82313433,\n",
       "         0.8221393 , 0.8221393 , 0.82114428, 0.82114428, 0.82114428,\n",
       "         0.82288557, 0.82139303, 0.8221393 , 0.8221393 , 0.82114428,\n",
       "         0.82114428, 0.82114428, 0.81069652, 0.8159204 , 0.8199005 ,\n",
       "         0.8221393 , 0.82114428, 0.82114428, 0.82114428]),\n",
       "  'split3_test_score': array([0.73457711, 0.80970149, 0.81293532, 0.81393035, 0.81641791,\n",
       "         0.81641791, 0.81641791, 0.81641791, 0.81641791, 0.81641791,\n",
       "         0.81641791, 0.81641791, 0.81641791, 0.81641791, 0.81492537,\n",
       "         0.81442786, 0.8141791 , 0.81393035, 0.81641791, 0.81641791,\n",
       "         0.81641791, 0.8141791 , 0.81393035, 0.8141791 , 0.81393035,\n",
       "         0.81641791, 0.81641791, 0.81641791, 0.81368159, 0.81467662,\n",
       "         0.81318408, 0.81393035, 0.81641791, 0.81641791, 0.81641791,\n",
       "         0.80696517, 0.81218905, 0.81293532, 0.81393035, 0.81641791,\n",
       "         0.81641791, 0.81641791, 0.73557214, 0.80945274, 0.81293532,\n",
       "         0.81393035, 0.81641791, 0.81641791, 0.81641791, 0.81641791,\n",
       "         0.81641791, 0.81641791, 0.81641791, 0.81641791, 0.81641791,\n",
       "         0.81641791, 0.81492537, 0.81442786, 0.8141791 , 0.81393035,\n",
       "         0.81641791, 0.81641791, 0.81641791, 0.81467662, 0.81393035,\n",
       "         0.8141791 , 0.81393035, 0.81641791, 0.81641791, 0.81641791,\n",
       "         0.81393035, 0.81467662, 0.81318408, 0.81393035, 0.81641791,\n",
       "         0.81641791, 0.81641791, 0.80970149, 0.8119403 , 0.81293532,\n",
       "         0.81393035, 0.81641791, 0.81641791, 0.81641791]),\n",
       "  'split4_test_score': array([0.71890547, 0.81069652, 0.81542289, 0.81542289, 0.81517413,\n",
       "         0.81517413, 0.81517413, 0.81641791, 0.81641791, 0.81641791,\n",
       "         0.81517413, 0.81517413, 0.81517413, 0.81517413, 0.81641791,\n",
       "         0.81641791, 0.81641791, 0.81517413, 0.81517413, 0.81517413,\n",
       "         0.81517413, 0.81791045, 0.81492537, 0.81666667, 0.81542289,\n",
       "         0.81517413, 0.81517413, 0.81517413, 0.8141791 , 0.81641791,\n",
       "         0.8181592 , 0.81542289, 0.81517413, 0.81517413, 0.81517413,\n",
       "         0.80024876, 0.81069652, 0.81542289, 0.81542289, 0.81517413,\n",
       "         0.81517413, 0.81517413, 0.72985075, 0.80945274, 0.81542289,\n",
       "         0.81542289, 0.81517413, 0.81517413, 0.81517413, 0.81517413,\n",
       "         0.81517413, 0.81517413, 0.81517413, 0.81517413, 0.81517413,\n",
       "         0.81517413, 0.81567164, 0.8159204 , 0.81616915, 0.81517413,\n",
       "         0.81517413, 0.81517413, 0.81517413, 0.8159204 , 0.81442786,\n",
       "         0.81641791, 0.81542289, 0.81517413, 0.81517413, 0.81517413,\n",
       "         0.81442786, 0.81641791, 0.81791045, 0.81542289, 0.81517413,\n",
       "         0.81517413, 0.81517413, 0.80671642, 0.81069652, 0.81542289,\n",
       "         0.81542289, 0.81517413, 0.81517413, 0.81517413]),\n",
       "  'mean_test_score': array([0.72661692, 0.8140796 , 0.81860697, 0.81860697, 0.81865672,\n",
       "         0.81865672, 0.81865672, 0.81900498, 0.81900498, 0.81900498,\n",
       "         0.81865672, 0.81865672, 0.81865672, 0.81865672, 0.81925373,\n",
       "         0.81905473, 0.81855721, 0.8181592 , 0.81865672, 0.81865672,\n",
       "         0.81865672, 0.81950249, 0.81895522, 0.81900498, 0.81860697,\n",
       "         0.81865672, 0.81865672, 0.81865672, 0.81915423, 0.81965174,\n",
       "         0.81960199, 0.81860697, 0.81865672, 0.81865672, 0.81865672,\n",
       "         0.80557214, 0.81512438, 0.81860697, 0.81860697, 0.81865672,\n",
       "         0.81865672, 0.81865672, 0.73298507, 0.81288557, 0.81855721,\n",
       "         0.81860697, 0.81865672, 0.81865672, 0.81865672, 0.81875622,\n",
       "         0.81875622, 0.81875622, 0.81865672, 0.81865672, 0.81865672,\n",
       "         0.81865672, 0.81900498, 0.81885572, 0.81850746, 0.8181592 ,\n",
       "         0.81865672, 0.81865672, 0.81865672, 0.81895522, 0.81895522,\n",
       "         0.81895522, 0.81860697, 0.81865672, 0.81865672, 0.81865672,\n",
       "         0.81925373, 0.81975124, 0.81995025, 0.81860697, 0.81865672,\n",
       "         0.81865672, 0.81865672, 0.80850746, 0.8139801 , 0.81855721,\n",
       "         0.81860697, 0.81865672, 0.81865672, 0.81865672]),\n",
       "  'std_test_score': array([0.00560668, 0.00342019, 0.00437528, 0.00390919, 0.00376601,\n",
       "         0.00376601, 0.00376601, 0.00373167, 0.00373167, 0.00373167,\n",
       "         0.00376601, 0.00376601, 0.00376601, 0.00376601, 0.00415535,\n",
       "         0.00427282, 0.00412845, 0.0041714 , 0.00376601, 0.00376601,\n",
       "         0.00376601, 0.00358968, 0.00444265, 0.00381369, 0.00390919,\n",
       "         0.00376601, 0.00376601, 0.00376601, 0.00516791, 0.0041714 ,\n",
       "         0.00432693, 0.00390919, 0.00376601, 0.00376601, 0.00376601,\n",
       "         0.00551005, 0.00319107, 0.00437528, 0.00390919, 0.00376601,\n",
       "         0.00376601, 0.00376601, 0.00248059, 0.00320268, 0.00448203,\n",
       "         0.00390919, 0.00376601, 0.00376601, 0.00376601, 0.00393192,\n",
       "         0.00393192, 0.00393192, 0.00376601, 0.00376601, 0.00376601,\n",
       "         0.00376601, 0.00420567, 0.00440067, 0.00415535, 0.0041714 ,\n",
       "         0.00376601, 0.00376601, 0.00376601, 0.00388697, 0.0045145 ,\n",
       "         0.00384536, 0.00390919, 0.00376601, 0.00376601, 0.00376601,\n",
       "         0.0049791 , 0.00416427, 0.00497363, 0.00390919, 0.00376601,\n",
       "         0.00376601, 0.00376601, 0.00166053, 0.00301149, 0.00448203,\n",
       "         0.00390919, 0.00376601, 0.00376601, 0.00376601]),\n",
       "  'rank_test_score': array([84, 78, 61, 61, 23, 23, 23, 11, 11, 11, 23, 23, 23, 23,  6,  9, 71,\n",
       "         75, 23, 23, 23,  5, 17, 10, 61, 23, 23, 23,  8,  3,  4, 61, 23, 23,\n",
       "         23, 82, 77, 61, 61, 23, 23, 23, 83, 80, 71, 61, 23, 23, 23, 20, 20,\n",
       "         20, 23, 23, 23, 23, 11, 19, 74, 75, 23, 23, 23, 15, 17, 15, 61, 23,\n",
       "         23, 23,  7,  2,  1, 61, 23, 23, 23, 81, 79, 71, 61, 23, 23, 23],\n",
       "        dtype=int32)},\n",
       " 'n_splits_': 5}"
      ]
     },
     "execution_count": 74,
     "metadata": {},
     "output_type": "execute_result"
    }
   ],
   "source": [
    "cv.__dict__"
   ]
  },
  {
   "cell_type": "code",
   "execution_count": 75,
   "metadata": {},
   "outputs": [
    {
     "data": {
      "text/plain": [
       "(84,)"
      ]
     },
     "execution_count": 75,
     "metadata": {},
     "output_type": "execute_result"
    }
   ],
   "source": [
    "cv.cv_results_['mean_test_score'].shape"
   ]
  },
  {
   "cell_type": "code",
   "execution_count": 76,
   "metadata": {},
   "outputs": [
    {
     "data": {
      "text/plain": [
       "array([0.72661692, 0.8140796 , 0.81860697, 0.81860697, 0.81865672,\n",
       "       0.81865672, 0.81865672, 0.81900498, 0.81900498, 0.81900498,\n",
       "       0.81865672, 0.81865672, 0.81865672, 0.81865672, 0.81925373,\n",
       "       0.81905473, 0.81855721, 0.8181592 , 0.81865672, 0.81865672,\n",
       "       0.81865672, 0.81950249, 0.81895522, 0.81900498, 0.81860697,\n",
       "       0.81865672, 0.81865672, 0.81865672, 0.81915423, 0.81965174,\n",
       "       0.81960199, 0.81860697, 0.81865672, 0.81865672, 0.81865672,\n",
       "       0.80557214, 0.81512438, 0.81860697, 0.81860697, 0.81865672,\n",
       "       0.81865672, 0.81865672, 0.73298507, 0.81288557, 0.81855721,\n",
       "       0.81860697, 0.81865672, 0.81865672, 0.81865672, 0.81875622,\n",
       "       0.81875622, 0.81875622, 0.81865672, 0.81865672, 0.81865672,\n",
       "       0.81865672, 0.81900498, 0.81885572, 0.81850746, 0.8181592 ,\n",
       "       0.81865672, 0.81865672, 0.81865672, 0.81895522, 0.81895522,\n",
       "       0.81895522, 0.81860697, 0.81865672, 0.81865672, 0.81865672,\n",
       "       0.81925373, 0.81975124, 0.81995025, 0.81860697, 0.81865672,\n",
       "       0.81865672, 0.81865672, 0.80850746, 0.8139801 , 0.81855721,\n",
       "       0.81860697, 0.81865672, 0.81865672, 0.81865672])"
      ]
     },
     "execution_count": 76,
     "metadata": {},
     "output_type": "execute_result"
    }
   ],
   "source": [
    "cv.cv_results_['mean_test_score']"
   ]
  },
  {
   "cell_type": "code",
   "execution_count": 77,
   "metadata": {},
   "outputs": [
    {
     "data": {
      "text/plain": [
       "DecisionTreeClassifier(criterion='entropy', max_depth=5, min_samples_leaf=100)"
      ]
     },
     "execution_count": 77,
     "metadata": {},
     "output_type": "execute_result"
    }
   ],
   "source": [
    "cv.best_estimator_"
   ]
  },
  {
   "cell_type": "code",
   "execution_count": 78,
   "metadata": {},
   "outputs": [
    {
     "data": {
      "text/plain": [
       "0.8186868686868687"
      ]
     },
     "execution_count": 78,
     "metadata": {},
     "output_type": "execute_result"
    }
   ],
   "source": [
    "cv.score(X_test, y_test)"
   ]
  },
  {
   "cell_type": "code",
   "execution_count": null,
   "metadata": {},
   "outputs": [],
   "source": []
  },
  {
   "cell_type": "code",
   "execution_count": 79,
   "metadata": {},
   "outputs": [],
   "source": [
    "model_dt = DecisionTreeClassifier(criterion='entropy', max_depth=5, min_samples_leaf=100)"
   ]
  },
  {
   "cell_type": "code",
   "execution_count": 80,
   "metadata": {},
   "outputs": [
    {
     "data": {
      "text/plain": [
       "DecisionTreeClassifier(criterion='entropy', max_depth=5, min_samples_leaf=100)"
      ]
     },
     "execution_count": 80,
     "metadata": {},
     "output_type": "execute_result"
    }
   ],
   "source": [
    "model_dt.fit(X_train, y_train)"
   ]
  },
  {
   "cell_type": "code",
   "execution_count": 81,
   "metadata": {},
   "outputs": [
    {
     "data": {
      "text/plain": [
       "0.8186868686868687"
      ]
     },
     "execution_count": 81,
     "metadata": {},
     "output_type": "execute_result"
    }
   ],
   "source": [
    "model_dt.score(X_test, y_test)"
   ]
  },
  {
   "cell_type": "markdown",
   "metadata": {},
   "source": [
    "## Other Models"
   ]
  },
  {
   "cell_type": "markdown",
   "metadata": {},
   "source": [
    "### Support Vector Machines `SVC()`"
   ]
  },
  {
   "cell_type": "markdown",
   "metadata": {},
   "source": [
    "https://jakevdp.github.io/PythonDataScienceHandbook/05.07-support-vector-machines.html"
   ]
  },
  {
   "cell_type": "code",
   "execution_count": 90,
   "metadata": {},
   "outputs": [
    {
     "data": {
      "text/html": [
       "<iframe width=\"560\" height=\"315\" src=\"https://www.youtube.com/embed/efR1C6CvhmE\" title=\"YouTube video player\" frameborder=\"0\" allow=\"accelerometer; autoplay; clipboard-write; encrypted-media; gyroscope; picture-in-picture\" allowfullscreen></iframe>\n"
      ],
      "text/plain": [
       "<IPython.core.display.HTML object>"
      ]
     },
     "metadata": {},
     "output_type": "display_data"
    }
   ],
   "source": [
    "%%HTML\n",
    "<iframe width=\"560\" height=\"315\" src=\"https://www.youtube.com/embed/efR1C6CvhmE\" title=\"YouTube video player\" frameborder=\"0\" allow=\"accelerometer; autoplay; clipboard-write; encrypted-media; gyroscope; picture-in-picture\" allowfullscreen></iframe>"
   ]
  },
  {
   "cell_type": "code",
   "execution_count": 91,
   "metadata": {},
   "outputs": [],
   "source": [
    "from sklearn.preprocessing import MinMaxScaler"
   ]
  },
  {
   "cell_type": "code",
   "execution_count": 92,
   "metadata": {},
   "outputs": [],
   "source": [
    "scaler = MinMaxScaler()"
   ]
  },
  {
   "cell_type": "code",
   "execution_count": 93,
   "metadata": {},
   "outputs": [],
   "source": [
    "X_norm = pd.DataFrame(scaler.fit_transform(X))"
   ]
  },
  {
   "cell_type": "code",
   "execution_count": 94,
   "metadata": {},
   "outputs": [],
   "source": [
    ">>> X_train, X_test, y_train, y_test = train_test_split(\n",
    "...     X_norm, y, test_size=0.33, random_state=42)"
   ]
  },
  {
   "cell_type": "code",
   "execution_count": 95,
   "metadata": {},
   "outputs": [],
   "source": [
    "from sklearn.svm import SVC"
   ]
  },
  {
   "cell_type": "code",
   "execution_count": 96,
   "metadata": {},
   "outputs": [],
   "source": [
    "sv = SVC()"
   ]
  },
  {
   "cell_type": "code",
   "execution_count": 97,
   "metadata": {},
   "outputs": [
    {
     "data": {
      "text/plain": [
       "{'C': 1.0,\n",
       " 'break_ties': False,\n",
       " 'cache_size': 200,\n",
       " 'class_weight': None,\n",
       " 'coef0': 0.0,\n",
       " 'decision_function_shape': 'ovr',\n",
       " 'degree': 3,\n",
       " 'gamma': 'scale',\n",
       " 'kernel': 'rbf',\n",
       " 'max_iter': -1,\n",
       " 'probability': False,\n",
       " 'random_state': None,\n",
       " 'shrinking': True,\n",
       " 'tol': 0.001,\n",
       " 'verbose': False}"
      ]
     },
     "execution_count": 97,
     "metadata": {},
     "output_type": "execute_result"
    }
   ],
   "source": [
    "sv.get_params()"
   ]
  },
  {
   "cell_type": "code",
   "execution_count": 98,
   "metadata": {},
   "outputs": [],
   "source": [
    "param_grid = {\n",
    "    'C': [0.1, 1, 10],\n",
    "    'kernel': ['linear', 'kernel']\n",
    "}"
   ]
  },
  {
   "cell_type": "code",
   "execution_count": 99,
   "metadata": {},
   "outputs": [],
   "source": [
    "cv_svc = GridSearchCV(estimator=sv, param_grid=param_grid, verbose=2)"
   ]
  },
  {
   "cell_type": "code",
   "execution_count": 100,
   "metadata": {},
   "outputs": [
    {
     "name": "stdout",
     "output_type": "stream",
     "text": [
      "Fitting 5 folds for each of 6 candidates, totalling 30 fits\n",
      "[CV] END ...............................C=0.1, kernel=linear; total time=   5.9s\n",
      "[CV] END ...............................C=0.1, kernel=linear; total time=   5.9s\n",
      "[CV] END ...............................C=0.1, kernel=linear; total time=   5.8s\n",
      "[CV] END ...............................C=0.1, kernel=linear; total time=   6.1s\n",
      "[CV] END ...............................C=0.1, kernel=linear; total time=   5.8s\n",
      "[CV] END ...............................C=0.1, kernel=kernel; total time=   0.0s\n",
      "[CV] END ...............................C=0.1, kernel=kernel; total time=   0.0s\n",
      "[CV] END ...............................C=0.1, kernel=kernel; total time=   0.0s\n",
      "[CV] END ...............................C=0.1, kernel=kernel; total time=   0.0s\n",
      "[CV] END ...............................C=0.1, kernel=kernel; total time=   0.0s\n",
      "[CV] END .................................C=1, kernel=linear; total time=   5.9s\n",
      "[CV] END .................................C=1, kernel=linear; total time=   6.4s\n",
      "[CV] END .................................C=1, kernel=linear; total time=   6.0s\n",
      "[CV] END .................................C=1, kernel=linear; total time=   6.6s\n",
      "[CV] END .................................C=1, kernel=linear; total time=   6.3s\n",
      "[CV] END .................................C=1, kernel=kernel; total time=   0.0s\n",
      "[CV] END .................................C=1, kernel=kernel; total time=   0.0s\n",
      "[CV] END .................................C=1, kernel=kernel; total time=   0.0s\n",
      "[CV] END .................................C=1, kernel=kernel; total time=   0.0s\n",
      "[CV] END .................................C=1, kernel=kernel; total time=   0.0s\n",
      "[CV] END ................................C=10, kernel=linear; total time=   7.8s\n",
      "[CV] END ................................C=10, kernel=linear; total time=   8.1s\n",
      "[CV] END ................................C=10, kernel=linear; total time=   7.5s\n",
      "[CV] END ................................C=10, kernel=linear; total time=  10.0s\n",
      "[CV] END ................................C=10, kernel=linear; total time=   8.2s\n",
      "[CV] END ................................C=10, kernel=kernel; total time=   0.0s\n",
      "[CV] END ................................C=10, kernel=kernel; total time=   0.0s\n",
      "[CV] END ................................C=10, kernel=kernel; total time=   0.0s\n",
      "[CV] END ................................C=10, kernel=kernel; total time=   0.0s\n",
      "[CV] END ................................C=10, kernel=kernel; total time=   0.0s\n"
     ]
    },
    {
     "name": "stderr",
     "output_type": "stream",
     "text": [
      "/Users/sota/miniforge3/lib/python3.9/site-packages/sklearn/model_selection/_validation.py:372: FitFailedWarning: \n",
      "15 fits failed out of a total of 30.\n",
      "The score on these train-test partitions for these parameters will be set to nan.\n",
      "If these failures are not expected, you can try to debug them by setting error_score='raise'.\n",
      "\n",
      "Below are more details about the failures:\n",
      "--------------------------------------------------------------------------------\n",
      "15 fits failed with the following error:\n",
      "Traceback (most recent call last):\n",
      "  File \"/Users/sota/miniforge3/lib/python3.9/site-packages/sklearn/model_selection/_validation.py\", line 680, in _fit_and_score\n",
      "    estimator.fit(X_train, y_train, **fit_params)\n",
      "  File \"/Users/sota/miniforge3/lib/python3.9/site-packages/sklearn/svm/_base.py\", line 255, in fit\n",
      "    fit(X, y, sample_weight, solver_type, kernel, random_seed=seed)\n",
      "  File \"/Users/sota/miniforge3/lib/python3.9/site-packages/sklearn/svm/_base.py\", line 315, in _dense_fit\n",
      "    ) = libsvm.fit(\n",
      "  File \"sklearn/svm/_libsvm.pyx\", line 173, in sklearn.svm._libsvm.fit\n",
      "ValueError: 'kernel' is not in list\n",
      "\n",
      "  warnings.warn(some_fits_failed_message, FitFailedWarning)\n",
      "/Users/sota/miniforge3/lib/python3.9/site-packages/sklearn/model_selection/_search.py:969: UserWarning: One or more of the test scores are non-finite: [0.78263682        nan 0.80875622        nan 0.80855721        nan]\n",
      "  warnings.warn(\n"
     ]
    },
    {
     "data": {
      "text/plain": [
       "GridSearchCV(estimator=SVC(),\n",
       "             param_grid={'C': [0.1, 1, 10], 'kernel': ['linear', 'kernel']},\n",
       "             verbose=2)"
      ]
     },
     "execution_count": 100,
     "metadata": {},
     "output_type": "execute_result"
    }
   ],
   "source": [
    "cv_svc.fit(X_train, y_train)"
   ]
  },
  {
   "cell_type": "code",
   "execution_count": 101,
   "metadata": {},
   "outputs": [
    {
     "data": {
      "text/plain": [
       "SVC(C=1, kernel='linear')"
      ]
     },
     "execution_count": 101,
     "metadata": {},
     "output_type": "execute_result"
    }
   ],
   "source": [
    "cv_svc.best_estimator_"
   ]
  },
  {
   "cell_type": "code",
   "execution_count": 102,
   "metadata": {},
   "outputs": [
    {
     "data": {
      "text/plain": [
       "0.8105050505050505"
      ]
     },
     "execution_count": 102,
     "metadata": {},
     "output_type": "execute_result"
    }
   ],
   "source": [
    "cv_svc.score(X_test, y_test)"
   ]
  },
  {
   "cell_type": "code",
   "execution_count": 103,
   "metadata": {},
   "outputs": [
    {
     "data": {
      "text/plain": [
       "array([0.78263682,        nan, 0.80875622,        nan, 0.80855721,\n",
       "              nan])"
      ]
     },
     "execution_count": 103,
     "metadata": {},
     "output_type": "execute_result"
    }
   ],
   "source": [
    "cv_svc.cv_results_['mean_test_score']"
   ]
  },
  {
   "cell_type": "markdown",
   "metadata": {},
   "source": [
    "## `KNeighborsClassifier()`"
   ]
  },
  {
   "cell_type": "code",
   "execution_count": 104,
   "metadata": {},
   "outputs": [
    {
     "data": {
      "text/html": [
       "<iframe width=\"560\" height=\"315\" src=\"https://www.youtube.com/embed/HVXime0nQeI\" title=\"YouTube video player\" frameborder=\"0\" allow=\"accelerometer; autoplay; clipboard-write; encrypted-media; gyroscope; picture-in-picture\" allowfullscreen></iframe>\n"
      ],
      "text/plain": [
       "<IPython.core.display.HTML object>"
      ]
     },
     "metadata": {},
     "output_type": "display_data"
    }
   ],
   "source": [
    "%%HTML\n",
    "<iframe width=\"560\" height=\"315\" src=\"https://www.youtube.com/embed/HVXime0nQeI\" title=\"YouTube video player\" frameborder=\"0\" allow=\"accelerometer; autoplay; clipboard-write; encrypted-media; gyroscope; picture-in-picture\" allowfullscreen></iframe>"
   ]
  },
  {
   "cell_type": "code",
   "execution_count": 105,
   "metadata": {},
   "outputs": [],
   "source": [
    "from sklearn.neighbors import KNeighborsClassifier"
   ]
  },
  {
   "cell_type": "code",
   "execution_count": 106,
   "metadata": {},
   "outputs": [],
   "source": [
    "kn = KNeighborsClassifier()"
   ]
  },
  {
   "cell_type": "code",
   "execution_count": 107,
   "metadata": {},
   "outputs": [
    {
     "data": {
      "text/plain": [
       "{'algorithm': 'auto',\n",
       " 'leaf_size': 30,\n",
       " 'metric': 'minkowski',\n",
       " 'metric_params': None,\n",
       " 'n_jobs': None,\n",
       " 'n_neighbors': 5,\n",
       " 'p': 2,\n",
       " 'weights': 'uniform'}"
      ]
     },
     "execution_count": 107,
     "metadata": {},
     "output_type": "execute_result"
    }
   ],
   "source": [
    "kn.get_params()"
   ]
  },
  {
   "cell_type": "code",
   "execution_count": 108,
   "metadata": {},
   "outputs": [],
   "source": [
    "import sklearn"
   ]
  },
  {
   "cell_type": "code",
   "execution_count": 111,
   "metadata": {},
   "outputs": [
    {
     "ename": "NotImplementedError",
     "evalue": "DistanceMetric is an abstract class",
     "output_type": "error",
     "traceback": [
      "\u001b[0;31m---------------------------------------------------------------------------\u001b[0m",
      "\u001b[0;31mNotImplementedError\u001b[0m                       Traceback (most recent call last)",
      "Input \u001b[0;32mIn [111]\u001b[0m, in \u001b[0;36m<cell line: 1>\u001b[0;34m()\u001b[0m\n\u001b[0;32m----> 1\u001b[0m \u001b[43msklearn\u001b[49m\u001b[38;5;241;43m.\u001b[39;49m\u001b[43mmetrics\u001b[49m\u001b[38;5;241;43m.\u001b[39;49m\u001b[43mDistanceMetric\u001b[49m\u001b[43m(\u001b[49m\u001b[43m)\u001b[49m\u001b[38;5;241m.\u001b[39mget_metric()\n",
      "File \u001b[0;32msklearn/metrics/_dist_metrics.pyx:284\u001b[0m, in \u001b[0;36msklearn.metrics._dist_metrics.DistanceMetric.__init__\u001b[0;34m()\u001b[0m\n",
      "\u001b[0;31mNotImplementedError\u001b[0m: DistanceMetric is an abstract class"
     ]
    }
   ],
   "source": [
    "sklearn.metrics.DistanceMetric()"
   ]
  },
  {
   "cell_type": "code",
   "execution_count": 113,
   "metadata": {},
   "outputs": [],
   "source": [
    "param_grid = {\n",
    "    'leaf_size': [10, 20, 30, 50],\n",
    "    'metric': ['minkowski', 'euclidean', 'manhattan'],\n",
    "    'n_neighbors': [3, 5, 10, 20]\n",
    "}"
   ]
  },
  {
   "cell_type": "code",
   "execution_count": 114,
   "metadata": {},
   "outputs": [],
   "source": [
    "cv_kn = GridSearchCV(estimator=kn, param_grid=param_grid, verbose=2)"
   ]
  },
  {
   "cell_type": "code",
   "execution_count": 115,
   "metadata": {},
   "outputs": [
    {
     "name": "stdout",
     "output_type": "stream",
     "text": [
      "Fitting 5 folds for each of 48 candidates, totalling 240 fits\n",
      "[CV] END ......leaf_size=10, metric=minkowski, n_neighbors=3; total time=   1.5s\n",
      "[CV] END ......leaf_size=10, metric=minkowski, n_neighbors=3; total time=   1.1s\n",
      "[CV] END ......leaf_size=10, metric=minkowski, n_neighbors=3; total time=   1.1s\n",
      "[CV] END ......leaf_size=10, metric=minkowski, n_neighbors=3; total time=   1.1s\n",
      "[CV] END ......leaf_size=10, metric=minkowski, n_neighbors=3; total time=   1.1s\n",
      "[CV] END ......leaf_size=10, metric=minkowski, n_neighbors=5; total time=   1.3s\n",
      "[CV] END ......leaf_size=10, metric=minkowski, n_neighbors=5; total time=   1.3s\n",
      "[CV] END ......leaf_size=10, metric=minkowski, n_neighbors=5; total time=   1.3s\n",
      "[CV] END ......leaf_size=10, metric=minkowski, n_neighbors=5; total time=   1.3s\n",
      "[CV] END ......leaf_size=10, metric=minkowski, n_neighbors=5; total time=   1.3s\n",
      "[CV] END .....leaf_size=10, metric=minkowski, n_neighbors=10; total time=   1.3s\n",
      "[CV] END .....leaf_size=10, metric=minkowski, n_neighbors=10; total time=   1.3s\n",
      "[CV] END .....leaf_size=10, metric=minkowski, n_neighbors=10; total time=   1.3s\n",
      "[CV] END .....leaf_size=10, metric=minkowski, n_neighbors=10; total time=   1.3s\n",
      "[CV] END .....leaf_size=10, metric=minkowski, n_neighbors=10; total time=   1.3s\n",
      "[CV] END .....leaf_size=10, metric=minkowski, n_neighbors=20; total time=   1.3s\n",
      "[CV] END .....leaf_size=10, metric=minkowski, n_neighbors=20; total time=   1.3s\n",
      "[CV] END .....leaf_size=10, metric=minkowski, n_neighbors=20; total time=   1.3s\n",
      "[CV] END .....leaf_size=10, metric=minkowski, n_neighbors=20; total time=   1.3s\n",
      "[CV] END .....leaf_size=10, metric=minkowski, n_neighbors=20; total time=   1.4s\n",
      "[CV] END ......leaf_size=10, metric=euclidean, n_neighbors=3; total time=   1.1s\n",
      "[CV] END ......leaf_size=10, metric=euclidean, n_neighbors=3; total time=   1.1s\n",
      "[CV] END ......leaf_size=10, metric=euclidean, n_neighbors=3; total time=   1.1s\n",
      "[CV] END ......leaf_size=10, metric=euclidean, n_neighbors=3; total time=   1.1s\n",
      "[CV] END ......leaf_size=10, metric=euclidean, n_neighbors=3; total time=   1.1s\n",
      "[CV] END ......leaf_size=10, metric=euclidean, n_neighbors=5; total time=   1.3s\n",
      "[CV] END ......leaf_size=10, metric=euclidean, n_neighbors=5; total time=   1.3s\n",
      "[CV] END ......leaf_size=10, metric=euclidean, n_neighbors=5; total time=   1.3s\n",
      "[CV] END ......leaf_size=10, metric=euclidean, n_neighbors=5; total time=   1.3s\n",
      "[CV] END ......leaf_size=10, metric=euclidean, n_neighbors=5; total time=   1.3s\n",
      "[CV] END .....leaf_size=10, metric=euclidean, n_neighbors=10; total time=   1.3s\n",
      "[CV] END .....leaf_size=10, metric=euclidean, n_neighbors=10; total time=   1.3s\n",
      "[CV] END .....leaf_size=10, metric=euclidean, n_neighbors=10; total time=   1.3s\n",
      "[CV] END .....leaf_size=10, metric=euclidean, n_neighbors=10; total time=   1.3s\n",
      "[CV] END .....leaf_size=10, metric=euclidean, n_neighbors=10; total time=   1.3s\n",
      "[CV] END .....leaf_size=10, metric=euclidean, n_neighbors=20; total time=   1.3s\n",
      "[CV] END .....leaf_size=10, metric=euclidean, n_neighbors=20; total time=   1.3s\n",
      "[CV] END .....leaf_size=10, metric=euclidean, n_neighbors=20; total time=   1.3s\n",
      "[CV] END .....leaf_size=10, metric=euclidean, n_neighbors=20; total time=   1.3s\n",
      "[CV] END .....leaf_size=10, metric=euclidean, n_neighbors=20; total time=   1.3s\n",
      "[CV] END ......leaf_size=10, metric=manhattan, n_neighbors=3; total time=   1.7s\n",
      "[CV] END ......leaf_size=10, metric=manhattan, n_neighbors=3; total time=   1.7s\n",
      "[CV] END ......leaf_size=10, metric=manhattan, n_neighbors=3; total time=   1.7s\n",
      "[CV] END ......leaf_size=10, metric=manhattan, n_neighbors=3; total time=   1.7s\n",
      "[CV] END ......leaf_size=10, metric=manhattan, n_neighbors=3; total time=   1.7s\n",
      "[CV] END ......leaf_size=10, metric=manhattan, n_neighbors=5; total time=   1.9s\n",
      "[CV] END ......leaf_size=10, metric=manhattan, n_neighbors=5; total time=   1.9s\n",
      "[CV] END ......leaf_size=10, metric=manhattan, n_neighbors=5; total time=   1.9s\n",
      "[CV] END ......leaf_size=10, metric=manhattan, n_neighbors=5; total time=   1.9s\n",
      "[CV] END ......leaf_size=10, metric=manhattan, n_neighbors=5; total time=   1.8s\n",
      "[CV] END .....leaf_size=10, metric=manhattan, n_neighbors=10; total time=   1.9s\n",
      "[CV] END .....leaf_size=10, metric=manhattan, n_neighbors=10; total time=   1.9s\n",
      "[CV] END .....leaf_size=10, metric=manhattan, n_neighbors=10; total time=   1.9s\n",
      "[CV] END .....leaf_size=10, metric=manhattan, n_neighbors=10; total time=   1.9s\n",
      "[CV] END .....leaf_size=10, metric=manhattan, n_neighbors=10; total time=   1.9s\n",
      "[CV] END .....leaf_size=10, metric=manhattan, n_neighbors=20; total time=   1.9s\n",
      "[CV] END .....leaf_size=10, metric=manhattan, n_neighbors=20; total time=   1.9s\n",
      "[CV] END .....leaf_size=10, metric=manhattan, n_neighbors=20; total time=   1.9s\n",
      "[CV] END .....leaf_size=10, metric=manhattan, n_neighbors=20; total time=   1.9s\n",
      "[CV] END .....leaf_size=10, metric=manhattan, n_neighbors=20; total time=   1.9s\n",
      "[CV] END ......leaf_size=20, metric=minkowski, n_neighbors=3; total time=   1.1s\n",
      "[CV] END ......leaf_size=20, metric=minkowski, n_neighbors=3; total time=   1.1s\n",
      "[CV] END ......leaf_size=20, metric=minkowski, n_neighbors=3; total time=   1.1s\n",
      "[CV] END ......leaf_size=20, metric=minkowski, n_neighbors=3; total time=   1.1s\n",
      "[CV] END ......leaf_size=20, metric=minkowski, n_neighbors=3; total time=   1.2s\n",
      "[CV] END ......leaf_size=20, metric=minkowski, n_neighbors=5; total time=   1.3s\n",
      "[CV] END ......leaf_size=20, metric=minkowski, n_neighbors=5; total time=   1.3s\n",
      "[CV] END ......leaf_size=20, metric=minkowski, n_neighbors=5; total time=   1.3s\n",
      "[CV] END ......leaf_size=20, metric=minkowski, n_neighbors=5; total time=   1.3s\n",
      "[CV] END ......leaf_size=20, metric=minkowski, n_neighbors=5; total time=   1.3s\n",
      "[CV] END .....leaf_size=20, metric=minkowski, n_neighbors=10; total time=   1.3s\n",
      "[CV] END .....leaf_size=20, metric=minkowski, n_neighbors=10; total time=   1.3s\n",
      "[CV] END .....leaf_size=20, metric=minkowski, n_neighbors=10; total time=   1.3s\n",
      "[CV] END .....leaf_size=20, metric=minkowski, n_neighbors=10; total time=   1.3s\n",
      "[CV] END .....leaf_size=20, metric=minkowski, n_neighbors=10; total time=   1.3s\n",
      "[CV] END .....leaf_size=20, metric=minkowski, n_neighbors=20; total time=   1.3s\n",
      "[CV] END .....leaf_size=20, metric=minkowski, n_neighbors=20; total time=   1.3s\n",
      "[CV] END .....leaf_size=20, metric=minkowski, n_neighbors=20; total time=   1.3s\n",
      "[CV] END .....leaf_size=20, metric=minkowski, n_neighbors=20; total time=   1.3s\n",
      "[CV] END .....leaf_size=20, metric=minkowski, n_neighbors=20; total time=   1.3s\n",
      "[CV] END ......leaf_size=20, metric=euclidean, n_neighbors=3; total time=   1.1s\n",
      "[CV] END ......leaf_size=20, metric=euclidean, n_neighbors=3; total time=   1.1s\n",
      "[CV] END ......leaf_size=20, metric=euclidean, n_neighbors=3; total time=   1.1s\n",
      "[CV] END ......leaf_size=20, metric=euclidean, n_neighbors=3; total time=   1.1s\n",
      "[CV] END ......leaf_size=20, metric=euclidean, n_neighbors=3; total time=   1.1s\n",
      "[CV] END ......leaf_size=20, metric=euclidean, n_neighbors=5; total time=   1.3s\n",
      "[CV] END ......leaf_size=20, metric=euclidean, n_neighbors=5; total time=   1.3s\n",
      "[CV] END ......leaf_size=20, metric=euclidean, n_neighbors=5; total time=   1.3s\n",
      "[CV] END ......leaf_size=20, metric=euclidean, n_neighbors=5; total time=   1.3s\n",
      "[CV] END ......leaf_size=20, metric=euclidean, n_neighbors=5; total time=   1.3s\n",
      "[CV] END .....leaf_size=20, metric=euclidean, n_neighbors=10; total time=   1.3s\n",
      "[CV] END .....leaf_size=20, metric=euclidean, n_neighbors=10; total time=   1.3s\n",
      "[CV] END .....leaf_size=20, metric=euclidean, n_neighbors=10; total time=   1.3s\n",
      "[CV] END .....leaf_size=20, metric=euclidean, n_neighbors=10; total time=   1.3s\n",
      "[CV] END .....leaf_size=20, metric=euclidean, n_neighbors=10; total time=   1.3s\n",
      "[CV] END .....leaf_size=20, metric=euclidean, n_neighbors=20; total time=   1.3s\n",
      "[CV] END .....leaf_size=20, metric=euclidean, n_neighbors=20; total time=   1.3s\n",
      "[CV] END .....leaf_size=20, metric=euclidean, n_neighbors=20; total time=   1.3s\n",
      "[CV] END .....leaf_size=20, metric=euclidean, n_neighbors=20; total time=   1.3s\n",
      "[CV] END .....leaf_size=20, metric=euclidean, n_neighbors=20; total time=   1.3s\n",
      "[CV] END ......leaf_size=20, metric=manhattan, n_neighbors=3; total time=   1.7s\n",
      "[CV] END ......leaf_size=20, metric=manhattan, n_neighbors=3; total time=   1.8s\n",
      "[CV] END ......leaf_size=20, metric=manhattan, n_neighbors=3; total time=   1.7s\n",
      "[CV] END ......leaf_size=20, metric=manhattan, n_neighbors=3; total time=   1.7s\n",
      "[CV] END ......leaf_size=20, metric=manhattan, n_neighbors=3; total time=   1.7s\n",
      "[CV] END ......leaf_size=20, metric=manhattan, n_neighbors=5; total time=   1.9s\n",
      "[CV] END ......leaf_size=20, metric=manhattan, n_neighbors=5; total time=   1.9s\n",
      "[CV] END ......leaf_size=20, metric=manhattan, n_neighbors=5; total time=   1.9s\n",
      "[CV] END ......leaf_size=20, metric=manhattan, n_neighbors=5; total time=   1.9s\n",
      "[CV] END ......leaf_size=20, metric=manhattan, n_neighbors=5; total time=   1.8s\n",
      "[CV] END .....leaf_size=20, metric=manhattan, n_neighbors=10; total time=   1.9s\n",
      "[CV] END .....leaf_size=20, metric=manhattan, n_neighbors=10; total time=   1.9s\n",
      "[CV] END .....leaf_size=20, metric=manhattan, n_neighbors=10; total time=   1.9s\n",
      "[CV] END .....leaf_size=20, metric=manhattan, n_neighbors=10; total time=   1.9s\n",
      "[CV] END .....leaf_size=20, metric=manhattan, n_neighbors=10; total time=   1.9s\n",
      "[CV] END .....leaf_size=20, metric=manhattan, n_neighbors=20; total time=   1.9s\n",
      "[CV] END .....leaf_size=20, metric=manhattan, n_neighbors=20; total time=   1.9s\n",
      "[CV] END .....leaf_size=20, metric=manhattan, n_neighbors=20; total time=   1.9s\n",
      "[CV] END .....leaf_size=20, metric=manhattan, n_neighbors=20; total time=   1.9s\n",
      "[CV] END .....leaf_size=20, metric=manhattan, n_neighbors=20; total time=   1.9s\n",
      "[CV] END ......leaf_size=30, metric=minkowski, n_neighbors=3; total time=   1.1s\n",
      "[CV] END ......leaf_size=30, metric=minkowski, n_neighbors=3; total time=   1.1s\n",
      "[CV] END ......leaf_size=30, metric=minkowski, n_neighbors=3; total time=   1.1s\n",
      "[CV] END ......leaf_size=30, metric=minkowski, n_neighbors=3; total time=   1.1s\n",
      "[CV] END ......leaf_size=30, metric=minkowski, n_neighbors=3; total time=   1.1s\n",
      "[CV] END ......leaf_size=30, metric=minkowski, n_neighbors=5; total time=   1.3s\n",
      "[CV] END ......leaf_size=30, metric=minkowski, n_neighbors=5; total time=   1.3s\n",
      "[CV] END ......leaf_size=30, metric=minkowski, n_neighbors=5; total time=   1.3s\n",
      "[CV] END ......leaf_size=30, metric=minkowski, n_neighbors=5; total time=   1.3s\n",
      "[CV] END ......leaf_size=30, metric=minkowski, n_neighbors=5; total time=   1.3s\n",
      "[CV] END .....leaf_size=30, metric=minkowski, n_neighbors=10; total time=   1.3s\n",
      "[CV] END .....leaf_size=30, metric=minkowski, n_neighbors=10; total time=   1.3s\n",
      "[CV] END .....leaf_size=30, metric=minkowski, n_neighbors=10; total time=   1.3s\n",
      "[CV] END .....leaf_size=30, metric=minkowski, n_neighbors=10; total time=   1.3s\n",
      "[CV] END .....leaf_size=30, metric=minkowski, n_neighbors=10; total time=   1.3s\n",
      "[CV] END .....leaf_size=30, metric=minkowski, n_neighbors=20; total time=   1.3s\n",
      "[CV] END .....leaf_size=30, metric=minkowski, n_neighbors=20; total time=   1.3s\n",
      "[CV] END .....leaf_size=30, metric=minkowski, n_neighbors=20; total time=   1.3s\n",
      "[CV] END .....leaf_size=30, metric=minkowski, n_neighbors=20; total time=   1.3s\n",
      "[CV] END .....leaf_size=30, metric=minkowski, n_neighbors=20; total time=   1.3s\n",
      "[CV] END ......leaf_size=30, metric=euclidean, n_neighbors=3; total time=   1.1s\n",
      "[CV] END ......leaf_size=30, metric=euclidean, n_neighbors=3; total time=   1.1s\n",
      "[CV] END ......leaf_size=30, metric=euclidean, n_neighbors=3; total time=   1.1s\n",
      "[CV] END ......leaf_size=30, metric=euclidean, n_neighbors=3; total time=   1.1s\n",
      "[CV] END ......leaf_size=30, metric=euclidean, n_neighbors=3; total time=   1.1s\n",
      "[CV] END ......leaf_size=30, metric=euclidean, n_neighbors=5; total time=   1.3s\n",
      "[CV] END ......leaf_size=30, metric=euclidean, n_neighbors=5; total time=   1.3s\n",
      "[CV] END ......leaf_size=30, metric=euclidean, n_neighbors=5; total time=   1.3s\n",
      "[CV] END ......leaf_size=30, metric=euclidean, n_neighbors=5; total time=   1.3s\n",
      "[CV] END ......leaf_size=30, metric=euclidean, n_neighbors=5; total time=   1.3s\n",
      "[CV] END .....leaf_size=30, metric=euclidean, n_neighbors=10; total time=   1.3s\n",
      "[CV] END .....leaf_size=30, metric=euclidean, n_neighbors=10; total time=   1.3s\n",
      "[CV] END .....leaf_size=30, metric=euclidean, n_neighbors=10; total time=   1.3s\n",
      "[CV] END .....leaf_size=30, metric=euclidean, n_neighbors=10; total time=   1.3s\n",
      "[CV] END .....leaf_size=30, metric=euclidean, n_neighbors=10; total time=   1.3s\n",
      "[CV] END .....leaf_size=30, metric=euclidean, n_neighbors=20; total time=   1.3s\n",
      "[CV] END .....leaf_size=30, metric=euclidean, n_neighbors=20; total time=   1.3s\n",
      "[CV] END .....leaf_size=30, metric=euclidean, n_neighbors=20; total time=   1.3s\n",
      "[CV] END .....leaf_size=30, metric=euclidean, n_neighbors=20; total time=   1.3s\n",
      "[CV] END .....leaf_size=30, metric=euclidean, n_neighbors=20; total time=   1.3s\n",
      "[CV] END ......leaf_size=30, metric=manhattan, n_neighbors=3; total time=   1.7s\n",
      "[CV] END ......leaf_size=30, metric=manhattan, n_neighbors=3; total time=   1.7s\n",
      "[CV] END ......leaf_size=30, metric=manhattan, n_neighbors=3; total time=   1.7s\n",
      "[CV] END ......leaf_size=30, metric=manhattan, n_neighbors=3; total time=   1.7s\n",
      "[CV] END ......leaf_size=30, metric=manhattan, n_neighbors=3; total time=   1.7s\n",
      "[CV] END ......leaf_size=30, metric=manhattan, n_neighbors=5; total time=   1.9s\n",
      "[CV] END ......leaf_size=30, metric=manhattan, n_neighbors=5; total time=   1.9s\n",
      "[CV] END ......leaf_size=30, metric=manhattan, n_neighbors=5; total time=   1.9s\n",
      "[CV] END ......leaf_size=30, metric=manhattan, n_neighbors=5; total time=   1.9s\n",
      "[CV] END ......leaf_size=30, metric=manhattan, n_neighbors=5; total time=   1.9s\n",
      "[CV] END .....leaf_size=30, metric=manhattan, n_neighbors=10; total time=   1.9s\n",
      "[CV] END .....leaf_size=30, metric=manhattan, n_neighbors=10; total time=   1.9s\n",
      "[CV] END .....leaf_size=30, metric=manhattan, n_neighbors=10; total time=   1.9s\n",
      "[CV] END .....leaf_size=30, metric=manhattan, n_neighbors=10; total time=   1.9s\n",
      "[CV] END .....leaf_size=30, metric=manhattan, n_neighbors=10; total time=   1.9s\n",
      "[CV] END .....leaf_size=30, metric=manhattan, n_neighbors=20; total time=   1.9s\n",
      "[CV] END .....leaf_size=30, metric=manhattan, n_neighbors=20; total time=   1.9s\n",
      "[CV] END .....leaf_size=30, metric=manhattan, n_neighbors=20; total time=   1.9s\n",
      "[CV] END .....leaf_size=30, metric=manhattan, n_neighbors=20; total time=   1.9s\n",
      "[CV] END .....leaf_size=30, metric=manhattan, n_neighbors=20; total time=   1.9s\n",
      "[CV] END ......leaf_size=50, metric=minkowski, n_neighbors=3; total time=   1.1s\n",
      "[CV] END ......leaf_size=50, metric=minkowski, n_neighbors=3; total time=   1.1s\n",
      "[CV] END ......leaf_size=50, metric=minkowski, n_neighbors=3; total time=   1.1s\n",
      "[CV] END ......leaf_size=50, metric=minkowski, n_neighbors=3; total time=   1.1s\n",
      "[CV] END ......leaf_size=50, metric=minkowski, n_neighbors=3; total time=   1.1s\n",
      "[CV] END ......leaf_size=50, metric=minkowski, n_neighbors=5; total time=   1.3s\n",
      "[CV] END ......leaf_size=50, metric=minkowski, n_neighbors=5; total time=   1.3s\n",
      "[CV] END ......leaf_size=50, metric=minkowski, n_neighbors=5; total time=   1.2s\n",
      "[CV] END ......leaf_size=50, metric=minkowski, n_neighbors=5; total time=   1.3s\n",
      "[CV] END ......leaf_size=50, metric=minkowski, n_neighbors=5; total time=   1.3s\n",
      "[CV] END .....leaf_size=50, metric=minkowski, n_neighbors=10; total time=   1.3s\n",
      "[CV] END .....leaf_size=50, metric=minkowski, n_neighbors=10; total time=   1.3s\n",
      "[CV] END .....leaf_size=50, metric=minkowski, n_neighbors=10; total time=   1.3s\n",
      "[CV] END .....leaf_size=50, metric=minkowski, n_neighbors=10; total time=   1.3s\n",
      "[CV] END .....leaf_size=50, metric=minkowski, n_neighbors=10; total time=   1.3s\n",
      "[CV] END .....leaf_size=50, metric=minkowski, n_neighbors=20; total time=   1.3s\n",
      "[CV] END .....leaf_size=50, metric=minkowski, n_neighbors=20; total time=   1.3s\n",
      "[CV] END .....leaf_size=50, metric=minkowski, n_neighbors=20; total time=   1.3s\n",
      "[CV] END .....leaf_size=50, metric=minkowski, n_neighbors=20; total time=   1.3s\n",
      "[CV] END .....leaf_size=50, metric=minkowski, n_neighbors=20; total time=   1.3s\n",
      "[CV] END ......leaf_size=50, metric=euclidean, n_neighbors=3; total time=   1.1s\n",
      "[CV] END ......leaf_size=50, metric=euclidean, n_neighbors=3; total time=   1.1s\n",
      "[CV] END ......leaf_size=50, metric=euclidean, n_neighbors=3; total time=   1.1s\n",
      "[CV] END ......leaf_size=50, metric=euclidean, n_neighbors=3; total time=   1.1s\n",
      "[CV] END ......leaf_size=50, metric=euclidean, n_neighbors=3; total time=   1.1s\n",
      "[CV] END ......leaf_size=50, metric=euclidean, n_neighbors=5; total time=   1.3s\n",
      "[CV] END ......leaf_size=50, metric=euclidean, n_neighbors=5; total time=   1.3s\n",
      "[CV] END ......leaf_size=50, metric=euclidean, n_neighbors=5; total time=   1.2s\n",
      "[CV] END ......leaf_size=50, metric=euclidean, n_neighbors=5; total time=   1.3s\n",
      "[CV] END ......leaf_size=50, metric=euclidean, n_neighbors=5; total time=   1.3s\n",
      "[CV] END .....leaf_size=50, metric=euclidean, n_neighbors=10; total time=   1.3s\n",
      "[CV] END .....leaf_size=50, metric=euclidean, n_neighbors=10; total time=   1.3s\n",
      "[CV] END .....leaf_size=50, metric=euclidean, n_neighbors=10; total time=   1.3s\n",
      "[CV] END .....leaf_size=50, metric=euclidean, n_neighbors=10; total time=   1.3s\n",
      "[CV] END .....leaf_size=50, metric=euclidean, n_neighbors=10; total time=   1.3s\n",
      "[CV] END .....leaf_size=50, metric=euclidean, n_neighbors=20; total time=   1.3s\n",
      "[CV] END .....leaf_size=50, metric=euclidean, n_neighbors=20; total time=   1.3s\n",
      "[CV] END .....leaf_size=50, metric=euclidean, n_neighbors=20; total time=   1.3s\n",
      "[CV] END .....leaf_size=50, metric=euclidean, n_neighbors=20; total time=   1.3s\n",
      "[CV] END .....leaf_size=50, metric=euclidean, n_neighbors=20; total time=   1.3s\n",
      "[CV] END ......leaf_size=50, metric=manhattan, n_neighbors=3; total time=   1.7s\n",
      "[CV] END ......leaf_size=50, metric=manhattan, n_neighbors=3; total time=   1.7s\n",
      "[CV] END ......leaf_size=50, metric=manhattan, n_neighbors=3; total time=   1.7s\n",
      "[CV] END ......leaf_size=50, metric=manhattan, n_neighbors=3; total time=   1.7s\n",
      "[CV] END ......leaf_size=50, metric=manhattan, n_neighbors=3; total time=   1.7s\n",
      "[CV] END ......leaf_size=50, metric=manhattan, n_neighbors=5; total time=   1.9s\n",
      "[CV] END ......leaf_size=50, metric=manhattan, n_neighbors=5; total time=   1.9s\n",
      "[CV] END ......leaf_size=50, metric=manhattan, n_neighbors=5; total time=   1.9s\n",
      "[CV] END ......leaf_size=50, metric=manhattan, n_neighbors=5; total time=   1.9s\n",
      "[CV] END ......leaf_size=50, metric=manhattan, n_neighbors=5; total time=   1.9s\n",
      "[CV] END .....leaf_size=50, metric=manhattan, n_neighbors=10; total time=   1.9s\n",
      "[CV] END .....leaf_size=50, metric=manhattan, n_neighbors=10; total time=   2.0s\n",
      "[CV] END .....leaf_size=50, metric=manhattan, n_neighbors=10; total time=   2.0s\n",
      "[CV] END .....leaf_size=50, metric=manhattan, n_neighbors=10; total time=   2.0s\n",
      "[CV] END .....leaf_size=50, metric=manhattan, n_neighbors=10; total time=   2.0s\n",
      "[CV] END .....leaf_size=50, metric=manhattan, n_neighbors=20; total time=   2.1s\n",
      "[CV] END .....leaf_size=50, metric=manhattan, n_neighbors=20; total time=   2.1s\n",
      "[CV] END .....leaf_size=50, metric=manhattan, n_neighbors=20; total time=   2.0s\n",
      "[CV] END .....leaf_size=50, metric=manhattan, n_neighbors=20; total time=   1.9s\n",
      "[CV] END .....leaf_size=50, metric=manhattan, n_neighbors=20; total time=   1.8s\n"
     ]
    },
    {
     "data": {
      "text/plain": [
       "GridSearchCV(estimator=KNeighborsClassifier(),\n",
       "             param_grid={'leaf_size': [10, 20, 30, 50],\n",
       "                         'metric': ['minkowski', 'euclidean', 'manhattan'],\n",
       "                         'n_neighbors': [3, 5, 10, 20]},\n",
       "             verbose=2)"
      ]
     },
     "execution_count": 115,
     "metadata": {},
     "output_type": "execute_result"
    }
   ],
   "source": [
    "cv_kn.fit(X_train, y_train)"
   ]
  },
  {
   "cell_type": "code",
   "execution_count": 117,
   "metadata": {},
   "outputs": [
    {
     "data": {
      "text/plain": [
       "KNeighborsClassifier(leaf_size=10, n_neighbors=20)"
      ]
     },
     "execution_count": 117,
     "metadata": {},
     "output_type": "execute_result"
    }
   ],
   "source": [
    "cv_kn.best_estimator_"
   ]
  },
  {
   "cell_type": "code",
   "execution_count": 119,
   "metadata": {},
   "outputs": [
    {
     "data": {
      "text/plain": [
       "0.8076767676767677"
      ]
     },
     "execution_count": 119,
     "metadata": {},
     "output_type": "execute_result"
    }
   ],
   "source": [
    "cv_kn.score(X_test, y_test)"
   ]
  },
  {
   "cell_type": "code",
   "execution_count": 120,
   "metadata": {},
   "outputs": [
    {
     "data": {
      "text/plain": [
       "array([0.77263682, 0.79154229, 0.80577114, 0.81099502, 0.77263682,\n",
       "       0.79154229, 0.80577114, 0.81099502, 0.77134328, 0.79029851,\n",
       "       0.80557214, 0.8099005 , 0.77263682, 0.79154229, 0.80577114,\n",
       "       0.81099502, 0.77263682, 0.79154229, 0.80577114, 0.81099502,\n",
       "       0.77134328, 0.79029851, 0.80557214, 0.8099005 , 0.77263682,\n",
       "       0.79154229, 0.80577114, 0.81099502, 0.77263682, 0.79154229,\n",
       "       0.80577114, 0.81099502, 0.77134328, 0.79029851, 0.80557214,\n",
       "       0.8099005 , 0.77263682, 0.79154229, 0.80577114, 0.81099502,\n",
       "       0.77263682, 0.79154229, 0.80577114, 0.81099502, 0.77134328,\n",
       "       0.79029851, 0.80557214, 0.8099005 ])"
      ]
     },
     "execution_count": 120,
     "metadata": {},
     "output_type": "execute_result"
    }
   ],
   "source": [
    "cv_kn.cv_results_['mean_test_score']"
   ]
  },
  {
   "cell_type": "markdown",
   "metadata": {},
   "source": [
    "# Best Model with Best Hyperparameters"
   ]
  },
  {
   "cell_type": "code",
   "execution_count": 126,
   "metadata": {},
   "outputs": [
    {
     "name": "stderr",
     "output_type": "stream",
     "text": [
      "/Users/sota/miniforge3/lib/python3.9/site-packages/sklearn/base.py:450: UserWarning: X does not have valid feature names, but DecisionTreeClassifier was fitted with feature names\n",
      "  warnings.warn(\n"
     ]
    }
   ],
   "source": [
    "dic_results = {\n",
    "    'model': [\n",
    "        cv.best_estimator_,\n",
    "        cv_kn.best_estimator_,\n",
    "        cv_svc.best_estimator_\n",
    "    ],\n",
    "    \n",
    "    'score': [\n",
    "        cv.score(X_test, y_test),\n",
    "        cv_kn.score(X_test, y_test),\n",
    "        cv_svc.score(X_test, y_test)\n",
    "    ]\n",
    "}"
   ]
  },
  {
   "cell_type": "code",
   "execution_count": 127,
   "metadata": {},
   "outputs": [
    {
     "data": {
      "text/html": [
       "<div>\n",
       "<style scoped>\n",
       "    .dataframe tbody tr th:only-of-type {\n",
       "        vertical-align: middle;\n",
       "    }\n",
       "\n",
       "    .dataframe tbody tr th {\n",
       "        vertical-align: top;\n",
       "    }\n",
       "\n",
       "    .dataframe thead th {\n",
       "        text-align: right;\n",
       "    }\n",
       "</style>\n",
       "<table border=\"1\" class=\"dataframe\">\n",
       "  <thead>\n",
       "    <tr style=\"text-align: right;\">\n",
       "      <th></th>\n",
       "      <th>model</th>\n",
       "      <th>score</th>\n",
       "    </tr>\n",
       "  </thead>\n",
       "  <tbody>\n",
       "    <tr>\n",
       "      <th>0</th>\n",
       "      <td>DecisionTreeClassifier(criterion='entropy', ma...</td>\n",
       "      <td>0.782020</td>\n",
       "    </tr>\n",
       "    <tr>\n",
       "      <th>1</th>\n",
       "      <td>KNeighborsClassifier(leaf_size=10, n_neighbors...</td>\n",
       "      <td>0.807677</td>\n",
       "    </tr>\n",
       "    <tr>\n",
       "      <th>2</th>\n",
       "      <td>SVC(C=1, kernel='linear')</td>\n",
       "      <td>0.810505</td>\n",
       "    </tr>\n",
       "  </tbody>\n",
       "</table>\n",
       "</div>"
      ],
      "text/plain": [
       "                                               model     score\n",
       "0  DecisionTreeClassifier(criterion='entropy', ma...  0.782020\n",
       "1  KNeighborsClassifier(leaf_size=10, n_neighbors...  0.807677\n",
       "2                          SVC(C=1, kernel='linear')  0.810505"
      ]
     },
     "execution_count": 127,
     "metadata": {},
     "output_type": "execute_result"
    }
   ],
   "source": [
    "pd.DataFrame(dic_results)"
   ]
  },
  {
   "cell_type": "markdown",
   "metadata": {},
   "source": [
    "<a rel=\"license\" href=\"http://creativecommons.org/licenses/by-nc-nd/4.0/\"><img alt=\"Creative Commons License\" style=\"border-width:0\" src=\"https://i.creativecommons.org/l/by-nc-nd/4.0/88x31.png\" /></a><br />This work is licensed under a <a rel=\"license\" href=\"http://creativecommons.org/licenses/by-nc-nd/4.0/\">Creative Commons Attribution-NonCommercial-NoDerivatives 4.0 International License</a>."
   ]
  }
 ],
 "metadata": {
  "authors": [
   {
    "blog": "https//blog.pythonresolver.com",
    "name": "Jesús López",
    "twitter": "https://twitter.com/jsulopz"
   }
  ],
  "kernelspec": {
   "display_name": "Python 3 (ipykernel)",
   "language": "python",
   "name": "python3"
  },
  "language_info": {
   "codemirror_mode": {
    "name": "ipython",
    "version": 3
   },
   "file_extension": ".py",
   "mimetype": "text/x-python",
   "name": "python",
   "nbconvert_exporter": "python",
   "pygments_lexer": "ipython3",
   "version": "3.9.10"
  },
  "title": "Hyperparameter Tuning with Cross Validation",
  "toc-autonumbering": true
 },
 "nbformat": 4,
 "nbformat_minor": 4
}
