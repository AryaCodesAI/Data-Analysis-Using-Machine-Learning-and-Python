{
 "cells": [
  {
   "cell_type": "markdown",
   "id": "3286da4a-c37f-4c38-ab88-ad309ae5729f",
   "metadata": {},
   "source": [
    "![](../src/logo.svg)\n",
    "\n",
    "**© Jesús López**\n",
    "\n",
    "Ask him any doubt on **[Twitter](https://twitter.com/jsulopz)** or **[LinkedIn](https://linkedin.com/in/jsulopz)**"
   ]
  },
  {
   "cell_type": "markdown",
   "id": "20380d32-14be-4170-bd80-434eda1f7b9b",
   "metadata": {},
   "source": [
    "# 04 | Hyperparameter Tuning with Cross Validation"
   ]
  },
  {
   "cell_type": "markdown",
   "id": "09d0ca17-0c25-48dc-9344-081b91ee0c6e",
   "metadata": {
    "tags": []
   },
   "source": [
    "# The Challenge\n",
    "\n",
    "<div class=\"alert alert-danger\">\n",
    "    Build different Models and choose the best one:\n",
    "</div>"
   ]
  },
  {
   "cell_type": "code",
   "execution_count": 1,
   "id": "15d20c74-c77a-48c2-b540-136528265a36",
   "metadata": {},
   "outputs": [
    {
     "data": {
      "text/html": [
       "<div>\n",
       "<style scoped>\n",
       "    .dataframe tbody tr th:only-of-type {\n",
       "        vertical-align: middle;\n",
       "    }\n",
       "\n",
       "    .dataframe tbody tr th {\n",
       "        vertical-align: top;\n",
       "    }\n",
       "\n",
       "    .dataframe thead th {\n",
       "        text-align: right;\n",
       "    }\n",
       "</style>\n",
       "<table border=\"1\" class=\"dataframe\">\n",
       "  <thead>\n",
       "    <tr style=\"text-align: right;\">\n",
       "      <th></th>\n",
       "      <th>LIMIT_BAL</th>\n",
       "      <th>SEX</th>\n",
       "      <th>EDUCATION</th>\n",
       "      <th>MARRIAGE</th>\n",
       "      <th>AGE</th>\n",
       "      <th>PAY_0</th>\n",
       "      <th>PAY_2</th>\n",
       "      <th>PAY_3</th>\n",
       "      <th>PAY_4</th>\n",
       "      <th>PAY_5</th>\n",
       "      <th>PAY_6</th>\n",
       "      <th>BILL_AMT1</th>\n",
       "      <th>BILL_AMT2</th>\n",
       "      <th>BILL_AMT3</th>\n",
       "      <th>BILL_AMT4</th>\n",
       "      <th>BILL_AMT5</th>\n",
       "      <th>BILL_AMT6</th>\n",
       "      <th>PAY_AMT1</th>\n",
       "      <th>PAY_AMT2</th>\n",
       "      <th>PAY_AMT3</th>\n",
       "      <th>PAY_AMT4</th>\n",
       "      <th>PAY_AMT5</th>\n",
       "      <th>PAY_AMT6</th>\n",
       "      <th>default payment next month</th>\n",
       "    </tr>\n",
       "    <tr>\n",
       "      <th>ID</th>\n",
       "      <th></th>\n",
       "      <th></th>\n",
       "      <th></th>\n",
       "      <th></th>\n",
       "      <th></th>\n",
       "      <th></th>\n",
       "      <th></th>\n",
       "      <th></th>\n",
       "      <th></th>\n",
       "      <th></th>\n",
       "      <th></th>\n",
       "      <th></th>\n",
       "      <th></th>\n",
       "      <th></th>\n",
       "      <th></th>\n",
       "      <th></th>\n",
       "      <th></th>\n",
       "      <th></th>\n",
       "      <th></th>\n",
       "      <th></th>\n",
       "      <th></th>\n",
       "      <th></th>\n",
       "      <th></th>\n",
       "      <th></th>\n",
       "    </tr>\n",
       "  </thead>\n",
       "  <tbody>\n",
       "    <tr>\n",
       "      <th>28223</th>\n",
       "      <td>180000</td>\n",
       "      <td>2</td>\n",
       "      <td>1</td>\n",
       "      <td>2</td>\n",
       "      <td>30</td>\n",
       "      <td>-1</td>\n",
       "      <td>-1</td>\n",
       "      <td>-1</td>\n",
       "      <td>-1</td>\n",
       "      <td>-2</td>\n",
       "      <td>-1</td>\n",
       "      <td>1650</td>\n",
       "      <td>196</td>\n",
       "      <td>2500</td>\n",
       "      <td>0</td>\n",
       "      <td>0</td>\n",
       "      <td>3650</td>\n",
       "      <td>196</td>\n",
       "      <td>2500</td>\n",
       "      <td>0</td>\n",
       "      <td>0</td>\n",
       "      <td>3650</td>\n",
       "      <td>3859</td>\n",
       "      <td>0</td>\n",
       "    </tr>\n",
       "    <tr>\n",
       "      <th>323</th>\n",
       "      <td>50000</td>\n",
       "      <td>1</td>\n",
       "      <td>2</td>\n",
       "      <td>2</td>\n",
       "      <td>24</td>\n",
       "      <td>-1</td>\n",
       "      <td>0</td>\n",
       "      <td>0</td>\n",
       "      <td>0</td>\n",
       "      <td>0</td>\n",
       "      <td>0</td>\n",
       "      <td>1399</td>\n",
       "      <td>2441</td>\n",
       "      <td>3865</td>\n",
       "      <td>7476</td>\n",
       "      <td>8384</td>\n",
       "      <td>8085</td>\n",
       "      <td>1070</td>\n",
       "      <td>1500</td>\n",
       "      <td>3666</td>\n",
       "      <td>2477</td>\n",
       "      <td>1306</td>\n",
       "      <td>1000</td>\n",
       "      <td>0</td>\n",
       "    </tr>\n",
       "    <tr>\n",
       "      <th>6579</th>\n",
       "      <td>500000</td>\n",
       "      <td>2</td>\n",
       "      <td>1</td>\n",
       "      <td>1</td>\n",
       "      <td>41</td>\n",
       "      <td>-1</td>\n",
       "      <td>-1</td>\n",
       "      <td>-2</td>\n",
       "      <td>-2</td>\n",
       "      <td>-1</td>\n",
       "      <td>-1</td>\n",
       "      <td>680</td>\n",
       "      <td>0</td>\n",
       "      <td>0</td>\n",
       "      <td>0</td>\n",
       "      <td>74731</td>\n",
       "      <td>0</td>\n",
       "      <td>0</td>\n",
       "      <td>0</td>\n",
       "      <td>0</td>\n",
       "      <td>74731</td>\n",
       "      <td>0</td>\n",
       "      <td>0</td>\n",
       "      <td>0</td>\n",
       "    </tr>\n",
       "    <tr>\n",
       "      <th>20199</th>\n",
       "      <td>450000</td>\n",
       "      <td>2</td>\n",
       "      <td>2</td>\n",
       "      <td>2</td>\n",
       "      <td>39</td>\n",
       "      <td>-1</td>\n",
       "      <td>0</td>\n",
       "      <td>0</td>\n",
       "      <td>0</td>\n",
       "      <td>0</td>\n",
       "      <td>-1</td>\n",
       "      <td>217126</td>\n",
       "      <td>43647</td>\n",
       "      <td>39827</td>\n",
       "      <td>43978</td>\n",
       "      <td>389</td>\n",
       "      <td>389</td>\n",
       "      <td>10329</td>\n",
       "      <td>3001</td>\n",
       "      <td>5217</td>\n",
       "      <td>1</td>\n",
       "      <td>390</td>\n",
       "      <td>390</td>\n",
       "      <td>0</td>\n",
       "    </tr>\n",
       "    <tr>\n",
       "      <th>6894</th>\n",
       "      <td>370000</td>\n",
       "      <td>2</td>\n",
       "      <td>2</td>\n",
       "      <td>2</td>\n",
       "      <td>29</td>\n",
       "      <td>4</td>\n",
       "      <td>3</td>\n",
       "      <td>2</td>\n",
       "      <td>0</td>\n",
       "      <td>0</td>\n",
       "      <td>0</td>\n",
       "      <td>390509</td>\n",
       "      <td>382898</td>\n",
       "      <td>365461</td>\n",
       "      <td>304436</td>\n",
       "      <td>311426</td>\n",
       "      <td>275628</td>\n",
       "      <td>0</td>\n",
       "      <td>0</td>\n",
       "      <td>10019</td>\n",
       "      <td>11000</td>\n",
       "      <td>10000</td>\n",
       "      <td>10000</td>\n",
       "      <td>1</td>\n",
       "    </tr>\n",
       "  </tbody>\n",
       "</table>\n",
       "</div>"
      ],
      "text/plain": [
       "       LIMIT_BAL  SEX  EDUCATION  MARRIAGE  AGE  PAY_0  PAY_2  PAY_3  PAY_4  \\\n",
       "ID                                                                            \n",
       "28223     180000    2          1         2   30     -1     -1     -1     -1   \n",
       "323        50000    1          2         2   24     -1      0      0      0   \n",
       "6579      500000    2          1         1   41     -1     -1     -2     -2   \n",
       "20199     450000    2          2         2   39     -1      0      0      0   \n",
       "6894      370000    2          2         2   29      4      3      2      0   \n",
       "\n",
       "       PAY_5  PAY_6  BILL_AMT1  BILL_AMT2  BILL_AMT3  BILL_AMT4  BILL_AMT5  \\\n",
       "ID                                                                           \n",
       "28223     -2     -1       1650        196       2500          0          0   \n",
       "323        0      0       1399       2441       3865       7476       8384   \n",
       "6579      -1     -1        680          0          0          0      74731   \n",
       "20199      0     -1     217126      43647      39827      43978        389   \n",
       "6894       0      0     390509     382898     365461     304436     311426   \n",
       "\n",
       "       BILL_AMT6  PAY_AMT1  PAY_AMT2  PAY_AMT3  PAY_AMT4  PAY_AMT5  PAY_AMT6  \\\n",
       "ID                                                                             \n",
       "28223       3650       196      2500         0         0      3650      3859   \n",
       "323         8085      1070      1500      3666      2477      1306      1000   \n",
       "6579           0         0         0         0     74731         0         0   \n",
       "20199        389     10329      3001      5217         1       390       390   \n",
       "6894      275628         0         0     10019     11000     10000     10000   \n",
       "\n",
       "       default payment next month  \n",
       "ID                                 \n",
       "28223                           0  \n",
       "323                             0  \n",
       "6579                            0  \n",
       "20199                           0  \n",
       "6894                            1  "
      ]
     },
     "execution_count": 1,
     "metadata": {},
     "output_type": "execute_result"
    }
   ],
   "source": [
    "import pandas as pd\n",
    "pd.set_option(\"display.max_columns\", None)\n",
    "\n",
    "url = 'https://archive.ics.uci.edu/ml/machine-learning-databases/00350/default%20of%20credit%20card%20clients.xls'\n",
    "df_default = pd.read_excel(io=url, header=1, index_col=0)\n",
    "df_default.sample(5)"
   ]
  },
  {
   "cell_type": "markdown",
   "id": "2b2291a8-cd06-4f26-b947-aba32d4833d9",
   "metadata": {},
   "source": [
    "# The Covered Solution"
   ]
  },
  {
   "cell_type": "markdown",
   "id": "6262f1f9-8638-4e30-8b3a-ad9abae795c4",
   "metadata": {},
   "source": [
    "<div class=\"alert alert-success\">\n",
    "    and get the following comparisons ↓\n",
    "</div>"
   ]
  },
  {
   "cell_type": "code",
   "execution_count": 55,
   "id": "7282f568-865c-44aa-b418-fae40d608a93",
   "metadata": {},
   "outputs": [
    {
     "data": {
      "text/plain": [
       "dt    0.859878\n",
       "lr    0.833401\n",
       "sv    0.783707\n",
       "dtype: float64"
      ]
     },
     "execution_count": 55,
     "metadata": {},
     "output_type": "execute_result"
    }
   ],
   "source": [
    "?? #! read the full story to find out the solution"
   ]
  },
  {
   "cell_type": "code",
   "execution_count": 99,
   "id": "989c3e9e-957b-48c2-9243-3c8a192d7184",
   "metadata": {},
   "outputs": [
    {
     "data": {
      "text/plain": [
       "lr    0.854817\n",
       "dt    0.804613\n",
       "sv    0.778833\n",
       "dtype: float64"
      ]
     },
     "execution_count": 99,
     "metadata": {},
     "output_type": "execute_result"
    }
   ],
   "source": [
    "?? #! read the full story to find out the solution"
   ]
  },
  {
   "cell_type": "markdown",
   "id": "3bf2e14b-e921-4271-9fdf-497a2a959ff9",
   "metadata": {},
   "source": [
    "# What will we learn?"
   ]
  },
  {
   "cell_type": "markdown",
   "id": "df322cb5-4f42-41f3-827e-9b170f5407f8",
   "metadata": {},
   "source": [
    "- How to improve the Accuracy of the same Model changing its hyperparameters?\n",
    "- How can we now if the Model is overfitting the training data?\n",
    "- How can randomisation improve the statistical estimation of the unknown?\n",
    "- Why do some models cannot converge to fit the mathematical equation?\n",
    "- Why do we need to scale the data for models who compare distances between explanatory variables?"
   ]
  },
  {
   "cell_type": "markdown",
   "id": "5cdb46e7-49b5-491e-90af-73065ea33152",
   "metadata": {
    "tags": []
   },
   "source": [
    "# Which concepts will we use?\n",
    "\n",
    "- Cross Validation\n",
    "- Hyperparameters of a Model\n",
    "- MinMaxScaler\n",
    "- Grid"
   ]
  },
  {
   "cell_type": "markdown",
   "id": "b8d4abeb-3bf0-4d81-80c4-833a0125c8c5",
   "metadata": {
    "tags": []
   },
   "source": [
    "# Requirements?\n",
    "\n",
    "- Train Test Split for Model Selection"
   ]
  },
  {
   "cell_type": "markdown",
   "id": "a419b881-70e2-43bf-be0b-31593a2a000a",
   "metadata": {},
   "source": [
    "# The starting *thing*"
   ]
  },
  {
   "cell_type": "code",
   "execution_count": null,
   "id": "55ff1efe-0926-4701-b659-189dd156d2a0",
   "metadata": {},
   "outputs": [],
   "source": [
    "import pandas as pd\n",
    "pd.set_option(\"display.max_columns\", None)\n",
    "\n",
    "url = 'https://archive.ics.uci.edu/ml/machine-learning-databases/00350/default%20of%20credit%20card%20clients.xls'\n",
    "df_default = pd.read_excel(io=url, header=1, index_col=0)\n",
    "df_default.sample(5)"
   ]
  },
  {
   "cell_type": "markdown",
   "id": "09c672fa-5ef0-4c81-989a-c1e8b8b760d7",
   "metadata": {},
   "source": [
    "# Syllabus for the [Notebook](01script_functions.ipynb)\n",
    "\n",
    "1. Load the Data\n",
    "2. Preprocess the Data\n",
    "3. Feature Selection\n",
    "4. Train Test Split\n",
    "5. Decision TreeClassifier () with Default Hyperparameters\n",
    "    1. Accuracy\n",
    "        1. In train data\n",
    "        2. In test data\n",
    "    2. Model Visualization\n",
    "6. DecisionTreeClassifier() with Custom Hyperparameters\n",
    "    1. 1st Configuration\n",
    "        1. Accuracy\n",
    "            1. In train data\n",
    "            2. In test data\n",
    "        2. Model Visualization\n",
    "    2. 2nd Configuration\n",
    "        1. Accuracy\n",
    "            1. In train data\n",
    "            2. In test data\n",
    "        2. Model Visualization\n",
    "    3. 3rd Configuration\n",
    "        1. Accuracy\n",
    "            1. In train data\n",
    "            2. In test data\n",
    "        2. Model Visualization\n",
    "    4. 4th Configuration\n",
    "        1. Accuracy\n",
    "            1. In train data\n",
    "            2. In test data\n",
    "        2. Model Visualization\n",
    "    5. 5th Configuration\n",
    "        1. Accuracy\n",
    "            1. In train data\n",
    "            2. In test data\n",
    "        2. Model Visualization\n",
    "7. GridSearchCV () to find Best Hyperparameters\n",
    "8. Other Models\n",
    "    1. Support Vector Machines SVC()\n",
    "    2. KNeighborsClassifier()\n",
    "Best Model with Best Hyperparameters"
   ]
  },
  {
   "cell_type": "markdown",
   "id": "a1abf662-d4ec-40b9-b610-364359b9c8d1",
   "metadata": {},
   "source": [
    "# The Uncovered Solution"
   ]
  },
  {
   "cell_type": "code",
   "execution_count": 11,
   "id": "39cd08dc-0bf2-4953-8a74-ae3c109e1365",
   "metadata": {},
   "outputs": [],
   "source": [
    "import pandas as pd\n",
    "pd.set_option(\"display.max_columns\", None)\n",
    "\n",
    "url = 'https://archive.ics.uci.edu/ml/machine-learning-databases/00350/default%20of%20credit%20card%20clients.xls'\n",
    "df_default = pd.read_excel(io=url, header=1, index_col=0)\n",
    "\n",
    "df_default = pd.get_dummies(df_default, drop_first=True)\n",
    "\n",
    "y = df_default.iloc[:, -1]\n",
    "X = df_default.iloc[:, :-1]"
   ]
  },
  {
   "cell_type": "code",
   "execution_count": 13,
   "id": "5a49e4af-ddbb-4bad-bd48-c5289758a130",
   "metadata": {},
   "outputs": [],
   "source": [
    "from sklearn.model_selection import train_test_split\n",
    "\n",
    "X_train, X_test, y_train, y_test = train_test_split(\n",
    "    X, y, test_size=0.33, random_state=42)"
   ]
  },
  {
   "cell_type": "code",
   "execution_count": 14,
   "id": "9f55eecf-b118-4a73-9ce7-997b794291fc",
   "metadata": {},
   "outputs": [],
   "source": [
    "from sklearn.tree import DecisionTreeClassifier\n",
    "\n",
    "model_dt = DecisionTreeClassifier()"
   ]
  },
  {
   "cell_type": "code",
   "execution_count": 15,
   "id": "5db4a016-6557-46b9-8021-688736a0f6cf",
   "metadata": {},
   "outputs": [
    {
     "name": "stdout",
     "output_type": "stream",
     "text": [
      "Fitting 5 folds for each of 84 candidates, totalling 420 fits\n"
     ]
    },
    {
     "data": {
      "text/plain": [
       "GridSearchCV(cv=5, estimator=DecisionTreeClassifier(),\n",
       "             param_grid={'criterion': ['gini', 'entropy'],\n",
       "                         'max_depth': [None, 2, 3, 4, 5, 10],\n",
       "                         'min_samples_leaf': [1, 50, 100, 200, 400, 800, 1600]},\n",
       "             verbose=1)"
      ]
     },
     "execution_count": 15,
     "metadata": {},
     "output_type": "execute_result"
    }
   ],
   "source": [
    "from sklearn.model_selection import GridSearchCV\n",
    "\n",
    "param_grid = {\n",
    "    'max_depth': [None, 2, 3, 4, 5, 10],\n",
    "    'min_samples_leaf': [1, 50, 100, 200, 400, 800, 1600],\n",
    "    'criterion': ['gini', 'entropy']\n",
    "}\n",
    "\n",
    "cv = GridSearchCV(\n",
    "    estimator=model_dt, param_grid=param_grid,\n",
    "    cv=5, verbose=1\n",
    ")\n",
    "cv.fit(X_train, y_train)"
   ]
  },
  {
   "cell_type": "code",
   "execution_count": 77,
   "id": "f4d3b2e3-b3fc-48a9-be55-0bf3832a3e0a",
   "metadata": {},
   "outputs": [
    {
     "data": {
      "text/plain": [
       "DecisionTreeClassifier(criterion='entropy', max_depth=5, min_samples_leaf=100)"
      ]
     },
     "execution_count": 77,
     "metadata": {},
     "output_type": "execute_result"
    }
   ],
   "source": [
    "cv.best_estimator_"
   ]
  },
  {
   "cell_type": "code",
   "execution_count": 78,
   "id": "f2081fdb-ebd5-4554-9cc5-b88217f0cb5a",
   "metadata": {},
   "outputs": [
    {
     "data": {
      "text/plain": [
       "0.8186868686868687"
      ]
     },
     "execution_count": 78,
     "metadata": {},
     "output_type": "execute_result"
    }
   ],
   "source": [
    "cv.score(X_test, y_test)"
   ]
  },
  {
   "cell_type": "code",
   "execution_count": 16,
   "id": "62344041-b7b4-4d4c-ad05-c8e9bd0bc60d",
   "metadata": {},
   "outputs": [],
   "source": [
    "from sklearn.preprocessing import MinMaxScaler\n",
    "\n",
    "scaler = MinMaxScaler()\n",
    "X_norm = pd.DataFrame(scaler.fit_transform(X))"
   ]
  },
  {
   "cell_type": "code",
   "execution_count": 17,
   "id": "aca7222c-9431-4c2c-aa09-1e8414205215",
   "metadata": {},
   "outputs": [],
   "source": [
    "X_train, X_test, y_train, y_test = train_test_split(\n",
    "    X_norm, y, test_size=0.33, random_state=42)"
   ]
  },
  {
   "cell_type": "code",
   "execution_count": null,
   "id": "51b021f0-49fb-48c5-ae08-6b7c6ba054f8",
   "metadata": {},
   "outputs": [],
   "source": [
    "from sklearn.svm import SVC\n",
    "\n",
    "sv = SVC()\n",
    "param_grid = {\n",
    "    'C': [0.1, 1, 10],\n",
    "    'kernel': ['linear', 'kernel']\n",
    "}\n",
    "\n",
    "cv_svc = GridSearchCV(estimator=sv, param_grid=param_grid, verbose=1)\n",
    "cv_svc.fit(X_train, y_train)"
   ]
  },
  {
   "cell_type": "code",
   "execution_count": 21,
   "id": "fb6691ae-61e1-4dc2-9de5-91054634e715",
   "metadata": {},
   "outputs": [
    {
     "data": {
      "text/plain": [
       "SVC(C=1, kernel='linear')"
      ]
     },
     "execution_count": 21,
     "metadata": {},
     "output_type": "execute_result"
    }
   ],
   "source": [
    "cv_svc.best_estimator_"
   ]
  },
  {
   "cell_type": "code",
   "execution_count": 22,
   "id": "5ae186ba-e92a-45d6-b8c2-726f55ee2501",
   "metadata": {},
   "outputs": [
    {
     "data": {
      "text/plain": [
       "0.8105050505050505"
      ]
     },
     "execution_count": 22,
     "metadata": {},
     "output_type": "execute_result"
    }
   ],
   "source": [
    "cv_svc.score(X_test, y_test)"
   ]
  },
  {
   "cell_type": "code",
   "execution_count": null,
   "id": "45ac9a9a-4390-4557-992c-9fa14b4c0bc2",
   "metadata": {},
   "outputs": [],
   "source": []
  },
  {
   "cell_type": "code",
   "execution_count": null,
   "id": "ec5c618e-db4a-4a5a-8b6f-c85c96a66c3f",
   "metadata": {},
   "outputs": [
    {
     "name": "stdout",
     "output_type": "stream",
     "text": [
      "Fitting 5 folds for each of 48 candidates, totalling 240 fits\n",
      "[CV] END ......leaf_size=10, metric=minkowski, n_neighbors=3; total time=   1.5s\n",
      "[CV] END ......leaf_size=10, metric=minkowski, n_neighbors=3; total time=   1.1s\n",
      "[CV] END ......leaf_size=10, metric=minkowski, n_neighbors=3; total time=   1.1s\n",
      "[CV] END ......leaf_size=10, metric=minkowski, n_neighbors=3; total time=   1.0s\n",
      "[CV] END ......leaf_size=10, metric=minkowski, n_neighbors=3; total time=   1.1s\n",
      "[CV] END ......leaf_size=10, metric=minkowski, n_neighbors=5; total time=   1.2s\n",
      "[CV] END ......leaf_size=10, metric=minkowski, n_neighbors=5; total time=   1.2s\n",
      "[CV] END ......leaf_size=10, metric=minkowski, n_neighbors=5; total time=   1.2s\n",
      "[CV] END ......leaf_size=10, metric=minkowski, n_neighbors=5; total time=   1.2s\n",
      "[CV] END ......leaf_size=10, metric=minkowski, n_neighbors=5; total time=   1.2s\n",
      "[CV] END .....leaf_size=10, metric=minkowski, n_neighbors=10; total time=   1.3s\n",
      "[CV] END .....leaf_size=10, metric=minkowski, n_neighbors=10; total time=   1.3s\n",
      "[CV] END .....leaf_size=10, metric=minkowski, n_neighbors=10; total time=   1.2s\n",
      "[CV] END .....leaf_size=10, metric=minkowski, n_neighbors=10; total time=   1.3s\n",
      "[CV] END .....leaf_size=10, metric=minkowski, n_neighbors=10; total time=   1.3s\n",
      "[CV] END .....leaf_size=10, metric=minkowski, n_neighbors=20; total time=   1.3s\n",
      "[CV] END .....leaf_size=10, metric=minkowski, n_neighbors=20; total time=   1.3s\n",
      "[CV] END .....leaf_size=10, metric=minkowski, n_neighbors=20; total time=   1.3s\n",
      "[CV] END .....leaf_size=10, metric=minkowski, n_neighbors=20; total time=   1.3s\n",
      "[CV] END .....leaf_size=10, metric=minkowski, n_neighbors=20; total time=   1.2s\n",
      "[CV] END ......leaf_size=10, metric=euclidean, n_neighbors=3; total time=   1.1s\n",
      "[CV] END ......leaf_size=10, metric=euclidean, n_neighbors=3; total time=   1.1s\n",
      "[CV] END ......leaf_size=10, metric=euclidean, n_neighbors=3; total time=   1.1s\n",
      "[CV] END ......leaf_size=10, metric=euclidean, n_neighbors=3; total time=   1.1s\n",
      "[CV] END ......leaf_size=10, metric=euclidean, n_neighbors=3; total time=   1.2s\n",
      "[CV] END ......leaf_size=10, metric=euclidean, n_neighbors=5; total time=   1.4s\n",
      "[CV] END ......leaf_size=10, metric=euclidean, n_neighbors=5; total time=   1.5s\n",
      "[CV] END ......leaf_size=10, metric=euclidean, n_neighbors=5; total time=   1.5s\n",
      "[CV] END ......leaf_size=10, metric=euclidean, n_neighbors=5; total time=   1.4s\n",
      "[CV] END ......leaf_size=10, metric=euclidean, n_neighbors=5; total time=   1.4s\n",
      "[CV] END .....leaf_size=10, metric=euclidean, n_neighbors=10; total time=   1.4s\n",
      "[CV] END .....leaf_size=10, metric=euclidean, n_neighbors=10; total time=   1.5s\n",
      "[CV] END .....leaf_size=10, metric=euclidean, n_neighbors=10; total time=   1.3s\n",
      "[CV] END .....leaf_size=10, metric=euclidean, n_neighbors=10; total time=   1.3s\n",
      "[CV] END .....leaf_size=10, metric=euclidean, n_neighbors=10; total time=   1.3s\n",
      "[CV] END .....leaf_size=10, metric=euclidean, n_neighbors=20; total time=   1.3s\n",
      "[CV] END .....leaf_size=10, metric=euclidean, n_neighbors=20; total time=   1.6s\n",
      "[CV] END .....leaf_size=10, metric=euclidean, n_neighbors=20; total time=   1.8s\n",
      "[CV] END .....leaf_size=10, metric=euclidean, n_neighbors=20; total time=   1.9s\n",
      "[CV] END .....leaf_size=10, metric=euclidean, n_neighbors=20; total time=   1.7s\n",
      "[CV] END ......leaf_size=10, metric=manhattan, n_neighbors=3; total time=   2.5s\n",
      "[CV] END ......leaf_size=10, metric=manhattan, n_neighbors=3; total time=   2.7s\n",
      "[CV] END ......leaf_size=10, metric=manhattan, n_neighbors=3; total time=   2.9s\n",
      "[CV] END ......leaf_size=10, metric=manhattan, n_neighbors=3; total time=   2.7s\n",
      "[CV] END ......leaf_size=10, metric=manhattan, n_neighbors=3; total time=   2.4s\n",
      "[CV] END ......leaf_size=10, metric=manhattan, n_neighbors=5; total time=   2.4s\n",
      "[CV] END ......leaf_size=10, metric=manhattan, n_neighbors=5; total time=   2.2s\n",
      "[CV] END ......leaf_size=10, metric=manhattan, n_neighbors=5; total time=   2.1s\n",
      "[CV] END ......leaf_size=10, metric=manhattan, n_neighbors=5; total time=   1.9s\n",
      "[CV] END ......leaf_size=10, metric=manhattan, n_neighbors=5; total time=   2.1s\n",
      "[CV] END .....leaf_size=10, metric=manhattan, n_neighbors=10; total time=   2.3s\n",
      "[CV] END .....leaf_size=10, metric=manhattan, n_neighbors=10; total time=   2.2s\n",
      "[CV] END .....leaf_size=10, metric=manhattan, n_neighbors=10; total time=   2.7s\n",
      "[CV] END .....leaf_size=10, metric=manhattan, n_neighbors=10; total time=   3.3s\n",
      "[CV] END .....leaf_size=10, metric=manhattan, n_neighbors=10; total time=   3.0s\n",
      "[CV] END .....leaf_size=10, metric=manhattan, n_neighbors=20; total time=   3.2s\n",
      "[CV] END .....leaf_size=10, metric=manhattan, n_neighbors=20; total time=   3.3s\n"
     ]
    }
   ],
   "source": [
    "from sklearn.neighbors import KNeighborsClassifier\n",
    "\n",
    "kn = KNeighborsClassifier()\n",
    "param_grid = {\n",
    "    'leaf_size': [10, 20, 30, 50],\n",
    "    'metric': ['minkowski', 'euclidean', 'manhattan'],\n",
    "    'n_neighbors': [3, 5, 10, 20]\n",
    "}\n",
    "\n",
    "cv_kn = GridSearchCV(estimator=kn, param_grid=param_grid, verbose=2)\n",
    "cv_kn.fit(X_train, y_train)"
   ]
  },
  {
   "cell_type": "code",
   "execution_count": null,
   "id": "90ccb9d5-1245-4ce9-b938-08e12d9df8f4",
   "metadata": {},
   "outputs": [],
   "source": [
    "cv_kn.best_estimator_"
   ]
  },
  {
   "cell_type": "code",
   "execution_count": null,
   "id": "c08119d6-68b5-4ad0-bbb9-c97e2a95ffb7",
   "metadata": {},
   "outputs": [],
   "source": [
    "cv_kn.score(X_test, y_test)"
   ]
  },
  {
   "cell_type": "code",
   "execution_count": 126,
   "id": "fa10e109-9951-4c72-95c2-98c7cfb9c1da",
   "metadata": {},
   "outputs": [
    {
     "name": "stderr",
     "output_type": "stream",
     "text": [
      "/Users/sota/miniforge3/lib/python3.9/site-packages/sklearn/base.py:450: UserWarning: X does not have valid feature names, but DecisionTreeClassifier was fitted with feature names\n",
      "  warnings.warn(\n"
     ]
    }
   ],
   "source": [
    "dic_results = {\n",
    "    'model': [\n",
    "        cv.best_estimator_,\n",
    "        cv_kn.best_estimator_,\n",
    "        cv_svc.best_estimator_\n",
    "    ],\n",
    "    \n",
    "    'score': [\n",
    "        cv.score(X_test, y_test),\n",
    "        cv_kn.score(X_test, y_test),\n",
    "        cv_svc.score(X_test, y_test)\n",
    "    ]\n",
    "}"
   ]
  },
  {
   "cell_type": "code",
   "execution_count": 127,
   "id": "bef30865-f0a5-4ab8-8292-18cf13d392f9",
   "metadata": {},
   "outputs": [
    {
     "data": {
      "text/html": [
       "<div>\n",
       "<style scoped>\n",
       "    .dataframe tbody tr th:only-of-type {\n",
       "        vertical-align: middle;\n",
       "    }\n",
       "\n",
       "    .dataframe tbody tr th {\n",
       "        vertical-align: top;\n",
       "    }\n",
       "\n",
       "    .dataframe thead th {\n",
       "        text-align: right;\n",
       "    }\n",
       "</style>\n",
       "<table border=\"1\" class=\"dataframe\">\n",
       "  <thead>\n",
       "    <tr style=\"text-align: right;\">\n",
       "      <th></th>\n",
       "      <th>model</th>\n",
       "      <th>score</th>\n",
       "    </tr>\n",
       "  </thead>\n",
       "  <tbody>\n",
       "    <tr>\n",
       "      <th>0</th>\n",
       "      <td>DecisionTreeClassifier(criterion='entropy', ma...</td>\n",
       "      <td>0.782020</td>\n",
       "    </tr>\n",
       "    <tr>\n",
       "      <th>1</th>\n",
       "      <td>KNeighborsClassifier(leaf_size=10, n_neighbors...</td>\n",
       "      <td>0.807677</td>\n",
       "    </tr>\n",
       "    <tr>\n",
       "      <th>2</th>\n",
       "      <td>SVC(C=1, kernel='linear')</td>\n",
       "      <td>0.810505</td>\n",
       "    </tr>\n",
       "  </tbody>\n",
       "</table>\n",
       "</div>"
      ],
      "text/plain": [
       "                                               model     score\n",
       "0  DecisionTreeClassifier(criterion='entropy', ma...  0.782020\n",
       "1  KNeighborsClassifier(leaf_size=10, n_neighbors...  0.807677\n",
       "2                          SVC(C=1, kernel='linear')  0.810505"
      ]
     },
     "execution_count": 127,
     "metadata": {},
     "output_type": "execute_result"
    }
   ],
   "source": [
    "pd.DataFrame(dic_results)"
   ]
  },
  {
   "cell_type": "markdown",
   "id": "f155c431-13d9-4a5f-add8-08b39afbaff2",
   "metadata": {},
   "source": [
    "<a rel=\"license\" href=\"http://creativecommons.org/licenses/by-nc-nd/4.0/\"><img alt=\"Creative Commons License\" style=\"border-width:0\" src=\"https://i.creativecommons.org/l/by-nc-nd/4.0/88x31.png\" /></a><br />This work is licensed under a <a rel=\"license\" href=\"http://creativecommons.org/licenses/by-nc-nd/4.0/\">Creative Commons Attribution-NonCommercial-NoDerivatives 4.0 International License</a>."
   ]
  }
 ],
 "metadata": {
  "authors": [
   {
    "name": "Jesús López",
    "twitter": "https://twitter.com/jsulopz"
   }
  ],
  "interpreter": {
   "hash": "414fd6d7c0f0aefb3d4e2db41edbeb0df03134e10d94a689550561b640a17652"
  },
  "kernelspec": {
   "display_name": "Python 3 (ipykernel)",
   "language": "python",
   "name": "python3"
  },
  "language_info": {
   "codemirror_mode": {
    "name": "ipython",
    "version": 3
   },
   "file_extension": ".py",
   "mimetype": "text/x-python",
   "name": "python",
   "nbconvert_exporter": "python",
   "pygments_lexer": "ipython3",
   "version": "3.9.10"
  },
  "title": "Basic Elements of Programming",
  "toc-autonumbering": true,
  "toc-showcode": false,
  "toc-showtags": false
 },
 "nbformat": 4,
 "nbformat_minor": 5
}
