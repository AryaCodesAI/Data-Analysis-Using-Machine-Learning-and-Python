{
 "cells": [
  {
   "cell_type": "markdown",
   "metadata": {},
   "source": [
    "![](../src/logo.svg)\n",
    "\n",
    "**© Jesús López**\n",
    "\n",
    "Ask him any doubt on **[Twitter](https://twitter.com/jsulopz)** or **[LinkedIn](https://linkedin.com/in/jsulopz)**"
   ]
  },
  {
   "cell_type": "markdown",
   "metadata": {},
   "source": [
    "<a href=\"https://colab.research.google.com/github/jsulopz/resolving-machine-learning/blob/main/06_Principal%20Component%20Analysis%20%28PCA%29/06_dimensionality-reduction-pca_practice_solution.ipynb\">\n",
    "  <img src=\"https://colab.research.google.com/assets/colab-badge.svg\" alt=\"Open In Colab\"/>\n",
    "</a>"
   ]
  },
  {
   "cell_type": "markdown",
   "metadata": {},
   "source": [
    "# 06 | Principal Component Analysis (PCA)"
   ]
  },
  {
   "cell_type": "markdown",
   "metadata": {},
   "source": [
    "## Load the Data"
   ]
  },
  {
   "cell_type": "markdown",
   "metadata": {},
   "source": [
    "- Simply execute the following lines of code to load the data\n",
    "- This dataset contains **statistics** (columns)\n",
    "- About **Car Models** (rows)"
   ]
  },
  {
   "cell_type": "code",
   "execution_count": 1,
   "metadata": {},
   "outputs": [
    {
     "data": {
      "text/html": [
       "<div>\n",
       "<style scoped>\n",
       "    .dataframe tbody tr th:only-of-type {\n",
       "        vertical-align: middle;\n",
       "    }\n",
       "\n",
       "    .dataframe tbody tr th {\n",
       "        vertical-align: top;\n",
       "    }\n",
       "\n",
       "    .dataframe thead th {\n",
       "        text-align: right;\n",
       "    }\n",
       "</style>\n",
       "<table border=\"1\" class=\"dataframe\">\n",
       "  <thead>\n",
       "    <tr style=\"text-align: right;\">\n",
       "      <th></th>\n",
       "      <th>mpg</th>\n",
       "      <th>cylinders</th>\n",
       "      <th>displacement</th>\n",
       "      <th>horsepower</th>\n",
       "      <th>weight</th>\n",
       "      <th>acceleration</th>\n",
       "      <th>model_year</th>\n",
       "      <th>origin</th>\n",
       "    </tr>\n",
       "    <tr>\n",
       "      <th>name</th>\n",
       "      <th></th>\n",
       "      <th></th>\n",
       "      <th></th>\n",
       "      <th></th>\n",
       "      <th></th>\n",
       "      <th></th>\n",
       "      <th></th>\n",
       "      <th></th>\n",
       "    </tr>\n",
       "  </thead>\n",
       "  <tbody>\n",
       "    <tr>\n",
       "      <th>ford pinto</th>\n",
       "      <td>18.0</td>\n",
       "      <td>6</td>\n",
       "      <td>171.0</td>\n",
       "      <td>97.0</td>\n",
       "      <td>2984</td>\n",
       "      <td>14.5</td>\n",
       "      <td>75</td>\n",
       "      <td>usa</td>\n",
       "    </tr>\n",
       "    <tr>\n",
       "      <th>fiat 131</th>\n",
       "      <td>28.0</td>\n",
       "      <td>4</td>\n",
       "      <td>107.0</td>\n",
       "      <td>86.0</td>\n",
       "      <td>2464</td>\n",
       "      <td>15.5</td>\n",
       "      <td>76</td>\n",
       "      <td>europe</td>\n",
       "    </tr>\n",
       "    <tr>\n",
       "      <th>mazda glc</th>\n",
       "      <td>46.6</td>\n",
       "      <td>4</td>\n",
       "      <td>86.0</td>\n",
       "      <td>65.0</td>\n",
       "      <td>2110</td>\n",
       "      <td>17.9</td>\n",
       "      <td>80</td>\n",
       "      <td>japan</td>\n",
       "    </tr>\n",
       "    <tr>\n",
       "      <th>chevrolet monza 2+2</th>\n",
       "      <td>20.0</td>\n",
       "      <td>8</td>\n",
       "      <td>262.0</td>\n",
       "      <td>110.0</td>\n",
       "      <td>3221</td>\n",
       "      <td>13.5</td>\n",
       "      <td>75</td>\n",
       "      <td>usa</td>\n",
       "    </tr>\n",
       "    <tr>\n",
       "      <th>chevy c20</th>\n",
       "      <td>10.0</td>\n",
       "      <td>8</td>\n",
       "      <td>307.0</td>\n",
       "      <td>200.0</td>\n",
       "      <td>4376</td>\n",
       "      <td>15.0</td>\n",
       "      <td>70</td>\n",
       "      <td>usa</td>\n",
       "    </tr>\n",
       "  </tbody>\n",
       "</table>\n",
       "</div>"
      ],
      "text/plain": [
       "                      mpg  cylinders  displacement  horsepower  weight  \\\n",
       "name                                                                     \n",
       "ford pinto           18.0          6         171.0        97.0    2984   \n",
       "fiat 131             28.0          4         107.0        86.0    2464   \n",
       "mazda glc            46.6          4          86.0        65.0    2110   \n",
       "chevrolet monza 2+2  20.0          8         262.0       110.0    3221   \n",
       "chevy c20            10.0          8         307.0       200.0    4376   \n",
       "\n",
       "                     acceleration  model_year  origin  \n",
       "name                                                   \n",
       "ford pinto                   14.5          75     usa  \n",
       "fiat 131                     15.5          76  europe  \n",
       "mazda glc                    17.9          80   japan  \n",
       "chevrolet monza 2+2          13.5          75     usa  \n",
       "chevy c20                    15.0          70     usa  "
      ]
     },
     "execution_count": 1,
     "metadata": {},
     "output_type": "execute_result"
    }
   ],
   "source": [
    "import seaborn as sns #!\n",
    "\n",
    "df = sns.load_dataset(name='mpg', index_col='name')\n",
    "df.sample(5)"
   ]
  },
  {
   "cell_type": "markdown",
   "metadata": {},
   "source": [
    "## Data Preprocessing\n",
    "\n",
    "- All variables need to be **comparables**.\n",
    "- It is not the same to increase 1kg of weight, than 1m of height.\n",
    "- We will use `StandardScaler()`."
   ]
  },
  {
   "cell_type": "code",
   "execution_count": 2,
   "metadata": {},
   "outputs": [
    {
     "data": {
      "text/plain": [
       "mpg             0\n",
       "cylinders       0\n",
       "displacement    0\n",
       "horsepower      6\n",
       "weight          0\n",
       "acceleration    0\n",
       "model_year      0\n",
       "origin          0\n",
       "dtype: int64"
      ]
     },
     "execution_count": 2,
     "metadata": {},
     "output_type": "execute_result"
    }
   ],
   "source": [
    "df.isna().sum()"
   ]
  },
  {
   "cell_type": "code",
   "execution_count": 3,
   "metadata": {},
   "outputs": [],
   "source": [
    "df = df.dropna()"
   ]
  },
  {
   "cell_type": "code",
   "execution_count": 4,
   "metadata": {},
   "outputs": [
    {
     "data": {
      "text/html": [
       "<div>\n",
       "<style scoped>\n",
       "    .dataframe tbody tr th:only-of-type {\n",
       "        vertical-align: middle;\n",
       "    }\n",
       "\n",
       "    .dataframe tbody tr th {\n",
       "        vertical-align: top;\n",
       "    }\n",
       "\n",
       "    .dataframe thead th {\n",
       "        text-align: right;\n",
       "    }\n",
       "</style>\n",
       "<table border=\"1\" class=\"dataframe\">\n",
       "  <thead>\n",
       "    <tr style=\"text-align: right;\">\n",
       "      <th></th>\n",
       "      <th>mpg</th>\n",
       "      <th>cylinders</th>\n",
       "      <th>displacement</th>\n",
       "      <th>horsepower</th>\n",
       "      <th>weight</th>\n",
       "      <th>acceleration</th>\n",
       "      <th>model_year</th>\n",
       "      <th>origin_japan</th>\n",
       "      <th>origin_usa</th>\n",
       "    </tr>\n",
       "    <tr>\n",
       "      <th>name</th>\n",
       "      <th></th>\n",
       "      <th></th>\n",
       "      <th></th>\n",
       "      <th></th>\n",
       "      <th></th>\n",
       "      <th></th>\n",
       "      <th></th>\n",
       "      <th></th>\n",
       "      <th></th>\n",
       "    </tr>\n",
       "  </thead>\n",
       "  <tbody>\n",
       "    <tr>\n",
       "      <th>chevrolet chevelle malibu</th>\n",
       "      <td>18.0</td>\n",
       "      <td>8</td>\n",
       "      <td>307.0</td>\n",
       "      <td>130.0</td>\n",
       "      <td>3504</td>\n",
       "      <td>12.0</td>\n",
       "      <td>70</td>\n",
       "      <td>0</td>\n",
       "      <td>1</td>\n",
       "    </tr>\n",
       "    <tr>\n",
       "      <th>buick skylark 320</th>\n",
       "      <td>15.0</td>\n",
       "      <td>8</td>\n",
       "      <td>350.0</td>\n",
       "      <td>165.0</td>\n",
       "      <td>3693</td>\n",
       "      <td>11.5</td>\n",
       "      <td>70</td>\n",
       "      <td>0</td>\n",
       "      <td>1</td>\n",
       "    </tr>\n",
       "    <tr>\n",
       "      <th>plymouth satellite</th>\n",
       "      <td>18.0</td>\n",
       "      <td>8</td>\n",
       "      <td>318.0</td>\n",
       "      <td>150.0</td>\n",
       "      <td>3436</td>\n",
       "      <td>11.0</td>\n",
       "      <td>70</td>\n",
       "      <td>0</td>\n",
       "      <td>1</td>\n",
       "    </tr>\n",
       "    <tr>\n",
       "      <th>amc rebel sst</th>\n",
       "      <td>16.0</td>\n",
       "      <td>8</td>\n",
       "      <td>304.0</td>\n",
       "      <td>150.0</td>\n",
       "      <td>3433</td>\n",
       "      <td>12.0</td>\n",
       "      <td>70</td>\n",
       "      <td>0</td>\n",
       "      <td>1</td>\n",
       "    </tr>\n",
       "    <tr>\n",
       "      <th>ford torino</th>\n",
       "      <td>17.0</td>\n",
       "      <td>8</td>\n",
       "      <td>302.0</td>\n",
       "      <td>140.0</td>\n",
       "      <td>3449</td>\n",
       "      <td>10.5</td>\n",
       "      <td>70</td>\n",
       "      <td>0</td>\n",
       "      <td>1</td>\n",
       "    </tr>\n",
       "    <tr>\n",
       "      <th>...</th>\n",
       "      <td>...</td>\n",
       "      <td>...</td>\n",
       "      <td>...</td>\n",
       "      <td>...</td>\n",
       "      <td>...</td>\n",
       "      <td>...</td>\n",
       "      <td>...</td>\n",
       "      <td>...</td>\n",
       "      <td>...</td>\n",
       "    </tr>\n",
       "    <tr>\n",
       "      <th>ford mustang gl</th>\n",
       "      <td>27.0</td>\n",
       "      <td>4</td>\n",
       "      <td>140.0</td>\n",
       "      <td>86.0</td>\n",
       "      <td>2790</td>\n",
       "      <td>15.6</td>\n",
       "      <td>82</td>\n",
       "      <td>0</td>\n",
       "      <td>1</td>\n",
       "    </tr>\n",
       "    <tr>\n",
       "      <th>vw pickup</th>\n",
       "      <td>44.0</td>\n",
       "      <td>4</td>\n",
       "      <td>97.0</td>\n",
       "      <td>52.0</td>\n",
       "      <td>2130</td>\n",
       "      <td>24.6</td>\n",
       "      <td>82</td>\n",
       "      <td>0</td>\n",
       "      <td>0</td>\n",
       "    </tr>\n",
       "    <tr>\n",
       "      <th>dodge rampage</th>\n",
       "      <td>32.0</td>\n",
       "      <td>4</td>\n",
       "      <td>135.0</td>\n",
       "      <td>84.0</td>\n",
       "      <td>2295</td>\n",
       "      <td>11.6</td>\n",
       "      <td>82</td>\n",
       "      <td>0</td>\n",
       "      <td>1</td>\n",
       "    </tr>\n",
       "    <tr>\n",
       "      <th>ford ranger</th>\n",
       "      <td>28.0</td>\n",
       "      <td>4</td>\n",
       "      <td>120.0</td>\n",
       "      <td>79.0</td>\n",
       "      <td>2625</td>\n",
       "      <td>18.6</td>\n",
       "      <td>82</td>\n",
       "      <td>0</td>\n",
       "      <td>1</td>\n",
       "    </tr>\n",
       "    <tr>\n",
       "      <th>chevy s-10</th>\n",
       "      <td>31.0</td>\n",
       "      <td>4</td>\n",
       "      <td>119.0</td>\n",
       "      <td>82.0</td>\n",
       "      <td>2720</td>\n",
       "      <td>19.4</td>\n",
       "      <td>82</td>\n",
       "      <td>0</td>\n",
       "      <td>1</td>\n",
       "    </tr>\n",
       "  </tbody>\n",
       "</table>\n",
       "<p>392 rows × 9 columns</p>\n",
       "</div>"
      ],
      "text/plain": [
       "                            mpg  cylinders  displacement  horsepower  weight  \\\n",
       "name                                                                           \n",
       "chevrolet chevelle malibu  18.0          8         307.0       130.0    3504   \n",
       "buick skylark 320          15.0          8         350.0       165.0    3693   \n",
       "plymouth satellite         18.0          8         318.0       150.0    3436   \n",
       "amc rebel sst              16.0          8         304.0       150.0    3433   \n",
       "ford torino                17.0          8         302.0       140.0    3449   \n",
       "...                         ...        ...           ...         ...     ...   \n",
       "ford mustang gl            27.0          4         140.0        86.0    2790   \n",
       "vw pickup                  44.0          4          97.0        52.0    2130   \n",
       "dodge rampage              32.0          4         135.0        84.0    2295   \n",
       "ford ranger                28.0          4         120.0        79.0    2625   \n",
       "chevy s-10                 31.0          4         119.0        82.0    2720   \n",
       "\n",
       "                           acceleration  model_year  origin_japan  origin_usa  \n",
       "name                                                                           \n",
       "chevrolet chevelle malibu          12.0          70             0           1  \n",
       "buick skylark 320                  11.5          70             0           1  \n",
       "plymouth satellite                 11.0          70             0           1  \n",
       "amc rebel sst                      12.0          70             0           1  \n",
       "ford torino                        10.5          70             0           1  \n",
       "...                                 ...         ...           ...         ...  \n",
       "ford mustang gl                    15.6          82             0           1  \n",
       "vw pickup                          24.6          82             0           0  \n",
       "dodge rampage                      11.6          82             0           1  \n",
       "ford ranger                        18.6          82             0           1  \n",
       "chevy s-10                         19.4          82             0           1  \n",
       "\n",
       "[392 rows x 9 columns]"
      ]
     },
     "execution_count": 4,
     "metadata": {},
     "output_type": "execute_result"
    }
   ],
   "source": [
    "import pandas as pd\n",
    "df_mpg = pd.get_dummies(data=df, drop_first=True)\n",
    "df_mpg"
   ]
  },
  {
   "cell_type": "code",
   "execution_count": 5,
   "metadata": {},
   "outputs": [
    {
     "data": {
      "text/html": [
       "<style>#sk-container-id-1 {color: black;background-color: white;}#sk-container-id-1 pre{padding: 0;}#sk-container-id-1 div.sk-toggleable {background-color: white;}#sk-container-id-1 label.sk-toggleable__label {cursor: pointer;display: block;width: 100%;margin-bottom: 0;padding: 0.3em;box-sizing: border-box;text-align: center;}#sk-container-id-1 label.sk-toggleable__label-arrow:before {content: \"▸\";float: left;margin-right: 0.25em;color: #696969;}#sk-container-id-1 label.sk-toggleable__label-arrow:hover:before {color: black;}#sk-container-id-1 div.sk-estimator:hover label.sk-toggleable__label-arrow:before {color: black;}#sk-container-id-1 div.sk-toggleable__content {max-height: 0;max-width: 0;overflow: hidden;text-align: left;background-color: #f0f8ff;}#sk-container-id-1 div.sk-toggleable__content pre {margin: 0.2em;color: black;border-radius: 0.25em;background-color: #f0f8ff;}#sk-container-id-1 input.sk-toggleable__control:checked~div.sk-toggleable__content {max-height: 200px;max-width: 100%;overflow: auto;}#sk-container-id-1 input.sk-toggleable__control:checked~label.sk-toggleable__label-arrow:before {content: \"▾\";}#sk-container-id-1 div.sk-estimator input.sk-toggleable__control:checked~label.sk-toggleable__label {background-color: #d4ebff;}#sk-container-id-1 div.sk-label input.sk-toggleable__control:checked~label.sk-toggleable__label {background-color: #d4ebff;}#sk-container-id-1 input.sk-hidden--visually {border: 0;clip: rect(1px 1px 1px 1px);clip: rect(1px, 1px, 1px, 1px);height: 1px;margin: -1px;overflow: hidden;padding: 0;position: absolute;width: 1px;}#sk-container-id-1 div.sk-estimator {font-family: monospace;background-color: #f0f8ff;border: 1px dotted black;border-radius: 0.25em;box-sizing: border-box;margin-bottom: 0.5em;}#sk-container-id-1 div.sk-estimator:hover {background-color: #d4ebff;}#sk-container-id-1 div.sk-parallel-item::after {content: \"\";width: 100%;border-bottom: 1px solid gray;flex-grow: 1;}#sk-container-id-1 div.sk-label:hover label.sk-toggleable__label {background-color: #d4ebff;}#sk-container-id-1 div.sk-serial::before {content: \"\";position: absolute;border-left: 1px solid gray;box-sizing: border-box;top: 0;bottom: 0;left: 50%;z-index: 0;}#sk-container-id-1 div.sk-serial {display: flex;flex-direction: column;align-items: center;background-color: white;padding-right: 0.2em;padding-left: 0.2em;position: relative;}#sk-container-id-1 div.sk-item {position: relative;z-index: 1;}#sk-container-id-1 div.sk-parallel {display: flex;align-items: stretch;justify-content: center;background-color: white;position: relative;}#sk-container-id-1 div.sk-item::before, #sk-container-id-1 div.sk-parallel-item::before {content: \"\";position: absolute;border-left: 1px solid gray;box-sizing: border-box;top: 0;bottom: 0;left: 50%;z-index: -1;}#sk-container-id-1 div.sk-parallel-item {display: flex;flex-direction: column;z-index: 1;position: relative;background-color: white;}#sk-container-id-1 div.sk-parallel-item:first-child::after {align-self: flex-end;width: 50%;}#sk-container-id-1 div.sk-parallel-item:last-child::after {align-self: flex-start;width: 50%;}#sk-container-id-1 div.sk-parallel-item:only-child::after {width: 0;}#sk-container-id-1 div.sk-dashed-wrapped {border: 1px dashed gray;margin: 0 0.4em 0.5em 0.4em;box-sizing: border-box;padding-bottom: 0.4em;background-color: white;}#sk-container-id-1 div.sk-label label {font-family: monospace;font-weight: bold;display: inline-block;line-height: 1.2em;}#sk-container-id-1 div.sk-label-container {text-align: center;}#sk-container-id-1 div.sk-container {/* jupyter's `normalize.less` sets `[hidden] { display: none; }` but bootstrap.min.css set `[hidden] { display: none !important; }` so we also need the `!important` here to be able to override the default hidden behavior on the sphinx rendered scikit-learn.org. See: https://github.com/scikit-learn/scikit-learn/issues/21755 */display: inline-block !important;position: relative;}#sk-container-id-1 div.sk-text-repr-fallback {display: none;}</style><div id=\"sk-container-id-1\" class=\"sk-top-container\"><div class=\"sk-text-repr-fallback\"><pre>StandardScaler()</pre><b>In a Jupyter environment, please rerun this cell to show the HTML representation or trust the notebook. <br />On GitHub, the HTML representation is unable to render, please try loading this page with nbviewer.org.</b></div><div class=\"sk-container\" hidden><div class=\"sk-item\"><div class=\"sk-estimator sk-toggleable\"><input class=\"sk-toggleable__control sk-hidden--visually\" id=\"sk-estimator-id-1\" type=\"checkbox\" checked><label for=\"sk-estimator-id-1\" class=\"sk-toggleable__label sk-toggleable__label-arrow\">StandardScaler</label><div class=\"sk-toggleable__content\"><pre>StandardScaler()</pre></div></div></div></div></div>"
      ],
      "text/plain": [
       "StandardScaler()"
      ]
     },
     "execution_count": 5,
     "metadata": {},
     "output_type": "execute_result"
    }
   ],
   "source": [
    "from sklearn.preprocessing import StandardScaler\n",
    "\n",
    "scaler = StandardScaler()\n",
    "\n",
    "scaler.fit(df_mpg)"
   ]
  },
  {
   "cell_type": "code",
   "execution_count": 6,
   "metadata": {},
   "outputs": [
    {
     "data": {
      "text/plain": [
       "array([[-0.69863841,  1.48394702,  1.07728956, ..., -1.62531533,\n",
       "        -0.50239045,  0.77459667],\n",
       "       [-1.08349824,  1.48394702,  1.48873169, ..., -1.62531533,\n",
       "        -0.50239045,  0.77459667],\n",
       "       [-0.69863841,  1.48394702,  1.1825422 , ..., -1.62531533,\n",
       "        -0.50239045,  0.77459667],\n",
       "       ...,\n",
       "       [ 1.09737414, -0.86401356, -0.56847897, ...,  1.63640964,\n",
       "        -0.50239045,  0.77459667],\n",
       "       [ 0.5842277 , -0.86401356, -0.7120053 , ...,  1.63640964,\n",
       "        -0.50239045,  0.77459667],\n",
       "       [ 0.96908753, -0.86401356, -0.72157372, ...,  1.63640964,\n",
       "        -0.50239045,  0.77459667]])"
      ]
     },
     "execution_count": 6,
     "metadata": {},
     "output_type": "execute_result"
    }
   ],
   "source": [
    "X_scaled = scaler.transform(df_mpg)\n",
    "X_scaled"
   ]
  },
  {
   "cell_type": "code",
   "execution_count": 7,
   "metadata": {},
   "outputs": [
    {
     "data": {
      "text/html": [
       "<div>\n",
       "<style scoped>\n",
       "    .dataframe tbody tr th:only-of-type {\n",
       "        vertical-align: middle;\n",
       "    }\n",
       "\n",
       "    .dataframe tbody tr th {\n",
       "        vertical-align: top;\n",
       "    }\n",
       "\n",
       "    .dataframe thead th {\n",
       "        text-align: right;\n",
       "    }\n",
       "</style>\n",
       "<table border=\"1\" class=\"dataframe\">\n",
       "  <thead>\n",
       "    <tr style=\"text-align: right;\">\n",
       "      <th></th>\n",
       "      <th>mpg</th>\n",
       "      <th>cylinders</th>\n",
       "      <th>displacement</th>\n",
       "      <th>horsepower</th>\n",
       "      <th>weight</th>\n",
       "      <th>acceleration</th>\n",
       "      <th>model_year</th>\n",
       "      <th>origin_japan</th>\n",
       "      <th>origin_usa</th>\n",
       "    </tr>\n",
       "    <tr>\n",
       "      <th>name</th>\n",
       "      <th></th>\n",
       "      <th></th>\n",
       "      <th></th>\n",
       "      <th></th>\n",
       "      <th></th>\n",
       "      <th></th>\n",
       "      <th></th>\n",
       "      <th></th>\n",
       "      <th></th>\n",
       "    </tr>\n",
       "  </thead>\n",
       "  <tbody>\n",
       "    <tr>\n",
       "      <th>chevrolet chevelle malibu</th>\n",
       "      <td>-0.698638</td>\n",
       "      <td>1.483947</td>\n",
       "      <td>1.077290</td>\n",
       "      <td>0.664133</td>\n",
       "      <td>0.620540</td>\n",
       "      <td>-1.285258</td>\n",
       "      <td>-1.625315</td>\n",
       "      <td>-0.50239</td>\n",
       "      <td>0.774597</td>\n",
       "    </tr>\n",
       "    <tr>\n",
       "      <th>buick skylark 320</th>\n",
       "      <td>-1.083498</td>\n",
       "      <td>1.483947</td>\n",
       "      <td>1.488732</td>\n",
       "      <td>1.574594</td>\n",
       "      <td>0.843334</td>\n",
       "      <td>-1.466724</td>\n",
       "      <td>-1.625315</td>\n",
       "      <td>-0.50239</td>\n",
       "      <td>0.774597</td>\n",
       "    </tr>\n",
       "    <tr>\n",
       "      <th>plymouth satellite</th>\n",
       "      <td>-0.698638</td>\n",
       "      <td>1.483947</td>\n",
       "      <td>1.182542</td>\n",
       "      <td>1.184397</td>\n",
       "      <td>0.540382</td>\n",
       "      <td>-1.648189</td>\n",
       "      <td>-1.625315</td>\n",
       "      <td>-0.50239</td>\n",
       "      <td>0.774597</td>\n",
       "    </tr>\n",
       "    <tr>\n",
       "      <th>amc rebel sst</th>\n",
       "      <td>-0.955212</td>\n",
       "      <td>1.483947</td>\n",
       "      <td>1.048584</td>\n",
       "      <td>1.184397</td>\n",
       "      <td>0.536845</td>\n",
       "      <td>-1.285258</td>\n",
       "      <td>-1.625315</td>\n",
       "      <td>-0.50239</td>\n",
       "      <td>0.774597</td>\n",
       "    </tr>\n",
       "    <tr>\n",
       "      <th>ford torino</th>\n",
       "      <td>-0.826925</td>\n",
       "      <td>1.483947</td>\n",
       "      <td>1.029447</td>\n",
       "      <td>0.924265</td>\n",
       "      <td>0.555706</td>\n",
       "      <td>-1.829655</td>\n",
       "      <td>-1.625315</td>\n",
       "      <td>-0.50239</td>\n",
       "      <td>0.774597</td>\n",
       "    </tr>\n",
       "    <tr>\n",
       "      <th>...</th>\n",
       "      <td>...</td>\n",
       "      <td>...</td>\n",
       "      <td>...</td>\n",
       "      <td>...</td>\n",
       "      <td>...</td>\n",
       "      <td>...</td>\n",
       "      <td>...</td>\n",
       "      <td>...</td>\n",
       "      <td>...</td>\n",
       "    </tr>\n",
       "    <tr>\n",
       "      <th>ford mustang gl</th>\n",
       "      <td>0.455941</td>\n",
       "      <td>-0.864014</td>\n",
       "      <td>-0.520637</td>\n",
       "      <td>-0.480448</td>\n",
       "      <td>-0.221125</td>\n",
       "      <td>0.021294</td>\n",
       "      <td>1.636410</td>\n",
       "      <td>-0.50239</td>\n",
       "      <td>0.774597</td>\n",
       "    </tr>\n",
       "    <tr>\n",
       "      <th>vw pickup</th>\n",
       "      <td>2.636813</td>\n",
       "      <td>-0.864014</td>\n",
       "      <td>-0.932079</td>\n",
       "      <td>-1.364896</td>\n",
       "      <td>-0.999134</td>\n",
       "      <td>3.287676</td>\n",
       "      <td>1.636410</td>\n",
       "      <td>-0.50239</td>\n",
       "      <td>-1.290994</td>\n",
       "    </tr>\n",
       "    <tr>\n",
       "      <th>dodge rampage</th>\n",
       "      <td>1.097374</td>\n",
       "      <td>-0.864014</td>\n",
       "      <td>-0.568479</td>\n",
       "      <td>-0.532474</td>\n",
       "      <td>-0.804632</td>\n",
       "      <td>-1.430430</td>\n",
       "      <td>1.636410</td>\n",
       "      <td>-0.50239</td>\n",
       "      <td>0.774597</td>\n",
       "    </tr>\n",
       "    <tr>\n",
       "      <th>ford ranger</th>\n",
       "      <td>0.584228</td>\n",
       "      <td>-0.864014</td>\n",
       "      <td>-0.712005</td>\n",
       "      <td>-0.662540</td>\n",
       "      <td>-0.415627</td>\n",
       "      <td>1.110088</td>\n",
       "      <td>1.636410</td>\n",
       "      <td>-0.50239</td>\n",
       "      <td>0.774597</td>\n",
       "    </tr>\n",
       "    <tr>\n",
       "      <th>chevy s-10</th>\n",
       "      <td>0.969088</td>\n",
       "      <td>-0.864014</td>\n",
       "      <td>-0.721574</td>\n",
       "      <td>-0.584501</td>\n",
       "      <td>-0.303641</td>\n",
       "      <td>1.400433</td>\n",
       "      <td>1.636410</td>\n",
       "      <td>-0.50239</td>\n",
       "      <td>0.774597</td>\n",
       "    </tr>\n",
       "  </tbody>\n",
       "</table>\n",
       "<p>392 rows × 9 columns</p>\n",
       "</div>"
      ],
      "text/plain": [
       "                                mpg  cylinders  displacement  horsepower  \\\n",
       "name                                                                       \n",
       "chevrolet chevelle malibu -0.698638   1.483947      1.077290    0.664133   \n",
       "buick skylark 320         -1.083498   1.483947      1.488732    1.574594   \n",
       "plymouth satellite        -0.698638   1.483947      1.182542    1.184397   \n",
       "amc rebel sst             -0.955212   1.483947      1.048584    1.184397   \n",
       "ford torino               -0.826925   1.483947      1.029447    0.924265   \n",
       "...                             ...        ...           ...         ...   \n",
       "ford mustang gl            0.455941  -0.864014     -0.520637   -0.480448   \n",
       "vw pickup                  2.636813  -0.864014     -0.932079   -1.364896   \n",
       "dodge rampage              1.097374  -0.864014     -0.568479   -0.532474   \n",
       "ford ranger                0.584228  -0.864014     -0.712005   -0.662540   \n",
       "chevy s-10                 0.969088  -0.864014     -0.721574   -0.584501   \n",
       "\n",
       "                             weight  acceleration  model_year  origin_japan  \\\n",
       "name                                                                          \n",
       "chevrolet chevelle malibu  0.620540     -1.285258   -1.625315      -0.50239   \n",
       "buick skylark 320          0.843334     -1.466724   -1.625315      -0.50239   \n",
       "plymouth satellite         0.540382     -1.648189   -1.625315      -0.50239   \n",
       "amc rebel sst              0.536845     -1.285258   -1.625315      -0.50239   \n",
       "ford torino                0.555706     -1.829655   -1.625315      -0.50239   \n",
       "...                             ...           ...         ...           ...   \n",
       "ford mustang gl           -0.221125      0.021294    1.636410      -0.50239   \n",
       "vw pickup                 -0.999134      3.287676    1.636410      -0.50239   \n",
       "dodge rampage             -0.804632     -1.430430    1.636410      -0.50239   \n",
       "ford ranger               -0.415627      1.110088    1.636410      -0.50239   \n",
       "chevy s-10                -0.303641      1.400433    1.636410      -0.50239   \n",
       "\n",
       "                           origin_usa  \n",
       "name                                   \n",
       "chevrolet chevelle malibu    0.774597  \n",
       "buick skylark 320            0.774597  \n",
       "plymouth satellite           0.774597  \n",
       "amc rebel sst                0.774597  \n",
       "ford torino                  0.774597  \n",
       "...                               ...  \n",
       "ford mustang gl              0.774597  \n",
       "vw pickup                   -1.290994  \n",
       "dodge rampage                0.774597  \n",
       "ford ranger                  0.774597  \n",
       "chevy s-10                   0.774597  \n",
       "\n",
       "[392 rows x 9 columns]"
      ]
     },
     "execution_count": 7,
     "metadata": {},
     "output_type": "execute_result"
    }
   ],
   "source": [
    "#if we don't convert into dataframe it gives error in future\n",
    "#we take the rows for indexing and columns as columns of data frame \n",
    "import pandas as pd\n",
    "\n",
    "df_scaled = pd.DataFrame(X_scaled, index=df_mpg.index, columns=df_mpg.columns)\n",
    "df_scaled\n"
   ]
  },
  {
   "cell_type": "markdown",
   "metadata": {},
   "source": [
    "## `KMeans()` Model in Python"
   ]
  },
  {
   "cell_type": "markdown",
   "metadata": {},
   "source": [
    "### Fit the Model"
   ]
  },
  {
   "cell_type": "code",
   "execution_count": 8,
   "metadata": {},
   "outputs": [
    {
     "data": {
      "text/html": [
       "<style>#sk-container-id-2 {color: black;background-color: white;}#sk-container-id-2 pre{padding: 0;}#sk-container-id-2 div.sk-toggleable {background-color: white;}#sk-container-id-2 label.sk-toggleable__label {cursor: pointer;display: block;width: 100%;margin-bottom: 0;padding: 0.3em;box-sizing: border-box;text-align: center;}#sk-container-id-2 label.sk-toggleable__label-arrow:before {content: \"▸\";float: left;margin-right: 0.25em;color: #696969;}#sk-container-id-2 label.sk-toggleable__label-arrow:hover:before {color: black;}#sk-container-id-2 div.sk-estimator:hover label.sk-toggleable__label-arrow:before {color: black;}#sk-container-id-2 div.sk-toggleable__content {max-height: 0;max-width: 0;overflow: hidden;text-align: left;background-color: #f0f8ff;}#sk-container-id-2 div.sk-toggleable__content pre {margin: 0.2em;color: black;border-radius: 0.25em;background-color: #f0f8ff;}#sk-container-id-2 input.sk-toggleable__control:checked~div.sk-toggleable__content {max-height: 200px;max-width: 100%;overflow: auto;}#sk-container-id-2 input.sk-toggleable__control:checked~label.sk-toggleable__label-arrow:before {content: \"▾\";}#sk-container-id-2 div.sk-estimator input.sk-toggleable__control:checked~label.sk-toggleable__label {background-color: #d4ebff;}#sk-container-id-2 div.sk-label input.sk-toggleable__control:checked~label.sk-toggleable__label {background-color: #d4ebff;}#sk-container-id-2 input.sk-hidden--visually {border: 0;clip: rect(1px 1px 1px 1px);clip: rect(1px, 1px, 1px, 1px);height: 1px;margin: -1px;overflow: hidden;padding: 0;position: absolute;width: 1px;}#sk-container-id-2 div.sk-estimator {font-family: monospace;background-color: #f0f8ff;border: 1px dotted black;border-radius: 0.25em;box-sizing: border-box;margin-bottom: 0.5em;}#sk-container-id-2 div.sk-estimator:hover {background-color: #d4ebff;}#sk-container-id-2 div.sk-parallel-item::after {content: \"\";width: 100%;border-bottom: 1px solid gray;flex-grow: 1;}#sk-container-id-2 div.sk-label:hover label.sk-toggleable__label {background-color: #d4ebff;}#sk-container-id-2 div.sk-serial::before {content: \"\";position: absolute;border-left: 1px solid gray;box-sizing: border-box;top: 0;bottom: 0;left: 50%;z-index: 0;}#sk-container-id-2 div.sk-serial {display: flex;flex-direction: column;align-items: center;background-color: white;padding-right: 0.2em;padding-left: 0.2em;position: relative;}#sk-container-id-2 div.sk-item {position: relative;z-index: 1;}#sk-container-id-2 div.sk-parallel {display: flex;align-items: stretch;justify-content: center;background-color: white;position: relative;}#sk-container-id-2 div.sk-item::before, #sk-container-id-2 div.sk-parallel-item::before {content: \"\";position: absolute;border-left: 1px solid gray;box-sizing: border-box;top: 0;bottom: 0;left: 50%;z-index: -1;}#sk-container-id-2 div.sk-parallel-item {display: flex;flex-direction: column;z-index: 1;position: relative;background-color: white;}#sk-container-id-2 div.sk-parallel-item:first-child::after {align-self: flex-end;width: 50%;}#sk-container-id-2 div.sk-parallel-item:last-child::after {align-self: flex-start;width: 50%;}#sk-container-id-2 div.sk-parallel-item:only-child::after {width: 0;}#sk-container-id-2 div.sk-dashed-wrapped {border: 1px dashed gray;margin: 0 0.4em 0.5em 0.4em;box-sizing: border-box;padding-bottom: 0.4em;background-color: white;}#sk-container-id-2 div.sk-label label {font-family: monospace;font-weight: bold;display: inline-block;line-height: 1.2em;}#sk-container-id-2 div.sk-label-container {text-align: center;}#sk-container-id-2 div.sk-container {/* jupyter's `normalize.less` sets `[hidden] { display: none; }` but bootstrap.min.css set `[hidden] { display: none !important; }` so we also need the `!important` here to be able to override the default hidden behavior on the sphinx rendered scikit-learn.org. See: https://github.com/scikit-learn/scikit-learn/issues/21755 */display: inline-block !important;position: relative;}#sk-container-id-2 div.sk-text-repr-fallback {display: none;}</style><div id=\"sk-container-id-2\" class=\"sk-top-container\"><div class=\"sk-text-repr-fallback\"><pre>KMeans(n_clusters=3)</pre><b>In a Jupyter environment, please rerun this cell to show the HTML representation or trust the notebook. <br />On GitHub, the HTML representation is unable to render, please try loading this page with nbviewer.org.</b></div><div class=\"sk-container\" hidden><div class=\"sk-item\"><div class=\"sk-estimator sk-toggleable\"><input class=\"sk-toggleable__control sk-hidden--visually\" id=\"sk-estimator-id-2\" type=\"checkbox\" checked><label for=\"sk-estimator-id-2\" class=\"sk-toggleable__label sk-toggleable__label-arrow\">KMeans</label><div class=\"sk-toggleable__content\"><pre>KMeans(n_clusters=3)</pre></div></div></div></div></div>"
      ],
      "text/plain": [
       "KMeans(n_clusters=3)"
      ]
     },
     "execution_count": 8,
     "metadata": {},
     "output_type": "execute_result"
    }
   ],
   "source": [
    "from sklearn.cluster import KMeans\n",
    "model_km = KMeans(n_clusters=3)\n",
    "model_km.fit(X=df_scaled)"
   ]
  },
  {
   "cell_type": "markdown",
   "metadata": {},
   "source": [
    "### Calculate Predictions"
   ]
  },
  {
   "cell_type": "code",
   "execution_count": 9,
   "metadata": {},
   "outputs": [
    {
     "data": {
      "text/plain": [
       "array([0, 0, 0, 0, 0, 0, 0, 0, 0, 0, 0, 0, 0, 0, 1, 2, 2, 2, 1, 1, 1, 1,\n",
       "       1, 1, 2, 0, 0, 0, 0, 1, 2, 1, 2, 2, 2, 2, 2, 0, 0, 0, 0, 0, 0, 0,\n",
       "       2, 2, 2, 2, 2, 1, 1, 1, 1, 1, 1, 2, 1, 2, 1, 2, 2, 0, 0, 0, 0, 0,\n",
       "       0, 0, 0, 0, 1, 0, 0, 0, 0, 1, 1, 1, 1, 2, 1, 1, 2, 1, 0, 0, 0, 0,\n",
       "       0, 0, 0, 0, 0, 0, 0, 0, 2, 2, 2, 2, 2, 1, 0, 0, 0, 0, 2, 1, 2, 1,\n",
       "       1, 2, 2, 1, 0, 0, 1, 1, 1, 1, 0, 1, 1, 0, 2, 2, 2, 1, 2, 1, 2, 2,\n",
       "       2, 2, 0, 0, 0, 0, 0, 1, 1, 1, 1, 1, 2, 1, 1, 1, 1, 1, 2, 2, 2, 2,\n",
       "       0, 0, 0, 0, 2, 2, 2, 2, 2, 0, 0, 1, 2, 2, 2, 1, 1, 1, 2, 1, 2, 1,\n",
       "       1, 1, 1, 1, 1, 1, 2, 2, 1, 0, 0, 0, 0, 2, 2, 2, 2, 2, 2, 1, 1, 2,\n",
       "       2, 2, 2, 1, 1, 1, 2, 1, 0, 2, 1, 2, 0, 0, 0, 0, 1, 2, 1, 2, 1, 0,\n",
       "       2, 0, 0, 2, 2, 2, 2, 0, 0, 0, 0, 1, 2, 1, 2, 2, 2, 1, 1, 1, 1, 1,\n",
       "       1, 2, 1, 1, 1, 2, 0, 0, 2, 2, 2, 2, 2, 2, 2, 2, 2, 2, 0, 0, 0, 0,\n",
       "       2, 1, 1, 2, 1, 2, 2, 1, 2, 2, 1, 2, 1, 1, 2, 2, 2, 2, 2, 0, 0, 0,\n",
       "       0, 0, 0, 0, 0, 1, 1, 2, 2, 2, 0, 1, 2, 2, 2, 1, 1, 2, 2, 2, 2, 1,\n",
       "       1, 2, 1, 2, 2, 2, 2, 1, 1, 1, 1, 1, 1, 2, 1, 1, 1, 1, 1, 1, 1, 1,\n",
       "       1, 1, 1, 1, 2, 2, 2, 2, 2, 1, 2, 1, 1, 1, 1, 1, 2, 2, 2, 1, 1, 1,\n",
       "       1, 1, 1, 1, 1, 1, 2, 2, 2, 2, 2, 2, 2, 2, 2, 2, 2, 1, 1, 1, 2, 2,\n",
       "       1, 1, 1, 1, 1, 1, 2, 2, 2, 2, 1, 2, 2, 2, 1, 2, 2, 2])"
      ]
     },
     "execution_count": 9,
     "metadata": {},
     "output_type": "execute_result"
    }
   ],
   "source": [
    "model_km.predict(X=df_scaled)"
   ]
  },
  {
   "cell_type": "markdown",
   "metadata": {},
   "source": [
    "### Create a New DataFrame for the Predictions"
   ]
  },
  {
   "cell_type": "code",
   "execution_count": 10,
   "metadata": {},
   "outputs": [
    {
     "data": {
      "text/html": [
       "<div>\n",
       "<style scoped>\n",
       "    .dataframe tbody tr th:only-of-type {\n",
       "        vertical-align: middle;\n",
       "    }\n",
       "\n",
       "    .dataframe tbody tr th {\n",
       "        vertical-align: top;\n",
       "    }\n",
       "\n",
       "    .dataframe thead th {\n",
       "        text-align: right;\n",
       "    }\n",
       "</style>\n",
       "<table border=\"1\" class=\"dataframe\">\n",
       "  <thead>\n",
       "    <tr style=\"text-align: right;\">\n",
       "      <th></th>\n",
       "      <th>mpg</th>\n",
       "      <th>cylinders</th>\n",
       "      <th>displacement</th>\n",
       "      <th>horsepower</th>\n",
       "      <th>weight</th>\n",
       "      <th>acceleration</th>\n",
       "      <th>model_year</th>\n",
       "      <th>origin_japan</th>\n",
       "      <th>origin_usa</th>\n",
       "      <th>pred_km</th>\n",
       "    </tr>\n",
       "    <tr>\n",
       "      <th>name</th>\n",
       "      <th></th>\n",
       "      <th></th>\n",
       "      <th></th>\n",
       "      <th></th>\n",
       "      <th></th>\n",
       "      <th></th>\n",
       "      <th></th>\n",
       "      <th></th>\n",
       "      <th></th>\n",
       "      <th></th>\n",
       "    </tr>\n",
       "  </thead>\n",
       "  <tbody>\n",
       "    <tr>\n",
       "      <th>chevrolet chevelle malibu</th>\n",
       "      <td>-0.698638</td>\n",
       "      <td>1.483947</td>\n",
       "      <td>1.077290</td>\n",
       "      <td>0.664133</td>\n",
       "      <td>0.620540</td>\n",
       "      <td>-1.285258</td>\n",
       "      <td>-1.625315</td>\n",
       "      <td>-0.50239</td>\n",
       "      <td>0.774597</td>\n",
       "      <td>0</td>\n",
       "    </tr>\n",
       "    <tr>\n",
       "      <th>buick skylark 320</th>\n",
       "      <td>-1.083498</td>\n",
       "      <td>1.483947</td>\n",
       "      <td>1.488732</td>\n",
       "      <td>1.574594</td>\n",
       "      <td>0.843334</td>\n",
       "      <td>-1.466724</td>\n",
       "      <td>-1.625315</td>\n",
       "      <td>-0.50239</td>\n",
       "      <td>0.774597</td>\n",
       "      <td>0</td>\n",
       "    </tr>\n",
       "    <tr>\n",
       "      <th>plymouth satellite</th>\n",
       "      <td>-0.698638</td>\n",
       "      <td>1.483947</td>\n",
       "      <td>1.182542</td>\n",
       "      <td>1.184397</td>\n",
       "      <td>0.540382</td>\n",
       "      <td>-1.648189</td>\n",
       "      <td>-1.625315</td>\n",
       "      <td>-0.50239</td>\n",
       "      <td>0.774597</td>\n",
       "      <td>0</td>\n",
       "    </tr>\n",
       "    <tr>\n",
       "      <th>amc rebel sst</th>\n",
       "      <td>-0.955212</td>\n",
       "      <td>1.483947</td>\n",
       "      <td>1.048584</td>\n",
       "      <td>1.184397</td>\n",
       "      <td>0.536845</td>\n",
       "      <td>-1.285258</td>\n",
       "      <td>-1.625315</td>\n",
       "      <td>-0.50239</td>\n",
       "      <td>0.774597</td>\n",
       "      <td>0</td>\n",
       "    </tr>\n",
       "    <tr>\n",
       "      <th>ford torino</th>\n",
       "      <td>-0.826925</td>\n",
       "      <td>1.483947</td>\n",
       "      <td>1.029447</td>\n",
       "      <td>0.924265</td>\n",
       "      <td>0.555706</td>\n",
       "      <td>-1.829655</td>\n",
       "      <td>-1.625315</td>\n",
       "      <td>-0.50239</td>\n",
       "      <td>0.774597</td>\n",
       "      <td>0</td>\n",
       "    </tr>\n",
       "    <tr>\n",
       "      <th>...</th>\n",
       "      <td>...</td>\n",
       "      <td>...</td>\n",
       "      <td>...</td>\n",
       "      <td>...</td>\n",
       "      <td>...</td>\n",
       "      <td>...</td>\n",
       "      <td>...</td>\n",
       "      <td>...</td>\n",
       "      <td>...</td>\n",
       "      <td>...</td>\n",
       "    </tr>\n",
       "    <tr>\n",
       "      <th>ford mustang gl</th>\n",
       "      <td>0.455941</td>\n",
       "      <td>-0.864014</td>\n",
       "      <td>-0.520637</td>\n",
       "      <td>-0.480448</td>\n",
       "      <td>-0.221125</td>\n",
       "      <td>0.021294</td>\n",
       "      <td>1.636410</td>\n",
       "      <td>-0.50239</td>\n",
       "      <td>0.774597</td>\n",
       "      <td>2</td>\n",
       "    </tr>\n",
       "    <tr>\n",
       "      <th>vw pickup</th>\n",
       "      <td>2.636813</td>\n",
       "      <td>-0.864014</td>\n",
       "      <td>-0.932079</td>\n",
       "      <td>-1.364896</td>\n",
       "      <td>-0.999134</td>\n",
       "      <td>3.287676</td>\n",
       "      <td>1.636410</td>\n",
       "      <td>-0.50239</td>\n",
       "      <td>-1.290994</td>\n",
       "      <td>1</td>\n",
       "    </tr>\n",
       "    <tr>\n",
       "      <th>dodge rampage</th>\n",
       "      <td>1.097374</td>\n",
       "      <td>-0.864014</td>\n",
       "      <td>-0.568479</td>\n",
       "      <td>-0.532474</td>\n",
       "      <td>-0.804632</td>\n",
       "      <td>-1.430430</td>\n",
       "      <td>1.636410</td>\n",
       "      <td>-0.50239</td>\n",
       "      <td>0.774597</td>\n",
       "      <td>2</td>\n",
       "    </tr>\n",
       "    <tr>\n",
       "      <th>ford ranger</th>\n",
       "      <td>0.584228</td>\n",
       "      <td>-0.864014</td>\n",
       "      <td>-0.712005</td>\n",
       "      <td>-0.662540</td>\n",
       "      <td>-0.415627</td>\n",
       "      <td>1.110088</td>\n",
       "      <td>1.636410</td>\n",
       "      <td>-0.50239</td>\n",
       "      <td>0.774597</td>\n",
       "      <td>2</td>\n",
       "    </tr>\n",
       "    <tr>\n",
       "      <th>chevy s-10</th>\n",
       "      <td>0.969088</td>\n",
       "      <td>-0.864014</td>\n",
       "      <td>-0.721574</td>\n",
       "      <td>-0.584501</td>\n",
       "      <td>-0.303641</td>\n",
       "      <td>1.400433</td>\n",
       "      <td>1.636410</td>\n",
       "      <td>-0.50239</td>\n",
       "      <td>0.774597</td>\n",
       "      <td>2</td>\n",
       "    </tr>\n",
       "  </tbody>\n",
       "</table>\n",
       "<p>392 rows × 10 columns</p>\n",
       "</div>"
      ],
      "text/plain": [
       "                                mpg  cylinders  displacement  horsepower  \\\n",
       "name                                                                       \n",
       "chevrolet chevelle malibu -0.698638   1.483947      1.077290    0.664133   \n",
       "buick skylark 320         -1.083498   1.483947      1.488732    1.574594   \n",
       "plymouth satellite        -0.698638   1.483947      1.182542    1.184397   \n",
       "amc rebel sst             -0.955212   1.483947      1.048584    1.184397   \n",
       "ford torino               -0.826925   1.483947      1.029447    0.924265   \n",
       "...                             ...        ...           ...         ...   \n",
       "ford mustang gl            0.455941  -0.864014     -0.520637   -0.480448   \n",
       "vw pickup                  2.636813  -0.864014     -0.932079   -1.364896   \n",
       "dodge rampage              1.097374  -0.864014     -0.568479   -0.532474   \n",
       "ford ranger                0.584228  -0.864014     -0.712005   -0.662540   \n",
       "chevy s-10                 0.969088  -0.864014     -0.721574   -0.584501   \n",
       "\n",
       "                             weight  acceleration  model_year  origin_japan  \\\n",
       "name                                                                          \n",
       "chevrolet chevelle malibu  0.620540     -1.285258   -1.625315      -0.50239   \n",
       "buick skylark 320          0.843334     -1.466724   -1.625315      -0.50239   \n",
       "plymouth satellite         0.540382     -1.648189   -1.625315      -0.50239   \n",
       "amc rebel sst              0.536845     -1.285258   -1.625315      -0.50239   \n",
       "ford torino                0.555706     -1.829655   -1.625315      -0.50239   \n",
       "...                             ...           ...         ...           ...   \n",
       "ford mustang gl           -0.221125      0.021294    1.636410      -0.50239   \n",
       "vw pickup                 -0.999134      3.287676    1.636410      -0.50239   \n",
       "dodge rampage             -0.804632     -1.430430    1.636410      -0.50239   \n",
       "ford ranger               -0.415627      1.110088    1.636410      -0.50239   \n",
       "chevy s-10                -0.303641      1.400433    1.636410      -0.50239   \n",
       "\n",
       "                           origin_usa  pred_km  \n",
       "name                                            \n",
       "chevrolet chevelle malibu    0.774597        0  \n",
       "buick skylark 320            0.774597        0  \n",
       "plymouth satellite           0.774597        0  \n",
       "amc rebel sst                0.774597        0  \n",
       "ford torino                  0.774597        0  \n",
       "...                               ...      ...  \n",
       "ford mustang gl              0.774597        2  \n",
       "vw pickup                   -1.290994        1  \n",
       "dodge rampage                0.774597        2  \n",
       "ford ranger                  0.774597        2  \n",
       "chevy s-10                   0.774597        2  \n",
       "\n",
       "[392 rows x 10 columns]"
      ]
     },
     "execution_count": 10,
     "metadata": {},
     "output_type": "execute_result"
    }
   ],
   "source": [
    "df_pred= df_scaled.copy()\n",
    "df_pred['pred_km'] = model_km.predict(X=df_scaled)\n",
    "df_pred"
   ]
  },
  {
   "cell_type": "markdown",
   "metadata": {},
   "source": [
    "### Visualize the Model"
   ]
  },
  {
   "cell_type": "code",
   "execution_count": 11,
   "metadata": {},
   "outputs": [
    {
     "data": {
      "image/png": "[encoded data removed]",
      "text/plain": [
       "<Figure size 432x288 with 1 Axes>"
      ]
     },
     "metadata": {
      "needs_background": "light"
     },
     "output_type": "display_data"
    }
   ],
   "source": [
    "sns.scatterplot(x='mpg', y='weight', hue='pred_km', data=df_pred, palette='Set1');\n"
   ]
  },
  {
   "cell_type": "markdown",
   "metadata": {},
   "source": [
    "### Model Interpretation"
   ]
  },
  {
   "cell_type": "markdown",
   "metadata": {},
   "source": [
    "- Does the visualization makes sense?\n",
    "- The points are mixed between the groups, why?\n",
    "- We are **just representing 2 variables**\n",
    "- And the model was **fitted with 7 variables**"
   ]
  },
  {
   "cell_type": "markdown",
   "metadata": {},
   "source": [
    "## Grouping Variables with `PCA()`"
   ]
  },
  {
   "cell_type": "code",
   "execution_count": 12,
   "metadata": {},
   "outputs": [
    {
     "data": {
      "text/html": [
       "\n",
       "<iframe width=\"560\" height=\"315\" src=\"https://www.youtube.com/embed/HMOI_lkzW08\" title=\"YouTube video player\" frameborder=\"0\" allow=\"accelerometer; autoplay; clipboard-write; encrypted-media; gyroscope; picture-in-picture\" allowfullscreen></iframe>\n"
      ],
      "text/plain": [
       "<IPython.core.display.HTML object>"
      ]
     },
     "metadata": {},
     "output_type": "display_data"
    }
   ],
   "source": [
    "%%HTML\n",
    "\n",
    "<iframe width=\"560\" height=\"315\" src=\"https://www.youtube.com/embed/HMOI_lkzW08\" title=\"YouTube video player\" frameborder=\"0\" allow=\"accelerometer; autoplay; clipboard-write; encrypted-media; gyroscope; picture-in-picture\" allowfullscreen></iframe>"
   ]
  },
  {
   "cell_type": "markdown",
   "metadata": {},
   "source": [
    "### Transform Data to Components"
   ]
  },
  {
   "cell_type": "markdown",
   "metadata": {},
   "source": [
    "- `PCA()` is another technique used to transform data.\n",
    "\n",
    "How has the data been manipulated so far?\n",
    "\n",
    "1. Original Data `df`\n",
    "2. Normalized Data `dfnorm`\n",
    "3. Principal Components Data `dfpca` (now)"
   ]
  },
  {
   "cell_type": "code",
   "execution_count": 13,
   "metadata": {},
   "outputs": [
    {
     "data": {
      "text/html": [
       "<style>#sk-container-id-3 {color: black;background-color: white;}#sk-container-id-3 pre{padding: 0;}#sk-container-id-3 div.sk-toggleable {background-color: white;}#sk-container-id-3 label.sk-toggleable__label {cursor: pointer;display: block;width: 100%;margin-bottom: 0;padding: 0.3em;box-sizing: border-box;text-align: center;}#sk-container-id-3 label.sk-toggleable__label-arrow:before {content: \"▸\";float: left;margin-right: 0.25em;color: #696969;}#sk-container-id-3 label.sk-toggleable__label-arrow:hover:before {color: black;}#sk-container-id-3 div.sk-estimator:hover label.sk-toggleable__label-arrow:before {color: black;}#sk-container-id-3 div.sk-toggleable__content {max-height: 0;max-width: 0;overflow: hidden;text-align: left;background-color: #f0f8ff;}#sk-container-id-3 div.sk-toggleable__content pre {margin: 0.2em;color: black;border-radius: 0.25em;background-color: #f0f8ff;}#sk-container-id-3 input.sk-toggleable__control:checked~div.sk-toggleable__content {max-height: 200px;max-width: 100%;overflow: auto;}#sk-container-id-3 input.sk-toggleable__control:checked~label.sk-toggleable__label-arrow:before {content: \"▾\";}#sk-container-id-3 div.sk-estimator input.sk-toggleable__control:checked~label.sk-toggleable__label {background-color: #d4ebff;}#sk-container-id-3 div.sk-label input.sk-toggleable__control:checked~label.sk-toggleable__label {background-color: #d4ebff;}#sk-container-id-3 input.sk-hidden--visually {border: 0;clip: rect(1px 1px 1px 1px);clip: rect(1px, 1px, 1px, 1px);height: 1px;margin: -1px;overflow: hidden;padding: 0;position: absolute;width: 1px;}#sk-container-id-3 div.sk-estimator {font-family: monospace;background-color: #f0f8ff;border: 1px dotted black;border-radius: 0.25em;box-sizing: border-box;margin-bottom: 0.5em;}#sk-container-id-3 div.sk-estimator:hover {background-color: #d4ebff;}#sk-container-id-3 div.sk-parallel-item::after {content: \"\";width: 100%;border-bottom: 1px solid gray;flex-grow: 1;}#sk-container-id-3 div.sk-label:hover label.sk-toggleable__label {background-color: #d4ebff;}#sk-container-id-3 div.sk-serial::before {content: \"\";position: absolute;border-left: 1px solid gray;box-sizing: border-box;top: 0;bottom: 0;left: 50%;z-index: 0;}#sk-container-id-3 div.sk-serial {display: flex;flex-direction: column;align-items: center;background-color: white;padding-right: 0.2em;padding-left: 0.2em;position: relative;}#sk-container-id-3 div.sk-item {position: relative;z-index: 1;}#sk-container-id-3 div.sk-parallel {display: flex;align-items: stretch;justify-content: center;background-color: white;position: relative;}#sk-container-id-3 div.sk-item::before, #sk-container-id-3 div.sk-parallel-item::before {content: \"\";position: absolute;border-left: 1px solid gray;box-sizing: border-box;top: 0;bottom: 0;left: 50%;z-index: -1;}#sk-container-id-3 div.sk-parallel-item {display: flex;flex-direction: column;z-index: 1;position: relative;background-color: white;}#sk-container-id-3 div.sk-parallel-item:first-child::after {align-self: flex-end;width: 50%;}#sk-container-id-3 div.sk-parallel-item:last-child::after {align-self: flex-start;width: 50%;}#sk-container-id-3 div.sk-parallel-item:only-child::after {width: 0;}#sk-container-id-3 div.sk-dashed-wrapped {border: 1px dashed gray;margin: 0 0.4em 0.5em 0.4em;box-sizing: border-box;padding-bottom: 0.4em;background-color: white;}#sk-container-id-3 div.sk-label label {font-family: monospace;font-weight: bold;display: inline-block;line-height: 1.2em;}#sk-container-id-3 div.sk-label-container {text-align: center;}#sk-container-id-3 div.sk-container {/* jupyter's `normalize.less` sets `[hidden] { display: none; }` but bootstrap.min.css set `[hidden] { display: none !important; }` so we also need the `!important` here to be able to override the default hidden behavior on the sphinx rendered scikit-learn.org. See: https://github.com/scikit-learn/scikit-learn/issues/21755 */display: inline-block !important;position: relative;}#sk-container-id-3 div.sk-text-repr-fallback {display: none;}</style><div id=\"sk-container-id-3\" class=\"sk-top-container\"><div class=\"sk-text-repr-fallback\"><pre>PCA()</pre><b>In a Jupyter environment, please rerun this cell to show the HTML representation or trust the notebook. <br />On GitHub, the HTML representation is unable to render, please try loading this page with nbviewer.org.</b></div><div class=\"sk-container\" hidden><div class=\"sk-item\"><div class=\"sk-estimator sk-toggleable\"><input class=\"sk-toggleable__control sk-hidden--visually\" id=\"sk-estimator-id-3\" type=\"checkbox\" checked><label for=\"sk-estimator-id-3\" class=\"sk-toggleable__label sk-toggleable__label-arrow\">PCA</label><div class=\"sk-toggleable__content\"><pre>PCA()</pre></div></div></div></div></div>"
      ],
      "text/plain": [
       "PCA()"
      ]
     },
     "execution_count": 13,
     "metadata": {},
     "output_type": "execute_result"
    }
   ],
   "source": [
    "from sklearn.decomposition import PCA \n",
    "\n",
    "pca = PCA()\n",
    "pca.fit(df_scaled)"
   ]
  },
  {
   "cell_type": "code",
   "execution_count": 14,
   "metadata": {},
   "outputs": [
    {
     "data": {
      "text/plain": [
       "array([[ 2.76810154,  0.65366867,  0.66164275, ..., -0.46885976,\n",
       "        -0.09552021, -0.12058569],\n",
       "       [ 3.56179561,  0.96184244,  0.47465886, ...,  0.00937015,\n",
       "         0.21329283,  0.07362043],\n",
       "       [ 3.07048871,  0.94221704,  0.47373469, ..., -0.21427127,\n",
       "         0.14318812, -0.08388762],\n",
       "       ...,\n",
       "       [-1.12680828, -0.78921394, -1.52286893, ..., -0.03081294,\n",
       "        -0.22178676,  0.04567046],\n",
       "       [-1.52571881, -1.95124015, -0.69244294, ...,  0.31843331,\n",
       "         0.11418265, -0.02962877],\n",
       "       [-1.67259558, -2.08553214, -0.73648186, ...,  0.59100743,\n",
       "         0.0666075 , -0.12369223]])"
      ]
     },
     "execution_count": 14,
     "metadata": {},
     "output_type": "execute_result"
    }
   ],
   "source": [
    "data_pca = pca.transform(df_scaled)\n",
    "data_pca"
   ]
  },
  {
   "cell_type": "code",
   "execution_count": 15,
   "metadata": {},
   "outputs": [
    {
     "data": {
      "text/html": [
       "<div>\n",
       "<style scoped>\n",
       "    .dataframe tbody tr th:only-of-type {\n",
       "        vertical-align: middle;\n",
       "    }\n",
       "\n",
       "    .dataframe tbody tr th {\n",
       "        vertical-align: top;\n",
       "    }\n",
       "\n",
       "    .dataframe thead th {\n",
       "        text-align: right;\n",
       "    }\n",
       "</style>\n",
       "<table border=\"1\" class=\"dataframe\">\n",
       "  <thead>\n",
       "    <tr style=\"text-align: right;\">\n",
       "      <th></th>\n",
       "      <th>0</th>\n",
       "      <th>1</th>\n",
       "      <th>2</th>\n",
       "      <th>3</th>\n",
       "      <th>4</th>\n",
       "      <th>5</th>\n",
       "      <th>6</th>\n",
       "      <th>7</th>\n",
       "      <th>8</th>\n",
       "    </tr>\n",
       "  </thead>\n",
       "  <tbody>\n",
       "    <tr>\n",
       "      <th>0</th>\n",
       "      <td>2.768102</td>\n",
       "      <td>0.653669</td>\n",
       "      <td>0.661643</td>\n",
       "      <td>-0.585333</td>\n",
       "      <td>-0.382837</td>\n",
       "      <td>0.750140</td>\n",
       "      <td>-0.468860</td>\n",
       "      <td>-0.095520</td>\n",
       "      <td>-0.120586</td>\n",
       "    </tr>\n",
       "    <tr>\n",
       "      <th>1</th>\n",
       "      <td>3.561796</td>\n",
       "      <td>0.961842</td>\n",
       "      <td>0.474659</td>\n",
       "      <td>-0.511149</td>\n",
       "      <td>-0.199102</td>\n",
       "      <td>0.489416</td>\n",
       "      <td>0.009370</td>\n",
       "      <td>0.213293</td>\n",
       "      <td>0.073620</td>\n",
       "    </tr>\n",
       "    <tr>\n",
       "      <th>2</th>\n",
       "      <td>3.070489</td>\n",
       "      <td>0.942217</td>\n",
       "      <td>0.473735</td>\n",
       "      <td>-0.870489</td>\n",
       "      <td>-0.313946</td>\n",
       "      <td>0.723960</td>\n",
       "      <td>-0.214271</td>\n",
       "      <td>0.143188</td>\n",
       "      <td>-0.083888</td>\n",
       "    </tr>\n",
       "    <tr>\n",
       "      <th>3</th>\n",
       "      <td>3.020337</td>\n",
       "      <td>0.789743</td>\n",
       "      <td>0.661786</td>\n",
       "      <td>-0.571355</td>\n",
       "      <td>-0.319349</td>\n",
       "      <td>0.528048</td>\n",
       "      <td>-0.229069</td>\n",
       "      <td>0.292331</td>\n",
       "      <td>-0.147325</td>\n",
       "    </tr>\n",
       "    <tr>\n",
       "      <th>4</th>\n",
       "      <td>3.007717</td>\n",
       "      <td>0.965885</td>\n",
       "      <td>0.517871</td>\n",
       "      <td>-0.996022</td>\n",
       "      <td>-0.358667</td>\n",
       "      <td>0.575475</td>\n",
       "      <td>-0.469787</td>\n",
       "      <td>-0.001799</td>\n",
       "      <td>-0.174247</td>\n",
       "    </tr>\n",
       "    <tr>\n",
       "      <th>...</th>\n",
       "      <td>...</td>\n",
       "      <td>...</td>\n",
       "      <td>...</td>\n",
       "      <td>...</td>\n",
       "      <td>...</td>\n",
       "      <td>...</td>\n",
       "      <td>...</td>\n",
       "      <td>...</td>\n",
       "      <td>...</td>\n",
       "    </tr>\n",
       "    <tr>\n",
       "      <th>387</th>\n",
       "      <td>-0.982108</td>\n",
       "      <td>-1.420514</td>\n",
       "      <td>-1.047497</td>\n",
       "      <td>-0.683221</td>\n",
       "      <td>-0.120900</td>\n",
       "      <td>-0.637493</td>\n",
       "      <td>0.201264</td>\n",
       "      <td>-0.166382</td>\n",
       "      <td>0.015283</td>\n",
       "    </tr>\n",
       "    <tr>\n",
       "      <th>388</th>\n",
       "      <td>-4.036985</td>\n",
       "      <td>-2.127140</td>\n",
       "      <td>-0.261675</td>\n",
       "      <td>1.418216</td>\n",
       "      <td>1.221944</td>\n",
       "      <td>1.416191</td>\n",
       "      <td>0.579246</td>\n",
       "      <td>0.291104</td>\n",
       "      <td>0.119184</td>\n",
       "    </tr>\n",
       "    <tr>\n",
       "      <th>389</th>\n",
       "      <td>-1.126808</td>\n",
       "      <td>-0.789214</td>\n",
       "      <td>-1.522869</td>\n",
       "      <td>-2.097001</td>\n",
       "      <td>-0.237654</td>\n",
       "      <td>-0.251873</td>\n",
       "      <td>-0.030813</td>\n",
       "      <td>-0.221787</td>\n",
       "      <td>0.045670</td>\n",
       "    </tr>\n",
       "    <tr>\n",
       "      <th>390</th>\n",
       "      <td>-1.525719</td>\n",
       "      <td>-1.951240</td>\n",
       "      <td>-0.692443</td>\n",
       "      <td>0.005939</td>\n",
       "      <td>-0.179771</td>\n",
       "      <td>-0.454670</td>\n",
       "      <td>0.318433</td>\n",
       "      <td>0.114183</td>\n",
       "      <td>-0.029629</td>\n",
       "    </tr>\n",
       "    <tr>\n",
       "      <th>391</th>\n",
       "      <td>-1.672596</td>\n",
       "      <td>-2.085532</td>\n",
       "      <td>-0.736482</td>\n",
       "      <td>0.181318</td>\n",
       "      <td>-0.129705</td>\n",
       "      <td>-0.153139</td>\n",
       "      <td>0.591007</td>\n",
       "      <td>0.066608</td>\n",
       "      <td>-0.123692</td>\n",
       "    </tr>\n",
       "  </tbody>\n",
       "</table>\n",
       "<p>392 rows × 9 columns</p>\n",
       "</div>"
      ],
      "text/plain": [
       "            0         1         2         3         4         5         6  \\\n",
       "0    2.768102  0.653669  0.661643 -0.585333 -0.382837  0.750140 -0.468860   \n",
       "1    3.561796  0.961842  0.474659 -0.511149 -0.199102  0.489416  0.009370   \n",
       "2    3.070489  0.942217  0.473735 -0.870489 -0.313946  0.723960 -0.214271   \n",
       "3    3.020337  0.789743  0.661786 -0.571355 -0.319349  0.528048 -0.229069   \n",
       "4    3.007717  0.965885  0.517871 -0.996022 -0.358667  0.575475 -0.469787   \n",
       "..        ...       ...       ...       ...       ...       ...       ...   \n",
       "387 -0.982108 -1.420514 -1.047497 -0.683221 -0.120900 -0.637493  0.201264   \n",
       "388 -4.036985 -2.127140 -0.261675  1.418216  1.221944  1.416191  0.579246   \n",
       "389 -1.126808 -0.789214 -1.522869 -2.097001 -0.237654 -0.251873 -0.030813   \n",
       "390 -1.525719 -1.951240 -0.692443  0.005939 -0.179771 -0.454670  0.318433   \n",
       "391 -1.672596 -2.085532 -0.736482  0.181318 -0.129705 -0.153139  0.591007   \n",
       "\n",
       "            7         8  \n",
       "0   -0.095520 -0.120586  \n",
       "1    0.213293  0.073620  \n",
       "2    0.143188 -0.083888  \n",
       "3    0.292331 -0.147325  \n",
       "4   -0.001799 -0.174247  \n",
       "..        ...       ...  \n",
       "387 -0.166382  0.015283  \n",
       "388  0.291104  0.119184  \n",
       "389 -0.221787  0.045670  \n",
       "390  0.114183 -0.029629  \n",
       "391  0.066608 -0.123692  \n",
       "\n",
       "[392 rows x 9 columns]"
      ]
     },
     "execution_count": 15,
     "metadata": {},
     "output_type": "execute_result"
    }
   ],
   "source": [
    "df_pca = pd.DataFrame(data_pca)\n",
    "df_pca\n"
   ]
  },
  {
   "cell_type": "code",
   "execution_count": 16,
   "metadata": {},
   "outputs": [
    {
     "data": {
      "text/plain": [
       "['PC1', 'PC2', 'PC3', 'PC4', 'PC5', 'PC6', 'PC7', 'PC8', 'PC9']"
      ]
     },
     "execution_count": 16,
     "metadata": {},
     "output_type": "execute_result"
    }
   ],
   "source": [
    "cols_pca = [f'PC{i}' for i in range(1, pca.n_components_+1)]\n",
    "cols_pca\n"
   ]
  },
  {
   "cell_type": "code",
   "execution_count": 17,
   "metadata": {},
   "outputs": [
    {
     "data": {
      "text/html": [
       "<div>\n",
       "<style scoped>\n",
       "    .dataframe tbody tr th:only-of-type {\n",
       "        vertical-align: middle;\n",
       "    }\n",
       "\n",
       "    .dataframe tbody tr th {\n",
       "        vertical-align: top;\n",
       "    }\n",
       "\n",
       "    .dataframe thead th {\n",
       "        text-align: right;\n",
       "    }\n",
       "</style>\n",
       "<table border=\"1\" class=\"dataframe\">\n",
       "  <thead>\n",
       "    <tr style=\"text-align: right;\">\n",
       "      <th></th>\n",
       "      <th>PC1</th>\n",
       "      <th>PC2</th>\n",
       "      <th>PC3</th>\n",
       "      <th>PC4</th>\n",
       "      <th>PC5</th>\n",
       "      <th>PC6</th>\n",
       "      <th>PC7</th>\n",
       "      <th>PC8</th>\n",
       "      <th>PC9</th>\n",
       "    </tr>\n",
       "    <tr>\n",
       "      <th>name</th>\n",
       "      <th></th>\n",
       "      <th></th>\n",
       "      <th></th>\n",
       "      <th></th>\n",
       "      <th></th>\n",
       "      <th></th>\n",
       "      <th></th>\n",
       "      <th></th>\n",
       "      <th></th>\n",
       "    </tr>\n",
       "  </thead>\n",
       "  <tbody>\n",
       "    <tr>\n",
       "      <th>chevrolet chevelle malibu</th>\n",
       "      <td>2.768102</td>\n",
       "      <td>0.653669</td>\n",
       "      <td>0.661643</td>\n",
       "      <td>-0.585333</td>\n",
       "      <td>-0.382837</td>\n",
       "      <td>0.750140</td>\n",
       "      <td>-0.468860</td>\n",
       "      <td>-0.095520</td>\n",
       "      <td>-0.120586</td>\n",
       "    </tr>\n",
       "    <tr>\n",
       "      <th>buick skylark 320</th>\n",
       "      <td>3.561796</td>\n",
       "      <td>0.961842</td>\n",
       "      <td>0.474659</td>\n",
       "      <td>-0.511149</td>\n",
       "      <td>-0.199102</td>\n",
       "      <td>0.489416</td>\n",
       "      <td>0.009370</td>\n",
       "      <td>0.213293</td>\n",
       "      <td>0.073620</td>\n",
       "    </tr>\n",
       "    <tr>\n",
       "      <th>plymouth satellite</th>\n",
       "      <td>3.070489</td>\n",
       "      <td>0.942217</td>\n",
       "      <td>0.473735</td>\n",
       "      <td>-0.870489</td>\n",
       "      <td>-0.313946</td>\n",
       "      <td>0.723960</td>\n",
       "      <td>-0.214271</td>\n",
       "      <td>0.143188</td>\n",
       "      <td>-0.083888</td>\n",
       "    </tr>\n",
       "    <tr>\n",
       "      <th>amc rebel sst</th>\n",
       "      <td>3.020337</td>\n",
       "      <td>0.789743</td>\n",
       "      <td>0.661786</td>\n",
       "      <td>-0.571355</td>\n",
       "      <td>-0.319349</td>\n",
       "      <td>0.528048</td>\n",
       "      <td>-0.229069</td>\n",
       "      <td>0.292331</td>\n",
       "      <td>-0.147325</td>\n",
       "    </tr>\n",
       "    <tr>\n",
       "      <th>ford torino</th>\n",
       "      <td>3.007717</td>\n",
       "      <td>0.965885</td>\n",
       "      <td>0.517871</td>\n",
       "      <td>-0.996022</td>\n",
       "      <td>-0.358667</td>\n",
       "      <td>0.575475</td>\n",
       "      <td>-0.469787</td>\n",
       "      <td>-0.001799</td>\n",
       "      <td>-0.174247</td>\n",
       "    </tr>\n",
       "    <tr>\n",
       "      <th>...</th>\n",
       "      <td>...</td>\n",
       "      <td>...</td>\n",
       "      <td>...</td>\n",
       "      <td>...</td>\n",
       "      <td>...</td>\n",
       "      <td>...</td>\n",
       "      <td>...</td>\n",
       "      <td>...</td>\n",
       "      <td>...</td>\n",
       "    </tr>\n",
       "    <tr>\n",
       "      <th>ford mustang gl</th>\n",
       "      <td>-0.982108</td>\n",
       "      <td>-1.420514</td>\n",
       "      <td>-1.047497</td>\n",
       "      <td>-0.683221</td>\n",
       "      <td>-0.120900</td>\n",
       "      <td>-0.637493</td>\n",
       "      <td>0.201264</td>\n",
       "      <td>-0.166382</td>\n",
       "      <td>0.015283</td>\n",
       "    </tr>\n",
       "    <tr>\n",
       "      <th>vw pickup</th>\n",
       "      <td>-4.036985</td>\n",
       "      <td>-2.127140</td>\n",
       "      <td>-0.261675</td>\n",
       "      <td>1.418216</td>\n",
       "      <td>1.221944</td>\n",
       "      <td>1.416191</td>\n",
       "      <td>0.579246</td>\n",
       "      <td>0.291104</td>\n",
       "      <td>0.119184</td>\n",
       "    </tr>\n",
       "    <tr>\n",
       "      <th>dodge rampage</th>\n",
       "      <td>-1.126808</td>\n",
       "      <td>-0.789214</td>\n",
       "      <td>-1.522869</td>\n",
       "      <td>-2.097001</td>\n",
       "      <td>-0.237654</td>\n",
       "      <td>-0.251873</td>\n",
       "      <td>-0.030813</td>\n",
       "      <td>-0.221787</td>\n",
       "      <td>0.045670</td>\n",
       "    </tr>\n",
       "    <tr>\n",
       "      <th>ford ranger</th>\n",
       "      <td>-1.525719</td>\n",
       "      <td>-1.951240</td>\n",
       "      <td>-0.692443</td>\n",
       "      <td>0.005939</td>\n",
       "      <td>-0.179771</td>\n",
       "      <td>-0.454670</td>\n",
       "      <td>0.318433</td>\n",
       "      <td>0.114183</td>\n",
       "      <td>-0.029629</td>\n",
       "    </tr>\n",
       "    <tr>\n",
       "      <th>chevy s-10</th>\n",
       "      <td>-1.672596</td>\n",
       "      <td>-2.085532</td>\n",
       "      <td>-0.736482</td>\n",
       "      <td>0.181318</td>\n",
       "      <td>-0.129705</td>\n",
       "      <td>-0.153139</td>\n",
       "      <td>0.591007</td>\n",
       "      <td>0.066608</td>\n",
       "      <td>-0.123692</td>\n",
       "    </tr>\n",
       "  </tbody>\n",
       "</table>\n",
       "<p>392 rows × 9 columns</p>\n",
       "</div>"
      ],
      "text/plain": [
       "                                PC1       PC2       PC3       PC4       PC5  \\\n",
       "name                                                                          \n",
       "chevrolet chevelle malibu  2.768102  0.653669  0.661643 -0.585333 -0.382837   \n",
       "buick skylark 320          3.561796  0.961842  0.474659 -0.511149 -0.199102   \n",
       "plymouth satellite         3.070489  0.942217  0.473735 -0.870489 -0.313946   \n",
       "amc rebel sst              3.020337  0.789743  0.661786 -0.571355 -0.319349   \n",
       "ford torino                3.007717  0.965885  0.517871 -0.996022 -0.358667   \n",
       "...                             ...       ...       ...       ...       ...   \n",
       "ford mustang gl           -0.982108 -1.420514 -1.047497 -0.683221 -0.120900   \n",
       "vw pickup                 -4.036985 -2.127140 -0.261675  1.418216  1.221944   \n",
       "dodge rampage             -1.126808 -0.789214 -1.522869 -2.097001 -0.237654   \n",
       "ford ranger               -1.525719 -1.951240 -0.692443  0.005939 -0.179771   \n",
       "chevy s-10                -1.672596 -2.085532 -0.736482  0.181318 -0.129705   \n",
       "\n",
       "                                PC6       PC7       PC8       PC9  \n",
       "name                                                               \n",
       "chevrolet chevelle malibu  0.750140 -0.468860 -0.095520 -0.120586  \n",
       "buick skylark 320          0.489416  0.009370  0.213293  0.073620  \n",
       "plymouth satellite         0.723960 -0.214271  0.143188 -0.083888  \n",
       "amc rebel sst              0.528048 -0.229069  0.292331 -0.147325  \n",
       "ford torino                0.575475 -0.469787 -0.001799 -0.174247  \n",
       "...                             ...       ...       ...       ...  \n",
       "ford mustang gl           -0.637493  0.201264 -0.166382  0.015283  \n",
       "vw pickup                  1.416191  0.579246  0.291104  0.119184  \n",
       "dodge rampage             -0.251873 -0.030813 -0.221787  0.045670  \n",
       "ford ranger               -0.454670  0.318433  0.114183 -0.029629  \n",
       "chevy s-10                -0.153139  0.591007  0.066608 -0.123692  \n",
       "\n",
       "[392 rows x 9 columns]"
      ]
     },
     "execution_count": 17,
     "metadata": {},
     "output_type": "execute_result"
    }
   ],
   "source": [
    "df_pca = pd.DataFrame(data_pca, columns=cols_pca, index=df.index)\n",
    "df_pca\n"
   ]
  },
  {
   "cell_type": "markdown",
   "metadata": {},
   "source": [
    "### Visualize Components & Clusters"
   ]
  },
  {
   "cell_type": "markdown",
   "metadata": {},
   "source": [
    "- A **scatterplot** with `PC1` & `PC2`\n",
    "- Colour points by cluster\n",
    "- Are they **mixed** now?"
   ]
  },
  {
   "cell_type": "code",
   "execution_count": 18,
   "metadata": {},
   "outputs": [
    {
     "data": {
      "application/vnd.plotly.v1+json": {
       "config": {
        "plotlyServerURL": "https://plot.ly"
       },
       "data": [
        {
         "hovertemplate": "PC1=%{x}<br>PC2=%{y}<br>color=%{marker.color}<extra></extra>",
         "legendgroup": "",
         "marker": {
          "color": [
           0,
           0,
           0,
           0,
           0,
           0,
           0,
           0,
           0,
           0,
           0,
           0,
           0,
           0,
           1,
           2,
           2,
           2,
           1,
           1,
           1,
           1,
           1,
           1,
           2,
           0,
           0,
           0,
           0,
           1,
           2,
           1,
           2,
           2,
           2,
           2,
           2,
           0,
           0,
           0,
           0,
           0,
           0,
           0,
           2,
           2,
           2,
           2,
           2,
           1,
           1,
           1,
           1,
           1,
           1,
           2,
           1,
           2,
           1,
           2,
           2,
           0,
           0,
           0,
           0,
           0,
           0,
           0,
           0,
           0,
           1,
           0,
           0,
           0,
           0,
           1,
           1,
           1,
           1,
           2,
           1,
           1,
           2,
           1,
           0,
           0,
           0,
           0,
           0,
           0,
           0,
           0,
           0,
           0,
           0,
           0,
           2,
           2,
           2,
           2,
           2,
           1,
           0,
           0,
           0,
           0,
           2,
           1,
           2,
           1,
           1,
           2,
           2,
           1,
           0,
           0,
           1,
           1,
           1,
           1,
           0,
           1,
           1,
           0,
           2,
           2,
           2,
           1,
           2,
           1,
           2,
           2,
           2,
           2,
           0,
           0,
           0,
           0,
           0,
           1,
           1,
           1,
           1,
           1,
           2,
           1,
           1,
           1,
           1,
           1,
           2,
           2,
           2,
           2,
           0,
           0,
           0,
           0,
           2,
           2,
           2,
           2,
           2,
           0,
           0,
           1,
           2,
           2,
           2,
           1,
           1,
           1,
           2,
           1,
           2,
           1,
           1,
           1,
           1,
           1,
           1,
           1,
           2,
           2,
           1,
           0,
           0,
           0,
           0,
           2,
           2,
           2,
           2,
           2,
           2,
           1,
           1,
           2,
           2,
           2,
           2,
           1,
           1,
           1,
           2,
           1,
           0,
           2,
           1,
           2,
           0,
           0,
           0,
           0,
           1,
           2,
           1,
           2,
           1,
           0,
           2,
           0,
           0,
           2,
           2,
           2,
           2,
           0,
           0,
           0,
           0,
           1,
           2,
           1,
           2,
           2,
           2,
           1,
           1,
           1,
           1,
           1,
           1,
           2,
           1,
           1,
           1,
           2,
           0,
           0,
           2,
           2,
           2,
           2,
           2,
           2,
           2,
           2,
           2,
           2,
           0,
           0,
           0,
           0,
           2,
           1,
           1,
           2,
           1,
           2,
           2,
           1,
           2,
           2,
           1,
           2,
           1,
           1,
           2,
           2,
           2,
           2,
           2,
           0,
           0,
           0,
           0,
           0,
           0,
           0,
           0,
           1,
           1,
           2,
           2,
           2,
           0,
           1,
           2,
           2,
           2,
           1,
           1,
           2,
           2,
           2,
           2,
           1,
           1,
           2,
           1,
           2,
           2,
           2,
           2,
           1,
           1,
           1,
           1,
           1,
           1,
           2,
           1,
           1,
           1,
           1,
           1,
           1,
           1,
           1,
           1,
           1,
           1,
           1,
           2,
           2,
           2,
           2,
           2,
           1,
           2,
           1,
           1,
           1,
           1,
           1,
           2,
           2,
           2,
           1,
           1,
           1,
           1,
           1,
           1,
           1,
           1,
           1,
           2,
           2,
           2,
           2,
           2,
           2,
           2,
           2,
           2,
           2,
           2,
           1,
           1,
           1,
           2,
           2,
           1,
           1,
           1,
           1,
           1,
           1,
           2,
           2,
           2,
           2,
           1,
           2,
           2,
           2,
           1,
           2,
           2,
           2
          ],
          "coloraxis": "coloraxis",
          "symbol": "circle"
         },
         "mode": "markers",
         "name": "",
         "orientation": "v",
         "showlegend": false,
         "type": "scatter",
         "x": [
          2.7681015408712186,
          3.5617956121137855,
          3.0704887096489473,
          3.020336929873965,
          3.007717109083675,
          4.632490431458017,
          5.094469429700946,
          5.016170883199185,
          5.090410338149975,
          4.311461998206058,
          3.8159430065972666,
          3.7997906445666962,
          3.817831087801164,
          4.474529595624324,
          -1.5117090900327217,
          0.718741787954721,
          0.90779374592592,
          0.515881183473175,
          -1.8539919546004493,
          -2.337105206283633,
          -1.1708840167191015,
          -0.9436398046030887,
          -1.2505822929287727,
          -0.6639071167898434,
          0.6808411089928283,
          4.539184109214653,
          3.9829985413493474,
          4.216507495361387,
          3.7956717556448845,
          -1.9088774646442972,
          -0.6192311584276685,
          -1.590215117947767,
          1.1250318471951037,
          1.4357773846369308,
          1.3838557788447654,
          1.1550736871112073,
          1.2472056740007091,
          3.746975530741119,
          4.203465298813927,
          3.469303293081093,
          3.330087048340599,
          4.50968736198196,
          4.285807745344449,
          4.517123646681602,
          1.479522233419897,
          -0.7623053353808521,
          1.3114399566376749,
          1.2188532859466847,
          -0.37289385217110055,
          -1.2518077657249242,
          -2.212931357517503,
          -1.6686840764773183,
          -3.0045718962677714,
          -3.1358124895218014,
          -2.164234843114468,
          -1.5088048394367772,
          -1.7100573238164951,
          -0.994214497355724,
          -2.301844756937191,
          -0.5860569270947419,
          -0.5555872202245106,
          3.770056782051476,
          4.066901911248673,
          3.1997288007521294,
          3.448260263080931,
          3.0177670685735394,
          4.858808968921737,
          3.6387158952704883,
          3.715720906747914,
          4.236928551522718,
          -1.6400477727138776,
          3.1244138609937004,
          2.9905269282810982,
          2.980132134875459,
          3.175779631805892,
          -0.258996129928535,
          -1.3234376539824424,
          -1.089800965287824,
          -1.8307891304318464,
          -0.4805829635857061,
          -2.125791803000296,
          -1.4192834730357566,
          -0.937642868127856,
          -2.158927141710039,
          3.644642900676742,
          3.107090472321579,
          3.2925678303444674,
          2.8672362574814456,
          3.070861881342404,
          4.757051654295555,
          3.845955853909781,
          3.5991673731083718,
          3.1491456672903992,
          4.86743840278331,
          5.173147058401885,
          3.736415343261145,
          0.9929184144486708,
          1.0719897853531273,
          0.9343284597173933,
          0.8734419932790236,
          0.49333110411785386,
          -2.4942081994108354,
          4.005886047171806,
          4.222301906026265,
          3.8880996463395476,
          3.9716695923375527,
          0.9532581108370882,
          -2.0216999762290953,
          -0.8725677814209033,
          -1.7424167430361002,
          -1.8117452012346849,
          -0.6670813340646508,
          0.5258002203078573,
          -1.4058721965382133,
          3.239664394511149,
          4.644395444945271,
          -2.6228436585481534,
          -1.4395059174676486,
          -0.7636302480116363,
          -0.48253114866286334,
          3.033022730745102,
          -0.7025633473933521,
          -0.2527186232612685,
          3.7717003042158965,
          0.6283843717034161,
          0.8111352589638805,
          1.1825340937849131,
          -3.0367912438032896,
          -0.8623283927242303,
          -3.369686347068876,
          -0.7981152121151961,
          1.3391447623695303,
          1.311102965271686,
          1.1643311309340392,
          2.8371444666867807,
          3.478780071791411,
          3.2861331684780053,
          2.9805162531295943,
          2.9585480837448066,
          -1.7869380049213197,
          -1.903689436963467,
          -1.478073979005518,
          -3.1104314483765885,
          -3.1051013923247317,
          -1.101091807025937,
          -1.6180991767383153,
          -1.4140304768102703,
          -1.6302847523868473,
          -1.90339725608961,
          -2.1723606377205624,
          0.8460061259987728,
          1.1807903117335454,
          0.5285506541454443,
          0.5385469010258633,
          3.931521616937017,
          3.203874783789331,
          3.0632838207807245,
          3.431025654813889,
          0.9580039831033659,
          1.2516833355545145,
          1.2586800088300436,
          0.8616644650541557,
          0.9105803287575281,
          1.7566640632710426,
          2.5505510377939413,
          -2.471967394462309,
          -0.6320963985296505,
          0.7141595356741185,
          -0.8398317773638221,
          -1.4069657942440765,
          -1.7989168316292192,
          -1.8446516954605476,
          0.7121827673582913,
          -1.906054525637936,
          0.7079666068953859,
          -1.012829755461246,
          -1.1239902617662973,
          -0.7506730887270656,
          -0.7599097807329923,
          -3.2168648741469084,
          -1.580350338848345,
          -1.6905586702330209,
          -0.5333364418736906,
          -1.2740517450200861,
          -1.6879493197806332,
          2.791608842396015,
          3.0027560622880403,
          2.485518030835944,
          3.2523574799124373,
          0.7371560602862701,
          1.0208950620039177,
          0.05267333504321264,
          0.37247329182533173,
          -2.248382290914607,
          -1.8331620328967566,
          -1.979076585149039,
          -3.262682109457129,
          0.816986518674933,
          0.454881951475542,
          1.2193785396388392,
          0.7951634522625586,
          -1.8361280647836744,
          -2.9415714142040255,
          -2.522415657429687,
          -0.6911463687104754,
          -0.6490118810553859,
          3.0138394903681522,
          -1.2869765338572399,
          -0.6343577993866375,
          0.5224477201626697,
          3.5722380568002956,
          3.249411082462731,
          2.5560649305340597,
          2.856201479678186,
          -3.0528310144505353,
          -1.2438577654569447,
          -2.983800764019152,
          -0.821421993035352,
          -3.0711228402005757,
          2.678072869268436,
          1.6705027965101813,
          2.835336323009422,
          2.609589610978266,
          1.1369316499361053,
          0.7799964874419746,
          0.8005115759171745,
          0.7351626368981576,
          3.7521501976652267,
          3.429822947020606,
          3.824916023414913,
          2.996345529208874,
          -1.9525234911210592,
          -0.5841321992816301,
          -2.5937957048699842,
          -0.6397553448439853,
          -1.7359023556024233,
          -1.5689479581817816,
          -2.831782260486329,
          -1.873365912837972,
          -0.9446043305140472,
          -0.720709340637325,
          -1.6862893981364528,
          -3.6269463662439403,
          -1.9095955842835042,
          -3.5171867536375294,
          -3.515353691118172,
          -3.358355808126506,
          1.4739357093847067,
          2.4019451841723467,
          2.251875846060634,
          0.6296263197820994,
          0.2627714167270265,
          0.307252634535865,
          -0.6652570194184618,
          0.6268718336499041,
          0.5054857163793572,
          0.7993570271509531,
          0.24509173239753793,
          0.7697582918910979,
          1.2516711529636144,
          2.2687111876420976,
          1.7874147479698732,
          2.3300306345359965,
          2.606620854589843,
          -1.6234829377193103,
          -1.878676363618261,
          -2.067249905616301,
          -1.3536385428363502,
          -1.6461383377880134,
          -0.4480206754721144,
          -0.7276224505290724,
          -1.878461296689781,
          -0.6955336689261918,
          0.38771452870243805,
          -0.9035970736629213,
          0.4310055865564779,
          -2.241976761227779,
          -2.797884011646174,
          0.7755745919635842,
          0.06545527968165897,
          -0.6796522865491977,
          0.34675931462852466,
          0.689578781697869,
          2.160678457624367,
          2.2386682110746827,
          2.6954387354066163,
          2.216980202929832,
          2.8747761749764247,
          2.729367640272802,
          1.785823932335057,
          2.7656218242804957,
          -2.2643727772648057,
          -3.09706445269898,
          -1.752096982598414,
          -0.9711724669678109,
          -1.1135382824302187,
          1.8427048456742507,
          -2.234555208869523,
          0.4441214551759363,
          -1.5131582966792467,
          -1.7047376457790087,
          -3.332410726355696,
          -2.5054262324792576,
          -0.8935343743209302,
          0.2728335805006967,
          0.2721758138466127,
          -0.9372127901530688,
          -2.6585199479274357,
          -3.7123790526783513,
          -1.7395785660729697,
          -3.389547084352274,
          -0.9708537569008399,
          -1.013368624877208,
          -0.9699683698502278,
          0.32564967852517296,
          -2.375767649067532,
          -2.1975351428076606,
          -2.7332460697898475,
          -2.6637674696137714,
          -2.741827687325792,
          -3.935569829111597,
          -0.549851108986539,
          -3.778526960727179,
          -3.7665419268178377,
          -3.7896558111083025,
          -2.2861687926791627,
          -2.1450974882838834,
          -3.5478151473592257,
          -3.250602891295812,
          -2.4631640868581566,
          -0.862924187603814,
          -2.142924384264843,
          -2.0054091025170004,
          -2.9371011292583087,
          -1.1232964053831676,
          -1.0292636015211827,
          -0.7168250917931697,
          0.30964497893954,
          -1.052275052270056,
          -3.799779490281288,
          -2.427041734252267,
          -3.5048707066863978,
          -3.2520438545747075,
          -3.7309784216739326,
          -3.5542588803310164,
          -3.2253588101360746,
          -1.8643561429713587,
          -2.053092185181802,
          -2.090766002939554,
          -2.2312373122176057,
          -2.8254424824464315,
          -2.91232328237067,
          -2.3400295843284904,
          -2.842341452362101,
          -1.8800185769476299,
          -1.531030402160869,
          -0.8406188760179022,
          -0.9230973863763253,
          0.6143669376342977,
          1.1339251266639305,
          0.09846033132955324,
          0.5218453395458185,
          -1.5664203412075781,
          -1.41156950486644,
          -1.8063364794987096,
          -1.4461625890949434,
          -1.2758136368287976,
          -1.1423617825985695,
          -0.8158369519319845,
          -2.6266734645686425,
          -3.600750084519431,
          -3.2832201745076848,
          -2.101130925767055,
          -2.1977503405705257,
          -2.8423565624032516,
          -3.002256213189245,
          -3.1515771788756393,
          -3.3962509432358203,
          -3.171311038787438,
          -3.4912715676900086,
          -0.02976148337433241,
          -0.6135959456427881,
          -0.8064912552310041,
          0.43559676794770585,
          -2.190278328734009,
          -1.4115460008059777,
          -0.9799933742928889,
          -0.9821083541071537,
          -4.036985123492386,
          -1.1268082836860311,
          -1.52571880643157,
          -1.6725955797061611
         ],
         "xaxis": "x",
         "y": [
          0.6536686698172106,
          0.961842441046651,
          0.9422170408259082,
          0.7897426311564745,
          0.9658848801234107,
          1.3856317199998152,
          1.6903140188207058,
          1.7412913094917393,
          1.5548599921028232,
          1.5989644651082175,
          1.246800159147319,
          1.5088024728722187,
          1.1996965708857101,
          1.6192235455454078,
          2.44719092467198,
          -0.15828156352214542,
          -0.11947883791082708,
          -0.2821111690886934,
          2.4775993611600224,
          -0.24500642607878337,
          0.45852607119104305,
          0.9813183200997995,
          0.5204480644827169,
          1.445268585918118,
          -0.09238511376686381,
          0.8454218116774067,
          0.5960032585264803,
          0.8956975398278194,
          -0.026758099262872922,
          2.383311724206216,
          -0.32349599859665773,
          2.516390670356863,
          0.21611405288568203,
          -0.18171284238132637,
          -0.20912618199584723,
          -0.2924197779863676,
          -0.2156247387545203,
          0.7674314988142198,
          0.9041029397038357,
          0.4537395827492989,
          0.514924180542061,
          0.920258326814808,
          0.7849191070376172,
          0.7962886945067543,
          0.1893191370802209,
          -0.9726941987093684,
          -0.13747243298207462,
          -0.11616811897460982,
          -0.0748077020618439,
          0.9606031680114574,
          -0.06905627550621758,
          0.7814736347329231,
          1.5024668600328224,
          1.6733350185849507,
          -0.016571069624200248,
          -1.2374061118834618,
          2.1818885652959827,
          -0.7037336892581535,
          -0.8749253158047522,
          -1.0272656738098878,
          -0.5637603353572271,
          0.6759449061474158,
          0.7323671916642901,
          0.3315908756837777,
          0.4418991678282284,
          0.6649990397872679,
          1.1048484639522405,
          0.36063172471550925,
          0.39907688558927806,
          0.7461942188215561,
          2.5279352255393412,
          0.5037839493161869,
          0.14118617392479588,
          -0.13330685508829904,
          0.25905881736261666,
          0.9394536711871759,
          0.14909658748123655,
          -0.04467302791601419,
          0.0949075568872038,
          -0.4965638666044956,
          1.8935230537163412,
          2.3524581840441976,
          -0.3982840395967301,
          1.965484087805211,
          0.48814719505065035,
          0.5884878687200883,
          0.31167969088354835,
          0.004144671501017554,
          0.4170027421384725,
          0.8474389601999838,
          0.48866500666293605,
          0.3725975468908915,
          0.07583472781987616,
          1.037793401497389,
          1.0960730681762738,
          0.8279535841508693,
          -0.5293443757997124,
          -0.7955520435279627,
          -0.468958072882419,
          -0.6240533753742699,
          -0.5317283302717333,
          -0.6146427126770712,
          0.14991348963541945,
          0.49514775295894337,
          0.43262205050015784,
          0.5864474419466885,
          -0.29896838112096924,
          1.4978430688673745,
          -1.2362530180371507,
          1.9253376380640292,
          2.4070432245337514,
          -0.9812784945960485,
          -0.10746632603088596,
          0.5307727526886316,
          0.29531028642370355,
          1.3709932540772927,
          -0.37060630887151796,
          0.4593853364457419,
          0.8031474722603438,
          0.6798739646054124,
          0.6789091257072583,
          0.8918578705591248,
          2.6048191608440843,
          0.8762465612864422,
          -0.6990025521584804,
          -0.5670561899875256,
          -0.7242111322323798,
          1.2243498672423454,
          -0.8291486690915528,
          0.8856681022677257,
          -0.9366075707462117,
          -0.7515270475094633,
          -0.8451082214662801,
          -0.6472816530027735,
          -0.007322082903606193,
          -0.03021257132599525,
          0.13346307381914585,
          -0.34434313844946995,
          -0.18388386867439346,
          0.21599683190812824,
          0.30889734286911,
          0.5244119569310581,
          1.5536964516806668,
          1.1800718271176769,
          -0.5351782707954802,
          0.36382663718415026,
          0.5927532432904644,
          2.0775290712035672,
          1.9632005460381228,
          0.19624585719811155,
          -0.7100904572545188,
          -0.6493880927758356,
          -1.6428051858037651,
          -1.3858979131819764,
          0.47498693921648866,
          -0.07296449089241114,
          -0.13713736908747104,
          0.022102115547087024,
          -1.449829033282526,
          -1.0648186268972457,
          -1.1006720958322203,
          -1.2166816677579813,
          -0.4568614866946743,
          -0.18734746702333785,
          0.2211924972754063,
          1.669800687520026,
          -0.9752132195384923,
          -0.6678942044385825,
          -1.2469990709672143,
          2.212656269800781,
          0.07134780157945324,
          1.655426228402842,
          -0.4424774894012833,
          0.4615592601169106,
          -0.8993531024109704,
          0.4533091969904491,
          0.07395985695965583,
          0.5474481096650258,
          0.808382395592056,
          1.2862304277594818,
          0.2035183721731612,
          -0.02350050531828713,
          -0.6823447508101858,
          -1.2127453060570719,
          0.23550290661439777,
          -0.04542764554521444,
          0.027116591313183173,
          -0.28903272661516033,
          0.08408849515691702,
          -0.6928612982628418,
          -0.5185458985377357,
          -1.1702749780167576,
          -1.10581794958463,
          -2.116659630005286,
          -2.029615765205016,
          0.3347734180949133,
          1.2081918933397708,
          -1.0748322598262536,
          -1.7253247653998245,
          -0.7577688697491399,
          -1.0798970879027612,
          0.6692273711638221,
          1.371941493780454,
          1.517211223050559,
          -0.6008922802621737,
          0.28568696014592304,
          0.02441194575420808,
          -0.8078772508648054,
          1.9121234022159743,
          0.2504297519066333,
          0.3476363789560623,
          0.18808722427222896,
          -0.3882024408153347,
          -0.09668822523783999,
          1.0239501322415006,
          -0.8468051406687591,
          -0.5848645457913627,
          -0.8423121992908588,
          1.3034269058035906,
          -0.012058337355938026,
          -1.2924589330040812,
          -0.2058571273586727,
          -0.49852101165119794,
          -0.8726206763309673,
          -1.0000698840072768,
          -1.1621849722868873,
          -1.374003637562785,
          0.4335597612536097,
          0.32273559484855147,
          0.3133522524081844,
          -0.31927543896967026,
          0.24107719499953906,
          -0.9831774917246022,
          1.1370031965468466,
          -0.9528186836280264,
          -1.3071352621647967,
          -1.0260911330907945,
          1.3707505892730223,
          0.2851682785700187,
          1.8999861664070437,
          0.7273943771946538,
          2.103152085330058,
          -1.2592005313250334,
          -0.9818786913457442,
          0.6787877294030378,
          0.8756864935144052,
          1.2059302259768174,
          -0.8018043780174903,
          -0.2528494926443604,
          -0.19298511612063998,
          -1.4656712652216792,
          -1.3576155588286558,
          -1.0173435143052092,
          -0.9841190272904058,
          -1.1745016546154592,
          -1.2170363454176412,
          -0.9140468650968555,
          -1.1721879096108805,
          -1.3554957013485207,
          -0.692190088739845,
          -0.20829191232438973,
          -0.14630660737665505,
          0.0969890072345056,
          -0.3394201661191463,
          -1.2919052260623483,
          1.7960744347735913,
          1.7391078639633522,
          -0.9324400220526816,
          1.7386660236458886,
          -1.0799904302418941,
          -1.3570159064611163,
          1.7211165920489635,
          0.09653040860969724,
          0.6249023029455685,
          0.18222541188190983,
          0.3076776202155124,
          0.02101346023857114,
          1.2459202669891265,
          -0.8815647470873965,
          -1.5004411259880148,
          -1.3787198678945345,
          -1.481199159212472,
          -1.1079053849765823,
          -0.7578976865132779,
          -0.4374287499266215,
          -0.34798790138248703,
          -0.6998836165203457,
          -0.5431528659134579,
          -0.5013144880885368,
          -0.7303202057284301,
          -0.25260724736873247,
          0.07372199498194636,
          1.3396727272046818,
          -0.994460120263048,
          -1.0758143001365181,
          -0.8943427673573786,
          -1.1452656197464437,
          -1.7067888138103389,
          -2.132361707941511,
          -0.8639099143221634,
          -1.139518885265931,
          0.7010328466416618,
          -0.09371413654340728,
          -1.179373974263171,
          -0.23556008598745157,
          -0.48874192859671445,
          -0.7491393006238639,
          -0.1701405618008342,
          0.6071673746916821,
          -1.3166271968351488,
          1.0299118366146396,
          -1.3529214754318273,
          -1.6263334610096876,
          -1.9315870804417887,
          -1.6567794861407246,
          -0.29635009541177043,
          1.3450653525099427,
          0.9264144764088781,
          1.4069658046904268,
          1.3064299203383123,
          0.7261014834131547,
          -0.9253299030179974,
          0.5490896583238425,
          -1.4921914341045237,
          -1.8238576386430327,
          -1.0628121949930007,
          -1.3566190360184744,
          1.4294934837113964,
          0.7976942411578909,
          -0.2700703274682404,
          2.26814507558349,
          1.9221343212009974,
          -0.13760134367887927,
          0.993232825232008,
          -1.3420704983243892,
          -1.4569676180900315,
          -1.0773238766905775,
          -0.6405260188073474,
          -0.8986398162090816,
          0.8123890882804234,
          -1.6243320231295248,
          0.9782495843906722,
          0.7486385121748169,
          0.45130990364777057,
          0.7671682752999831,
          1.0395156964581538,
          -1.3748356390668641,
          -1.5649905743055976,
          -2.285638394964221,
          -0.1461613054177609,
          1.3357493051173748,
          0.9468857332815229,
          1.409264143629786,
          0.6898243083623747,
          -1.133103902330348,
          -1.0146147579305855,
          1.925617672497556,
          1.7574346225649178,
          -1.178949521579077,
          -1.7279804358010722,
          -1.4978261374754513,
          -1.4352940074107408,
          -2.0593450689143924,
          -1.892610948051725,
          -1.8248180014991446,
          -1.5413951136180657,
          -1.4974537155196208,
          -1.7820476960679468,
          -1.499965655641255,
          -0.4268711774902701,
          0.568641151750894,
          0.7043324593256899,
          -1.4518530297236374,
          -1.8210360638815468,
          1.2946267712714041,
          1.2118242836555106,
          0.8016068642905705,
          1.0795093412788264,
          1.001318555313412,
          0.8830780596349705,
          -1.3706122178395712,
          -1.6885981848479783,
          -1.1873633207970922,
          -1.0519824410009926,
          1.4434342837483918,
          -1.0440084618528822,
          -1.6786386788447052,
          -1.4205144055903465,
          -2.1271400067947885,
          -0.7892139437732668,
          -1.951240150147851,
          -2.0855321418663726
         ],
         "yaxis": "y"
        }
       ],
       "layout": {
        "coloraxis": {
         "colorbar": {
          "title": {
           "text": "color"
          }
         },
         "colorscale": [
          [
           0,
           "#0d0887"
          ],
          [
           0.1111111111111111,
           "#46039f"
          ],
          [
           0.2222222222222222,
           "#7201a8"
          ],
          [
           0.3333333333333333,
           "#9c179e"
          ],
          [
           0.4444444444444444,
           "#bd3786"
          ],
          [
           0.5555555555555556,
           "#d8576b"
          ],
          [
           0.6666666666666666,
           "#ed7953"
          ],
          [
           0.7777777777777778,
           "#fb9f3a"
          ],
          [
           0.8888888888888888,
           "#fdca26"
          ],
          [
           1,
           "#f0f921"
          ]
         ]
        },
        "legend": {
         "tracegroupgap": 0
        },
        "margin": {
         "t": 60
        },
        "template": {
         "data": {
          "bar": [
           {
            "error_x": {
             "color": "#2a3f5f"
            },
            "error_y": {
             "color": "#2a3f5f"
            },
            "marker": {
             "line": {
              "color": "#E5ECF6",
              "width": 0.5
             },
             "pattern": {
              "fillmode": "overlay",
              "size": 10,
              "solidity": 0.2
             }
            },
            "type": "bar"
           }
          ],
          "barpolar": [
           {
            "marker": {
             "line": {
              "color": "#E5ECF6",
              "width": 0.5
             },
             "pattern": {
              "fillmode": "overlay",
              "size": 10,
              "solidity": 0.2
             }
            },
            "type": "barpolar"
           }
          ],
          "carpet": [
           {
            "aaxis": {
             "endlinecolor": "#2a3f5f",
             "gridcolor": "white",
             "linecolor": "white",
             "minorgridcolor": "white",
             "startlinecolor": "#2a3f5f"
            },
            "baxis": {
             "endlinecolor": "#2a3f5f",
             "gridcolor": "white",
             "linecolor": "white",
             "minorgridcolor": "white",
             "startlinecolor": "#2a3f5f"
            },
            "type": "carpet"
           }
          ],
          "choropleth": [
           {
            "colorbar": {
             "outlinewidth": 0,
             "ticks": ""
            },
            "type": "choropleth"
           }
          ],
          "contour": [
           {
            "colorbar": {
             "outlinewidth": 0,
             "ticks": ""
            },
            "colorscale": [
             [
              0,
              "#0d0887"
             ],
             [
              0.1111111111111111,
              "#46039f"
             ],
             [
              0.2222222222222222,
              "#7201a8"
             ],
             [
              0.3333333333333333,
              "#9c179e"
             ],
             [
              0.4444444444444444,
              "#bd3786"
             ],
             [
              0.5555555555555556,
              "#d8576b"
             ],
             [
              0.6666666666666666,
              "#ed7953"
             ],
             [
              0.7777777777777778,
              "#fb9f3a"
             ],
             [
              0.8888888888888888,
              "#fdca26"
             ],
             [
              1,
              "#f0f921"
             ]
            ],
            "type": "contour"
           }
          ],
          "contourcarpet": [
           {
            "colorbar": {
             "outlinewidth": 0,
             "ticks": ""
            },
            "type": "contourcarpet"
           }
          ],
          "heatmap": [
           {
            "colorbar": {
             "outlinewidth": 0,
             "ticks": ""
            },
            "colorscale": [
             [
              0,
              "#0d0887"
             ],
             [
              0.1111111111111111,
              "#46039f"
             ],
             [
              0.2222222222222222,
              "#7201a8"
             ],
             [
              0.3333333333333333,
              "#9c179e"
             ],
             [
              0.4444444444444444,
              "#bd3786"
             ],
             [
              0.5555555555555556,
              "#d8576b"
             ],
             [
              0.6666666666666666,
              "#ed7953"
             ],
             [
              0.7777777777777778,
              "#fb9f3a"
             ],
             [
              0.8888888888888888,
              "#fdca26"
             ],
             [
              1,
              "#f0f921"
             ]
            ],
            "type": "heatmap"
           }
          ],
          "heatmapgl": [
           {
            "colorbar": {
             "outlinewidth": 0,
             "ticks": ""
            },
            "colorscale": [
             [
              0,
              "#0d0887"
             ],
             [
              0.1111111111111111,
              "#46039f"
             ],
             [
              0.2222222222222222,
              "#7201a8"
             ],
             [
              0.3333333333333333,
              "#9c179e"
             ],
             [
              0.4444444444444444,
              "#bd3786"
             ],
             [
              0.5555555555555556,
              "#d8576b"
             ],
             [
              0.6666666666666666,
              "#ed7953"
             ],
             [
              0.7777777777777778,
              "#fb9f3a"
             ],
             [
              0.8888888888888888,
              "#fdca26"
             ],
             [
              1,
              "#f0f921"
             ]
            ],
            "type": "heatmapgl"
           }
          ],
          "histogram": [
           {
            "marker": {
             "pattern": {
              "fillmode": "overlay",
              "size": 10,
              "solidity": 0.2
             }
            },
            "type": "histogram"
           }
          ],
          "histogram2d": [
           {
            "colorbar": {
             "outlinewidth": 0,
             "ticks": ""
            },
            "colorscale": [
             [
              0,
              "#0d0887"
             ],
             [
              0.1111111111111111,
              "#46039f"
             ],
             [
              0.2222222222222222,
              "#7201a8"
             ],
             [
              0.3333333333333333,
              "#9c179e"
             ],
             [
              0.4444444444444444,
              "#bd3786"
             ],
             [
              0.5555555555555556,
              "#d8576b"
             ],
             [
              0.6666666666666666,
              "#ed7953"
             ],
             [
              0.7777777777777778,
              "#fb9f3a"
             ],
             [
              0.8888888888888888,
              "#fdca26"
             ],
             [
              1,
              "#f0f921"
             ]
            ],
            "type": "histogram2d"
           }
          ],
          "histogram2dcontour": [
           {
            "colorbar": {
             "outlinewidth": 0,
             "ticks": ""
            },
            "colorscale": [
             [
              0,
              "#0d0887"
             ],
             [
              0.1111111111111111,
              "#46039f"
             ],
             [
              0.2222222222222222,
              "#7201a8"
             ],
             [
              0.3333333333333333,
              "#9c179e"
             ],
             [
              0.4444444444444444,
              "#bd3786"
             ],
             [
              0.5555555555555556,
              "#d8576b"
             ],
             [
              0.6666666666666666,
              "#ed7953"
             ],
             [
              0.7777777777777778,
              "#fb9f3a"
             ],
             [
              0.8888888888888888,
              "#fdca26"
             ],
             [
              1,
              "#f0f921"
             ]
            ],
            "type": "histogram2dcontour"
           }
          ],
          "mesh3d": [
           {
            "colorbar": {
             "outlinewidth": 0,
             "ticks": ""
            },
            "type": "mesh3d"
           }
          ],
          "parcoords": [
           {
            "line": {
             "colorbar": {
              "outlinewidth": 0,
              "ticks": ""
             }
            },
            "type": "parcoords"
           }
          ],
          "pie": [
           {
            "automargin": true,
            "type": "pie"
           }
          ],
          "scatter": [
           {
            "fillpattern": {
             "fillmode": "overlay",
             "size": 10,
             "solidity": 0.2
            },
            "type": "scatter"
           }
          ],
          "scatter3d": [
           {
            "line": {
             "colorbar": {
              "outlinewidth": 0,
              "ticks": ""
             }
            },
            "marker": {
             "colorbar": {
              "outlinewidth": 0,
              "ticks": ""
             }
            },
            "type": "scatter3d"
           }
          ],
          "scattercarpet": [
           {
            "marker": {
             "colorbar": {
              "outlinewidth": 0,
              "ticks": ""
             }
            },
            "type": "scattercarpet"
           }
          ],
          "scattergeo": [
           {
            "marker": {
             "colorbar": {
              "outlinewidth": 0,
              "ticks": ""
             }
            },
            "type": "scattergeo"
           }
          ],
          "scattergl": [
           {
            "marker": {
             "colorbar": {
              "outlinewidth": 0,
              "ticks": ""
             }
            },
            "type": "scattergl"
           }
          ],
          "scattermapbox": [
           {
            "marker": {
             "colorbar": {
              "outlinewidth": 0,
              "ticks": ""
             }
            },
            "type": "scattermapbox"
           }
          ],
          "scatterpolar": [
           {
            "marker": {
             "colorbar": {
              "outlinewidth": 0,
              "ticks": ""
             }
            },
            "type": "scatterpolar"
           }
          ],
          "scatterpolargl": [
           {
            "marker": {
             "colorbar": {
              "outlinewidth": 0,
              "ticks": ""
             }
            },
            "type": "scatterpolargl"
           }
          ],
          "scatterternary": [
           {
            "marker": {
             "colorbar": {
              "outlinewidth": 0,
              "ticks": ""
             }
            },
            "type": "scatterternary"
           }
          ],
          "surface": [
           {
            "colorbar": {
             "outlinewidth": 0,
             "ticks": ""
            },
            "colorscale": [
             [
              0,
              "#0d0887"
             ],
             [
              0.1111111111111111,
              "#46039f"
             ],
             [
              0.2222222222222222,
              "#7201a8"
             ],
             [
              0.3333333333333333,
              "#9c179e"
             ],
             [
              0.4444444444444444,
              "#bd3786"
             ],
             [
              0.5555555555555556,
              "#d8576b"
             ],
             [
              0.6666666666666666,
              "#ed7953"
             ],
             [
              0.7777777777777778,
              "#fb9f3a"
             ],
             [
              0.8888888888888888,
              "#fdca26"
             ],
             [
              1,
              "#f0f921"
             ]
            ],
            "type": "surface"
           }
          ],
          "table": [
           {
            "cells": {
             "fill": {
              "color": "#EBF0F8"
             },
             "line": {
              "color": "white"
             }
            },
            "header": {
             "fill": {
              "color": "#C8D4E3"
             },
             "line": {
              "color": "white"
             }
            },
            "type": "table"
           }
          ]
         },
         "layout": {
          "annotationdefaults": {
           "arrowcolor": "#2a3f5f",
           "arrowhead": 0,
           "arrowwidth": 1
          },
          "autotypenumbers": "strict",
          "coloraxis": {
           "colorbar": {
            "outlinewidth": 0,
            "ticks": ""
           }
          },
          "colorscale": {
           "diverging": [
            [
             0,
             "#8e0152"
            ],
            [
             0.1,
             "#c51b7d"
            ],
            [
             0.2,
             "#de77ae"
            ],
            [
             0.3,
             "#f1b6da"
            ],
            [
             0.4,
             "#fde0ef"
            ],
            [
             0.5,
             "#f7f7f7"
            ],
            [
             0.6,
             "#e6f5d0"
            ],
            [
             0.7,
             "#b8e186"
            ],
            [
             0.8,
             "#7fbc41"
            ],
            [
             0.9,
             "#4d9221"
            ],
            [
             1,
             "#276419"
            ]
           ],
           "sequential": [
            [
             0,
             "#0d0887"
            ],
            [
             0.1111111111111111,
             "#46039f"
            ],
            [
             0.2222222222222222,
             "#7201a8"
            ],
            [
             0.3333333333333333,
             "#9c179e"
            ],
            [
             0.4444444444444444,
             "#bd3786"
            ],
            [
             0.5555555555555556,
             "#d8576b"
            ],
            [
             0.6666666666666666,
             "#ed7953"
            ],
            [
             0.7777777777777778,
             "#fb9f3a"
            ],
            [
             0.8888888888888888,
             "#fdca26"
            ],
            [
             1,
             "#f0f921"
            ]
           ],
           "sequentialminus": [
            [
             0,
             "#0d0887"
            ],
            [
             0.1111111111111111,
             "#46039f"
            ],
            [
             0.2222222222222222,
             "#7201a8"
            ],
            [
             0.3333333333333333,
             "#9c179e"
            ],
            [
             0.4444444444444444,
             "#bd3786"
            ],
            [
             0.5555555555555556,
             "#d8576b"
            ],
            [
             0.6666666666666666,
             "#ed7953"
            ],
            [
             0.7777777777777778,
             "#fb9f3a"
            ],
            [
             0.8888888888888888,
             "#fdca26"
            ],
            [
             1,
             "#f0f921"
            ]
           ]
          },
          "colorway": [
           "#636efa",
           "#EF553B",
           "#00cc96",
           "#ab63fa",
           "#FFA15A",
           "#19d3f3",
           "#FF6692",
           "#B6E880",
           "#FF97FF",
           "#FECB52"
          ],
          "font": {
           "color": "#2a3f5f"
          },
          "geo": {
           "bgcolor": "white",
           "lakecolor": "white",
           "landcolor": "#E5ECF6",
           "showlakes": true,
           "showland": true,
           "subunitcolor": "white"
          },
          "hoverlabel": {
           "align": "left"
          },
          "hovermode": "closest",
          "mapbox": {
           "style": "light"
          },
          "paper_bgcolor": "white",
          "plot_bgcolor": "#E5ECF6",
          "polar": {
           "angularaxis": {
            "gridcolor": "white",
            "linecolor": "white",
            "ticks": ""
           },
           "bgcolor": "#E5ECF6",
           "radialaxis": {
            "gridcolor": "white",
            "linecolor": "white",
            "ticks": ""
           }
          },
          "scene": {
           "xaxis": {
            "backgroundcolor": "#E5ECF6",
            "gridcolor": "white",
            "gridwidth": 2,
            "linecolor": "white",
            "showbackground": true,
            "ticks": "",
            "zerolinecolor": "white"
           },
           "yaxis": {
            "backgroundcolor": "#E5ECF6",
            "gridcolor": "white",
            "gridwidth": 2,
            "linecolor": "white",
            "showbackground": true,
            "ticks": "",
            "zerolinecolor": "white"
           },
           "zaxis": {
            "backgroundcolor": "#E5ECF6",
            "gridcolor": "white",
            "gridwidth": 2,
            "linecolor": "white",
            "showbackground": true,
            "ticks": "",
            "zerolinecolor": "white"
           }
          },
          "shapedefaults": {
           "line": {
            "color": "#2a3f5f"
           }
          },
          "ternary": {
           "aaxis": {
            "gridcolor": "white",
            "linecolor": "white",
            "ticks": ""
           },
           "baxis": {
            "gridcolor": "white",
            "linecolor": "white",
            "ticks": ""
           },
           "bgcolor": "#E5ECF6",
           "caxis": {
            "gridcolor": "white",
            "linecolor": "white",
            "ticks": ""
           }
          },
          "title": {
           "x": 0.05
          },
          "xaxis": {
           "automargin": true,
           "gridcolor": "white",
           "linecolor": "white",
           "ticks": "",
           "title": {
            "standoff": 15
           },
           "zerolinecolor": "white",
           "zerolinewidth": 2
          },
          "yaxis": {
           "automargin": true,
           "gridcolor": "white",
           "linecolor": "white",
           "ticks": "",
           "title": {
            "standoff": 15
           },
           "zerolinecolor": "white",
           "zerolinewidth": 2
          }
         }
        },
        "xaxis": {
         "anchor": "y",
         "domain": [
          0,
          1
         ],
         "title": {
          "text": "PC1"
         }
        },
        "yaxis": {
         "anchor": "x",
         "domain": [
          0,
          1
         ],
         "title": {
          "text": "PC2"
         }
        }
       }
      }
     },
     "metadata": {},
     "output_type": "display_data"
    }
   ],
   "source": [
    "import plotly.express as px\n",
    "\n",
    "px.scatter(data_frame=df_pca, x='PC1', y='PC2', color=df_pred.pred_km)\n",
    "\n"
   ]
  },
  {
   "cell_type": "markdown",
   "metadata": {},
   "source": [
    "### PCA & Clustering Interpretation"
   ]
  },
  {
   "cell_type": "code",
   "execution_count": 29,
   "metadata": {},
   "outputs": [
    {
     "data": {
      "text/plain": [
       "array([5.67733447, 1.18808815, 0.87576522, 0.6008606 , 0.30335758,\n",
       "       0.18269726, 0.11140801, 0.05316111, 0.03034551])"
      ]
     },
     "execution_count": 29,
     "metadata": {},
     "output_type": "execute_result"
    }
   ],
   "source": [
    "pca.explained_variance_"
   ]
  },
  {
   "cell_type": "code",
   "execution_count": 19,
   "metadata": {},
   "outputs": [
    {
     "data": {
      "text/plain": [
       "array([0.62920572, 0.13167304, 0.09705901, 0.06659198, 0.03362041,\n",
       "       0.02024791, 0.01234709, 0.00589172, 0.00336312])"
      ]
     },
     "execution_count": 19,
     "metadata": {},
     "output_type": "execute_result"
    }
   ],
   "source": [
    "pca.explained_variance_ratio_"
   ]
  },
  {
   "cell_type": "code",
   "execution_count": 20,
   "metadata": {},
   "outputs": [
    {
     "data": {
      "text/plain": [
       "array([47.11515445, 21.55324727, 18.50470758, 15.32763829, 10.89095092,\n",
       "        8.45190078,  6.60004015,  4.55916589,  3.44457436])"
      ]
     },
     "execution_count": 20,
     "metadata": {},
     "output_type": "execute_result"
    }
   ],
   "source": [
    "pca.singular_values_"
   ]
  },
  {
   "cell_type": "markdown",
   "metadata": {},
   "source": [
    "## Relationship between Original Variables & Components\n",
    "\n",
    "- [ ] What do the columns PC1 & PC2 have to do with the original variables (speeding, alcohol, total,...)?"
   ]
  },
  {
   "cell_type": "markdown",
   "metadata": {},
   "source": [
    "### Loading Vectors"
   ]
  },
  {
   "cell_type": "code",
   "execution_count": 33,
   "metadata": {},
   "outputs": [
    {
     "data": {
      "text/html": [
       "<style type=\"text/css\">\n",
       "#T_65aff_row0_col0, #T_65aff_row1_col6, #T_65aff_row1_col8, #T_65aff_row4_col7, #T_65aff_row6_col2, #T_65aff_row6_col5, #T_65aff_row8_col1, #T_65aff_row8_col3, #T_65aff_row8_col4 {\n",
       "  background-color: #f7fbff;\n",
       "  color: #000000;\n",
       "}\n",
       "#T_65aff_row0_col1 {\n",
       "  background-color: #8fc2de;\n",
       "  color: #000000;\n",
       "}\n",
       "#T_65aff_row0_col2 {\n",
       "  background-color: #66abd4;\n",
       "  color: #f1f1f1;\n",
       "}\n",
       "#T_65aff_row0_col3 {\n",
       "  background-color: #f5fafe;\n",
       "  color: #000000;\n",
       "}\n",
       "#T_65aff_row0_col4 {\n",
       "  background-color: #135fa7;\n",
       "  color: #f1f1f1;\n",
       "}\n",
       "#T_65aff_row0_col5, #T_65aff_row2_col0, #T_65aff_row2_col8, #T_65aff_row3_col6, #T_65aff_row3_col7, #T_65aff_row4_col4, #T_65aff_row5_col2, #T_65aff_row5_col3, #T_65aff_row7_col1 {\n",
       "  background-color: #08306b;\n",
       "  color: #f1f1f1;\n",
       "}\n",
       "#T_65aff_row0_col6 {\n",
       "  background-color: #2272b6;\n",
       "  color: #f1f1f1;\n",
       "}\n",
       "#T_65aff_row0_col7, #T_65aff_row4_col1 {\n",
       "  background-color: #8dc1dd;\n",
       "  color: #000000;\n",
       "}\n",
       "#T_65aff_row0_col8, #T_65aff_row3_col8 {\n",
       "  background-color: #cde0f1;\n",
       "  color: #000000;\n",
       "}\n",
       "#T_65aff_row1_col0, #T_65aff_row4_col0 {\n",
       "  background-color: #083471;\n",
       "  color: #f1f1f1;\n",
       "}\n",
       "#T_65aff_row1_col1 {\n",
       "  background-color: #77b5d9;\n",
       "  color: #000000;\n",
       "}\n",
       "#T_65aff_row1_col2 {\n",
       "  background-color: #4a98c9;\n",
       "  color: #f1f1f1;\n",
       "}\n",
       "#T_65aff_row1_col3 {\n",
       "  background-color: #7fb9da;\n",
       "  color: #000000;\n",
       "}\n",
       "#T_65aff_row1_col4 {\n",
       "  background-color: #1967ad;\n",
       "  color: #f1f1f1;\n",
       "}\n",
       "#T_65aff_row1_col5 {\n",
       "  background-color: #2575b7;\n",
       "  color: #f1f1f1;\n",
       "}\n",
       "#T_65aff_row1_col7 {\n",
       "  background-color: #125da6;\n",
       "  color: #f1f1f1;\n",
       "}\n",
       "#T_65aff_row2_col1 {\n",
       "  background-color: #79b5d9;\n",
       "  color: #000000;\n",
       "}\n",
       "#T_65aff_row2_col2, #T_65aff_row4_col6 {\n",
       "  background-color: #4695c8;\n",
       "  color: #f1f1f1;\n",
       "}\n",
       "#T_65aff_row2_col3 {\n",
       "  background-color: #9cc9e1;\n",
       "  color: #000000;\n",
       "}\n",
       "#T_65aff_row2_col4 {\n",
       "  background-color: #1c6ab0;\n",
       "  color: #f1f1f1;\n",
       "}\n",
       "#T_65aff_row2_col5 {\n",
       "  background-color: #56a0ce;\n",
       "  color: #f1f1f1;\n",
       "}\n",
       "#T_65aff_row2_col6 {\n",
       "  background-color: #7db8da;\n",
       "  color: #000000;\n",
       "}\n",
       "#T_65aff_row2_col7 {\n",
       "  background-color: #75b4d8;\n",
       "  color: #000000;\n",
       "}\n",
       "#T_65aff_row3_col0 {\n",
       "  background-color: #083674;\n",
       "  color: #f1f1f1;\n",
       "}\n",
       "#T_65aff_row3_col1 {\n",
       "  background-color: #3888c1;\n",
       "  color: #f1f1f1;\n",
       "}\n",
       "#T_65aff_row3_col2 {\n",
       "  background-color: #4896c8;\n",
       "  color: #f1f1f1;\n",
       "}\n",
       "#T_65aff_row3_col3 {\n",
       "  background-color: #cee0f2;\n",
       "  color: #000000;\n",
       "}\n",
       "#T_65aff_row3_col4 {\n",
       "  background-color: #083979;\n",
       "  color: #f1f1f1;\n",
       "}\n",
       "#T_65aff_row3_col5, #T_65aff_row8_col8 {\n",
       "  background-color: #cadef0;\n",
       "  color: #000000;\n",
       "}\n",
       "#T_65aff_row4_col2 {\n",
       "  background-color: #4292c6;\n",
       "  color: #f1f1f1;\n",
       "}\n",
       "#T_65aff_row4_col3 {\n",
       "  background-color: #519ccc;\n",
       "  color: #f1f1f1;\n",
       "}\n",
       "#T_65aff_row4_col5 {\n",
       "  background-color: #d4e4f4;\n",
       "  color: #000000;\n",
       "}\n",
       "#T_65aff_row4_col8 {\n",
       "  background-color: #f1f7fd;\n",
       "  color: #000000;\n",
       "}\n",
       "#T_65aff_row5_col0 {\n",
       "  background-color: #d8e7f5;\n",
       "  color: #000000;\n",
       "}\n",
       "#T_65aff_row5_col1 {\n",
       "  background-color: #eef5fc;\n",
       "  color: #000000;\n",
       "}\n",
       "#T_65aff_row5_col4 {\n",
       "  background-color: #1966ad;\n",
       "  color: #f1f1f1;\n",
       "}\n",
       "#T_65aff_row5_col5 {\n",
       "  background-color: #9dcae1;\n",
       "  color: #000000;\n",
       "}\n",
       "#T_65aff_row5_col6 {\n",
       "  background-color: #4191c6;\n",
       "  color: #f1f1f1;\n",
       "}\n",
       "#T_65aff_row5_col7 {\n",
       "  background-color: #2070b4;\n",
       "  color: #f1f1f1;\n",
       "}\n",
       "#T_65aff_row5_col8 {\n",
       "  background-color: #a8cee4;\n",
       "  color: #000000;\n",
       "}\n",
       "#T_65aff_row6_col0 {\n",
       "  background-color: #ccdff1;\n",
       "  color: #000000;\n",
       "}\n",
       "#T_65aff_row6_col1 {\n",
       "  background-color: #dce9f6;\n",
       "  color: #000000;\n",
       "}\n",
       "#T_65aff_row6_col3 {\n",
       "  background-color: #bad6eb;\n",
       "  color: #000000;\n",
       "}\n",
       "#T_65aff_row6_col4 {\n",
       "  background-color: #083877;\n",
       "  color: #f1f1f1;\n",
       "}\n",
       "#T_65aff_row6_col6 {\n",
       "  background-color: #a4cce3;\n",
       "  color: #000000;\n",
       "}\n",
       "#T_65aff_row6_col7 {\n",
       "  background-color: #3484bf;\n",
       "  color: #f1f1f1;\n",
       "}\n",
       "#T_65aff_row6_col8 {\n",
       "  background-color: #9fcae1;\n",
       "  color: #000000;\n",
       "}\n",
       "#T_65aff_row7_col0 {\n",
       "  background-color: #d2e3f3;\n",
       "  color: #000000;\n",
       "}\n",
       "#T_65aff_row7_col2 {\n",
       "  background-color: #6caed6;\n",
       "  color: #f1f1f1;\n",
       "}\n",
       "#T_65aff_row7_col3 {\n",
       "  background-color: #3b8bc2;\n",
       "  color: #f1f1f1;\n",
       "}\n",
       "#T_65aff_row7_col4 {\n",
       "  background-color: #d1e2f3;\n",
       "  color: #000000;\n",
       "}\n",
       "#T_65aff_row7_col5 {\n",
       "  background-color: #cddff1;\n",
       "  color: #000000;\n",
       "}\n",
       "#T_65aff_row7_col6 {\n",
       "  background-color: #74b3d8;\n",
       "  color: #000000;\n",
       "}\n",
       "#T_65aff_row7_col7 {\n",
       "  background-color: #60a7d2;\n",
       "  color: #f1f1f1;\n",
       "}\n",
       "#T_65aff_row7_col8 {\n",
       "  background-color: #b5d4e9;\n",
       "  color: #000000;\n",
       "}\n",
       "#T_65aff_row8_col0 {\n",
       "  background-color: #0a549e;\n",
       "  color: #f1f1f1;\n",
       "}\n",
       "#T_65aff_row8_col2 {\n",
       "  background-color: #3080bd;\n",
       "  color: #f1f1f1;\n",
       "}\n",
       "#T_65aff_row8_col5 {\n",
       "  background-color: #c6dbef;\n",
       "  color: #000000;\n",
       "}\n",
       "#T_65aff_row8_col6 {\n",
       "  background-color: #4e9acb;\n",
       "  color: #f1f1f1;\n",
       "}\n",
       "#T_65aff_row8_col7 {\n",
       "  background-color: #57a0ce;\n",
       "  color: #f1f1f1;\n",
       "}\n",
       "</style>\n",
       "<table id=\"T_65aff\">\n",
       "  <thead>\n",
       "    <tr>\n",
       "      <th class=\"blank level0\" >&nbsp;</th>\n",
       "      <th id=\"T_65aff_level0_col0\" class=\"col_heading level0 col0\" >PC1</th>\n",
       "      <th id=\"T_65aff_level0_col1\" class=\"col_heading level0 col1\" >PC2</th>\n",
       "      <th id=\"T_65aff_level0_col2\" class=\"col_heading level0 col2\" >PC3</th>\n",
       "      <th id=\"T_65aff_level0_col3\" class=\"col_heading level0 col3\" >PC4</th>\n",
       "      <th id=\"T_65aff_level0_col4\" class=\"col_heading level0 col4\" >PC5</th>\n",
       "      <th id=\"T_65aff_level0_col5\" class=\"col_heading level0 col5\" >PC6</th>\n",
       "      <th id=\"T_65aff_level0_col6\" class=\"col_heading level0 col6\" >PC7</th>\n",
       "      <th id=\"T_65aff_level0_col7\" class=\"col_heading level0 col7\" >PC8</th>\n",
       "      <th id=\"T_65aff_level0_col8\" class=\"col_heading level0 col8\" >PC9</th>\n",
       "    </tr>\n",
       "  </thead>\n",
       "  <tbody>\n",
       "    <tr>\n",
       "      <th id=\"T_65aff_level0_row0\" class=\"row_heading level0 row0\" >mpg</th>\n",
       "      <td id=\"T_65aff_row0_col0\" class=\"data row0 col0\" >-0.374705</td>\n",
       "      <td id=\"T_65aff_row0_col1\" class=\"data row0 col1\" >-0.046189</td>\n",
       "      <td id=\"T_65aff_row0_col2\" class=\"data row0 col2\" >-0.257296</td>\n",
       "      <td id=\"T_65aff_row0_col3\" class=\"data row0 col3\" >-0.199342</td>\n",
       "      <td id=\"T_65aff_row0_col4\" class=\"data row0 col4\" >0.031205</td>\n",
       "      <td id=\"T_65aff_row0_col5\" class=\"data row0 col5\" >0.755299</td>\n",
       "      <td id=\"T_65aff_row0_col6\" class=\"data row0 col6\" >0.354683</td>\n",
       "      <td id=\"T_65aff_row0_col7\" class=\"data row0 col7\" >-0.195030</td>\n",
       "      <td id=\"T_65aff_row0_col8\" class=\"data row0 col8\" >-0.127427</td>\n",
       "    </tr>\n",
       "    <tr>\n",
       "      <th id=\"T_65aff_level0_row1\" class=\"row_heading level0 row1\" >cylinders</th>\n",
       "      <td id=\"T_65aff_row1_col0\" class=\"data row1 col0\" >0.390297</td>\n",
       "      <td id=\"T_65aff_row1_col1\" class=\"data row1 col1\" >0.020630</td>\n",
       "      <td id=\"T_65aff_row1_col2\" class=\"data row1 col2\" >-0.163054</td>\n",
       "      <td id=\"T_65aff_row1_col3\" class=\"data row1 col3\" >0.222610</td>\n",
       "      <td id=\"T_65aff_row1_col4\" class=\"data row1 col4\" >-0.000059</td>\n",
       "      <td id=\"T_65aff_row1_col5\" class=\"data row1 col5\" >0.472667</td>\n",
       "      <td id=\"T_65aff_row1_col6\" class=\"data row1 col6\" >-0.549276</td>\n",
       "      <td id=\"T_65aff_row1_col7\" class=\"data row1 col7\" >0.314814</td>\n",
       "      <td id=\"T_65aff_row1_col8\" class=\"data row1 col8\" >-0.383243</td>\n",
       "    </tr>\n",
       "    <tr>\n",
       "      <th id=\"T_65aff_level0_row2\" class=\"row_heading level0 row2\" >displacement</th>\n",
       "      <td id=\"T_65aff_row2_col0\" class=\"data row2 col0\" >0.404817</td>\n",
       "      <td id=\"T_65aff_row2_col1\" class=\"data row2 col1\" >0.014770</td>\n",
       "      <td id=\"T_65aff_row2_col2\" class=\"data row2 col2\" >-0.150779</td>\n",
       "      <td id=\"T_65aff_row2_col3\" class=\"data row2 col3\" >0.153581</td>\n",
       "      <td id=\"T_65aff_row2_col4\" class=\"data row2 col4\" >-0.009156</td>\n",
       "      <td id=\"T_65aff_row2_col5\" class=\"data row2 col5\" >0.297809</td>\n",
       "      <td id=\"T_65aff_row2_col6\" class=\"data row2 col6\" >0.004035</td>\n",
       "      <td id=\"T_65aff_row2_col7\" class=\"data row2 col7\" >-0.121299</td>\n",
       "      <td id=\"T_65aff_row2_col8\" class=\"data row2 col8\" >0.828299</td>\n",
       "    </tr>\n",
       "    <tr>\n",
       "      <th id=\"T_65aff_level0_row3\" class=\"row_heading level0 row3\" >horsepower</th>\n",
       "      <td id=\"T_65aff_row3_col0\" class=\"data row3 col0\" >0.385138</td>\n",
       "      <td id=\"T_65aff_row3_col1\" class=\"data row3 col1\" >0.233024</td>\n",
       "      <td id=\"T_65aff_row3_col2\" class=\"data row3 col2\" >-0.156907</td>\n",
       "      <td id=\"T_65aff_row3_col3\" class=\"data row3 col3\" >-0.007860</td>\n",
       "      <td id=\"T_65aff_row3_col4\" class=\"data row3 col4\" >0.169984</td>\n",
       "      <td id=\"T_65aff_row3_col5\" class=\"data row3 col5\" >-0.055093</td>\n",
       "      <td id=\"T_65aff_row3_col6\" class=\"data row3 col6\" >0.667713</td>\n",
       "      <td id=\"T_65aff_row3_col7\" class=\"data row3 col7\" >0.528806</td>\n",
       "      <td id=\"T_65aff_row3_col8\" class=\"data row3 col8\" >-0.123615</td>\n",
       "    </tr>\n",
       "    <tr>\n",
       "      <th id=\"T_65aff_level0_row4\" class=\"row_heading level0 row4\" >weight</th>\n",
       "      <td id=\"T_65aff_row4_col0\" class=\"data row4 col0\" >0.390189</td>\n",
       "      <td id=\"T_65aff_row4_col1\" class=\"data row4 col1\" >-0.040777</td>\n",
       "      <td id=\"T_65aff_row4_col2\" class=\"data row4 col2\" >-0.136605</td>\n",
       "      <td id=\"T_65aff_row4_col3\" class=\"data row4 col3\" >0.342554</td>\n",
       "      <td id=\"T_65aff_row4_col4\" class=\"data row4 col4\" >0.205570</td>\n",
       "      <td id=\"T_65aff_row4_col5\" class=\"data row4 col5\" >-0.106440</td>\n",
       "      <td id=\"T_65aff_row4_col6\" class=\"data row4 col6\" >0.196891</td>\n",
       "      <td id=\"T_65aff_row4_col7\" class=\"data row4 col7\" >-0.707468</td>\n",
       "      <td id=\"T_65aff_row4_col8\" class=\"data row4 col8\" >-0.342374</td>\n",
       "    </tr>\n",
       "    <tr>\n",
       "      <th id=\"T_65aff_level0_row5\" class=\"row_heading level0 row5\" >acceleration</th>\n",
       "      <td id=\"T_65aff_row5_col0\" class=\"data row5 col0\" >-0.249862</td>\n",
       "      <td id=\"T_65aff_row5_col1\" class=\"data row5 col1\" >-0.447718</td>\n",
       "      <td id=\"T_65aff_row5_col2\" class=\"data row5 col2\" >0.279268</td>\n",
       "      <td id=\"T_65aff_row5_col3\" class=\"data row5 col3\" >0.743318</td>\n",
       "      <td id=\"T_65aff_row5_col4\" class=\"data row5 col4\" >0.005795</td>\n",
       "      <td id=\"T_65aff_row5_col5\" class=\"data row5 col5\" >0.103036</td>\n",
       "      <td id=\"T_65aff_row5_col6\" class=\"data row5 col6\" >0.213376</td>\n",
       "      <td id=\"T_65aff_row5_col7\" class=\"data row5 col7\" >0.221399</td>\n",
       "      <td id=\"T_65aff_row5_col8\" class=\"data row5 col8\" >0.037513</td>\n",
       "    </tr>\n",
       "    <tr>\n",
       "      <th id=\"T_65aff_level0_row6\" class=\"row_heading level0 row6\" >model_year</th>\n",
       "      <td id=\"T_65aff_row6_col0\" class=\"data row6 col0\" >-0.201926</td>\n",
       "      <td id=\"T_65aff_row6_col1\" class=\"data row6 col1\" >-0.346888</td>\n",
       "      <td id=\"T_65aff_row6_col2\" class=\"data row6 col2\" >-0.826340</td>\n",
       "      <td id=\"T_65aff_row6_col3\" class=\"data row6 col3\" >0.063921</td>\n",
       "      <td id=\"T_65aff_row6_col4\" class=\"data row6 col4\" >0.175107</td>\n",
       "      <td id=\"T_65aff_row6_col5\" class=\"data row6 col5\" >-0.294713</td>\n",
       "      <td id=\"T_65aff_row6_col6\" class=\"data row6 col6\" >-0.113877</td>\n",
       "      <td id=\"T_65aff_row6_col7\" class=\"data row6 col7\" >0.128827</td>\n",
       "      <td id=\"T_65aff_row6_col8\" class=\"data row6 col8\" >0.069917</td>\n",
       "    </tr>\n",
       "    <tr>\n",
       "      <th id=\"T_65aff_level0_row7\" class=\"row_heading level0 row7\" >origin_japan</th>\n",
       "      <td id=\"T_65aff_row7_col0\" class=\"data row7 col0\" >-0.228405</td>\n",
       "      <td id=\"T_65aff_row7_col1\" class=\"data row7 col1\" >0.607000</td>\n",
       "      <td id=\"T_65aff_row7_col2\" class=\"data row7 col2\" >-0.276675</td>\n",
       "      <td id=\"T_65aff_row7_col3\" class=\"data row7 col3\" >0.411797</td>\n",
       "      <td id=\"T_65aff_row7_col4\" class=\"data row7 col4\" >-0.570073</td>\n",
       "      <td id=\"T_65aff_row7_col5\" class=\"data row7 col5\" >-0.068650</td>\n",
       "      <td id=\"T_65aff_row7_col6\" class=\"data row7 col6\" >0.033738</td>\n",
       "      <td id=\"T_65aff_row7_col7\" class=\"data row7 col7\" >-0.047016</td>\n",
       "      <td id=\"T_65aff_row7_col8\" class=\"data row7 col8\" >-0.014582</td>\n",
       "    </tr>\n",
       "    <tr>\n",
       "      <th id=\"T_65aff_level0_row8\" class=\"row_heading level0 row8\" >origin_usa</th>\n",
       "      <td id=\"T_65aff_row8_col0\" class=\"data row8 col0\" >0.295694</td>\n",
       "      <td id=\"T_65aff_row8_col1\" class=\"data row8 col1\" >-0.502024</td>\n",
       "      <td id=\"T_65aff_row8_col2\" class=\"data row8 col2\" >-0.061804</td>\n",
       "      <td id=\"T_65aff_row8_col3\" class=\"data row8 col3\" >-0.208639</td>\n",
       "      <td id=\"T_65aff_row8_col4\" class=\"data row8 col4\" >-0.756379</td>\n",
       "      <td id=\"T_65aff_row8_col5\" class=\"data row8 col5\" >-0.029489</td>\n",
       "      <td id=\"T_65aff_row8_col6\" class=\"data row8 col6\" >0.168039</td>\n",
       "      <td id=\"T_65aff_row8_col7\" class=\"data row8 col7\" >-0.013082</td>\n",
       "      <td id=\"T_65aff_row8_col8\" class=\"data row8 col8\" >-0.108621</td>\n",
       "    </tr>\n",
       "  </tbody>\n",
       "</table>\n"
      ],
      "text/plain": [
       "<pandas.io.formats.style.Styler at 0x19cca350940>"
      ]
     },
     "execution_count": 33,
     "metadata": {},
     "output_type": "execute_result"
    }
   ],
   "source": [
    "df_weights = pd.DataFrame(pca.components_.T, columns=df_pca.columns, index=df_scaled.columns)\n",
    "df_weights.style.background_gradient(cmap='Blues')\n"
   ]
  },
  {
   "cell_type": "markdown",
   "metadata": {},
   "source": [
    "### Correlation Matrix"
   ]
  },
  {
   "cell_type": "code",
   "execution_count": 22,
   "metadata": {},
   "outputs": [
    {
     "data": {
      "image/png": "[encoded data removed]",
      "text/plain": [
       "<Figure size 432x288 with 2 Axes>"
      ]
     },
     "metadata": {
      "needs_background": "light"
     },
     "output_type": "display_data"
    }
   ],
   "source": [
    "df_corr = df_scaled.corr()\n",
    "sns.heatmap(df_corr, annot=True, vmin=0, vmax=1);\n"
   ]
  },
  {
   "cell_type": "markdown",
   "metadata": {},
   "source": [
    "- [ ] Which conclusions could you relate from the relationship of the 2 previous plots?"
   ]
  },
  {
   "cell_type": "markdown",
   "metadata": {},
   "source": [
    "PCA groups the set of variables that are highly correlated and has high explainibilty."
   ]
  },
  {
   "cell_type": "markdown",
   "metadata": {},
   "source": [
    "### Calculating One PCA Value"
   ]
  },
  {
   "cell_type": "markdown",
   "metadata": {},
   "source": [
    "- [ ] How did we obtain `2.77` for **chevrolet chevelle malibu** in **PC1**?"
   ]
  },
  {
   "cell_type": "code",
   "execution_count": 23,
   "metadata": {},
   "outputs": [
    {
     "data": {
      "text/plain": [
       "mpg            -0.374705\n",
       "cylinders       0.390297\n",
       "displacement    0.404817\n",
       "horsepower      0.385138\n",
       "weight          0.390189\n",
       "acceleration   -0.249862\n",
       "model_year     -0.201926\n",
       "origin_japan   -0.228405\n",
       "origin_usa      0.295694\n",
       "Name: PC1, dtype: float64"
      ]
     },
     "execution_count": 23,
     "metadata": {},
     "output_type": "execute_result"
    }
   ],
   "source": [
    "df_weights.PC1"
   ]
  },
  {
   "cell_type": "code",
   "execution_count": 24,
   "metadata": {},
   "outputs": [
    {
     "data": {
      "text/plain": [
       "mpg            -1.083498\n",
       "cylinders       1.483947\n",
       "displacement    1.488732\n",
       "horsepower      1.574594\n",
       "weight          0.843334\n",
       "acceleration   -1.466724\n",
       "model_year     -1.625315\n",
       "origin_japan   -0.502390\n",
       "origin_usa      0.774597\n",
       "Name: buick skylark 320, dtype: float64"
      ]
     },
     "execution_count": 24,
     "metadata": {},
     "output_type": "execute_result"
    }
   ],
   "source": [
    "df_scaled.iloc[1,:]"
   ]
  },
  {
   "cell_type": "code",
   "execution_count": 25,
   "metadata": {},
   "outputs": [
    {
     "data": {
      "text/plain": [
       "2.768101540871218"
      ]
     },
     "execution_count": 25,
     "metadata": {},
     "output_type": "execute_result"
    }
   ],
   "source": [
    "(df_weights.PC1*df_scaled.iloc[0,:]).sum()"
   ]
  },
  {
   "cell_type": "markdown",
   "metadata": {},
   "source": [
    "## Explained Variance Ratio"
   ]
  },
  {
   "cell_type": "code",
   "execution_count": 26,
   "metadata": {},
   "outputs": [
    {
     "data": {
      "text/plain": [
       "array([0.62920572, 0.13167304, 0.09705901, 0.06659198, 0.03362041,\n",
       "       0.02024791, 0.01234709, 0.00589172, 0.00336312])"
      ]
     },
     "execution_count": 26,
     "metadata": {},
     "output_type": "execute_result"
    }
   ],
   "source": [
    "# loss is measured by the pca.explained_variance_ratio_ \n",
    "pca.explained_variance_ratio_"
   ]
  },
  {
   "cell_type": "code",
   "execution_count": 27,
   "metadata": {},
   "outputs": [
    {
     "data": {
      "text/plain": [
       "0.76087876"
      ]
     },
     "execution_count": 27,
     "metadata": {},
     "output_type": "execute_result"
    }
   ],
   "source": [
    "# PC1 explains 62.92%  of the original variability  \n",
    "# PC2 explains 13.16% of the original variability\n",
    "0.62920572+ 0.13167304"
   ]
  },
  {
   "cell_type": "markdown",
   "metadata": {},
   "source": [
    "By plotting PC1 and PC2 explains 76.08% of the data using only 2-axis "
   ]
  },
  {
   "cell_type": "markdown",
   "metadata": {},
   "source": [
    "### Biplot"
   ]
  },
  {
   "cell_type": "code",
   "execution_count": 28,
   "metadata": {},
   "outputs": [
    {
     "data": {
      "application/vnd.plotly.v1+json": {
       "config": {
        "plotlyServerURL": "https://plot.ly"
       },
       "data": [
        {
         "hovertemplate": "<b>%{hovertext}</b><br><br>color=0<br>PC1 ~ 0.63%=%{x}<br>PC2 ~ 0.13%=%{y}<extra></extra>",
         "hovertext": [
          "chevrolet chevelle malibu",
          "buick skylark 320",
          "plymouth satellite",
          "amc rebel sst",
          "ford torino",
          "ford galaxie 500",
          "chevrolet impala",
          "plymouth fury iii",
          "pontiac catalina",
          "amc ambassador dpl",
          "dodge challenger se",
          "plymouth 'cuda 340",
          "chevrolet monte carlo",
          "buick estate wagon (sw)",
          "ford f250",
          "chevy c20",
          "dodge d200",
          "hi 1200d",
          "chevrolet impala",
          "pontiac catalina brougham",
          "ford galaxie 500",
          "plymouth fury iii",
          "dodge monaco (sw)",
          "ford country squire (sw)",
          "pontiac safari (sw)",
          "chevrolet impala",
          "pontiac catalina",
          "plymouth fury iii",
          "ford galaxie 500",
          "amc ambassador sst",
          "mercury marquis",
          "buick lesabre custom",
          "oldsmobile delta 88 royale",
          "chrysler newport royal",
          "amc matador (sw)",
          "chevrolet chevelle concours (sw)",
          "ford gran torino (sw)",
          "plymouth satellite custom (sw)",
          "buick century 350",
          "amc matador",
          "chevrolet malibu",
          "ford gran torino",
          "dodge coronet custom",
          "mercury marquis brougham",
          "chevrolet caprice classic",
          "ford ltd",
          "plymouth fury gran sedan",
          "chrysler new yorker brougham",
          "buick electra 225 custom",
          "amc ambassador brougham",
          "chevrolet impala",
          "ford country",
          "plymouth custom suburb",
          "oldsmobile vista cruiser",
          "chevrolet monte carlo s",
          "pontiac grand prix",
          "dodge dart custom",
          "oldsmobile omega",
          "ford gran torino",
          "buick century luxus (sw)",
          "dodge coronet custom (sw)",
          "ford gran torino (sw)",
          "amc matador (sw)",
          "pontiac catalina",
          "chevrolet bel air",
          "plymouth grand fury",
          "ford ltd",
          "chevrolet monza 2+2",
          "ford mustang ii",
          "chevrolet chevelle malibu classic",
          "dodge coronet brougham",
          "amc matador",
          "ford gran torino",
          "plymouth volare premier v8",
          "cadillac seville",
          "chevy c10",
          "ford f108",
          "dodge d100",
          "chevrolet caprice classic",
          "dodge monaco brougham",
          "mercury cougar brougham",
          "pontiac grand prix lj",
          "chevrolet monte carlo landau",
          "chrysler cordoba",
          "ford thunderbird",
          "dodge diplomat",
          "mercury monarch ghia",
          "chevrolet monte carlo landau",
          "buick regal sport coupe (turbo)",
          "ford futura",
          "dodge magnum xe",
          "chevrolet caprice classic",
          "ford ltd landau",
          "mercury grand marquis",
          "dodge st. regis",
          "buick estate wagon (sw)",
          "ford country squire (sw)",
          "chevrolet malibu classic (sw)",
          "chrysler lebaron town @ country (sw)",
          "cadillac eldorado"
         ],
         "legendgroup": "0",
         "marker": {
          "color": "#636efa",
          "symbol": "circle"
         },
         "mode": "markers",
         "name": "0",
         "orientation": "v",
         "showlegend": true,
         "type": "scatter",
         "x": [
          2.7681015408712186,
          3.5617956121137855,
          3.0704887096489473,
          3.020336929873965,
          3.007717109083675,
          4.632490431458017,
          5.094469429700946,
          5.016170883199185,
          5.090410338149975,
          4.311461998206058,
          3.8159430065972666,
          3.7997906445666962,
          3.817831087801164,
          4.474529595624324,
          4.539184109214653,
          3.9829985413493474,
          4.216507495361387,
          3.7956717556448845,
          3.746975530741119,
          4.203465298813927,
          3.469303293081093,
          3.330087048340599,
          4.50968736198196,
          4.285807745344449,
          4.517123646681602,
          3.770056782051476,
          4.066901911248673,
          3.1997288007521294,
          3.448260263080931,
          3.0177670685735394,
          4.858808968921737,
          3.6387158952704883,
          3.715720906747914,
          4.236928551522718,
          3.1244138609937004,
          2.9905269282810982,
          2.980132134875459,
          3.175779631805892,
          3.644642900676742,
          3.107090472321579,
          3.2925678303444674,
          2.8672362574814456,
          3.070861881342404,
          4.757051654295555,
          3.845955853909781,
          3.5991673731083718,
          3.1491456672903992,
          4.86743840278331,
          5.173147058401885,
          3.736415343261145,
          4.005886047171806,
          4.222301906026265,
          3.8880996463395476,
          3.9716695923375527,
          3.239664394511149,
          4.644395444945271,
          3.033022730745102,
          3.7717003042158965,
          2.8371444666867807,
          3.478780071791411,
          3.2861331684780053,
          2.9805162531295943,
          2.9585480837448066,
          3.931521616937017,
          3.203874783789331,
          3.0632838207807245,
          3.431025654813889,
          1.7566640632710426,
          2.5505510377939413,
          2.791608842396015,
          3.0027560622880403,
          2.485518030835944,
          3.2523574799124373,
          3.0138394903681522,
          3.5722380568002956,
          3.249411082462731,
          2.5560649305340597,
          2.856201479678186,
          2.678072869268436,
          2.835336323009422,
          2.609589610978266,
          3.7521501976652267,
          3.429822947020606,
          3.824916023414913,
          2.996345529208874,
          2.4019451841723467,
          2.251875846060634,
          2.2687111876420976,
          1.7874147479698732,
          2.3300306345359965,
          2.606620854589843,
          2.160678457624367,
          2.2386682110746827,
          2.6954387354066163,
          2.216980202929832,
          2.8747761749764247,
          2.729367640272802,
          1.785823932335057,
          2.7656218242804957,
          1.8427048456742507
         ],
         "xaxis": "x",
         "y": [
          0.6536686698172106,
          0.961842441046651,
          0.9422170408259082,
          0.7897426311564745,
          0.9658848801234107,
          1.3856317199998152,
          1.6903140188207058,
          1.7412913094917393,
          1.5548599921028232,
          1.5989644651082175,
          1.246800159147319,
          1.5088024728722187,
          1.1996965708857101,
          1.6192235455454078,
          0.8454218116774067,
          0.5960032585264803,
          0.8956975398278194,
          -0.026758099262872922,
          0.7674314988142198,
          0.9041029397038357,
          0.4537395827492989,
          0.514924180542061,
          0.920258326814808,
          0.7849191070376172,
          0.7962886945067543,
          0.6759449061474158,
          0.7323671916642901,
          0.3315908756837777,
          0.4418991678282284,
          0.6649990397872679,
          1.1048484639522405,
          0.36063172471550925,
          0.39907688558927806,
          0.7461942188215561,
          0.5037839493161869,
          0.14118617392479588,
          -0.13330685508829904,
          0.25905881736261666,
          0.48814719505065035,
          0.5884878687200883,
          0.31167969088354835,
          0.004144671501017554,
          0.4170027421384725,
          0.8474389601999838,
          0.48866500666293605,
          0.3725975468908915,
          0.07583472781987616,
          1.037793401497389,
          1.0960730681762738,
          0.8279535841508693,
          0.14991348963541945,
          0.49514775295894337,
          0.43262205050015784,
          0.5864474419466885,
          0.29531028642370355,
          1.3709932540772927,
          0.6789091257072583,
          0.8762465612864422,
          -0.007322082903606193,
          -0.03021257132599525,
          0.13346307381914585,
          -0.34434313844946995,
          -0.18388386867439346,
          0.47498693921648866,
          -0.07296449089241114,
          -0.13713736908747104,
          0.022102115547087024,
          -0.18734746702333785,
          0.2211924972754063,
          -0.04542764554521444,
          0.027116591313183173,
          -0.28903272661516033,
          0.08408849515691702,
          0.02441194575420808,
          0.3476363789560623,
          0.18808722427222896,
          -0.3882024408153347,
          -0.09668822523783999,
          -0.012058337355938026,
          -0.2058571273586727,
          -0.49852101165119794,
          0.4335597612536097,
          0.32273559484855147,
          0.3133522524081844,
          -0.31927543896967026,
          -0.2528494926443604,
          -0.19298511612063998,
          -0.20829191232438973,
          -0.14630660737665505,
          0.0969890072345056,
          -0.3394201661191463,
          -0.7578976865132779,
          -0.4374287499266215,
          -0.34798790138248703,
          -0.6998836165203457,
          -0.5431528659134579,
          -0.5013144880885368,
          -0.7303202057284301,
          -0.25260724736873247,
          -1.1452656197464437
         ],
         "yaxis": "y"
        },
        {
         "hovertemplate": "<b>%{hovertext}</b><br><br>color=1<br>PC1 ~ 0.63%=%{x}<br>PC2 ~ 0.13%=%{y}<extra></extra>",
         "hovertext": [
          "toyota corona mark ii",
          "datsun pl510",
          "volkswagen 1131 deluxe sedan",
          "peugeot 504",
          "audi 100 ls",
          "saab 99e",
          "bmw 2002",
          "datsun pl510",
          "toyota corona",
          "opel 1900",
          "peugeot 304",
          "fiat 124b",
          "toyota corolla 1200",
          "datsun 1200",
          "volkswagen model 111",
          "toyota corona hardtop",
          "volkswagen type 3",
          "mazda rx2 coupe",
          "volvo 145e (sw)",
          "volkswagen 411 (sw)",
          "peugeot 504 (sw)",
          "renault 12 (sw)",
          "datsun 510 (sw)",
          "toyouta corona mark ii (sw)",
          "toyota corolla 1600 (sw)",
          "volkswagen super beetle",
          "toyota carina",
          "datsun 610",
          "maxda rx3",
          "fiat 124 sport coupe",
          "fiat 128",
          "opel manta",
          "audi 100ls",
          "volvo 144ea",
          "saab 99le",
          "toyota mark ii",
          "datsun b210",
          "toyota corolla 1200",
          "audi fox",
          "volkswagen dasher",
          "opel manta",
          "toyota corona",
          "datsun 710",
          "fiat 128",
          "fiat 124 tc",
          "honda civic",
          "subaru",
          "fiat x1.9",
          "toyota corolla",
          "toyota corona",
          "volkswagen dasher",
          "datsun 710",
          "volkswagen rabbit",
          "audi 100ls",
          "peugeot 504",
          "volvo 244dl",
          "saab 99le",
          "honda civic cvcc",
          "fiat 131",
          "opel 1900",
          "renault 12tl",
          "vw rabbit",
          "honda civic",
          "volkswagen rabbit",
          "datsun b-210",
          "toyota corolla",
          "volvo 245",
          "toyota mark ii",
          "honda accord cvcc",
          "renault 5 gtl",
          "datsun f-10 hatchback",
          "volkswagen rabbit custom",
          "toyota corolla liftback",
          "subaru dl",
          "volkswagen dasher",
          "datsun 810",
          "bmw 320i",
          "mazda rx-4",
          "volkswagen rabbit custom diesel",
          "mazda glc deluxe",
          "datsun b210 gx",
          "honda civic cvcc",
          "toyota corona",
          "datsun 510",
          "toyota celica gt liftback",
          "datsun 200-sx",
          "saab 99gle",
          "volkswagen scirocco",
          "honda accord lx",
          "vw rabbit custom",
          "maxda glc deluxe",
          "peugeot 504",
          "datsun 210",
          "fiat strada custom",
          "vw rabbit",
          "toyota corolla tercel",
          "datsun 310",
          "audi 4000",
          "toyota corona liftback",
          "mazda 626",
          "datsun 510 hatchback",
          "toyota corolla",
          "mazda glc",
          "datsun 210",
          "vw rabbit c (diesel)",
          "vw dasher (diesel)",
          "audi 5000s (diesel)",
          "mercedes-benz 240d",
          "honda civic 1500 gl",
          "subaru dl",
          "vokswagen rabbit",
          "datsun 280-zx",
          "mazda rx-7 gs",
          "triumph tr7 coupe",
          "honda accord",
          "toyota starlet",
          "honda civic 1300",
          "subaru",
          "datsun 210 mpg",
          "toyota tercel",
          "mazda glc 4",
          "volkswagen jetta",
          "honda prelude",
          "toyota corolla",
          "datsun 200sx",
          "mazda 626",
          "peugeot 505s turbo diesel",
          "volvo diesel",
          "toyota cressida",
          "datsun 810 maxima",
          "volkswagen rabbit l",
          "mazda glc custom l",
          "mazda glc custom",
          "nissan stanza xe",
          "honda accord",
          "toyota corolla",
          "honda civic",
          "honda civic (auto)",
          "datsun 310 gx",
          "toyota celica gt",
          "vw pickup"
         ],
         "legendgroup": "1",
         "marker": {
          "color": "#EF553B",
          "symbol": "circle"
         },
         "mode": "markers",
         "name": "1",
         "orientation": "v",
         "showlegend": true,
         "type": "scatter",
         "x": [
          -1.5117090900327217,
          -1.8539919546004493,
          -2.337105206283633,
          -1.1708840167191015,
          -0.9436398046030887,
          -1.2505822929287727,
          -0.6639071167898434,
          -1.9088774646442972,
          -1.590215117947767,
          -1.2518077657249242,
          -2.212931357517503,
          -1.6686840764773183,
          -3.0045718962677714,
          -3.1358124895218014,
          -2.164234843114468,
          -1.7100573238164951,
          -2.301844756937191,
          -1.6400477727138776,
          -0.258996129928535,
          -1.3234376539824424,
          -1.089800965287824,
          -1.8307891304318464,
          -2.125791803000296,
          -1.4192834730357566,
          -2.158927141710039,
          -2.4942081994108354,
          -2.0216999762290953,
          -1.7424167430361002,
          -1.8117452012346849,
          -1.4058721965382133,
          -2.6228436585481534,
          -1.4395059174676486,
          -0.7636302480116363,
          -0.48253114866286334,
          -0.7025633473933521,
          -0.2527186232612685,
          -3.0367912438032896,
          -3.369686347068876,
          -1.7869380049213197,
          -1.903689436963467,
          -1.478073979005518,
          -3.1104314483765885,
          -3.1051013923247317,
          -1.6180991767383153,
          -1.4140304768102703,
          -1.6302847523868473,
          -1.90339725608961,
          -2.1723606377205624,
          -2.471967394462309,
          -1.4069657942440765,
          -1.7989168316292192,
          -1.8446516954605476,
          -1.906054525637936,
          -1.012829755461246,
          -1.1239902617662973,
          -0.7506730887270656,
          -0.7599097807329923,
          -3.2168648741469084,
          -1.580350338848345,
          -1.6905586702330209,
          -1.6879493197806332,
          -1.979076585149039,
          -3.262682109457129,
          -1.8361280647836744,
          -2.9415714142040255,
          -2.522415657429687,
          -0.6490118810553859,
          -0.6343577993866375,
          -3.0528310144505353,
          -2.983800764019152,
          -3.0711228402005757,
          -1.9525234911210592,
          -2.5937957048699842,
          -2.831782260486329,
          -1.873365912837972,
          -0.9446043305140472,
          -0.720709340637325,
          -1.6862893981364528,
          -3.6269463662439403,
          -3.5171867536375294,
          -3.515353691118172,
          -3.358355808126506,
          -1.878676363618261,
          -2.067249905616301,
          -1.6461383377880134,
          -1.878461296689781,
          -0.9035970736629213,
          -2.241976761227779,
          -2.797884011646174,
          -2.2643727772648057,
          -3.09706445269898,
          -2.234555208869523,
          -3.332410726355696,
          -2.5054262324792576,
          -2.6585199479274357,
          -3.7123790526783513,
          -3.389547084352274,
          -2.375767649067532,
          -2.1975351428076606,
          -2.7332460697898475,
          -2.6637674696137714,
          -2.741827687325792,
          -3.935569829111597,
          -3.778526960727179,
          -3.7665419268178377,
          -3.7896558111083025,
          -2.2861687926791627,
          -2.1450974882838834,
          -3.5478151473592257,
          -3.250602891295812,
          -2.4631640868581566,
          -0.862924187603814,
          -2.142924384264843,
          -2.0054091025170004,
          -2.9371011292583087,
          -3.799779490281288,
          -3.5048707066863978,
          -3.2520438545747075,
          -3.7309784216739326,
          -3.5542588803310164,
          -3.2253588101360746,
          -2.2312373122176057,
          -2.8254424824464315,
          -2.91232328237067,
          -2.3400295843284904,
          -2.842341452362101,
          -1.8800185769476299,
          -1.531030402160869,
          -0.8406188760179022,
          -0.9230973863763253,
          -2.6266734645686425,
          -3.600750084519431,
          -3.2832201745076848,
          -2.8423565624032516,
          -3.002256213189245,
          -3.1515771788756393,
          -3.3962509432358203,
          -3.171311038787438,
          -3.4912715676900086,
          -2.190278328734009,
          -4.036985123492386
         ],
         "xaxis": "x",
         "y": [
          2.44719092467198,
          2.4775993611600224,
          -0.24500642607878337,
          0.45852607119104305,
          0.9813183200997995,
          0.5204480644827169,
          1.445268585918118,
          2.383311724206216,
          2.516390670356863,
          0.9606031680114574,
          -0.06905627550621758,
          0.7814736347329231,
          1.5024668600328224,
          1.6733350185849507,
          -0.016571069624200248,
          2.1818885652959827,
          -0.8749253158047522,
          2.5279352255393412,
          0.9394536711871759,
          0.14909658748123655,
          -0.04467302791601419,
          0.0949075568872038,
          1.8935230537163412,
          2.3524581840441976,
          1.965484087805211,
          -0.6146427126770712,
          1.4978430688673745,
          1.9253376380640292,
          2.4070432245337514,
          0.5307727526886316,
          -0.37060630887151796,
          0.4593853364457419,
          0.8031474722603438,
          0.6798739646054124,
          0.8918578705591248,
          2.6048191608440843,
          1.2243498672423454,
          0.8856681022677257,
          0.21599683190812824,
          0.30889734286911,
          0.5244119569310581,
          1.5536964516806668,
          1.1800718271176769,
          0.36382663718415026,
          0.5927532432904644,
          2.0775290712035672,
          1.9632005460381228,
          0.19624585719811155,
          1.669800687520026,
          2.212656269800781,
          0.07134780157945324,
          1.655426228402842,
          0.4615592601169106,
          0.4533091969904491,
          0.07395985695965583,
          0.5474481096650258,
          0.808382395592056,
          1.2862304277594818,
          0.2035183721731612,
          -0.02350050531828713,
          0.23550290661439777,
          0.3347734180949133,
          1.2081918933397708,
          0.6692273711638221,
          1.371941493780454,
          1.517211223050559,
          0.28568696014592304,
          1.9121234022159743,
          1.0239501322415006,
          -0.5848645457913627,
          1.3034269058035906,
          0.24107719499953906,
          1.1370031965468466,
          1.3707505892730223,
          0.2851682785700187,
          1.8999861664070437,
          0.7273943771946538,
          2.103152085330058,
          -1.2592005313250334,
          0.6787877294030378,
          0.8756864935144052,
          1.2059302259768174,
          1.7960744347735913,
          1.7391078639633522,
          1.7386660236458886,
          1.7211165920489635,
          0.18222541188190983,
          0.02101346023857114,
          1.2459202669891265,
          0.07372199498194636,
          1.3396727272046818,
          -1.7067888138103389,
          0.7010328466416618,
          -0.09371413654340728,
          -0.1701405618008342,
          0.6071673746916821,
          1.0299118366146396,
          -0.29635009541177043,
          1.3450653525099427,
          0.9264144764088781,
          1.4069658046904268,
          1.3064299203383123,
          0.7261014834131547,
          0.5490896583238425,
          -1.4921914341045237,
          -1.8238576386430327,
          -1.0628121949930007,
          -1.3566190360184744,
          1.4294934837113964,
          0.7976942411578909,
          -0.2700703274682404,
          2.26814507558349,
          1.9221343212009974,
          -0.13760134367887927,
          0.993232825232008,
          0.8123890882804234,
          0.9782495843906722,
          0.7486385121748169,
          0.45130990364777057,
          0.7671682752999831,
          1.0395156964581538,
          -0.1461613054177609,
          1.3357493051173748,
          0.9468857332815229,
          1.409264143629786,
          0.6898243083623747,
          -1.133103902330348,
          -1.0146147579305855,
          1.925617672497556,
          1.7574346225649178,
          -0.4268711774902701,
          0.568641151750894,
          0.7043324593256899,
          1.2946267712714041,
          1.2118242836555106,
          0.8016068642905705,
          1.0795093412788264,
          1.001318555313412,
          0.8830780596349705,
          1.4434342837483918,
          -2.1271400067947885
         ],
         "yaxis": "y"
        },
        {
         "hovertemplate": "<b>%{hovertext}</b><br><br>color=2<br>PC1 ~ 0.63%=%{x}<br>PC2 ~ 0.13%=%{y}<extra></extra>",
         "hovertext": [
          "plymouth duster",
          "amc hornet",
          "ford maverick",
          "amc gremlin",
          "chevrolet vega 2300",
          "amc gremlin",
          "plymouth satellite custom",
          "chevrolet chevelle malibu",
          "ford torino 500",
          "amc matador",
          "amc hornet sportabout (sw)",
          "chevrolet vega (sw)",
          "pontiac firebird",
          "ford mustang",
          "mercury capri 2000",
          "plymouth cricket",
          "dodge colt hardtop",
          "chevrolet vega",
          "ford pinto runabout",
          "ford pinto (sw)",
          "dodge colt (sw)",
          "plymouth valiant",
          "chevrolet nova custom",
          "amc hornet",
          "ford maverick",
          "plymouth duster",
          "amc gremlin",
          "chevrolet vega",
          "ford pinto",
          "mercury capri v6",
          "plymouth duster",
          "amc hornet",
          "chevrolet nova",
          "ford pinto",
          "chevrolet vega",
          "chevrolet chevelle malibu classic",
          "amc matador",
          "plymouth satellite sebring",
          "dodge colt",
          "plymouth valiant custom",
          "chevrolet nova",
          "mercury monarch",
          "ford maverick",
          "buick century",
          "chevroelt chevelle malibu",
          "amc matador",
          "plymouth fury",
          "buick skyhawk",
          "ford pinto",
          "amc gremlin",
          "pontiac astro",
          "ford pinto",
          "amc pacer",
          "capri ii",
          "dodge colt",
          "plymouth valiant",
          "chevrolet nova",
          "ford maverick",
          "amc hornet",
          "chevrolet chevette",
          "chevrolet woody",
          "dodge aspen se",
          "ford granada ghia",
          "pontiac ventura sj",
          "amc pacer d/l",
          "ford pinto",
          "peugeot 504",
          "mercedes-benz 280s",
          "buick opel isuzu deluxe",
          "plymouth arrow gs",
          "oldsmobile cutlass supreme",
          "chevrolet concours",
          "buick skylark",
          "plymouth volare custom",
          "ford granada",
          "pontiac sunbird coupe",
          "ford mustang ii 2+2",
          "chevrolet chevette",
          "dodge colt m/m",
          "ford fiesta",
          "oldsmobile cutlass salon brougham",
          "pontiac phoenix lj",
          "chevrolet malibu",
          "ford fairmont (auto)",
          "ford fairmont (man)",
          "plymouth volare",
          "amc concord",
          "buick century special",
          "mercury zephyr",
          "dodge aspen",
          "amc concord d/l",
          "chevrolet chevette",
          "dodge omni",
          "plymouth sapporo",
          "oldsmobile starfire sx",
          "audi 5000",
          "volvo 264gl",
          "peugeot 604sl",
          "pontiac lemans v6",
          "mercury zephyr 6",
          "ford fairmont 4",
          "amc concord dl 6",
          "dodge aspen 6",
          "dodge colt hatchback custom",
          "amc spirit dl",
          "mercedes benz 300d",
          "oldsmobile cutlass salon brougham",
          "plymouth horizon",
          "plymouth horizon tc3",
          "buick skylark limited",
          "chevrolet citation",
          "oldsmobile omega brougham",
          "pontiac phoenix",
          "chevrolet chevette",
          "chevrolet citation",
          "ford fairmont",
          "amc concord",
          "dodge aspen",
          "dodge colt",
          "plymouth reliant",
          "buick skylark",
          "dodge aries wagon (sw)",
          "chevrolet citation",
          "plymouth reliant",
          "plymouth champ",
          "plymouth horizon 4",
          "ford escort 4w",
          "ford escort 2h",
          "buick century",
          "oldsmobile cutlass ls",
          "ford granada gl",
          "chrysler lebaron salon",
          "chevrolet cavalier",
          "chevrolet cavalier wagon",
          "chevrolet cavalier 2-door",
          "pontiac j2000 se hatchback",
          "dodge aries se",
          "pontiac phoenix",
          "ford fairmont futura",
          "plymouth horizon miser",
          "mercury lynx l",
          "buick century limited",
          "oldsmobile cutlass ciera (diesel)",
          "chrysler lebaron medallion",
          "ford granada l",
          "dodge charger 2.2",
          "chevrolet camaro",
          "ford mustang gl",
          "dodge rampage",
          "ford ranger",
          "chevy s-10"
         ],
         "legendgroup": "2",
         "marker": {
          "color": "#00cc96",
          "symbol": "circle"
         },
         "mode": "markers",
         "name": "2",
         "orientation": "v",
         "showlegend": true,
         "type": "scatter",
         "x": [
          0.718741787954721,
          0.90779374592592,
          0.515881183473175,
          0.6808411089928283,
          -0.6192311584276685,
          1.1250318471951037,
          1.4357773846369308,
          1.3838557788447654,
          1.1550736871112073,
          1.2472056740007091,
          1.479522233419897,
          -0.7623053353808521,
          1.3114399566376749,
          1.2188532859466847,
          -0.37289385217110055,
          -1.5088048394367772,
          -0.994214497355724,
          -0.5860569270947419,
          -0.5555872202245106,
          -0.4805829635857061,
          -0.937642868127856,
          0.9929184144486708,
          1.0719897853531273,
          0.9343284597173933,
          0.8734419932790236,
          0.49333110411785386,
          0.9532581108370882,
          -0.8725677814209033,
          -0.6670813340646508,
          0.5258002203078573,
          0.6283843717034161,
          0.8111352589638805,
          1.1825340937849131,
          -0.8623283927242303,
          -0.7981152121151961,
          1.3391447623695303,
          1.311102965271686,
          1.1643311309340392,
          -1.101091807025937,
          0.8460061259987728,
          1.1807903117335454,
          0.5285506541454443,
          0.5385469010258633,
          0.9580039831033659,
          1.2516833355545145,
          1.2586800088300436,
          0.8616644650541557,
          0.9105803287575281,
          -0.6320963985296505,
          0.7141595356741185,
          -0.8398317773638221,
          0.7121827673582913,
          0.7079666068953859,
          -0.5333364418736906,
          -1.2740517450200861,
          0.7371560602862701,
          1.0208950620039177,
          0.05267333504321264,
          0.37247329182533173,
          -2.248382290914607,
          -1.8331620328967566,
          0.816986518674933,
          0.454881951475542,
          1.2193785396388392,
          0.7951634522625586,
          -0.6911463687104754,
          -1.2869765338572399,
          0.5224477201626697,
          -1.2438577654569447,
          -0.821421993035352,
          1.6705027965101813,
          1.1369316499361053,
          0.7799964874419746,
          0.8005115759171745,
          0.7351626368981576,
          -0.5841321992816301,
          -0.6397553448439853,
          -1.7359023556024233,
          -1.5689479581817816,
          -1.9095955842835042,
          1.4739357093847067,
          0.6296263197820994,
          0.2627714167270265,
          0.307252634535865,
          -0.6652570194184618,
          0.6268718336499041,
          0.5054857163793572,
          0.7993570271509531,
          0.24509173239753793,
          0.7697582918910979,
          1.2516711529636144,
          -1.6234829377193103,
          -1.3536385428363502,
          -0.4480206754721144,
          -0.7276224505290724,
          -0.6955336689261918,
          0.38771452870243805,
          0.4310055865564779,
          0.7755745919635842,
          0.06545527968165897,
          -0.6796522865491977,
          0.34675931462852466,
          0.689578781697869,
          -1.752096982598414,
          -0.9711724669678109,
          -1.1135382824302187,
          0.4441214551759363,
          -1.5131582966792467,
          -1.7047376457790087,
          -0.8935343743209302,
          0.2728335805006967,
          0.2721758138466127,
          -0.9372127901530688,
          -1.7395785660729697,
          -0.9708537569008399,
          -1.013368624877208,
          -0.9699683698502278,
          0.32564967852517296,
          -0.549851108986539,
          -1.1232964053831676,
          -1.0292636015211827,
          -0.7168250917931697,
          0.30964497893954,
          -1.052275052270056,
          -2.427041734252267,
          -1.8643561429713587,
          -2.053092185181802,
          -2.090766002939554,
          0.6143669376342977,
          1.1339251266639305,
          0.09846033132955324,
          0.5218453395458185,
          -1.5664203412075781,
          -1.41156950486644,
          -1.8063364794987096,
          -1.4461625890949434,
          -1.2758136368287976,
          -1.1423617825985695,
          -0.8158369519319845,
          -2.101130925767055,
          -2.1977503405705257,
          -0.02976148337433241,
          -0.6135959456427881,
          -0.8064912552310041,
          0.43559676794770585,
          -1.4115460008059777,
          -0.9799933742928889,
          -0.9821083541071537,
          -1.1268082836860311,
          -1.52571880643157,
          -1.6725955797061611
         ],
         "xaxis": "x",
         "y": [
          -0.15828156352214542,
          -0.11947883791082708,
          -0.2821111690886934,
          -0.09238511376686381,
          -0.32349599859665773,
          0.21611405288568203,
          -0.18171284238132637,
          -0.20912618199584723,
          -0.2924197779863676,
          -0.2156247387545203,
          0.1893191370802209,
          -0.9726941987093684,
          -0.13747243298207462,
          -0.11616811897460982,
          -0.0748077020618439,
          -1.2374061118834618,
          -0.7037336892581535,
          -1.0272656738098878,
          -0.5637603353572271,
          -0.4965638666044956,
          -0.3982840395967301,
          -0.5293443757997124,
          -0.7955520435279627,
          -0.468958072882419,
          -0.6240533753742699,
          -0.5317283302717333,
          -0.29896838112096924,
          -1.2362530180371507,
          -0.9812784945960485,
          -0.10746632603088596,
          -0.6990025521584804,
          -0.5670561899875256,
          -0.7242111322323798,
          -0.8291486690915528,
          -0.9366075707462117,
          -0.7515270475094633,
          -0.8451082214662801,
          -0.6472816530027735,
          -0.5351782707954802,
          -0.7100904572545188,
          -0.6493880927758356,
          -1.6428051858037651,
          -1.3858979131819764,
          -1.449829033282526,
          -1.0648186268972457,
          -1.1006720958322203,
          -1.2166816677579813,
          -0.4568614866946743,
          -0.9752132195384923,
          -0.6678942044385825,
          -1.2469990709672143,
          -0.4424774894012833,
          -0.8993531024109704,
          -0.6823447508101858,
          -1.2127453060570719,
          -0.6928612982628418,
          -0.5185458985377357,
          -1.1702749780167576,
          -1.10581794958463,
          -2.116659630005286,
          -2.029615765205016,
          -1.0748322598262536,
          -1.7253247653998245,
          -0.7577688697491399,
          -1.0798970879027612,
          -0.6008922802621737,
          -0.8078772508648054,
          0.2504297519066333,
          -0.8468051406687591,
          -0.8423121992908588,
          -1.2924589330040812,
          -0.8726206763309673,
          -1.0000698840072768,
          -1.1621849722868873,
          -1.374003637562785,
          -0.9831774917246022,
          -0.9528186836280264,
          -1.3071352621647967,
          -1.0260911330907945,
          -0.9818786913457442,
          -0.8018043780174903,
          -1.4656712652216792,
          -1.3576155588286558,
          -1.0173435143052092,
          -0.9841190272904058,
          -1.1745016546154592,
          -1.2170363454176412,
          -0.9140468650968555,
          -1.1721879096108805,
          -1.3554957013485207,
          -0.692190088739845,
          -1.2919052260623483,
          -0.9324400220526816,
          -1.0799904302418941,
          -1.3570159064611163,
          0.09653040860969724,
          0.6249023029455685,
          0.3076776202155124,
          -0.8815647470873965,
          -1.5004411259880148,
          -1.3787198678945345,
          -1.481199159212472,
          -1.1079053849765823,
          -0.994460120263048,
          -1.0758143001365181,
          -0.8943427673573786,
          -2.132361707941511,
          -0.8639099143221634,
          -1.139518885265931,
          -1.179373974263171,
          -0.23556008598745157,
          -0.48874192859671445,
          -0.7491393006238639,
          -1.3166271968351488,
          -1.3529214754318273,
          -1.6263334610096876,
          -1.9315870804417887,
          -1.6567794861407246,
          -0.9253299030179974,
          -1.3420704983243892,
          -1.4569676180900315,
          -1.0773238766905775,
          -0.6405260188073474,
          -0.8986398162090816,
          -1.6243320231295248,
          -1.3748356390668641,
          -1.5649905743055976,
          -2.285638394964221,
          -1.178949521579077,
          -1.7279804358010722,
          -1.4978261374754513,
          -1.4352940074107408,
          -2.0593450689143924,
          -1.892610948051725,
          -1.8248180014991446,
          -1.5413951136180657,
          -1.4974537155196208,
          -1.7820476960679468,
          -1.499965655641255,
          -1.4518530297236374,
          -1.8210360638815468,
          -1.3706122178395712,
          -1.6885981848479783,
          -1.1873633207970922,
          -1.0519824410009926,
          -1.0440084618528822,
          -1.6786386788447052,
          -1.4205144055903465,
          -0.7892139437732668,
          -1.951240150147851,
          -2.0855321418663726
         ],
         "yaxis": "y"
        }
       ],
       "layout": {
        "annotations": [
         {
          "ax": 0,
          "ay": 0,
          "text": "mpg",
          "x": -0.8928155806384654,
          "xanchor": "center",
          "y": -0.05034625496064278,
          "yanchor": "bottom"
         },
         {
          "ax": 0,
          "ay": 0,
          "text": "cylinders",
          "x": 0.9299663778955239,
          "xanchor": "center",
          "y": 0.022486691690942792,
          "yanchor": "bottom"
         },
         {
          "ax": 0,
          "ay": 0,
          "text": "displacement",
          "x": 0.9645639314670251,
          "xanchor": "center",
          "y": 0.016099288686915188,
          "yanchor": "bottom"
         },
         {
          "ax": 0,
          "ay": 0,
          "text": "horsepower",
          "x": 0.9176742607508139,
          "xanchor": "center",
          "y": 0.25399519601308623,
          "yanchor": "bottom"
         },
         {
          "ax": 0,
          "ay": 0,
          "text": "weight",
          "x": 0.9297093506412801,
          "xanchor": "center",
          "y": -0.044447023159303385,
          "yanchor": "bottom"
         },
         {
          "ax": 0,
          "ay": 0,
          "text": "acceleration",
          "x": -0.5953502847669853,
          "xanchor": "center",
          "y": -0.4880107264525426,
          "yanchor": "bottom"
         },
         {
          "ax": 0,
          "ay": 0,
          "text": "model_year",
          "x": -0.48113156768218773,
          "xanchor": "center",
          "y": -0.3781054973936671,
          "yanchor": "bottom"
         },
         {
          "ax": 0,
          "ay": 0,
          "text": "origin_japan",
          "x": -0.544223870777556,
          "xanchor": "center",
          "y": 0.6616262918578159,
          "yanchor": "bottom"
         },
         {
          "ax": 0,
          "ay": 0,
          "text": "origin_usa",
          "x": 0.70455594292037,
          "xanchor": "center",
          "y": -0.5472036960986217,
          "yanchor": "bottom"
         }
        ],
        "legend": {
         "title": {
          "text": "color"
         },
         "tracegroupgap": 0
        },
        "margin": {
         "t": 60
        },
        "shapes": [
         {
          "line": {
           "color": "red",
           "width": 3
          },
          "type": "line",
          "x0": 0,
          "x1": -0.8928155806384654,
          "y0": 0,
          "y1": -0.05034625496064278
         },
         {
          "line": {
           "color": "red",
           "width": 3
          },
          "type": "line",
          "x0": 0,
          "x1": 0.9299663778955239,
          "y0": 0,
          "y1": 0.022486691690942792
         },
         {
          "line": {
           "color": "red",
           "width": 3
          },
          "type": "line",
          "x0": 0,
          "x1": 0.9645639314670251,
          "y0": 0,
          "y1": 0.016099288686915188
         },
         {
          "line": {
           "color": "red",
           "width": 3
          },
          "type": "line",
          "x0": 0,
          "x1": 0.9176742607508139,
          "y0": 0,
          "y1": 0.25399519601308623
         },
         {
          "line": {
           "color": "red",
           "width": 3
          },
          "type": "line",
          "x0": 0,
          "x1": 0.9297093506412801,
          "y0": 0,
          "y1": -0.044447023159303385
         },
         {
          "line": {
           "color": "red",
           "width": 3
          },
          "type": "line",
          "x0": 0,
          "x1": -0.5953502847669853,
          "y0": 0,
          "y1": -0.4880107264525426
         },
         {
          "line": {
           "color": "red",
           "width": 3
          },
          "type": "line",
          "x0": 0,
          "x1": -0.48113156768218773,
          "y0": 0,
          "y1": -0.3781054973936671
         },
         {
          "line": {
           "color": "red",
           "width": 3
          },
          "type": "line",
          "x0": 0,
          "x1": -0.544223870777556,
          "y0": 0,
          "y1": 0.6616262918578159
         },
         {
          "line": {
           "color": "red",
           "width": 3
          },
          "type": "line",
          "x0": 0,
          "x1": 0.70455594292037,
          "y0": 0,
          "y1": -0.5472036960986217
         }
        ],
        "template": {
         "data": {
          "bar": [
           {
            "error_x": {
             "color": "#2a3f5f"
            },
            "error_y": {
             "color": "#2a3f5f"
            },
            "marker": {
             "line": {
              "color": "#E5ECF6",
              "width": 0.5
             },
             "pattern": {
              "fillmode": "overlay",
              "size": 10,
              "solidity": 0.2
             }
            },
            "type": "bar"
           }
          ],
          "barpolar": [
           {
            "marker": {
             "line": {
              "color": "#E5ECF6",
              "width": 0.5
             },
             "pattern": {
              "fillmode": "overlay",
              "size": 10,
              "solidity": 0.2
             }
            },
            "type": "barpolar"
           }
          ],
          "carpet": [
           {
            "aaxis": {
             "endlinecolor": "#2a3f5f",
             "gridcolor": "white",
             "linecolor": "white",
             "minorgridcolor": "white",
             "startlinecolor": "#2a3f5f"
            },
            "baxis": {
             "endlinecolor": "#2a3f5f",
             "gridcolor": "white",
             "linecolor": "white",
             "minorgridcolor": "white",
             "startlinecolor": "#2a3f5f"
            },
            "type": "carpet"
           }
          ],
          "choropleth": [
           {
            "colorbar": {
             "outlinewidth": 0,
             "ticks": ""
            },
            "type": "choropleth"
           }
          ],
          "contour": [
           {
            "colorbar": {
             "outlinewidth": 0,
             "ticks": ""
            },
            "colorscale": [
             [
              0,
              "#0d0887"
             ],
             [
              0.1111111111111111,
              "#46039f"
             ],
             [
              0.2222222222222222,
              "#7201a8"
             ],
             [
              0.3333333333333333,
              "#9c179e"
             ],
             [
              0.4444444444444444,
              "#bd3786"
             ],
             [
              0.5555555555555556,
              "#d8576b"
             ],
             [
              0.6666666666666666,
              "#ed7953"
             ],
             [
              0.7777777777777778,
              "#fb9f3a"
             ],
             [
              0.8888888888888888,
              "#fdca26"
             ],
             [
              1,
              "#f0f921"
             ]
            ],
            "type": "contour"
           }
          ],
          "contourcarpet": [
           {
            "colorbar": {
             "outlinewidth": 0,
             "ticks": ""
            },
            "type": "contourcarpet"
           }
          ],
          "heatmap": [
           {
            "colorbar": {
             "outlinewidth": 0,
             "ticks": ""
            },
            "colorscale": [
             [
              0,
              "#0d0887"
             ],
             [
              0.1111111111111111,
              "#46039f"
             ],
             [
              0.2222222222222222,
              "#7201a8"
             ],
             [
              0.3333333333333333,
              "#9c179e"
             ],
             [
              0.4444444444444444,
              "#bd3786"
             ],
             [
              0.5555555555555556,
              "#d8576b"
             ],
             [
              0.6666666666666666,
              "#ed7953"
             ],
             [
              0.7777777777777778,
              "#fb9f3a"
             ],
             [
              0.8888888888888888,
              "#fdca26"
             ],
             [
              1,
              "#f0f921"
             ]
            ],
            "type": "heatmap"
           }
          ],
          "heatmapgl": [
           {
            "colorbar": {
             "outlinewidth": 0,
             "ticks": ""
            },
            "colorscale": [
             [
              0,
              "#0d0887"
             ],
             [
              0.1111111111111111,
              "#46039f"
             ],
             [
              0.2222222222222222,
              "#7201a8"
             ],
             [
              0.3333333333333333,
              "#9c179e"
             ],
             [
              0.4444444444444444,
              "#bd3786"
             ],
             [
              0.5555555555555556,
              "#d8576b"
             ],
             [
              0.6666666666666666,
              "#ed7953"
             ],
             [
              0.7777777777777778,
              "#fb9f3a"
             ],
             [
              0.8888888888888888,
              "#fdca26"
             ],
             [
              1,
              "#f0f921"
             ]
            ],
            "type": "heatmapgl"
           }
          ],
          "histogram": [
           {
            "marker": {
             "pattern": {
              "fillmode": "overlay",
              "size": 10,
              "solidity": 0.2
             }
            },
            "type": "histogram"
           }
          ],
          "histogram2d": [
           {
            "colorbar": {
             "outlinewidth": 0,
             "ticks": ""
            },
            "colorscale": [
             [
              0,
              "#0d0887"
             ],
             [
              0.1111111111111111,
              "#46039f"
             ],
             [
              0.2222222222222222,
              "#7201a8"
             ],
             [
              0.3333333333333333,
              "#9c179e"
             ],
             [
              0.4444444444444444,
              "#bd3786"
             ],
             [
              0.5555555555555556,
              "#d8576b"
             ],
             [
              0.6666666666666666,
              "#ed7953"
             ],
             [
              0.7777777777777778,
              "#fb9f3a"
             ],
             [
              0.8888888888888888,
              "#fdca26"
             ],
             [
              1,
              "#f0f921"
             ]
            ],
            "type": "histogram2d"
           }
          ],
          "histogram2dcontour": [
           {
            "colorbar": {
             "outlinewidth": 0,
             "ticks": ""
            },
            "colorscale": [
             [
              0,
              "#0d0887"
             ],
             [
              0.1111111111111111,
              "#46039f"
             ],
             [
              0.2222222222222222,
              "#7201a8"
             ],
             [
              0.3333333333333333,
              "#9c179e"
             ],
             [
              0.4444444444444444,
              "#bd3786"
             ],
             [
              0.5555555555555556,
              "#d8576b"
             ],
             [
              0.6666666666666666,
              "#ed7953"
             ],
             [
              0.7777777777777778,
              "#fb9f3a"
             ],
             [
              0.8888888888888888,
              "#fdca26"
             ],
             [
              1,
              "#f0f921"
             ]
            ],
            "type": "histogram2dcontour"
           }
          ],
          "mesh3d": [
           {
            "colorbar": {
             "outlinewidth": 0,
             "ticks": ""
            },
            "type": "mesh3d"
           }
          ],
          "parcoords": [
           {
            "line": {
             "colorbar": {
              "outlinewidth": 0,
              "ticks": ""
             }
            },
            "type": "parcoords"
           }
          ],
          "pie": [
           {
            "automargin": true,
            "type": "pie"
           }
          ],
          "scatter": [
           {
            "fillpattern": {
             "fillmode": "overlay",
             "size": 10,
             "solidity": 0.2
            },
            "type": "scatter"
           }
          ],
          "scatter3d": [
           {
            "line": {
             "colorbar": {
              "outlinewidth": 0,
              "ticks": ""
             }
            },
            "marker": {
             "colorbar": {
              "outlinewidth": 0,
              "ticks": ""
             }
            },
            "type": "scatter3d"
           }
          ],
          "scattercarpet": [
           {
            "marker": {
             "colorbar": {
              "outlinewidth": 0,
              "ticks": ""
             }
            },
            "type": "scattercarpet"
           }
          ],
          "scattergeo": [
           {
            "marker": {
             "colorbar": {
              "outlinewidth": 0,
              "ticks": ""
             }
            },
            "type": "scattergeo"
           }
          ],
          "scattergl": [
           {
            "marker": {
             "colorbar": {
              "outlinewidth": 0,
              "ticks": ""
             }
            },
            "type": "scattergl"
           }
          ],
          "scattermapbox": [
           {
            "marker": {
             "colorbar": {
              "outlinewidth": 0,
              "ticks": ""
             }
            },
            "type": "scattermapbox"
           }
          ],
          "scatterpolar": [
           {
            "marker": {
             "colorbar": {
              "outlinewidth": 0,
              "ticks": ""
             }
            },
            "type": "scatterpolar"
           }
          ],
          "scatterpolargl": [
           {
            "marker": {
             "colorbar": {
              "outlinewidth": 0,
              "ticks": ""
             }
            },
            "type": "scatterpolargl"
           }
          ],
          "scatterternary": [
           {
            "marker": {
             "colorbar": {
              "outlinewidth": 0,
              "ticks": ""
             }
            },
            "type": "scatterternary"
           }
          ],
          "surface": [
           {
            "colorbar": {
             "outlinewidth": 0,
             "ticks": ""
            },
            "colorscale": [
             [
              0,
              "#0d0887"
             ],
             [
              0.1111111111111111,
              "#46039f"
             ],
             [
              0.2222222222222222,
              "#7201a8"
             ],
             [
              0.3333333333333333,
              "#9c179e"
             ],
             [
              0.4444444444444444,
              "#bd3786"
             ],
             [
              0.5555555555555556,
              "#d8576b"
             ],
             [
              0.6666666666666666,
              "#ed7953"
             ],
             [
              0.7777777777777778,
              "#fb9f3a"
             ],
             [
              0.8888888888888888,
              "#fdca26"
             ],
             [
              1,
              "#f0f921"
             ]
            ],
            "type": "surface"
           }
          ],
          "table": [
           {
            "cells": {
             "fill": {
              "color": "#EBF0F8"
             },
             "line": {
              "color": "white"
             }
            },
            "header": {
             "fill": {
              "color": "#C8D4E3"
             },
             "line": {
              "color": "white"
             }
            },
            "type": "table"
           }
          ]
         },
         "layout": {
          "annotationdefaults": {
           "arrowcolor": "#2a3f5f",
           "arrowhead": 0,
           "arrowwidth": 1
          },
          "autotypenumbers": "strict",
          "coloraxis": {
           "colorbar": {
            "outlinewidth": 0,
            "ticks": ""
           }
          },
          "colorscale": {
           "diverging": [
            [
             0,
             "#8e0152"
            ],
            [
             0.1,
             "#c51b7d"
            ],
            [
             0.2,
             "#de77ae"
            ],
            [
             0.3,
             "#f1b6da"
            ],
            [
             0.4,
             "#fde0ef"
            ],
            [
             0.5,
             "#f7f7f7"
            ],
            [
             0.6,
             "#e6f5d0"
            ],
            [
             0.7,
             "#b8e186"
            ],
            [
             0.8,
             "#7fbc41"
            ],
            [
             0.9,
             "#4d9221"
            ],
            [
             1,
             "#276419"
            ]
           ],
           "sequential": [
            [
             0,
             "#0d0887"
            ],
            [
             0.1111111111111111,
             "#46039f"
            ],
            [
             0.2222222222222222,
             "#7201a8"
            ],
            [
             0.3333333333333333,
             "#9c179e"
            ],
            [
             0.4444444444444444,
             "#bd3786"
            ],
            [
             0.5555555555555556,
             "#d8576b"
            ],
            [
             0.6666666666666666,
             "#ed7953"
            ],
            [
             0.7777777777777778,
             "#fb9f3a"
            ],
            [
             0.8888888888888888,
             "#fdca26"
            ],
            [
             1,
             "#f0f921"
            ]
           ],
           "sequentialminus": [
            [
             0,
             "#0d0887"
            ],
            [
             0.1111111111111111,
             "#46039f"
            ],
            [
             0.2222222222222222,
             "#7201a8"
            ],
            [
             0.3333333333333333,
             "#9c179e"
            ],
            [
             0.4444444444444444,
             "#bd3786"
            ],
            [
             0.5555555555555556,
             "#d8576b"
            ],
            [
             0.6666666666666666,
             "#ed7953"
            ],
            [
             0.7777777777777778,
             "#fb9f3a"
            ],
            [
             0.8888888888888888,
             "#fdca26"
            ],
            [
             1,
             "#f0f921"
            ]
           ]
          },
          "colorway": [
           "#636efa",
           "#EF553B",
           "#00cc96",
           "#ab63fa",
           "#FFA15A",
           "#19d3f3",
           "#FF6692",
           "#B6E880",
           "#FF97FF",
           "#FECB52"
          ],
          "font": {
           "color": "#2a3f5f"
          },
          "geo": {
           "bgcolor": "white",
           "lakecolor": "white",
           "landcolor": "#E5ECF6",
           "showlakes": true,
           "showland": true,
           "subunitcolor": "white"
          },
          "hoverlabel": {
           "align": "left"
          },
          "hovermode": "closest",
          "mapbox": {
           "style": "light"
          },
          "paper_bgcolor": "white",
          "plot_bgcolor": "#E5ECF6",
          "polar": {
           "angularaxis": {
            "gridcolor": "white",
            "linecolor": "white",
            "ticks": ""
           },
           "bgcolor": "#E5ECF6",
           "radialaxis": {
            "gridcolor": "white",
            "linecolor": "white",
            "ticks": ""
           }
          },
          "scene": {
           "xaxis": {
            "backgroundcolor": "#E5ECF6",
            "gridcolor": "white",
            "gridwidth": 2,
            "linecolor": "white",
            "showbackground": true,
            "ticks": "",
            "zerolinecolor": "white"
           },
           "yaxis": {
            "backgroundcolor": "#E5ECF6",
            "gridcolor": "white",
            "gridwidth": 2,
            "linecolor": "white",
            "showbackground": true,
            "ticks": "",
            "zerolinecolor": "white"
           },
           "zaxis": {
            "backgroundcolor": "#E5ECF6",
            "gridcolor": "white",
            "gridwidth": 2,
            "linecolor": "white",
            "showbackground": true,
            "ticks": "",
            "zerolinecolor": "white"
           }
          },
          "shapedefaults": {
           "line": {
            "color": "#2a3f5f"
           }
          },
          "ternary": {
           "aaxis": {
            "gridcolor": "white",
            "linecolor": "white",
            "ticks": ""
           },
           "baxis": {
            "gridcolor": "white",
            "linecolor": "white",
            "ticks": ""
           },
           "bgcolor": "#E5ECF6",
           "caxis": {
            "gridcolor": "white",
            "linecolor": "white",
            "ticks": ""
           }
          },
          "title": {
           "x": 0.05
          },
          "xaxis": {
           "automargin": true,
           "gridcolor": "white",
           "linecolor": "white",
           "ticks": "",
           "title": {
            "standoff": 15
           },
           "zerolinecolor": "white",
           "zerolinewidth": 2
          },
          "yaxis": {
           "automargin": true,
           "gridcolor": "white",
           "linecolor": "white",
           "ticks": "",
           "title": {
            "standoff": 15
           },
           "zerolinecolor": "white",
           "zerolinewidth": 2
          }
         }
        },
        "xaxis": {
         "anchor": "y",
         "domain": [
          0,
          1
         ],
         "title": {
          "text": "PC1 ~ 0.63%"
         }
        },
        "yaxis": {
         "anchor": "x",
         "domain": [
          0,
          1
         ],
         "title": {
          "text": "PC2 ~ 0.13%"
         }
        }
       }
      }
     },
     "metadata": {},
     "output_type": "display_data"
    }
   ],
   "source": [
    "import numpy as np\n",
    "\n",
    "loadings = pca.components_.T * np.sqrt(pca.explained_variance_)\n",
    "evr = pca.explained_variance_ratio_.round(2)\n",
    "\n",
    "fig = px.scatter(df_pca, x='PC1', y='PC2',\n",
    "                 color=model_km.labels_.astype(str),\n",
    "                 hover_name=df_pca.index,\n",
    "                labels={\n",
    "                    'PC1': f'PC1 ~ {evr[0]}%',\n",
    "                    'PC2': f'PC2 ~ {evr[1]}%'\n",
    "                })\n",
    "\n",
    "for i, feature in enumerate(df_scaled.columns):\n",
    "    fig.add_shape(\n",
    "        type='line',\n",
    "        x0=0, y0=0,\n",
    "        x1=loadings[i, 0],\n",
    "        y1=loadings[i, 1],\n",
    "        line=dict(color=\"red\",width=3)\n",
    "    )\n",
    "    fig.add_annotation(\n",
    "        x=loadings[i, 0],\n",
    "        y=loadings[i, 1],\n",
    "        ax=0, ay=0,\n",
    "        xanchor=\"center\",\n",
    "        yanchor=\"bottom\",\n",
    "        text=feature,\n",
    "    )\n",
    "\n",
    "fig.show()\n"
   ]
  },
  {
   "cell_type": "markdown",
   "metadata": {},
   "source": [
    "# Achieved Goals"
   ]
  },
  {
   "cell_type": "markdown",
   "metadata": {},
   "source": [
    "_Double click on **this cell** and place an `X` inside the square brackets (i.e., [X]) if you think you understand the goal:_\n",
    "\n",
    "- [X] Understand the role of **Linear Algebra** on Machine Learning\n",
    "    - Matrix Multiplications with the `loadings`\n",
    "- [X] Necessity to `StandardScaler()` the data when the algorithm implies distance calculations\n",
    "- [X] Understand that every Machine Learning process is a matter of optimization\n",
    "    - To find the best numbers based on a criteria\n",
    "    - How is done in `PCA()`?\n",
    "- [X] Why would you use PCA?\n",
    "    - Visualization\n",
    "    - Preprocess the data for modelling\n",
    "- [X] There are techniques for everything\n",
    "    - [X] Grouping observations\n",
    "    - [X] Grouping variables"
   ]
  },
  {
   "cell_type": "markdown",
   "metadata": {},
   "source": [
    "<a rel=\"license\" href=\"http://creativecommons.org/licenses/by-nc-nd/4.0/\"><img alt=\"Creative Commons License\" style=\"border-width:0\" src=\"https://i.creativecommons.org/l/by-nc-nd/4.0/88x31.png\" /></a><br />This work is licensed under a <a rel=\"license\" href=\"http://creativecommons.org/licenses/by-nc-nd/4.0/\">Creative Commons Attribution-NonCommercial-NoDerivatives 4.0 International License</a>."
   ]
  }
 ],
 "metadata": {
  "authors": [
   {
    "blog": "https//blog.pythonresolver.com",
    "name": "Jesús López",
    "twitter": "https://twitter.com/jsulopz"
   }
  ],
  "kernelspec": {
   "display_name": "Python 3",
   "language": "python",
   "name": "python3"
  },
  "language_info": {
   "codemirror_mode": {
    "name": "ipython",
    "version": 3
   },
   "file_extension": ".py",
   "mimetype": "text/x-python",
   "name": "python",
   "nbconvert_exporter": "python",
   "pygments_lexer": "ipython3",
   "version": "3.10.4"
  },
  "title": "Principal Component Analysis (PCA)",
  "vscode": {
   "interpreter": {
    "hash": "8ac39944b2ba2bbcb0061d8fe87e9d7b8b559740abe8f99ee18ab33eebdb0cd7"
   }
  }
 },
 "nbformat": 4,
 "nbformat_minor": 4
}
